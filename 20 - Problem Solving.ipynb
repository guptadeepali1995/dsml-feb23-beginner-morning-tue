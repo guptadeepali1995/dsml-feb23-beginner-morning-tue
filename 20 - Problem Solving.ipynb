{
 "cells": [
  {
   "cell_type": "code",
   "execution_count": 1,
   "id": "594126ee",
   "metadata": {},
   "outputs": [
    {
     "data": {
      "text/plain": [
       "[1, 4, 3]"
      ]
     },
     "execution_count": 1,
     "metadata": {},
     "output_type": "execute_result"
    }
   ],
   "source": [
    "[1, 3, 4, 4, 3, 1, 2, 3, 2][:6:2]"
   ]
  },
  {
   "cell_type": "code",
   "execution_count": 2,
   "id": "dcb86608",
   "metadata": {},
   "outputs": [],
   "source": [
    "def generate_matrix(rows, columns):\n",
    "    matrix = []\n",
    "    \n",
    "    for i in range(rows):\n",
    "        row = []\n",
    "        \n",
    "        for j in range(columns):\n",
    "            row.append(int(input()))\n",
    "            \n",
    "        matrix.append(row)\n",
    "    \n",
    "    return matrix"
   ]
  },
  {
   "cell_type": "code",
   "execution_count": 4,
   "id": "90f0c644",
   "metadata": {},
   "outputs": [
    {
     "name": "stdout",
     "output_type": "stream",
     "text": [
      "2\n",
      "3\n",
      "4\n",
      "5\n"
     ]
    }
   ],
   "source": [
    "A = generate_matrix(2,2)"
   ]
  },
  {
   "cell_type": "code",
   "execution_count": 5,
   "id": "1425dbfb",
   "metadata": {},
   "outputs": [
    {
     "data": {
      "text/plain": [
       "[[2, 3], [4, 5]]"
      ]
     },
     "execution_count": 5,
     "metadata": {},
     "output_type": "execute_result"
    }
   ],
   "source": [
    "A"
   ]
  },
  {
   "cell_type": "code",
   "execution_count": 6,
   "id": "0fb8f99f",
   "metadata": {},
   "outputs": [
    {
     "name": "stdout",
     "output_type": "stream",
     "text": [
      "2\n",
      "3\n",
      "4\n",
      "5\n",
      "6\n",
      "7\n"
     ]
    }
   ],
   "source": [
    "B = generate_matrix(2,3)"
   ]
  },
  {
   "cell_type": "code",
   "execution_count": 7,
   "id": "60f7ff0c",
   "metadata": {
    "scrolled": true
   },
   "outputs": [
    {
     "data": {
      "text/plain": [
       "[[2, 3, 4], [5, 6, 7]]"
      ]
     },
     "execution_count": 7,
     "metadata": {},
     "output_type": "execute_result"
    }
   ],
   "source": [
    "B"
   ]
  },
  {
   "cell_type": "code",
   "execution_count": 8,
   "id": "17706a8f",
   "metadata": {},
   "outputs": [],
   "source": [
    "def generate_zero_matrix(rows, columns):\n",
    "    matrix = []\n",
    "    \n",
    "    for i in range(rows):\n",
    "        row = []\n",
    "        \n",
    "        for j in range(columns):\n",
    "            row.append(0)\n",
    "            \n",
    "        matrix.append(row)\n",
    "    \n",
    "    return matrix"
   ]
  },
  {
   "cell_type": "code",
   "execution_count": 14,
   "id": "4a320c3d",
   "metadata": {},
   "outputs": [
    {
     "data": {
      "text/plain": [
       "'\\nA = [[2, 3], [4, 5]]\\nB = [[2, 3, 4], [5, 6, 7]]\\nresult = [[0,0,0], [0,0,0]]\\n\\ni = 0 => i = 1\\ni = 0\\n    - j = 0 => j = 2\\n    - j = 0\\n        - k = 0 => k = 1\\n        - k = 0\\n            - i = 0\\n            - j = 0\\n            - k = 0\\n            - result[0][0] += A[0][0] * B[0][0] -> 4\\n        - k = 1\\n            - i = 0\\n            - j = 0\\n            - k = 1\\n            - result[0][0] += A[0][1] * B[1][0] -> 19\\n'"
      ]
     },
     "execution_count": 14,
     "metadata": {},
     "output_type": "execute_result"
    }
   ],
   "source": [
    "def matrix_multiply(A, B):\n",
    "    if len(A[0]) != len(B):\n",
    "        return None\n",
    "    \n",
    "    result = generate_zero_matrix(len(A), len(B[0]))\n",
    "    \n",
    "    # to iterate rows of A\n",
    "    for i in range(len(A)):\n",
    "        \n",
    "        # to iterate columns of B\n",
    "        for j in range(len(B[0])):\n",
    "            \n",
    "            # to iterate rows of B\n",
    "            for k in range(len(B)):\n",
    "                result[i][j] += A[i][k] * B[k][j]\n",
    "                \n",
    "    return result\n",
    "\n",
    "'''\n",
    "A = [[2, 3], [4, 5]]\n",
    "B = [[2, 3, 4], [5, 6, 7]]\n",
    "result = [[0,0,0], [0,0,0]]\n",
    "\n",
    "i = 0 => i = 1\n",
    "i = 0\n",
    "    - j = 0 => j = 2\n",
    "    - j = 0\n",
    "        - k = 0 => k = 1\n",
    "        - k = 0\n",
    "            - i = 0\n",
    "            - j = 0\n",
    "            - k = 0\n",
    "            - result[0][0] += A[0][0] * B[0][0] -> 4\n",
    "        - k = 1\n",
    "            - i = 0\n",
    "            - j = 0\n",
    "            - k = 1\n",
    "            - result[0][0] += A[0][1] * B[1][0] -> 19\n",
    "'''"
   ]
  },
  {
   "cell_type": "code",
   "execution_count": 15,
   "id": "c8a19bcc",
   "metadata": {},
   "outputs": [],
   "source": [
    "result = matrix_multiply(A, B)"
   ]
  },
  {
   "cell_type": "code",
   "execution_count": 16,
   "id": "f36ecbfa",
   "metadata": {},
   "outputs": [
    {
     "data": {
      "text/plain": [
       "[[19, 24, 29], [33, 42, 51]]"
      ]
     },
     "execution_count": 16,
     "metadata": {},
     "output_type": "execute_result"
    }
   ],
   "source": [
    "result"
   ]
  },
  {
   "cell_type": "code",
   "execution_count": 21,
   "id": "1b9825f5",
   "metadata": {},
   "outputs": [
    {
     "name": "stdout",
     "output_type": "stream",
     "text": [
      "4\n",
      "0\t0\t0\t4\t0\t0\t0\t\n",
      "0\t0\t3\t6\t9\t0\t0\t\n",
      "0\t2\t4\t6\t8\t10\t0\t\n",
      "1\t2\t3\t4\t5\t6\t7\t\n"
     ]
    }
   ],
   "source": [
    "n = int(input())\n",
    "\n",
    "for i in range(n):\n",
    "    print(\"0\\t\"*(n - 1 - i), end = \"\")\n",
    "    \n",
    "    for j in range(1, 2 * i + 2):\n",
    "        print((n - i) * j, end = \"\\t\")\n",
    "    \n",
    "    print(\"0\\t\"*(n - 1 - i), end = \"\")\n",
    "    \n",
    "    print()"
   ]
  },
  {
   "cell_type": "code",
   "execution_count": 22,
   "id": "0d38981b",
   "metadata": {},
   "outputs": [
    {
     "name": "stdout",
     "output_type": "stream",
     "text": [
      "5 6 7 8 10\n"
     ]
    }
   ],
   "source": [
    "a = input()"
   ]
  },
  {
   "cell_type": "code",
   "execution_count": 23,
   "id": "61e58b99",
   "metadata": {},
   "outputs": [
    {
     "data": {
      "text/plain": [
       "'5 6 7 8 10'"
      ]
     },
     "execution_count": 23,
     "metadata": {},
     "output_type": "execute_result"
    }
   ],
   "source": [
    "a"
   ]
  },
  {
   "cell_type": "code",
   "execution_count": 24,
   "id": "9a8d107c",
   "metadata": {},
   "outputs": [],
   "source": [
    "a = a.split(\" \")"
   ]
  },
  {
   "cell_type": "code",
   "execution_count": 25,
   "id": "6773ab34",
   "metadata": {},
   "outputs": [
    {
     "data": {
      "text/plain": [
       "['5', '6', '7', '8', '10']"
      ]
     },
     "execution_count": 25,
     "metadata": {},
     "output_type": "execute_result"
    }
   ],
   "source": [
    "a"
   ]
  },
  {
   "cell_type": "code",
   "execution_count": 26,
   "id": "393917f3",
   "metadata": {},
   "outputs": [],
   "source": [
    "for i in range(len(a)):\n",
    "    a[i] = int(a[i])"
   ]
  },
  {
   "cell_type": "code",
   "execution_count": 27,
   "id": "8840cff4",
   "metadata": {},
   "outputs": [
    {
     "data": {
      "text/plain": [
       "[5, 6, 7, 8, 10]"
      ]
     },
     "execution_count": 27,
     "metadata": {},
     "output_type": "execute_result"
    }
   ],
   "source": [
    "a"
   ]
  },
  {
   "cell_type": "code",
   "execution_count": 28,
   "id": "5c4068f6",
   "metadata": {},
   "outputs": [],
   "source": [
    "a = 12345"
   ]
  },
  {
   "cell_type": "code",
   "execution_count": 29,
   "id": "1a720fc3",
   "metadata": {},
   "outputs": [],
   "source": [
    "last_digit = a % 10"
   ]
  },
  {
   "cell_type": "code",
   "execution_count": 30,
   "id": "cde638b5",
   "metadata": {},
   "outputs": [
    {
     "data": {
      "text/plain": [
       "5"
      ]
     },
     "execution_count": 30,
     "metadata": {},
     "output_type": "execute_result"
    }
   ],
   "source": [
    "last_digit"
   ]
  },
  {
   "cell_type": "code",
   "execution_count": 33,
   "id": "52c017ca",
   "metadata": {},
   "outputs": [],
   "source": [
    "rest_of_number = a // 10"
   ]
  },
  {
   "cell_type": "code",
   "execution_count": 34,
   "id": "8ac32e6b",
   "metadata": {},
   "outputs": [
    {
     "data": {
      "text/plain": [
       "1234"
      ]
     },
     "execution_count": 34,
     "metadata": {},
     "output_type": "execute_result"
    }
   ],
   "source": [
    "rest_of_number"
   ]
  },
  {
   "cell_type": "code",
   "execution_count": 36,
   "id": "2d143d83",
   "metadata": {},
   "outputs": [],
   "source": [
    "number = 12345"
   ]
  },
  {
   "cell_type": "code",
   "execution_count": 37,
   "id": "3ada4884",
   "metadata": {},
   "outputs": [
    {
     "name": "stdout",
     "output_type": "stream",
     "text": [
      "Number - 12345\n",
      "Last Digit - 5\n",
      "Number - 1234\n",
      "Last Digit - 4\n",
      "Number - 123\n",
      "Last Digit - 3\n",
      "Number - 12\n",
      "Last Digit - 2\n",
      "Number - 1\n",
      "Last Digit - 1\n"
     ]
    }
   ],
   "source": [
    "while number:\n",
    "    print(f\"Number - {number}\")\n",
    "    last_digit = number % 10\n",
    "    number = number // 10\n",
    "    \n",
    "    print(f\"Last Digit - {last_digit}\")"
   ]
  },
  {
   "cell_type": "code",
   "execution_count": 38,
   "id": "98e65d21",
   "metadata": {},
   "outputs": [],
   "source": [
    "number = str(126789000)"
   ]
  },
  {
   "cell_type": "code",
   "execution_count": 39,
   "id": "c4ef1569",
   "metadata": {},
   "outputs": [
    {
     "data": {
      "text/plain": [
       "'126789000'"
      ]
     },
     "execution_count": 39,
     "metadata": {},
     "output_type": "execute_result"
    }
   ],
   "source": [
    "number"
   ]
  },
  {
   "cell_type": "code",
   "execution_count": 41,
   "id": "e1f11cb4",
   "metadata": {},
   "outputs": [
    {
     "name": "stdout",
     "output_type": "stream",
     "text": [
      "1\n",
      "2\n",
      "6\n",
      "7\n",
      "8\n",
      "9\n",
      "0\n",
      "0\n",
      "0\n"
     ]
    }
   ],
   "source": [
    "for i in number:\n",
    "    print(int(i))"
   ]
  },
  {
   "cell_type": "code",
   "execution_count": null,
   "id": "41df944d",
   "metadata": {},
   "outputs": [],
   "source": [
    "# A - average recories\n",
    "# B - new cases per day\n",
    "# C - current active\n",
    "\n",
    "C + x*(B - A) = 0"
   ]
  }
 ],
 "metadata": {
  "kernelspec": {
   "display_name": "Python 3 (ipykernel)",
   "language": "python",
   "name": "python3"
  },
  "language_info": {
   "codemirror_mode": {
    "name": "ipython",
    "version": 3
   },
   "file_extension": ".py",
   "mimetype": "text/x-python",
   "name": "python",
   "nbconvert_exporter": "python",
   "pygments_lexer": "ipython3",
   "version": "3.9.5"
  }
 },
 "nbformat": 4,
 "nbformat_minor": 5
}
