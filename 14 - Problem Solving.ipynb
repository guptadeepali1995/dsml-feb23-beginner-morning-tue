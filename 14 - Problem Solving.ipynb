{
 "cells": [
  {
   "cell_type": "code",
   "execution_count": 1,
   "id": "d9dcff58",
   "metadata": {},
   "outputs": [
    {
     "data": {
      "text/plain": [
       "[1, 4, 3]"
      ]
     },
     "execution_count": 1,
     "metadata": {},
     "output_type": "execute_result"
    }
   ],
   "source": [
    "[1, 3, 4, 4, 3, 1, 2, 3, 2][:6:2]"
   ]
  },
  {
   "cell_type": "code",
   "execution_count": 2,
   "id": "613946f0",
   "metadata": {},
   "outputs": [
    {
     "name": "stdout",
     "output_type": "stream",
     "text": [
      "Enter the size of the list - 5\n"
     ]
    }
   ],
   "source": [
    "n = int(input(\"Enter the size of the list - \"))"
   ]
  },
  {
   "cell_type": "code",
   "execution_count": 5,
   "id": "c43fe562",
   "metadata": {},
   "outputs": [
    {
     "name": "stdout",
     "output_type": "stream",
     "text": [
      "6\n",
      "7\n",
      "8\n",
      "9\n",
      "10\n"
     ]
    }
   ],
   "source": [
    "a = []\n",
    "\n",
    "for i in range(5):\n",
    "    a.append(int(input()))"
   ]
  },
  {
   "cell_type": "code",
   "execution_count": 6,
   "id": "d3f62c3c",
   "metadata": {},
   "outputs": [
    {
     "data": {
      "text/plain": [
       "[6, 7, 8, 9, 10]"
      ]
     },
     "execution_count": 6,
     "metadata": {},
     "output_type": "execute_result"
    }
   ],
   "source": [
    "a"
   ]
  },
  {
   "cell_type": "code",
   "execution_count": 7,
   "id": "a4c31855",
   "metadata": {},
   "outputs": [],
   "source": [
    "x = 3\n",
    "y = 30"
   ]
  },
  {
   "cell_type": "code",
   "execution_count": 9,
   "id": "454389e0",
   "metadata": {},
   "outputs": [],
   "source": [
    "a.insert(x - 1, y)"
   ]
  },
  {
   "cell_type": "code",
   "execution_count": 10,
   "id": "c0e54909",
   "metadata": {},
   "outputs": [
    {
     "data": {
      "text/plain": [
       "[6, 7, 30, 8, 9, 10]"
      ]
     },
     "execution_count": 10,
     "metadata": {},
     "output_type": "execute_result"
    }
   ],
   "source": [
    "a"
   ]
  },
  {
   "cell_type": "code",
   "execution_count": 11,
   "id": "d06ce383",
   "metadata": {},
   "outputs": [
    {
     "data": {
      "text/plain": [
       "'abcabcabc'"
      ]
     },
     "execution_count": 11,
     "metadata": {},
     "output_type": "execute_result"
    }
   ],
   "source": [
    "\"abc\"*3"
   ]
  },
  {
   "cell_type": "code",
   "execution_count": 12,
   "id": "c950bd1d",
   "metadata": {},
   "outputs": [
    {
     "name": "stdout",
     "output_type": "stream",
     "text": [
      "*****\n",
      "****\n",
      "***\n",
      "**\n",
      "*\n"
     ]
    }
   ],
   "source": [
    "for i in range(5, 0, -1):\n",
    "    print(\"*\" * i)"
   ]
  },
  {
   "cell_type": "code",
   "execution_count": 17,
   "id": "65ad93ad",
   "metadata": {},
   "outputs": [
    {
     "name": "stdout",
     "output_type": "stream",
     "text": [
      "*****\n",
      "*  * \n",
      "* *  \n",
      "**   \n",
      "*    \n"
     ]
    }
   ],
   "source": [
    "for i in range(n):\n",
    "    for j in range(n):\n",
    "        if i + j == n - 1 or i == 0 or j == 0:\n",
    "            print(\"*\", end = \"\")\n",
    "        else:\n",
    "            print(\" \", end = \"\")\n",
    "            \n",
    "    print()"
   ]
  },
  {
   "cell_type": "code",
   "execution_count": 18,
   "id": "2cc45aa9",
   "metadata": {},
   "outputs": [
    {
     "name": "stdout",
     "output_type": "stream",
     "text": [
      "6\n"
     ]
    }
   ],
   "source": [
    "n = int(input())"
   ]
  },
  {
   "cell_type": "code",
   "execution_count": 20,
   "id": "98ec1f4f",
   "metadata": {},
   "outputs": [
    {
     "name": "stdout",
     "output_type": "stream",
     "text": [
      "0 0 0 0 0 6 0 0 0 0 0 \n",
      "0 0 0 0 5 10 15 0 0 0 0 \n",
      "0 0 0 4 8 12 16 20 0 0 0 \n",
      "0 0 3 6 9 12 15 18 21 0 0 \n",
      "0 2 4 6 8 10 12 14 16 18 0 \n",
      "1 2 3 4 5 6 7 8 9 10 11 \n"
     ]
    }
   ],
   "source": [
    "for i in range(n):\n",
    "    print(\"0 \" * (n - i - 1), end = \"\")\n",
    "    \n",
    "    for j in range(1, 2 * i + 2):\n",
    "        print((n - i) * j, end = \" \")\n",
    "        \n",
    "    print(\"0 \" * (n - i - 1), end = \"\")\n",
    "    \n",
    "    print()"
   ]
  },
  {
   "cell_type": "code",
   "execution_count": 35,
   "id": "53d30e0b",
   "metadata": {},
   "outputs": [],
   "source": [
    "n = 5.5"
   ]
  },
  {
   "cell_type": "code",
   "execution_count": 36,
   "id": "423c5b08",
   "metadata": {},
   "outputs": [],
   "source": [
    "floor = n // 1"
   ]
  },
  {
   "cell_type": "code",
   "execution_count": 37,
   "id": "e4cefa38",
   "metadata": {},
   "outputs": [
    {
     "data": {
      "text/plain": [
       "5.0"
      ]
     },
     "execution_count": 37,
     "metadata": {},
     "output_type": "execute_result"
    }
   ],
   "source": [
    "floor"
   ]
  },
  {
   "cell_type": "code",
   "execution_count": 38,
   "id": "df78c45c",
   "metadata": {},
   "outputs": [],
   "source": [
    "ceil = floor + 1"
   ]
  },
  {
   "cell_type": "code",
   "execution_count": 39,
   "id": "85776af2",
   "metadata": {},
   "outputs": [
    {
     "data": {
      "text/plain": [
       "6.0"
      ]
     },
     "execution_count": 39,
     "metadata": {},
     "output_type": "execute_result"
    }
   ],
   "source": [
    "ceil"
   ]
  },
  {
   "cell_type": "code",
   "execution_count": 40,
   "id": "b8347805",
   "metadata": {},
   "outputs": [],
   "source": [
    "if ceil - n <= n - floor:\n",
    "    rounded_value = ceil\n",
    "else:\n",
    "    rounded_value = floor"
   ]
  },
  {
   "cell_type": "code",
   "execution_count": 41,
   "id": "b141a8fa",
   "metadata": {},
   "outputs": [
    {
     "data": {
      "text/plain": [
       "6.0"
      ]
     },
     "execution_count": 41,
     "metadata": {},
     "output_type": "execute_result"
    }
   ],
   "source": [
    "rounded_value"
   ]
  },
  {
   "cell_type": "code",
   "execution_count": 56,
   "id": "cd803fa5",
   "metadata": {},
   "outputs": [],
   "source": [
    "a = [1, 2, 3, 4, 6, 7, 8, 9, 10]"
   ]
  },
  {
   "cell_type": "code",
   "execution_count": 57,
   "id": "1b49fc59",
   "metadata": {},
   "outputs": [],
   "source": [
    "x = 5"
   ]
  },
  {
   "cell_type": "code",
   "execution_count": 62,
   "id": "43aa0d4f",
   "metadata": {},
   "outputs": [
    {
     "data": {
      "text/plain": [
       "[4, 6]"
      ]
     },
     "execution_count": 62,
     "metadata": {},
     "output_type": "execute_result"
    }
   ],
   "source": [
    "def floor_ceil(a, x):\n",
    "    if x in a:\n",
    "        return [x, x]\n",
    "    \n",
    "    floor = min(a)\n",
    "    ceil = max(a)\n",
    "    \n",
    "    for i in a:\n",
    "        if i <= x and i > floor:\n",
    "            floor = i\n",
    "            \n",
    "        if i >= x and i < ceil:\n",
    "            ceil = i\n",
    "            \n",
    "    return [floor, ceil]\n",
    "\n",
    "floor_ceil([1, 2, 3, 4, 6, 7, 8, 9, 10], 5)"
   ]
  },
  {
   "cell_type": "code",
   "execution_count": 63,
   "id": "e72899b8",
   "metadata": {},
   "outputs": [
    {
     "data": {
      "text/plain": [
       "[4, 6]"
      ]
     },
     "execution_count": 63,
     "metadata": {},
     "output_type": "execute_result"
    }
   ],
   "source": [
    "floor_ceil(a, x)"
   ]
  },
  {
   "cell_type": "code",
   "execution_count": null,
   "id": "d7c17d15",
   "metadata": {},
   "outputs": [],
   "source": []
  }
 ],
 "metadata": {
  "kernelspec": {
   "display_name": "Python 3 (ipykernel)",
   "language": "python",
   "name": "python3"
  },
  "language_info": {
   "codemirror_mode": {
    "name": "ipython",
    "version": 3
   },
   "file_extension": ".py",
   "mimetype": "text/x-python",
   "name": "python",
   "nbconvert_exporter": "python",
   "pygments_lexer": "ipython3",
   "version": "3.9.5"
  }
 },
 "nbformat": 4,
 "nbformat_minor": 5
}
