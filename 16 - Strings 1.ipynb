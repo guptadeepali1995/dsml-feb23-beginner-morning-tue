{
 "cells": [
  {
   "cell_type": "code",
   "execution_count": 6,
   "id": "6c81487e",
   "metadata": {},
   "outputs": [],
   "source": [
    "w = \"double quotes\""
   ]
  },
  {
   "cell_type": "code",
   "execution_count": 7,
   "id": "6982e453",
   "metadata": {},
   "outputs": [],
   "source": [
    "x = 'single quotes'"
   ]
  },
  {
   "cell_type": "code",
   "execution_count": 8,
   "id": "89c870d7",
   "metadata": {},
   "outputs": [],
   "source": [
    "y = '''triple quotes - docstring'''"
   ]
  },
  {
   "cell_type": "code",
   "execution_count": 9,
   "id": "bb8bca7a",
   "metadata": {},
   "outputs": [],
   "source": [
    "z = \"\"\"triple double quotes - docstring\"\"\""
   ]
  },
  {
   "cell_type": "code",
   "execution_count": 4,
   "id": "a9542f06",
   "metadata": {},
   "outputs": [
    {
     "data": {
      "text/plain": [
       "'\\nThis  is a random\\n    multiline\\n        string\\nenabled by doctstring!\\n'"
      ]
     },
     "execution_count": 4,
     "metadata": {},
     "output_type": "execute_result"
    }
   ],
   "source": [
    "'''\n",
    "This  is a random\n",
    "    multiline\n",
    "        string\n",
    "enabled by doctstring!\n",
    "'''"
   ]
  },
  {
   "cell_type": "code",
   "execution_count": 5,
   "id": "840c2c0d",
   "metadata": {},
   "outputs": [
    {
     "data": {
      "text/plain": [
       "str"
      ]
     },
     "execution_count": 5,
     "metadata": {},
     "output_type": "execute_result"
    }
   ],
   "source": [
    "type(z)"
   ]
  },
  {
   "cell_type": "code",
   "execution_count": 10,
   "id": "6bad9b68",
   "metadata": {},
   "outputs": [],
   "source": [
    "x = \"Whatever we write, UPPERCASE, lowercase, 23456789, @#$%^&*()_\""
   ]
  },
  {
   "cell_type": "code",
   "execution_count": 11,
   "id": "e4d5c555",
   "metadata": {},
   "outputs": [
    {
     "name": "stdout",
     "output_type": "stream",
     "text": [
      "Whatever we write, UPPERCASE, lowercase, 23456789, @#$%^&*()_\n"
     ]
    }
   ],
   "source": [
    "print(x)"
   ]
  },
  {
   "cell_type": "code",
   "execution_count": 12,
   "id": "60b67855",
   "metadata": {},
   "outputs": [],
   "source": [
    "# MIXED QUOTATIONS ARE NOT ALLOWED!"
   ]
  },
  {
   "cell_type": "code",
   "execution_count": 13,
   "id": "fdb7782b",
   "metadata": {},
   "outputs": [
    {
     "ename": "SyntaxError",
     "evalue": "EOL while scanning string literal (1492347280.py, line 1)",
     "output_type": "error",
     "traceback": [
      "\u001b[0;36m  Cell \u001b[0;32mIn[13], line 1\u001b[0;36m\u001b[0m\n\u001b[0;31m    'a\"\u001b[0m\n\u001b[0m       ^\u001b[0m\n\u001b[0;31mSyntaxError\u001b[0m\u001b[0;31m:\u001b[0m EOL while scanning string literal\n"
     ]
    }
   ],
   "source": [
    "'a\""
   ]
  },
  {
   "cell_type": "code",
   "execution_count": 14,
   "id": "a9634ce5",
   "metadata": {},
   "outputs": [],
   "source": [
    "# MY STRING IN ITSELF CONTAINS QUOTATIONS"
   ]
  },
  {
   "cell_type": "code",
   "execution_count": 17,
   "id": "eba65f5d",
   "metadata": {},
   "outputs": [],
   "source": [
    "x = \"can't\" # single quotation marks inside double quotation string"
   ]
  },
  {
   "cell_type": "code",
   "execution_count": 18,
   "id": "a19ef31f",
   "metadata": {},
   "outputs": [
    {
     "name": "stdout",
     "output_type": "stream",
     "text": [
      "can't\n"
     ]
    }
   ],
   "source": [
    "print(x)"
   ]
  },
  {
   "cell_type": "code",
   "execution_count": 19,
   "id": "39613742",
   "metadata": {},
   "outputs": [],
   "source": [
    "y = 'something \"random\" highlighted!'\n",
    "# double quotation marks inside single quotation string"
   ]
  },
  {
   "cell_type": "code",
   "execution_count": 20,
   "id": "340c96b8",
   "metadata": {},
   "outputs": [
    {
     "name": "stdout",
     "output_type": "stream",
     "text": [
      "something \"random\" highlighted!\n"
     ]
    }
   ],
   "source": [
    "print(y)"
   ]
  },
  {
   "cell_type": "code",
   "execution_count": 22,
   "id": "e0ee845e",
   "metadata": {},
   "outputs": [
    {
     "ename": "SyntaxError",
     "evalue": "invalid syntax (1218036411.py, line 1)",
     "output_type": "error",
     "traceback": [
      "\u001b[0;36m  Cell \u001b[0;32mIn[22], line 1\u001b[0;36m\u001b[0m\n\u001b[0;31m    z = 'can't' # THIS BECOMES INVALID!\u001b[0m\n\u001b[0m             ^\u001b[0m\n\u001b[0;31mSyntaxError\u001b[0m\u001b[0;31m:\u001b[0m invalid syntax\n"
     ]
    }
   ],
   "source": [
    "z = 'can't' # THIS BECOMES INVALID!"
   ]
  },
  {
   "cell_type": "code",
   "execution_count": 23,
   "id": "41fd2da1",
   "metadata": {},
   "outputs": [],
   "source": [
    "z = 'can\\'t' # Escape character"
   ]
  },
  {
   "cell_type": "code",
   "execution_count": 24,
   "id": "eda9f31b",
   "metadata": {},
   "outputs": [
    {
     "data": {
      "text/plain": [
       "\"can't\""
      ]
     },
     "execution_count": 24,
     "metadata": {},
     "output_type": "execute_result"
    }
   ],
   "source": [
    "z"
   ]
  },
  {
   "cell_type": "code",
   "execution_count": 26,
   "id": "29a11489",
   "metadata": {},
   "outputs": [
    {
     "data": {
      "text/plain": [
       "'\\n'"
      ]
     },
     "execution_count": 26,
     "metadata": {},
     "output_type": "execute_result"
    }
   ],
   "source": [
    "\"\\n\" # Escape character"
   ]
  },
  {
   "cell_type": "code",
   "execution_count": 28,
   "id": "15c79fb6",
   "metadata": {},
   "outputs": [
    {
     "data": {
      "text/plain": [
       "True"
      ]
     },
     "execution_count": 28,
     "metadata": {},
     "output_type": "execute_result"
    }
   ],
   "source": [
    "\"zebra\" > \"aaaajdghshjdfhsdhjfjsgzbxvhsdgchscasbdjhasgdyaegd\"\n",
    "# LEXICOGRAPHICAL - Order in a dictionary"
   ]
  },
  {
   "cell_type": "code",
   "execution_count": 29,
   "id": "27fb8904",
   "metadata": {},
   "outputs": [
    {
     "data": {
      "text/plain": [
       "False"
      ]
     },
     "execution_count": 29,
     "metadata": {},
     "output_type": "execute_result"
    }
   ],
   "source": [
    "\"abc\" > \"cba\""
   ]
  },
  {
   "cell_type": "code",
   "execution_count": 30,
   "id": "70d09fb1",
   "metadata": {},
   "outputs": [],
   "source": [
    "# Lexicographical comparison is enabled in programming by mapping - ASCII"
   ]
  },
  {
   "cell_type": "code",
   "execution_count": 32,
   "id": "8211f7e8",
   "metadata": {},
   "outputs": [
    {
     "data": {
      "text/plain": [
       "True"
      ]
     },
     "execution_count": 32,
     "metadata": {},
     "output_type": "execute_result"
    }
   ],
   "source": [
    "\"a\" > \"A\" # This is also because of ASCII"
   ]
  },
  {
   "cell_type": "code",
   "execution_count": 34,
   "id": "1c5cf5a0",
   "metadata": {},
   "outputs": [
    {
     "data": {
      "text/plain": [
       "'random1random2'"
      ]
     },
     "execution_count": 34,
     "metadata": {},
     "output_type": "execute_result"
    }
   ],
   "source": [
    "\"random1\" + \"random2\" # concatenation"
   ]
  },
  {
   "cell_type": "code",
   "execution_count": 35,
   "id": "a6f71387",
   "metadata": {},
   "outputs": [
    {
     "data": {
      "text/plain": [
       "'randomrandomrandomrandomrandomrandom'"
      ]
     },
     "execution_count": 35,
     "metadata": {},
     "output_type": "execute_result"
    }
   ],
   "source": [
    "\"random\" * 2 * 3"
   ]
  },
  {
   "cell_type": "code",
   "execution_count": 37,
   "id": "aac2a45c",
   "metadata": {},
   "outputs": [
    {
     "data": {
      "text/plain": [
       "True"
      ]
     },
     "execution_count": 37,
     "metadata": {},
     "output_type": "execute_result"
    }
   ],
   "source": [
    "\"zebra\" > \"ZEBRA\""
   ]
  },
  {
   "cell_type": "code",
   "execution_count": 38,
   "id": "a7365da8",
   "metadata": {},
   "outputs": [],
   "source": [
    "length = 5\n",
    "breadth = 10"
   ]
  },
  {
   "cell_type": "code",
   "execution_count": 39,
   "id": "82e056f7",
   "metadata": {},
   "outputs": [],
   "source": [
    "def calc_area(l, b):\n",
    "    a = l * b\n",
    "    print(\"length =\", l, \"breadth =\", b, \"area =\", a)"
   ]
  },
  {
   "cell_type": "code",
   "execution_count": 40,
   "id": "c36ee961",
   "metadata": {},
   "outputs": [
    {
     "name": "stdout",
     "output_type": "stream",
     "text": [
      "length = 5 breadth = 10 area = 50\n"
     ]
    }
   ],
   "source": [
    "calc_area(length, breadth)"
   ]
  },
  {
   "cell_type": "code",
   "execution_count": 43,
   "id": "8beac43f",
   "metadata": {},
   "outputs": [],
   "source": [
    "def calc_area(l, b):\n",
    "    a = l * b\n",
    "    print(\"length = {} breadth = {} area = {}\".format(l, a, b))"
   ]
  },
  {
   "cell_type": "code",
   "execution_count": 44,
   "id": "77057052",
   "metadata": {},
   "outputs": [
    {
     "name": "stdout",
     "output_type": "stream",
     "text": [
      "length = 5 breadth = 50 area = 10\n"
     ]
    }
   ],
   "source": [
    "calc_area(length, breadth)"
   ]
  },
  {
   "cell_type": "code",
   "execution_count": 49,
   "id": "d5bc3f9d",
   "metadata": {},
   "outputs": [],
   "source": [
    "def calc_area(l, b):\n",
    "    a = l * b\n",
    "    print(\"length = {1} breadth = {0} area = {2}\".format(b, l, a))"
   ]
  },
  {
   "cell_type": "code",
   "execution_count": 50,
   "id": "ac495e8e",
   "metadata": {},
   "outputs": [
    {
     "name": "stdout",
     "output_type": "stream",
     "text": [
      "length = 5 breadth = 10 area = 50\n"
     ]
    }
   ],
   "source": [
    "calc_area(length, breadth)"
   ]
  },
  {
   "cell_type": "code",
   "execution_count": 55,
   "id": "ef047c95",
   "metadata": {},
   "outputs": [],
   "source": [
    "def calc_area(l, b):\n",
    "    # a = l * b\n",
    "    print(f\"length = {l} breadth = {b} area = {l*b}\")"
   ]
  },
  {
   "cell_type": "code",
   "execution_count": 56,
   "id": "11c9dc51",
   "metadata": {},
   "outputs": [
    {
     "name": "stdout",
     "output_type": "stream",
     "text": [
      "length = 5 breadth = 10 area = 50\n"
     ]
    }
   ],
   "source": [
    "calc_area(length, breadth)"
   ]
  },
  {
   "cell_type": "code",
   "execution_count": 57,
   "id": "10f5b56a",
   "metadata": {},
   "outputs": [],
   "source": [
    "s1 = \"random\""
   ]
  },
  {
   "cell_type": "code",
   "execution_count": 58,
   "id": "f1761b5b",
   "metadata": {},
   "outputs": [],
   "source": [
    "s2 = \"very random\""
   ]
  },
  {
   "cell_type": "code",
   "execution_count": 59,
   "id": "c1e7e9da",
   "metadata": {},
   "outputs": [],
   "source": [
    "a = f\"{s1} | {s2}\""
   ]
  },
  {
   "cell_type": "code",
   "execution_count": 60,
   "id": "0b6e1130",
   "metadata": {},
   "outputs": [
    {
     "data": {
      "text/plain": [
       "'random | very random'"
      ]
     },
     "execution_count": 60,
     "metadata": {},
     "output_type": "execute_result"
    }
   ],
   "source": [
    "a"
   ]
  },
  {
   "cell_type": "code",
   "execution_count": 61,
   "id": "8c689ecb",
   "metadata": {},
   "outputs": [
    {
     "data": {
      "text/plain": [
       "97"
      ]
     },
     "execution_count": 61,
     "metadata": {},
     "output_type": "execute_result"
    }
   ],
   "source": [
    "ord(\"a\") # check the mapping value of the character"
   ]
  },
  {
   "cell_type": "code",
   "execution_count": 62,
   "id": "d2cf4e0b",
   "metadata": {},
   "outputs": [
    {
     "data": {
      "text/plain": [
       "65"
      ]
     },
     "execution_count": 62,
     "metadata": {},
     "output_type": "execute_result"
    }
   ],
   "source": [
    "ord(\"A\")"
   ]
  },
  {
   "cell_type": "code",
   "execution_count": 63,
   "id": "e59848d9",
   "metadata": {},
   "outputs": [
    {
     "data": {
      "text/plain": [
       "38"
      ]
     },
     "execution_count": 63,
     "metadata": {},
     "output_type": "execute_result"
    }
   ],
   "source": [
    "ord(\"&\")"
   ]
  },
  {
   "cell_type": "code",
   "execution_count": 64,
   "id": "d37b4ffd",
   "metadata": {},
   "outputs": [
    {
     "data": {
      "text/plain": [
       "10"
      ]
     },
     "execution_count": 64,
     "metadata": {},
     "output_type": "execute_result"
    }
   ],
   "source": [
    "ord(\"\\n\")"
   ]
  },
  {
   "cell_type": "code",
   "execution_count": 65,
   "id": "6f383c04",
   "metadata": {},
   "outputs": [
    {
     "data": {
      "text/plain": [
       "'8'"
      ]
     },
     "execution_count": 65,
     "metadata": {},
     "output_type": "execute_result"
    }
   ],
   "source": [
    "chr(56)"
   ]
  },
  {
   "cell_type": "code",
   "execution_count": 66,
   "id": "a38c0ab7",
   "metadata": {},
   "outputs": [
    {
     "data": {
      "text/plain": [
       "'A'"
      ]
     },
     "execution_count": 66,
     "metadata": {},
     "output_type": "execute_result"
    }
   ],
   "source": [
    "chr(65)"
   ]
  },
  {
   "cell_type": "code",
   "execution_count": 67,
   "id": "25a5454d",
   "metadata": {},
   "outputs": [
    {
     "data": {
      "text/plain": [
       "'\\nQuestion 1 -\\n1. Take a string as input from the user.\\n2. Print the string character by character in new lines.\\n\\nINPUT - VIRAT\\nOUTPUT -\\nV\\nI\\nR\\nA\\nT\\n'"
      ]
     },
     "execution_count": 67,
     "metadata": {},
     "output_type": "execute_result"
    }
   ],
   "source": [
    "'''\n",
    "Question 1 -\n",
    "1. Take a string as input from the user.\n",
    "2. Print the string character by character in new lines.\n",
    "\n",
    "INPUT - VIRAT\n",
    "OUTPUT -\n",
    "V\n",
    "I\n",
    "R\n",
    "A\n",
    "T\n",
    "'''"
   ]
  },
  {
   "cell_type": "code",
   "execution_count": 69,
   "id": "e7435696",
   "metadata": {},
   "outputs": [
    {
     "name": "stdout",
     "output_type": "stream",
     "text": [
      "PYTHON\n",
      "P\n",
      "Y\n",
      "T\n",
      "H\n",
      "O\n",
      "N\n"
     ]
    }
   ],
   "source": [
    "a = input()\n",
    "\n",
    "for i in a:\n",
    "    print(i) # STRINGS ARE ITERABLE!"
   ]
  },
  {
   "cell_type": "code",
   "execution_count": 70,
   "id": "8c8eff1c",
   "metadata": {},
   "outputs": [
    {
     "data": {
      "text/plain": [
       "'\\nQuestion 2 -\\n1. Take a string as input from the user.\\n2. Print the following - \\n\"First Character - f, Last Character - l\"\\n'"
      ]
     },
     "execution_count": 70,
     "metadata": {},
     "output_type": "execute_result"
    }
   ],
   "source": [
    "'''\n",
    "Question 2 -\n",
    "1. Take a string as input from the user.\n",
    "2. Print the following - \n",
    "\"First Character - f, Last Character - l\"\n",
    "'''"
   ]
  },
  {
   "cell_type": "code",
   "execution_count": 71,
   "id": "66a7cdab",
   "metadata": {},
   "outputs": [
    {
     "name": "stdout",
     "output_type": "stream",
     "text": [
      "PYTHON\n",
      "First Character - P, Last Character - N\n"
     ]
    }
   ],
   "source": [
    "a = input()\n",
    "\n",
    "print(f\"First Character - {a[0]}, Last Character - {a[-1]}\")\n",
    "# STRINGS HAVE INDEXES"
   ]
  },
  {
   "cell_type": "code",
   "execution_count": 72,
   "id": "7ac7be3e",
   "metadata": {},
   "outputs": [],
   "source": [
    "a = \"python is crazy!\""
   ]
  },
  {
   "cell_type": "code",
   "execution_count": 76,
   "id": "4ef76cd9",
   "metadata": {},
   "outputs": [
    {
     "data": {
      "text/plain": [
       "'h'"
      ]
     },
     "execution_count": 76,
     "metadata": {},
     "output_type": "execute_result"
    }
   ],
   "source": [
    "a[3] # positive indexing"
   ]
  },
  {
   "cell_type": "code",
   "execution_count": 77,
   "id": "1cc690e8",
   "metadata": {},
   "outputs": [
    {
     "data": {
      "text/plain": [
       "'a'"
      ]
     },
     "execution_count": 77,
     "metadata": {},
     "output_type": "execute_result"
    }
   ],
   "source": [
    "a[-4] # negative indexing"
   ]
  },
  {
   "cell_type": "code",
   "execution_count": 78,
   "id": "94cead6a",
   "metadata": {},
   "outputs": [
    {
     "data": {
      "text/plain": [
       "'h'"
      ]
     },
     "execution_count": 78,
     "metadata": {},
     "output_type": "execute_result"
    }
   ],
   "source": [
    "a[3:4] # slicing"
   ]
  },
  {
   "cell_type": "code",
   "execution_count": 79,
   "id": "5a34041d",
   "metadata": {},
   "outputs": [
    {
     "data": {
      "text/plain": [
       "'\\nQuestion 3 -\\n1. Take a string as input from the user.\\n2. Reverse that string.\\n'"
      ]
     },
     "execution_count": 79,
     "metadata": {},
     "output_type": "execute_result"
    }
   ],
   "source": [
    "'''\n",
    "Question 3 -\n",
    "1. Take a string as input from the user.\n",
    "2. Reverse that string.\n",
    "'''"
   ]
  },
  {
   "cell_type": "code",
   "execution_count": 81,
   "id": "f2a16c4e",
   "metadata": {},
   "outputs": [
    {
     "data": {
      "text/plain": [
       "'NOHTYP'"
      ]
     },
     "execution_count": 81,
     "metadata": {},
     "output_type": "execute_result"
    }
   ],
   "source": [
    "a = \"PYTHON\"\n",
    "\n",
    "a[::-1]"
   ]
  },
  {
   "cell_type": "code",
   "execution_count": 82,
   "id": "07dc8a72",
   "metadata": {},
   "outputs": [
    {
     "data": {
      "text/plain": [
       "'\\nQuestion 4 -\\n1. Take a string as input from the user.\\n2. Check whether that string is a palindrome.\\n   Create a function which returns \"PALINDROME\" if true otherwise \"NOT A PALINDROME.\"\\n'"
      ]
     },
     "execution_count": 82,
     "metadata": {},
     "output_type": "execute_result"
    }
   ],
   "source": [
    "'''\n",
    "Question 4 -\n",
    "1. Take a string as input from the user.\n",
    "2. Check whether that string is a palindrome.\n",
    "   Create a function which returns \"PALINDROME\" if true otherwise \"NOT A PALINDROME.\"\n",
    "'''"
   ]
  },
  {
   "cell_type": "code",
   "execution_count": 83,
   "id": "bcf8f1af",
   "metadata": {},
   "outputs": [
    {
     "data": {
      "text/plain": [
       "False"
      ]
     },
     "execution_count": 83,
     "metadata": {},
     "output_type": "execute_result"
    }
   ],
   "source": [
    "\"I\" == \"i\""
   ]
  },
  {
   "cell_type": "code",
   "execution_count": 84,
   "id": "73ab8d6c",
   "metadata": {},
   "outputs": [
    {
     "data": {
      "text/plain": [
       "False"
      ]
     },
     "execution_count": 84,
     "metadata": {},
     "output_type": "execute_result"
    }
   ],
   "source": [
    "\"Naman\" == \"namaN\""
   ]
  },
  {
   "cell_type": "code",
   "execution_count": 85,
   "id": "72a7ab4d",
   "metadata": {},
   "outputs": [],
   "source": [
    "# \"value_if_true\" if condition else \"value_if_false\""
   ]
  },
  {
   "cell_type": "code",
   "execution_count": 87,
   "id": "c88dd465",
   "metadata": {},
   "outputs": [
    {
     "data": {
      "text/plain": [
       "'NO'"
      ]
     },
     "execution_count": 87,
     "metadata": {},
     "output_type": "execute_result"
    }
   ],
   "source": [
    "\"random\" if \"random\" == \"RANDOM\" else \"NO\" # TERNARY OPERATOR"
   ]
  },
  {
   "cell_type": "code",
   "execution_count": 88,
   "id": "ef66d535",
   "metadata": {},
   "outputs": [],
   "source": [
    "a = \"Random StrING\""
   ]
  },
  {
   "cell_type": "code",
   "execution_count": 89,
   "id": "8f29dec0",
   "metadata": {},
   "outputs": [],
   "source": [
    "def lower_case(a):\n",
    "    result = \"\"\n",
    "    \n",
    "    for i in a:\n",
    "        if i >= \"A\" and i <= \"Z\":\n",
    "            result += chr(ord(i) + 32) # A -> ord(i) = 65 -> 65 + 32 -> 97 -> chr(97) -> a\n",
    "        else:\n",
    "            result += i\n",
    "    \n",
    "    return result"
   ]
  },
  {
   "cell_type": "code",
   "execution_count": 90,
   "id": "48d59139",
   "metadata": {},
   "outputs": [
    {
     "data": {
      "text/plain": [
       "'random string'"
      ]
     },
     "execution_count": 90,
     "metadata": {},
     "output_type": "execute_result"
    }
   ],
   "source": [
    "lower_case(a)"
   ]
  },
  {
   "cell_type": "code",
   "execution_count": 91,
   "id": "e1e18fe8",
   "metadata": {},
   "outputs": [],
   "source": [
    "def check_palindrome(a):\n",
    "    a = lower_case(a)\n",
    "    \n",
    "    return \"PALINDROME\" if a == a[::-1] else \"NOT A PALINDROME\""
   ]
  },
  {
   "cell_type": "code",
   "execution_count": 92,
   "id": "0dc340c8",
   "metadata": {},
   "outputs": [
    {
     "data": {
      "text/plain": [
       "'PALINDROME'"
      ]
     },
     "execution_count": 92,
     "metadata": {},
     "output_type": "execute_result"
    }
   ],
   "source": [
    "check_palindrome(\"Naman\")"
   ]
  },
  {
   "cell_type": "code",
   "execution_count": 93,
   "id": "702abe75",
   "metadata": {},
   "outputs": [
    {
     "data": {
      "text/plain": [
       "True"
      ]
     },
     "execution_count": 93,
     "metadata": {},
     "output_type": "execute_result"
    }
   ],
   "source": [
    "\"a\" >= \"A\""
   ]
  },
  {
   "cell_type": "code",
   "execution_count": 94,
   "id": "d0ecf8b7",
   "metadata": {},
   "outputs": [
    {
     "data": {
      "text/plain": [
       "'\\x81'"
      ]
     },
     "execution_count": 94,
     "metadata": {},
     "output_type": "execute_result"
    }
   ],
   "source": [
    "chr(ord(\"a\") + 32)"
   ]
  },
  {
   "cell_type": "code",
   "execution_count": 95,
   "id": "474a6df0",
   "metadata": {},
   "outputs": [
    {
     "data": {
      "text/plain": [
       "'\\nQuestion 5 -\\n1. Take a string as input from the user.\\n2. Print the count of uppercase characters in that string. (alphabets)\\n\\nINPUT - \"This is a Random%^&*()\"\\nOUTPUT - 2\\n'"
      ]
     },
     "execution_count": 95,
     "metadata": {},
     "output_type": "execute_result"
    }
   ],
   "source": [
    "'''\n",
    "Question 5 -\n",
    "1. Take a string as input from the user.\n",
    "2. Print the count of uppercase characters in that string. (alphabets)\n",
    "\n",
    "INPUT - \"This is a Random%^&*()\"\n",
    "OUTPUT - 2\n",
    "'''"
   ]
  },
  {
   "cell_type": "code",
   "execution_count": 96,
   "id": "4ac88cd2",
   "metadata": {},
   "outputs": [],
   "source": [
    "a = \"This is a Random%^&*()\""
   ]
  },
  {
   "cell_type": "code",
   "execution_count": 99,
   "id": "73da173d",
   "metadata": {},
   "outputs": [],
   "source": [
    "def count_uppercase(a):\n",
    "    count = 0\n",
    "    \n",
    "    for i in a:\n",
    "        if ord(i) >= 65 and ord(i) <= 90: # THIS IS LESS READABLE\n",
    "            count += 1\n",
    "            \n",
    "    return count"
   ]
  },
  {
   "cell_type": "code",
   "execution_count": 100,
   "id": "ec29db62",
   "metadata": {},
   "outputs": [
    {
     "data": {
      "text/plain": [
       "2"
      ]
     },
     "execution_count": 100,
     "metadata": {},
     "output_type": "execute_result"
    }
   ],
   "source": [
    "count_uppercase(a)"
   ]
  },
  {
   "cell_type": "code",
   "execution_count": 101,
   "id": "873a5689",
   "metadata": {},
   "outputs": [
    {
     "data": {
      "text/plain": [
       "'\\nQuestion 6 -\\n1. You are given a list as input to a function.\\n2. Generate a string from the chr values of the integers in the list.\\n\\nINPUT = [65, 97, 68]\\nOUTPUT = \"AaD\"\\n\\nEXPLANATION - \\n\"A\" -> 65\\n\"a\" -> 97\\n\"D\" -> 68\\n'"
      ]
     },
     "execution_count": 101,
     "metadata": {},
     "output_type": "execute_result"
    }
   ],
   "source": [
    "'''\n",
    "Question 6 -\n",
    "1. You are given a list as input to a function.\n",
    "2. Generate a string from the chr values of the integers in the list.\n",
    "\n",
    "INPUT = [65, 97, 68]\n",
    "OUTPUT = \"AaD\"\n",
    "\n",
    "EXPLANATION - \n",
    "\"A\" -> 65\n",
    "\"a\" -> 97\n",
    "\"D\" -> 68\n",
    "'''"
   ]
  },
  {
   "cell_type": "code",
   "execution_count": 102,
   "id": "02ed504b",
   "metadata": {},
   "outputs": [],
   "source": [
    "a = [65, 69, 71, 98, 101, 38, 128516]"
   ]
  },
  {
   "cell_type": "code",
   "execution_count": 103,
   "id": "61a98270",
   "metadata": {},
   "outputs": [],
   "source": [
    "def generate_string(a):\n",
    "    s = \"\"\n",
    "    \n",
    "    for i in a:\n",
    "        s += chr(i)\n",
    "        \n",
    "    return s"
   ]
  },
  {
   "cell_type": "code",
   "execution_count": 104,
   "id": "ccd68f8e",
   "metadata": {},
   "outputs": [
    {
     "data": {
      "text/plain": [
       "'AEGbe&😄'"
      ]
     },
     "execution_count": 104,
     "metadata": {},
     "output_type": "execute_result"
    }
   ],
   "source": [
    "generate_string(a)"
   ]
  },
  {
   "cell_type": "code",
   "execution_count": 105,
   "id": "556ff66a",
   "metadata": {},
   "outputs": [
    {
     "data": {
      "text/plain": [
       "65"
      ]
     },
     "execution_count": 105,
     "metadata": {},
     "output_type": "execute_result"
    }
   ],
   "source": [
    "ord(\"A\")"
   ]
  },
  {
   "cell_type": "code",
   "execution_count": null,
   "id": "195bd65a",
   "metadata": {},
   "outputs": [],
   "source": []
  }
 ],
 "metadata": {
  "kernelspec": {
   "display_name": "Python 3 (ipykernel)",
   "language": "python",
   "name": "python3"
  },
  "language_info": {
   "codemirror_mode": {
    "name": "ipython",
    "version": 3
   },
   "file_extension": ".py",
   "mimetype": "text/x-python",
   "name": "python",
   "nbconvert_exporter": "python",
   "pygments_lexer": "ipython3",
   "version": "3.9.5"
  }
 },
 "nbformat": 4,
 "nbformat_minor": 5
}
