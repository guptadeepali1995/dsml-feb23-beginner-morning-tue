{
 "cells": [
  {
   "cell_type": "code",
   "execution_count": 1,
   "id": "d228a432",
   "metadata": {},
   "outputs": [
    {
     "data": {
      "text/plain": [
       "True"
      ]
     },
     "execution_count": 1,
     "metadata": {},
     "output_type": "execute_result"
    }
   ],
   "source": [
    "def random():\n",
    "    return True\n",
    "\n",
    "random()"
   ]
  },
  {
   "cell_type": "code",
   "execution_count": 3,
   "id": "6ddbc0ae",
   "metadata": {},
   "outputs": [],
   "source": [
    "def random1():\n",
    "    print(True)\n",
    "    \n",
    "def random2():\n",
    "    return True"
   ]
  },
  {
   "cell_type": "code",
   "execution_count": 4,
   "id": "222b1146",
   "metadata": {
    "scrolled": true
   },
   "outputs": [
    {
     "name": "stdout",
     "output_type": "stream",
     "text": [
      "True\n"
     ]
    }
   ],
   "source": [
    "random1()"
   ]
  },
  {
   "cell_type": "code",
   "execution_count": 5,
   "id": "23b8248f",
   "metadata": {},
   "outputs": [
    {
     "data": {
      "text/plain": [
       "True"
      ]
     },
     "execution_count": 5,
     "metadata": {},
     "output_type": "execute_result"
    }
   ],
   "source": [
    "random2()"
   ]
  },
  {
   "cell_type": "code",
   "execution_count": 6,
   "id": "f54b534f",
   "metadata": {},
   "outputs": [
    {
     "name": "stdout",
     "output_type": "stream",
     "text": [
      "True\n"
     ]
    }
   ],
   "source": [
    "result1 = random1()\n",
    "result2 = random2()"
   ]
  },
  {
   "cell_type": "code",
   "execution_count": 8,
   "id": "6752b2b3",
   "metadata": {},
   "outputs": [
    {
     "name": "stdout",
     "output_type": "stream",
     "text": [
      "None\n"
     ]
    }
   ],
   "source": [
    "print(result1)"
   ]
  },
  {
   "cell_type": "code",
   "execution_count": 9,
   "id": "f63228f9",
   "metadata": {},
   "outputs": [
    {
     "name": "stdout",
     "output_type": "stream",
     "text": [
      "True\n"
     ]
    }
   ],
   "source": [
    "print(result2)"
   ]
  },
  {
   "cell_type": "code",
   "execution_count": 15,
   "id": "88dfd7a9",
   "metadata": {},
   "outputs": [
    {
     "data": {
      "text/plain": [
       "'\\nnumber = a = 40\\nnumber * 10 -> it does not change the value of a\\n'"
      ]
     },
     "execution_count": 15,
     "metadata": {},
     "output_type": "execute_result"
    }
   ],
   "source": [
    "a = 40\n",
    "\n",
    "def calculator(number):\n",
    "    return number * 10\n",
    "\n",
    "calculator(a)\n",
    "\n",
    "'''\n",
    "number = a = 40\n",
    "number * 10 -> it does not change the value of a\n",
    "'''"
   ]
  },
  {
   "cell_type": "code",
   "execution_count": 11,
   "id": "218bba2b",
   "metadata": {},
   "outputs": [
    {
     "name": "stdout",
     "output_type": "stream",
     "text": [
      "40\n"
     ]
    }
   ],
   "source": [
    "print(a)"
   ]
  },
  {
   "cell_type": "code",
   "execution_count": 16,
   "id": "0f43db3d",
   "metadata": {},
   "outputs": [
    {
     "ename": "NameError",
     "evalue": "name 'number' is not defined",
     "output_type": "error",
     "traceback": [
      "\u001b[0;31m---------------------------------------------------------------------------\u001b[0m",
      "\u001b[0;31mNameError\u001b[0m                                 Traceback (most recent call last)",
      "\u001b[0;32m/var/folders/nn/c52y0d3j0gq59dpsswchkt2r0000gn/T/ipykernel_29127/2022062638.py\u001b[0m in \u001b[0;36m<module>\u001b[0;34m\u001b[0m\n\u001b[0;32m----> 1\u001b[0;31m \u001b[0mprint\u001b[0m\u001b[0;34m(\u001b[0m\u001b[0mnumber\u001b[0m\u001b[0;34m)\u001b[0m\u001b[0;34m\u001b[0m\u001b[0;34m\u001b[0m\u001b[0m\n\u001b[0m",
      "\u001b[0;31mNameError\u001b[0m: name 'number' is not defined"
     ]
    }
   ],
   "source": [
    "print(number)"
   ]
  },
  {
   "cell_type": "code",
   "execution_count": 18,
   "id": "8d5a08c9",
   "metadata": {},
   "outputs": [
    {
     "name": "stdout",
     "output_type": "stream",
     "text": [
      "5\n"
     ]
    },
    {
     "data": {
      "text/plain": [
       "'SMALL'"
      ]
     },
     "execution_count": 18,
     "metadata": {},
     "output_type": "execute_result"
    }
   ],
   "source": [
    "a = int(input())\n",
    "\n",
    "def simple_function(a):\n",
    "    if a <= 10:\n",
    "        return \"SMALL\"\n",
    "    else:\n",
    "        return \"BIG\"\n",
    "    \n",
    "simple_function(a)"
   ]
  },
  {
   "cell_type": "code",
   "execution_count": 19,
   "id": "2eadc680",
   "metadata": {},
   "outputs": [],
   "source": [
    "def introduce_family(my_name, sibling_name, father_name, mother_name):\n",
    "    print(\"My name is\", my_name)\n",
    "    print(\"My sibling's name is\", sibling_name)\n",
    "    print(\"My father's name is\", father_name)\n",
    "    print(\"My mother's name is\", mother_name)"
   ]
  },
  {
   "cell_type": "code",
   "execution_count": 20,
   "id": "12b5ecea",
   "metadata": {},
   "outputs": [
    {
     "name": "stdout",
     "output_type": "stream",
     "text": [
      "My name is Bipin Kalra\n",
      "My sibling's name is Stormi\n",
      "My father's name is Bradd Pitt\n",
      "My mother's name is Angelina Jolie\n"
     ]
    }
   ],
   "source": [
    "introduce_family(\"Bipin Kalra\", \"Stormi\", \"Bradd Pitt\", \"Angelina Jolie\")"
   ]
  },
  {
   "cell_type": "code",
   "execution_count": 21,
   "id": "9530ab30",
   "metadata": {},
   "outputs": [
    {
     "name": "stdout",
     "output_type": "stream",
     "text": [
      "My name is Angelina Jolie\n",
      "My sibling's name is Bradd Pitt\n",
      "My father's name is Bipin Kalra\n",
      "My mother's name is Stormi\n"
     ]
    }
   ],
   "source": [
    "introduce_family(\"Angelina Jolie\", \"Bradd Pitt\", \"Bipin Kalra\", \"Stormi\")"
   ]
  },
  {
   "cell_type": "code",
   "execution_count": 22,
   "id": "e7a8146d",
   "metadata": {},
   "outputs": [],
   "source": [
    "# KEYWORDED ARGUMENTS"
   ]
  },
  {
   "cell_type": "code",
   "execution_count": 23,
   "id": "2c625549",
   "metadata": {},
   "outputs": [
    {
     "name": "stdout",
     "output_type": "stream",
     "text": [
      "My name is Bipin Kalra\n",
      "My sibling's name is Stormi\n",
      "My father's name is Bradd Pitt\n",
      "My mother's name is Angelina Jolie\n"
     ]
    }
   ],
   "source": [
    "introduce_family(mother_name = \"Angelina Jolie\", father_name = \"Bradd Pitt\", sibling_name = \"Stormi\", my_name = \"Bipin Kalra\")"
   ]
  },
  {
   "cell_type": "code",
   "execution_count": 24,
   "id": "c0e5ab79",
   "metadata": {},
   "outputs": [
    {
     "name": "stdout",
     "output_type": "stream",
     "text": [
      "My name is Bipin Kalra\n",
      "My sibling's name is Stormi\n",
      "My father's name is Bradd Pitt\n",
      "My mother's name is Angelina Jolie\n"
     ]
    }
   ],
   "source": [
    "introduce_family(\n",
    "    mother_name = \"Angelina Jolie\",\n",
    "    father_name = \"Bradd Pitt\",\n",
    "    sibling_name = \"Stormi\",\n",
    "    my_name = \"Bipin Kalra\"\n",
    ")"
   ]
  },
  {
   "cell_type": "code",
   "execution_count": 25,
   "id": "3f8be20f",
   "metadata": {},
   "outputs": [],
   "source": [
    "def random(a, b, c, d):\n",
    "    print(\"a ->\", a)\n",
    "    print(\"b ->\", b)\n",
    "    print(\"c ->\", c)\n",
    "    print(\"d ->\", d)"
   ]
  },
  {
   "cell_type": "code",
   "execution_count": 27,
   "id": "18bc321e",
   "metadata": {},
   "outputs": [
    {
     "name": "stdout",
     "output_type": "stream",
     "text": [
      "a -> 1\n",
      "b -> 2\n",
      "c -> 3\n",
      "d -> 4\n"
     ]
    }
   ],
   "source": [
    "random(1,2,3,4) # POSITIONAL ARGUMENTS"
   ]
  },
  {
   "cell_type": "code",
   "execution_count": 28,
   "id": "ad5d1daf",
   "metadata": {},
   "outputs": [
    {
     "name": "stdout",
     "output_type": "stream",
     "text": [
      "a -> 1\n",
      "b -> 2\n",
      "c -> 3\n",
      "d -> 4\n"
     ]
    }
   ],
   "source": [
    "random(d = 4, c = 3, a = 1, b = 2) # KEYWORDED ARGUMENTS"
   ]
  },
  {
   "cell_type": "code",
   "execution_count": 29,
   "id": "e4c0a4af",
   "metadata": {},
   "outputs": [
    {
     "name": "stdout",
     "output_type": "stream",
     "text": [
      "a -> 1\n",
      "b -> 2\n",
      "c -> 3\n",
      "d -> 4\n"
     ]
    }
   ],
   "source": [
    "random(1, 2, d = 4, c = 3) # You can use keyworded arguments after positional arguments"
   ]
  },
  {
   "cell_type": "code",
   "execution_count": 30,
   "id": "67e204cf",
   "metadata": {},
   "outputs": [
    {
     "ename": "TypeError",
     "evalue": "random() got multiple values for argument 'a'",
     "output_type": "error",
     "traceback": [
      "\u001b[0;31m---------------------------------------------------------------------------\u001b[0m",
      "\u001b[0;31mTypeError\u001b[0m                                 Traceback (most recent call last)",
      "\u001b[0;32m/var/folders/nn/c52y0d3j0gq59dpsswchkt2r0000gn/T/ipykernel_29127/635946369.py\u001b[0m in \u001b[0;36m<module>\u001b[0;34m\u001b[0m\n\u001b[0;32m----> 1\u001b[0;31m \u001b[0mrandom\u001b[0m\u001b[0;34m(\u001b[0m\u001b[0;36m1\u001b[0m\u001b[0;34m,\u001b[0m \u001b[0;36m2\u001b[0m\u001b[0;34m,\u001b[0m \u001b[0ma\u001b[0m \u001b[0;34m=\u001b[0m \u001b[0;36m10\u001b[0m\u001b[0;34m,\u001b[0m \u001b[0mc\u001b[0m \u001b[0;34m=\u001b[0m \u001b[0;36m3\u001b[0m\u001b[0;34m)\u001b[0m\u001b[0;34m\u001b[0m\u001b[0;34m\u001b[0m\u001b[0m\n\u001b[0m",
      "\u001b[0;31mTypeError\u001b[0m: random() got multiple values for argument 'a'"
     ]
    }
   ],
   "source": [
    "random(1, 2, a = 10, c = 3)"
   ]
  },
  {
   "cell_type": "code",
   "execution_count": 32,
   "id": "53af371e",
   "metadata": {},
   "outputs": [
    {
     "ename": "SyntaxError",
     "evalue": "positional argument follows keyword argument (262403551.py, line 1)",
     "output_type": "error",
     "traceback": [
      "\u001b[0;36m  File \u001b[0;32m\"/var/folders/nn/c52y0d3j0gq59dpsswchkt2r0000gn/T/ipykernel_29127/262403551.py\"\u001b[0;36m, line \u001b[0;32m1\u001b[0m\n\u001b[0;31m    random(d = 4, a = 1, 5, 6)\u001b[0m\n\u001b[0m                             ^\u001b[0m\n\u001b[0;31mSyntaxError\u001b[0m\u001b[0;31m:\u001b[0m positional argument follows keyword argument\n"
     ]
    }
   ],
   "source": [
    "random(d = 4, a = 1, 5, 6)\n",
    "# You can't send a positional argument after a keyworded argument"
   ]
  },
  {
   "cell_type": "code",
   "execution_count": 33,
   "id": "e9fc59a2",
   "metadata": {},
   "outputs": [
    {
     "data": {
      "text/plain": [
       "'\\nARGUMENTS ->\\nPositional -> Keyworded (without any repetition) -> ALLOWED\\nKeyworded -> Positional -> NOT ALLOWED\\n'"
      ]
     },
     "execution_count": 33,
     "metadata": {},
     "output_type": "execute_result"
    }
   ],
   "source": [
    "'''\n",
    "ARGUMENTS ->\n",
    "Positional -> Keyworded (without any repetition) -> ALLOWED\n",
    "Keyworded -> Positional -> NOT ALLOWED\n",
    "'''"
   ]
  },
  {
   "cell_type": "code",
   "execution_count": 35,
   "id": "af287af4",
   "metadata": {},
   "outputs": [],
   "source": [
    "def simple_interest(p, r, t):\n",
    "    interest = (p * r * t) / 100\n",
    "    \n",
    "    return interest"
   ]
  },
  {
   "cell_type": "code",
   "execution_count": 36,
   "id": "744b7718",
   "metadata": {},
   "outputs": [
    {
     "ename": "TypeError",
     "evalue": "simple_interest() missing 1 required positional argument: 't'",
     "output_type": "error",
     "traceback": [
      "\u001b[0;31m---------------------------------------------------------------------------\u001b[0m",
      "\u001b[0;31mTypeError\u001b[0m                                 Traceback (most recent call last)",
      "\u001b[0;32m/var/folders/nn/c52y0d3j0gq59dpsswchkt2r0000gn/T/ipykernel_29127/375564530.py\u001b[0m in \u001b[0;36m<module>\u001b[0;34m\u001b[0m\n\u001b[0;32m----> 1\u001b[0;31m \u001b[0msimple_interest\u001b[0m\u001b[0;34m(\u001b[0m\u001b[0;36m5000\u001b[0m\u001b[0;34m,\u001b[0m \u001b[0;36m5\u001b[0m\u001b[0;34m)\u001b[0m\u001b[0;34m\u001b[0m\u001b[0;34m\u001b[0m\u001b[0m\n\u001b[0m",
      "\u001b[0;31mTypeError\u001b[0m: simple_interest() missing 1 required positional argument: 't'"
     ]
    }
   ],
   "source": [
    "simple_interest(5000, 5)"
   ]
  },
  {
   "cell_type": "code",
   "execution_count": 37,
   "id": "0354677f",
   "metadata": {},
   "outputs": [],
   "source": [
    "def simple_interest(p, r, t = 10): # default value for t\n",
    "    interest = (p * r * t) / 100\n",
    "    \n",
    "    return interest"
   ]
  },
  {
   "cell_type": "code",
   "execution_count": 38,
   "id": "425deff9",
   "metadata": {},
   "outputs": [
    {
     "data": {
      "text/plain": [
       "2500.0"
      ]
     },
     "execution_count": 38,
     "metadata": {},
     "output_type": "execute_result"
    }
   ],
   "source": [
    "simple_interest(5000, 5)"
   ]
  },
  {
   "cell_type": "code",
   "execution_count": 39,
   "id": "0d74b5a0",
   "metadata": {},
   "outputs": [
    {
     "data": {
      "text/plain": [
       "5000.0"
      ]
     },
     "execution_count": 39,
     "metadata": {},
     "output_type": "execute_result"
    }
   ],
   "source": [
    "simple_interest(5000, 5, 20)"
   ]
  },
  {
   "cell_type": "code",
   "execution_count": 42,
   "id": "fcf74fda",
   "metadata": {},
   "outputs": [
    {
     "ename": "SyntaxError",
     "evalue": "non-default argument follows default argument (3119603046.py, line 1)",
     "output_type": "error",
     "traceback": [
      "\u001b[0;36m  File \u001b[0;32m\"/var/folders/nn/c52y0d3j0gq59dpsswchkt2r0000gn/T/ipykernel_29127/3119603046.py\"\u001b[0;36m, line \u001b[0;32m1\u001b[0m\n\u001b[0;31m    def simple_interest(p, r = 10, t):\u001b[0m\n\u001b[0m                                    ^\u001b[0m\n\u001b[0;31mSyntaxError\u001b[0m\u001b[0;31m:\u001b[0m non-default argument follows default argument\n"
     ]
    }
   ],
   "source": [
    " def simple_interest(p, r = 10, t):\n",
    "    interest = (p * r * t) / 100\n",
    "    \n",
    "    return interest\n",
    "\n",
    "# If a default value is provided for an argument,\n",
    "# default values should be provided for all arguments after that!"
   ]
  },
  {
   "cell_type": "code",
   "execution_count": 43,
   "id": "6ce50bbd",
   "metadata": {},
   "outputs": [],
   "source": [
    "def simple_interest(p, r = 8, t = 5):\n",
    "    interest = (p * r * t) / 100\n",
    "    \n",
    "    return interest"
   ]
  },
  {
   "cell_type": "code",
   "execution_count": 44,
   "id": "7fffb01d",
   "metadata": {},
   "outputs": [
    {
     "data": {
      "text/plain": [
       "4000.0"
      ]
     },
     "execution_count": 44,
     "metadata": {},
     "output_type": "execute_result"
    }
   ],
   "source": [
    "simple_interest(10000)"
   ]
  },
  {
   "cell_type": "code",
   "execution_count": 45,
   "id": "af7f4847",
   "metadata": {},
   "outputs": [
    {
     "data": {
      "text/plain": [
       "'\\nQuestion 1 - \\nCreate a date printing function - \\nShould take 4 arguments -> day, month, year and style\\n\\nStyling Logic - \\nstyle -> 0 -> d/m/y\\nstyle -> 1 -> m/d/y\\nstyle -> any other value -> Invalid Style\\n\\ndefault style is 0.\\n'"
      ]
     },
     "execution_count": 45,
     "metadata": {},
     "output_type": "execute_result"
    }
   ],
   "source": [
    "'''\n",
    "Question 1 - \n",
    "Create a date printing function - \n",
    "Should take 4 arguments -> day, month, year and style\n",
    "\n",
    "Styling Logic - \n",
    "style -> 0 -> d/m/y\n",
    "style -> 1 -> m/d/y\n",
    "style -> any other value -> Invalid Style\n",
    "\n",
    "default style is 0.\n",
    "'''"
   ]
  },
  {
   "cell_type": "code",
   "execution_count": 49,
   "id": "749e8868",
   "metadata": {},
   "outputs": [],
   "source": [
    "def print_date(day, month, year, style = 0):\n",
    "    if style == 0:\n",
    "        print(day, month, year, sep = \"/\")\n",
    "    elif style == 1:\n",
    "        print(month, day, year, sep = \"/\")\n",
    "    else:\n",
    "        print(\"INVALID STYLE!\")"
   ]
  },
  {
   "cell_type": "code",
   "execution_count": 50,
   "id": "913af1e2",
   "metadata": {},
   "outputs": [
    {
     "name": "stdout",
     "output_type": "stream",
     "text": [
      "23/12/2022\n"
     ]
    }
   ],
   "source": [
    "print_date(23,12,2022)"
   ]
  },
  {
   "cell_type": "code",
   "execution_count": 51,
   "id": "54c594a9",
   "metadata": {},
   "outputs": [
    {
     "name": "stdout",
     "output_type": "stream",
     "text": [
      "INVALID STYLE!\n"
     ]
    }
   ],
   "source": [
    "print_date(23,12,2022,5)"
   ]
  },
  {
   "cell_type": "code",
   "execution_count": 57,
   "id": "66199d0f",
   "metadata": {},
   "outputs": [
    {
     "name": "stdout",
     "output_type": "stream",
     "text": [
      "Chief of the house is - Mother\n",
      "New chief of house is - Father\n"
     ]
    }
   ],
   "source": [
    "chief_of_home = \"Mother\" # global variable\n",
    "\n",
    "print(\"Chief of the house is -\", chief_of_home)\n",
    "\n",
    "def change_chief():\n",
    "    chief_of_home = \"Father\" # local_variable\n",
    "    print(\"New chief of house is -\", chief_of_home)\n",
    "\n",
    "change_chief()"
   ]
  },
  {
   "cell_type": "code",
   "execution_count": 55,
   "id": "9f7fc4ec",
   "metadata": {},
   "outputs": [
    {
     "name": "stdout",
     "output_type": "stream",
     "text": [
      "Mother\n"
     ]
    }
   ],
   "source": [
    "print(chief_of_home)"
   ]
  },
  {
   "cell_type": "code",
   "execution_count": 59,
   "id": "0c13838b",
   "metadata": {},
   "outputs": [
    {
     "name": "stdout",
     "output_type": "stream",
     "text": [
      "Inside random 1 - 50\n",
      "Inside random 2 - 10\n",
      "Outside - 10\n"
     ]
    },
    {
     "data": {
      "text/plain": [
       "'\\nInside random1 -> local copy of a exists -> it will use the local value\\nInside random2 -> no local copy exists -> it will use the global value\\nOutside (Global scope) -> global copy\\n'"
      ]
     },
     "execution_count": 59,
     "metadata": {},
     "output_type": "execute_result"
    }
   ],
   "source": [
    "a = 10 # global variable\n",
    "\n",
    "def random1():\n",
    "    a = 50 # local variable\n",
    "    print(\"Inside random 1 -\", a)\n",
    "    \n",
    "def random2():\n",
    "    print(\"Inside random 2 -\", a)\n",
    "    \n",
    "    \n",
    "random1()\n",
    "random2()\n",
    "print(\"Outside -\", a)\n",
    "\n",
    "'''\n",
    "Inside random1 -> local copy of a exists -> it will use the local value\n",
    "Inside random2 -> no local copy exists -> it will use the global value\n",
    "Outside (Global scope) -> global copy\n",
    "'''"
   ]
  },
  {
   "cell_type": "code",
   "execution_count": 60,
   "id": "47942e10",
   "metadata": {},
   "outputs": [],
   "source": [
    "a = 10\n",
    "\n",
    "def random():\n",
    "    global a\n",
    "    \n",
    "    a = 20\n",
    "    print(a)"
   ]
  },
  {
   "cell_type": "code",
   "execution_count": 61,
   "id": "170cc523",
   "metadata": {},
   "outputs": [
    {
     "name": "stdout",
     "output_type": "stream",
     "text": [
      "20\n"
     ]
    }
   ],
   "source": [
    "random()"
   ]
  },
  {
   "cell_type": "code",
   "execution_count": 62,
   "id": "313dfdcd",
   "metadata": {},
   "outputs": [
    {
     "name": "stdout",
     "output_type": "stream",
     "text": [
      "20\n"
     ]
    }
   ],
   "source": [
    "print(a)"
   ]
  },
  {
   "cell_type": "code",
   "execution_count": 64,
   "id": "51ee2d82",
   "metadata": {},
   "outputs": [
    {
     "name": "stdout",
     "output_type": "stream",
     "text": [
      "outside if\n"
     ]
    }
   ],
   "source": [
    "a=1\n",
    "if 1==2:\n",
    "    print(test)\n",
    "print(\"outside if\")"
   ]
  },
  {
   "cell_type": "code",
   "execution_count": 65,
   "id": "b6e29faa",
   "metadata": {},
   "outputs": [],
   "source": [
    "number = 304"
   ]
  },
  {
   "cell_type": "code",
   "execution_count": 66,
   "id": "20a8f442",
   "metadata": {},
   "outputs": [
    {
     "data": {
      "text/plain": [
       "'304'"
      ]
     },
     "execution_count": 66,
     "metadata": {},
     "output_type": "execute_result"
    }
   ],
   "source": [
    "str(304)"
   ]
  },
  {
   "cell_type": "code",
   "execution_count": null,
   "id": "bea1f14b",
   "metadata": {},
   "outputs": [],
   "source": []
  }
 ],
 "metadata": {
  "kernelspec": {
   "display_name": "Python 3 (ipykernel)",
   "language": "python",
   "name": "python3"
  },
  "language_info": {
   "codemirror_mode": {
    "name": "ipython",
    "version": 3
   },
   "file_extension": ".py",
   "mimetype": "text/x-python",
   "name": "python",
   "nbconvert_exporter": "python",
   "pygments_lexer": "ipython3",
   "version": "3.9.5"
  }
 },
 "nbformat": 4,
 "nbformat_minor": 5
}
