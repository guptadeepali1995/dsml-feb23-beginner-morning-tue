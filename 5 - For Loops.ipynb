{
 "cells": [
  {
   "cell_type": "code",
   "execution_count": 11,
   "id": "218a2e12",
   "metadata": {},
   "outputs": [
    {
     "name": "stdout",
     "output_type": "stream",
     "text": [
      "2\n",
      "3\n",
      "4\n"
     ]
    }
   ],
   "source": [
    "for i in range(2, 5):\n",
    "    print(i)"
   ]
  },
  {
   "cell_type": "code",
   "execution_count": 12,
   "id": "e89dff83",
   "metadata": {},
   "outputs": [
    {
     "data": {
      "text/plain": [
       "range(2, 5)"
      ]
     },
     "execution_count": 12,
     "metadata": {},
     "output_type": "execute_result"
    }
   ],
   "source": [
    "range(2, 5)"
   ]
  },
  {
   "cell_type": "code",
   "execution_count": 13,
   "id": "e05f81ba",
   "metadata": {},
   "outputs": [
    {
     "data": {
      "text/plain": [
       "range(0, 5)"
      ]
     },
     "execution_count": 13,
     "metadata": {},
     "output_type": "execute_result"
    }
   ],
   "source": [
    "range(5) # 0 is the default starting value if only end is provided"
   ]
  },
  {
   "cell_type": "code",
   "execution_count": 5,
   "id": "9681b812",
   "metadata": {},
   "outputs": [
    {
     "ename": "TypeError",
     "evalue": "'float' object cannot be interpreted as an integer",
     "output_type": "error",
     "traceback": [
      "\u001b[0;31m---------------------------------------------------------------------------\u001b[0m",
      "\u001b[0;31mTypeError\u001b[0m                                 Traceback (most recent call last)",
      "\u001b[0;32m/var/folders/nn/c52y0d3j0gq59dpsswchkt2r0000gn/T/ipykernel_50839/1131547135.py\u001b[0m in \u001b[0;36m<module>\u001b[0;34m\u001b[0m\n\u001b[0;32m----> 1\u001b[0;31m \u001b[0mrange\u001b[0m\u001b[0;34m(\u001b[0m\u001b[0;36m1.7\u001b[0m\u001b[0;34m,\u001b[0m \u001b[0;36m8.7\u001b[0m\u001b[0;34m)\u001b[0m \u001b[0;31m# float values are not allowed\u001b[0m\u001b[0;34m\u001b[0m\u001b[0;34m\u001b[0m\u001b[0m\n\u001b[0m",
      "\u001b[0;31mTypeError\u001b[0m: 'float' object cannot be interpreted as an integer"
     ]
    }
   ],
   "source": [
    "range(1.7, 8.7) # float values are not allowed"
   ]
  },
  {
   "cell_type": "code",
   "execution_count": 6,
   "id": "f835f5bd",
   "metadata": {},
   "outputs": [
    {
     "ename": "TypeError",
     "evalue": "'float' object cannot be interpreted as an integer",
     "output_type": "error",
     "traceback": [
      "\u001b[0;31m---------------------------------------------------------------------------\u001b[0m",
      "\u001b[0;31mTypeError\u001b[0m                                 Traceback (most recent call last)",
      "\u001b[0;32m/var/folders/nn/c52y0d3j0gq59dpsswchkt2r0000gn/T/ipykernel_50839/1297518684.py\u001b[0m in \u001b[0;36m<module>\u001b[0;34m\u001b[0m\n\u001b[0;32m----> 1\u001b[0;31m \u001b[0mrange\u001b[0m\u001b[0;34m(\u001b[0m\u001b[0;36m1\u001b[0m\u001b[0;34m,\u001b[0m \u001b[0;36m8\u001b[0m\u001b[0;34m,\u001b[0m \u001b[0;36m0.5\u001b[0m\u001b[0;34m)\u001b[0m\u001b[0;34m\u001b[0m\u001b[0;34m\u001b[0m\u001b[0m\n\u001b[0m",
      "\u001b[0;31mTypeError\u001b[0m: 'float' object cannot be interpreted as an integer"
     ]
    }
   ],
   "source": [
    "range(1, 8, 0.5)"
   ]
  },
  {
   "cell_type": "code",
   "execution_count": 7,
   "id": "0bb2cc67",
   "metadata": {},
   "outputs": [
    {
     "ename": "ValueError",
     "evalue": "range() arg 3 must not be zero",
     "output_type": "error",
     "traceback": [
      "\u001b[0;31m---------------------------------------------------------------------------\u001b[0m",
      "\u001b[0;31mValueError\u001b[0m                                Traceback (most recent call last)",
      "\u001b[0;32m/var/folders/nn/c52y0d3j0gq59dpsswchkt2r0000gn/T/ipykernel_50839/3594170526.py\u001b[0m in \u001b[0;36m<module>\u001b[0;34m\u001b[0m\n\u001b[0;32m----> 1\u001b[0;31m \u001b[0mrange\u001b[0m\u001b[0;34m(\u001b[0m\u001b[0;36m1\u001b[0m\u001b[0;34m,\u001b[0m \u001b[0;36m7\u001b[0m\u001b[0;34m,\u001b[0m \u001b[0;36m0\u001b[0m\u001b[0;34m)\u001b[0m\u001b[0;34m\u001b[0m\u001b[0;34m\u001b[0m\u001b[0m\n\u001b[0m",
      "\u001b[0;31mValueError\u001b[0m: range() arg 3 must not be zero"
     ]
    }
   ],
   "source": [
    "range(1, 7, 0)"
   ]
  },
  {
   "cell_type": "code",
   "execution_count": 8,
   "id": "1d97733c",
   "metadata": {},
   "outputs": [
    {
     "name": "stdout",
     "output_type": "stream",
     "text": [
      "5\n",
      "4\n",
      "3\n"
     ]
    }
   ],
   "source": [
    "for i in range(5, 2, -1):\n",
    "    print(i)"
   ]
  },
  {
   "cell_type": "code",
   "execution_count": 14,
   "id": "af92c575",
   "metadata": {},
   "outputs": [
    {
     "data": {
      "text/plain": [
       "7"
      ]
     },
     "execution_count": 14,
     "metadata": {},
     "output_type": "execute_result"
    }
   ],
   "source": [
    "len(range(1,8))"
   ]
  },
  {
   "cell_type": "code",
   "execution_count": 15,
   "id": "ec1994ee",
   "metadata": {},
   "outputs": [
    {
     "data": {
      "text/plain": [
       "4"
      ]
     },
     "execution_count": 15,
     "metadata": {},
     "output_type": "execute_result"
    }
   ],
   "source": [
    "len(range(1,9,2))"
   ]
  },
  {
   "cell_type": "code",
   "execution_count": 16,
   "id": "ca9ce604",
   "metadata": {},
   "outputs": [
    {
     "data": {
      "text/plain": [
       "0"
      ]
     },
     "execution_count": 16,
     "metadata": {},
     "output_type": "execute_result"
    }
   ],
   "source": [
    "len(range(29,9,2))"
   ]
  },
  {
   "cell_type": "code",
   "execution_count": 18,
   "id": "0c64569e",
   "metadata": {},
   "outputs": [
    {
     "data": {
      "text/plain": [
       "'\\nQuestion 1 - \\nPrint all integers from 1 to N using for loop. (N to be included)\\nTake N as input from the user.\\n'"
      ]
     },
     "execution_count": 18,
     "metadata": {},
     "output_type": "execute_result"
    }
   ],
   "source": [
    "'''\n",
    "Question 1 - \n",
    "Print all integers from 1 to N using for loop. (N to be included)\n",
    "Take N as input from the user.\n",
    "'''"
   ]
  },
  {
   "cell_type": "code",
   "execution_count": 19,
   "id": "c03a61a0",
   "metadata": {},
   "outputs": [
    {
     "name": "stdout",
     "output_type": "stream",
     "text": [
      "10\n",
      "1 2 3 4 5 6 7 8 9 10 "
     ]
    }
   ],
   "source": [
    "N = int(input())\n",
    "\n",
    "for i in range(1, N + 1):\n",
    "    print(i, end = \" \")"
   ]
  },
  {
   "cell_type": "code",
   "execution_count": 20,
   "id": "6bbcd303",
   "metadata": {},
   "outputs": [
    {
     "data": {
      "text/plain": [
       "'\\nQuestion 2 - \\nTake N as input from the user.\\nCalculate the sum of all numbers from 1 to N (N is included).\\n'"
      ]
     },
     "execution_count": 20,
     "metadata": {},
     "output_type": "execute_result"
    }
   ],
   "source": [
    "'''\n",
    "Question 2 - \n",
    "Take N as input from the user.\n",
    "Calculate the sum of all numbers from 1 to N (N is included).\n",
    "'''"
   ]
  },
  {
   "cell_type": "code",
   "execution_count": 25,
   "id": "e8b5c63b",
   "metadata": {},
   "outputs": [
    {
     "name": "stdout",
     "output_type": "stream",
     "text": [
      "10\n",
      "The final sum is - 55\n"
     ]
    }
   ],
   "source": [
    "N = int(input())\n",
    "\n",
    "final_sum = 0\n",
    "\n",
    "for value in range(1, N + 1):\n",
    "    final_sum += value # final_sum = final_sum + value\n",
    "\n",
    "print(\"The final sum is -\", final_sum)"
   ]
  },
  {
   "cell_type": "code",
   "execution_count": 26,
   "id": "0eba667b",
   "metadata": {},
   "outputs": [
    {
     "data": {
      "text/plain": [
       "'\\nDry Run - \\nN = 3\\nfinal_sum = 0\\n\\nSTART OF FOR LOOP ->\\nIteration 1 - \\n    value = 1\\n    final_sum = final_sum + value -> final_sum = 0 + 1 = 1\\n    \\nIteration 2 - \\n    value = 2\\n    final_sum = 1 + 2 = 3\\n\\nIteration 3 - \\n    value = 3\\n    final_sum = 3 + 3 = 6\\n'"
      ]
     },
     "execution_count": 26,
     "metadata": {},
     "output_type": "execute_result"
    }
   ],
   "source": [
    "'''\n",
    "Dry Run - \n",
    "N = 3\n",
    "final_sum = 0\n",
    "\n",
    "START OF FOR LOOP ->\n",
    "Iteration 1 - \n",
    "    value = 1\n",
    "    final_sum = final_sum + value -> final_sum = 0 + 1 = 1\n",
    "    \n",
    "Iteration 2 - \n",
    "    value = 2\n",
    "    final_sum = 1 + 2 = 3\n",
    "\n",
    "Iteration 3 - \n",
    "    value = 3\n",
    "    final_sum = 3 + 3 = 6\n",
    "'''"
   ]
  },
  {
   "cell_type": "code",
   "execution_count": 27,
   "id": "5b085f7e",
   "metadata": {},
   "outputs": [
    {
     "data": {
      "text/plain": [
       "'\\nQuestion 3 - \\nFACTORIAL ->\\nTake N an input from the user.\\nCalculate the product of all numbers from 1 to N (N is included).\\n'"
      ]
     },
     "execution_count": 27,
     "metadata": {},
     "output_type": "execute_result"
    }
   ],
   "source": [
    "'''\n",
    "Question 3 - \n",
    "FACTORIAL ->\n",
    "Take N an input from the user.\n",
    "Calculate the product of all numbers from 1 to N (N is included).\n",
    "'''"
   ]
  },
  {
   "cell_type": "code",
   "execution_count": 28,
   "id": "43d0de66",
   "metadata": {},
   "outputs": [
    {
     "name": "stdout",
     "output_type": "stream",
     "text": [
      "6\n",
      "720\n"
     ]
    }
   ],
   "source": [
    "N = int(input())\n",
    "\n",
    "factorial = 1\n",
    "\n",
    "for i in range(1, N + 1):\n",
    "    factorial *= i\n",
    "    \n",
    "print(factorial)"
   ]
  },
  {
   "cell_type": "code",
   "execution_count": 30,
   "id": "999da043",
   "metadata": {},
   "outputs": [
    {
     "name": "stdout",
     "output_type": "stream",
     "text": [
      "6\n",
      "720\n"
     ]
    }
   ],
   "source": [
    "N = int(input())\n",
    "\n",
    "factorial = N\n",
    "\n",
    "for i in range(N - 1, 0, -1):\n",
    "    factorial *= i\n",
    "    \n",
    "print(factorial)"
   ]
  },
  {
   "cell_type": "code",
   "execution_count": 31,
   "id": "c047493b",
   "metadata": {},
   "outputs": [
    {
     "data": {
      "text/plain": [
       "'\\nQuestion 4 - \\nTake N as input from the user.\\nCalculate the product of all even numbers between 1 and N. Both included.\\n'"
      ]
     },
     "execution_count": 31,
     "metadata": {},
     "output_type": "execute_result"
    }
   ],
   "source": [
    "'''\n",
    "Question 4 - \n",
    "Take N as input from the user.\n",
    "Calculate the product of all even numbers between 1 and N. Both included.\n",
    "'''"
   ]
  },
  {
   "cell_type": "code",
   "execution_count": 32,
   "id": "ed15ff3a",
   "metadata": {},
   "outputs": [
    {
     "name": "stdout",
     "output_type": "stream",
     "text": [
      "9\n",
      "384\n"
     ]
    }
   ],
   "source": [
    "N = int(input())\n",
    "\n",
    "even_product = 1\n",
    "\n",
    "for i in range(2, N + 1, 2):\n",
    "    even_product *= i\n",
    "    \n",
    "print(even_product)"
   ]
  },
  {
   "cell_type": "code",
   "execution_count": 34,
   "id": "4da34812",
   "metadata": {},
   "outputs": [
    {
     "data": {
      "text/plain": [
       "'\\nQuestion 5 - \\nTake start and end as input from the user.\\nCalculate the product of all even numbers between start and end.\\nBoth included.\\n\\nGIVEN - Both start and end will be greater than 0.\\n'"
      ]
     },
     "execution_count": 34,
     "metadata": {},
     "output_type": "execute_result"
    }
   ],
   "source": [
    "'''\n",
    "Question 5 - \n",
    "Take start and end as input from the user.\n",
    "Calculate the product of all even numbers between start and end.\n",
    "Both included.\n",
    "\n",
    "GIVEN - Both start and end will be greater than 0.\n",
    "'''"
   ]
  },
  {
   "cell_type": "code",
   "execution_count": 35,
   "id": "a4180638",
   "metadata": {},
   "outputs": [
    {
     "name": "stdout",
     "output_type": "stream",
     "text": [
      "Start - 2\n",
      "End - 9\n",
      "Even Product - 384\n"
     ]
    }
   ],
   "source": [
    "# Solution 1\n",
    "\n",
    "start = int(input(\"Start - \"))\n",
    "end = int(input(\"End - \"))\n",
    "\n",
    "even_product = 1\n",
    "\n",
    "for i in range(start, end + 1):\n",
    "    if i % 2 == 0:\n",
    "        even_product *= i\n",
    "        \n",
    "print(\"Even Product -\", even_product)"
   ]
  },
  {
   "cell_type": "code",
   "execution_count": 37,
   "id": "f05fc932",
   "metadata": {},
   "outputs": [
    {
     "name": "stdout",
     "output_type": "stream",
     "text": [
      "Start - 2\n",
      "End - 9\n",
      "Even Product - 384\n"
     ]
    }
   ],
   "source": [
    "# Solution 2\n",
    "\n",
    "start = int(input(\"Start - \"))\n",
    "end = int(input(\"End - \"))\n",
    "\n",
    "even_product = 1\n",
    "\n",
    "if start % 2 == 0:\n",
    "    new_start = start\n",
    "else:\n",
    "    new_start = start + 1\n",
    "    \n",
    "for i in range(new_start, end + 1, 2):\n",
    "    even_product *= i\n",
    "    \n",
    "print(\"Even Product -\", even_product)"
   ]
  },
  {
   "cell_type": "code",
   "execution_count": 38,
   "id": "2af11359",
   "metadata": {},
   "outputs": [
    {
     "data": {
      "text/plain": [
       "'\\nQuestion 6 -\\nPrint all the numbers from an input N to 1 in reverse order.\\nN > 1 -> Given\\n'"
      ]
     },
     "execution_count": 38,
     "metadata": {},
     "output_type": "execute_result"
    }
   ],
   "source": [
    "'''\n",
    "Question 6 -\n",
    "Print all the numbers from an input N to 1 in reverse order.\n",
    "N > 1 -> Given\n",
    "'''"
   ]
  },
  {
   "cell_type": "code",
   "execution_count": 39,
   "id": "b8774e1d",
   "metadata": {},
   "outputs": [
    {
     "name": "stdout",
     "output_type": "stream",
     "text": [
      "9\n",
      "9 8 7 6 5 4 3 2 1 "
     ]
    }
   ],
   "source": [
    "N = int(input())\n",
    "\n",
    "for i in range(N, 0, -1):\n",
    "    print(i, end = \" \")"
   ]
  },
  {
   "cell_type": "code",
   "execution_count": 40,
   "id": "697024fb",
   "metadata": {},
   "outputs": [
    {
     "data": {
      "text/plain": [
       "'\\nQuestion 7 -\\nPrint all the numbers from an input N to 1 in reverse order.\\nWithout using a negative jump!\\nN > 1 -> Given\\n'"
      ]
     },
     "execution_count": 40,
     "metadata": {},
     "output_type": "execute_result"
    }
   ],
   "source": [
    "'''\n",
    "Question 7 -\n",
    "Print all the numbers from an input N to 1 in reverse order.\n",
    "Without using a negative jump!\n",
    "N > 1 -> Given\n",
    "'''"
   ]
  },
  {
   "cell_type": "code",
   "execution_count": 41,
   "id": "b1ce8437",
   "metadata": {},
   "outputs": [
    {
     "name": "stdout",
     "output_type": "stream",
     "text": [
      "9\n",
      "9 8 7 6 5 4 3 2 1 "
     ]
    }
   ],
   "source": [
    "# Solution 1 \n",
    "\n",
    "N = int(input())\n",
    "\n",
    "for i in range(N):\n",
    "    print(N - i, end = \" \")"
   ]
  },
  {
   "cell_type": "code",
   "execution_count": 42,
   "id": "ee8f39fb",
   "metadata": {},
   "outputs": [
    {
     "name": "stdout",
     "output_type": "stream",
     "text": [
      "9\n",
      "9 8 7 6 5 4 3 2 1 "
     ]
    }
   ],
   "source": [
    "# Solution 2\n",
    "\n",
    "N = int(input())\n",
    "\n",
    "for i in range(-N, 0):\n",
    "    print(-i, end = \" \")"
   ]
  },
  {
   "cell_type": "code",
   "execution_count": 45,
   "id": "12a06fa0",
   "metadata": {},
   "outputs": [
    {
     "name": "stdout",
     "output_type": "stream",
     "text": [
      "B\n",
      "i\n",
      "p\n",
      "i\n",
      "n\n",
      " \n",
      "K\n",
      "a\n",
      "l\n",
      "r\n",
      "a\n"
     ]
    }
   ],
   "source": [
    "name = \"Bipin Kalra\"\n",
    "# strings are also iterable in python\n",
    "\n",
    "for i in name:\n",
    "    print(i)"
   ]
  },
  {
   "cell_type": "code",
   "execution_count": null,
   "id": "3d998e0e",
   "metadata": {},
   "outputs": [],
   "source": []
  }
 ],
 "metadata": {
  "kernelspec": {
   "display_name": "Python 3 (ipykernel)",
   "language": "python",
   "name": "python3"
  },
  "language_info": {
   "codemirror_mode": {
    "name": "ipython",
    "version": 3
   },
   "file_extension": ".py",
   "mimetype": "text/x-python",
   "name": "python",
   "nbconvert_exporter": "python",
   "pygments_lexer": "ipython3",
   "version": "3.9.5"
  }
 },
 "nbformat": 4,
 "nbformat_minor": 5
}
