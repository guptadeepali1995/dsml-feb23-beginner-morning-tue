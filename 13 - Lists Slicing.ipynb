{
 "cells": [
  {
   "cell_type": "code",
   "execution_count": 2,
   "id": "f57158dd",
   "metadata": {},
   "outputs": [],
   "source": [
    "runs = [62, 85, 77, 10, 101, 122, 99, 81, 15, 36]"
   ]
  },
  {
   "cell_type": "code",
   "execution_count": 3,
   "id": "abe85149",
   "metadata": {},
   "outputs": [
    {
     "data": {
      "text/plain": [
       "[62, 85, 77, 10, 101, 122, 99, 81, 15, 36]"
      ]
     },
     "execution_count": 3,
     "metadata": {},
     "output_type": "execute_result"
    }
   ],
   "source": [
    "runs"
   ]
  },
  {
   "cell_type": "code",
   "execution_count": 5,
   "id": "337f4764",
   "metadata": {},
   "outputs": [
    {
     "data": {
      "text/plain": [
       "'\\nQuestion 1 -\\nGiven a list of all runs, oprint runs made in odd numbered (positions) matches.\\n'"
      ]
     },
     "execution_count": 5,
     "metadata": {},
     "output_type": "execute_result"
    }
   ],
   "source": [
    "'''\n",
    "Question 1 -\n",
    "Given a list of all runs, oprint runs made in odd numbered (positions) matches.\n",
    "'''"
   ]
  },
  {
   "cell_type": "code",
   "execution_count": 6,
   "id": "c6608f99",
   "metadata": {},
   "outputs": [
    {
     "name": "stdout",
     "output_type": "stream",
     "text": [
      "62 77 101 99 15 "
     ]
    }
   ],
   "source": [
    "for i in range(len(runs)):\n",
    "    if i % 2 == 0:\n",
    "        print(runs[i], end = \" \")"
   ]
  },
  {
   "cell_type": "code",
   "execution_count": 9,
   "id": "aa4aa4ad",
   "metadata": {},
   "outputs": [
    {
     "data": {
      "text/plain": [
       "'\\nQuestion 2 -\\nGiven a list of all runs, make a new list of runs made in odd numbered (positions) matches.\\n'"
      ]
     },
     "execution_count": 9,
     "metadata": {},
     "output_type": "execute_result"
    }
   ],
   "source": [
    "'''\n",
    "Question 2 -\n",
    "Given a list of all runs, make a new list of runs made in odd numbered (positions) matches.\n",
    "'''"
   ]
  },
  {
   "cell_type": "code",
   "execution_count": 7,
   "id": "db239ae8",
   "metadata": {},
   "outputs": [],
   "source": [
    "result = []\n",
    "\n",
    "for i in range(0, len(runs), 2): # this will automatically only go to even numbers\n",
    "    result.append(runs[i])"
   ]
  },
  {
   "cell_type": "code",
   "execution_count": 8,
   "id": "9ab51e47",
   "metadata": {},
   "outputs": [
    {
     "data": {
      "text/plain": [
       "[62, 77, 101, 99, 15]"
      ]
     },
     "execution_count": 8,
     "metadata": {},
     "output_type": "execute_result"
    }
   ],
   "source": [
    "result"
   ]
  },
  {
   "cell_type": "code",
   "execution_count": 10,
   "id": "385af632",
   "metadata": {},
   "outputs": [
    {
     "data": {
      "text/plain": [
       "'\\nQuestion 3 -\\nGiven a list of all runs, make a new list of runs made in the last 5 matches.\\n'"
      ]
     },
     "execution_count": 10,
     "metadata": {},
     "output_type": "execute_result"
    }
   ],
   "source": [
    "'''\n",
    "Question 3 -\n",
    "Given a list of all runs, make a new list of runs made in the last 5 matches.\n",
    "'''"
   ]
  },
  {
   "cell_type": "code",
   "execution_count": 11,
   "id": "b93892ec",
   "metadata": {},
   "outputs": [],
   "source": [
    "result = []\n",
    "\n",
    "for i in range(len(runs) - 5, len(runs)):\n",
    "    result.append(runs[i])"
   ]
  },
  {
   "cell_type": "code",
   "execution_count": 12,
   "id": "3f1a92e1",
   "metadata": {},
   "outputs": [
    {
     "data": {
      "text/plain": [
       "[122, 99, 81, 15, 36]"
      ]
     },
     "execution_count": 12,
     "metadata": {},
     "output_type": "execute_result"
    }
   ],
   "source": [
    "result"
   ]
  },
  {
   "cell_type": "code",
   "execution_count": 13,
   "id": "447166ad",
   "metadata": {},
   "outputs": [
    {
     "data": {
      "text/plain": [
       "'\\nQuestion 4 -\\nGiven a list of all runs, make a new list of runs made in reverse order.\\n'"
      ]
     },
     "execution_count": 13,
     "metadata": {},
     "output_type": "execute_result"
    }
   ],
   "source": [
    "'''\n",
    "Question 4 -\n",
    "Given a list of all runs, make a new list of runs made in reverse order.\n",
    "'''"
   ]
  },
  {
   "cell_type": "code",
   "execution_count": 14,
   "id": "e58184fa",
   "metadata": {},
   "outputs": [],
   "source": [
    "result = []\n",
    "\n",
    "for i in range(len(runs) - 1, -1, -1):\n",
    "    result.append(runs[i])"
   ]
  },
  {
   "cell_type": "code",
   "execution_count": 16,
   "id": "da7c4ec4",
   "metadata": {},
   "outputs": [
    {
     "data": {
      "text/plain": [
       "[36, 15, 81, 99, 122, 101, 10, 77, 85, 62]"
      ]
     },
     "execution_count": 16,
     "metadata": {},
     "output_type": "execute_result"
    }
   ],
   "source": [
    "result"
   ]
  },
  {
   "cell_type": "code",
   "execution_count": 17,
   "id": "51226c04",
   "metadata": {},
   "outputs": [
    {
     "data": {
      "text/plain": [
       "[62, 85, 77, 10, 101, 122, 99, 81, 15, 36]"
      ]
     },
     "execution_count": 17,
     "metadata": {},
     "output_type": "execute_result"
    }
   ],
   "source": [
    "runs"
   ]
  },
  {
   "cell_type": "code",
   "execution_count": 18,
   "id": "92dbc77c",
   "metadata": {},
   "outputs": [
    {
     "data": {
      "text/plain": [
       "[122, 99, 81, 15, 36]"
      ]
     },
     "execution_count": 18,
     "metadata": {},
     "output_type": "execute_result"
    }
   ],
   "source": [
    "runs[len(runs) - 5:len(runs)]"
   ]
  },
  {
   "cell_type": "code",
   "execution_count": 19,
   "id": "79e9abfc",
   "metadata": {},
   "outputs": [
    {
     "data": {
      "text/plain": [
       "[62, 85, 77]"
      ]
     },
     "execution_count": 19,
     "metadata": {},
     "output_type": "execute_result"
    }
   ],
   "source": [
    "runs[0:3]"
   ]
  },
  {
   "cell_type": "code",
   "execution_count": 20,
   "id": "bc1d4dbc",
   "metadata": {},
   "outputs": [
    {
     "data": {
      "text/plain": [
       "[77, 10, 101, 122, 99]"
      ]
     },
     "execution_count": 20,
     "metadata": {},
     "output_type": "execute_result"
    }
   ],
   "source": [
    "runs[2:7]"
   ]
  },
  {
   "cell_type": "code",
   "execution_count": 21,
   "id": "d8108d98",
   "metadata": {},
   "outputs": [
    {
     "data": {
      "text/plain": [
       "[62, 85, 77, 10, 101, 122, 99, 81, 15, 36]"
      ]
     },
     "execution_count": 21,
     "metadata": {},
     "output_type": "execute_result"
    }
   ],
   "source": [
    "runs"
   ]
  },
  {
   "cell_type": "code",
   "execution_count": 23,
   "id": "1186453d",
   "metadata": {},
   "outputs": [
    {
     "data": {
      "text/plain": [
       "[62, 85, 77]"
      ]
     },
     "execution_count": 23,
     "metadata": {},
     "output_type": "execute_result"
    }
   ],
   "source": [
    "# Default start\n",
    "runs[:3] # first value (start) is considered as 0 by default"
   ]
  },
  {
   "cell_type": "code",
   "execution_count": 24,
   "id": "fe0c43c7",
   "metadata": {},
   "outputs": [
    {
     "data": {
      "text/plain": [
       "[10, 101, 122, 99, 81, 15, 36]"
      ]
     },
     "execution_count": 24,
     "metadata": {},
     "output_type": "execute_result"
    }
   ],
   "source": [
    "# Default end\n",
    "runs[3:] # second value (end) is considered as len(list) by default"
   ]
  },
  {
   "cell_type": "code",
   "execution_count": 25,
   "id": "292f4c69",
   "metadata": {},
   "outputs": [
    {
     "data": {
      "text/plain": [
       "[]"
      ]
     },
     "execution_count": 25,
     "metadata": {},
     "output_type": "execute_result"
    }
   ],
   "source": [
    "runs[200:300]"
   ]
  },
  {
   "cell_type": "code",
   "execution_count": 26,
   "id": "500feae4",
   "metadata": {},
   "outputs": [
    {
     "data": {
      "text/plain": [
       "[77, 10, 101, 122, 99, 81, 15, 36]"
      ]
     },
     "execution_count": 26,
     "metadata": {},
     "output_type": "execute_result"
    }
   ],
   "source": [
    "runs[2:400]"
   ]
  },
  {
   "cell_type": "code",
   "execution_count": 28,
   "id": "5efe660b",
   "metadata": {},
   "outputs": [
    {
     "ename": "IndexError",
     "evalue": "list index out of range",
     "output_type": "error",
     "traceback": [
      "\u001b[0;31m---------------------------------------------------------------------------\u001b[0m",
      "\u001b[0;31mIndexError\u001b[0m                                Traceback (most recent call last)",
      "Cell \u001b[0;32mIn[28], line 1\u001b[0m\n\u001b[0;32m----> 1\u001b[0m \u001b[43mruns\u001b[49m\u001b[43m[\u001b[49m\u001b[38;5;241;43m400\u001b[39;49m\u001b[43m]\u001b[49m \u001b[38;5;66;03m# PYTHON IS WEIRD SOMETIMES\u001b[39;00m\n",
      "\u001b[0;31mIndexError\u001b[0m: list index out of range"
     ]
    }
   ],
   "source": [
    "runs[400] # PYTHON IS WEIRD SOMETIMES"
   ]
  },
  {
   "cell_type": "code",
   "execution_count": 29,
   "id": "1b4e26b9",
   "metadata": {},
   "outputs": [
    {
     "data": {
      "text/plain": [
       "[62, 77, 101, 99, 15]"
      ]
     },
     "execution_count": 29,
     "metadata": {},
     "output_type": "execute_result"
    }
   ],
   "source": [
    "runs[0:len(runs):2]\n",
    "# Third value is the jump value which is 1 by default"
   ]
  },
  {
   "cell_type": "code",
   "execution_count": 31,
   "id": "051b4188",
   "metadata": {},
   "outputs": [
    {
     "data": {
      "text/plain": [
       "[62, 77, 101, 99, 15]"
      ]
     },
     "execution_count": 31,
     "metadata": {},
     "output_type": "execute_result"
    }
   ],
   "source": [
    "runs[:len(runs):2] # default start is 0"
   ]
  },
  {
   "cell_type": "code",
   "execution_count": 32,
   "id": "11dee6b3",
   "metadata": {},
   "outputs": [
    {
     "data": {
      "text/plain": [
       "[62, 77, 101, 99, 15]"
      ]
     },
     "execution_count": 32,
     "metadata": {},
     "output_type": "execute_result"
    }
   ],
   "source": [
    "runs[::2] # default end is len(list)"
   ]
  },
  {
   "cell_type": "code",
   "execution_count": 33,
   "id": "9bb7ff24",
   "metadata": {},
   "outputs": [
    {
     "data": {
      "text/plain": [
       "[85, 10, 122, 81, 36]"
      ]
     },
     "execution_count": 33,
     "metadata": {},
     "output_type": "execute_result"
    }
   ],
   "source": [
    "runs[1::2]"
   ]
  },
  {
   "cell_type": "code",
   "execution_count": 34,
   "id": "af4ba539",
   "metadata": {},
   "outputs": [
    {
     "data": {
      "text/plain": [
       "[62, 85, 77, 10, 101, 122, 99, 81, 15, 36]"
      ]
     },
     "execution_count": 34,
     "metadata": {},
     "output_type": "execute_result"
    }
   ],
   "source": [
    "runs[:]"
   ]
  },
  {
   "cell_type": "code",
   "execution_count": 35,
   "id": "7f12af58",
   "metadata": {},
   "outputs": [
    {
     "data": {
      "text/plain": [
       "[]"
      ]
     },
     "execution_count": 35,
     "metadata": {},
     "output_type": "execute_result"
    }
   ],
   "source": [
    "runs[5:0]"
   ]
  },
  {
   "cell_type": "code",
   "execution_count": 37,
   "id": "0468bbdc",
   "metadata": {},
   "outputs": [
    {
     "data": {
      "text/plain": [
       "[122, 101, 10, 77, 85]"
      ]
     },
     "execution_count": 37,
     "metadata": {},
     "output_type": "execute_result"
    }
   ],
   "source": [
    "runs[5:0:-1] # negative step size"
   ]
  },
  {
   "cell_type": "code",
   "execution_count": 38,
   "id": "04ef6243",
   "metadata": {},
   "outputs": [
    {
     "data": {
      "text/plain": [
       "'\\nQuestion 5 - \\nWrite a python program to reverse a list without using a for loop\\nor any internal functions.\\n'"
      ]
     },
     "execution_count": 38,
     "metadata": {},
     "output_type": "execute_result"
    }
   ],
   "source": [
    "'''\n",
    "Question 5 - \n",
    "Write a python program to reverse a list without using a for loop\n",
    "or any internal functions.\n",
    "'''"
   ]
  },
  {
   "cell_type": "code",
   "execution_count": 42,
   "id": "40296f76",
   "metadata": {},
   "outputs": [
    {
     "data": {
      "text/plain": [
       "[36, 15, 81, 99, 122, 101, 10, 77, 85]"
      ]
     },
     "execution_count": 42,
     "metadata": {},
     "output_type": "execute_result"
    }
   ],
   "source": [
    "runs[len(runs)-1:0:-1]"
   ]
  },
  {
   "cell_type": "code",
   "execution_count": 43,
   "id": "31708dc3",
   "metadata": {},
   "outputs": [
    {
     "data": {
      "text/plain": [
       "[62, 85, 77, 10, 101, 122, 99, 81, 15, 36]"
      ]
     },
     "execution_count": 43,
     "metadata": {},
     "output_type": "execute_result"
    }
   ],
   "source": [
    "runs"
   ]
  },
  {
   "cell_type": "code",
   "execution_count": 45,
   "id": "dfe03d76",
   "metadata": {},
   "outputs": [
    {
     "data": {
      "text/plain": [
       "[36, 15, 81, 99, 122, 101, 10, 77, 85, 62]"
      ]
     },
     "execution_count": 45,
     "metadata": {},
     "output_type": "execute_result"
    }
   ],
   "source": [
    "runs[len(runs)-1::-1]\n",
    "# SPECIAL DEFAULT BEHAVIOUR WHEN THE JUMP IS NEGATIVE"
   ]
  },
  {
   "cell_type": "code",
   "execution_count": 46,
   "id": "af5a5c8c",
   "metadata": {},
   "outputs": [
    {
     "data": {
      "text/plain": [
       "[36, 15, 81, 99, 122, 101, 10, 77, 85, 62]"
      ]
     },
     "execution_count": 46,
     "metadata": {},
     "output_type": "execute_result"
    }
   ],
   "source": [
    "runs[::-1]"
   ]
  },
  {
   "cell_type": "code",
   "execution_count": 48,
   "id": "bfab520a",
   "metadata": {},
   "outputs": [
    {
     "data": {
      "text/plain": [
       "'\\nDefault values - \\n1. When jump / step size is positive - \\n    - start = 0\\n    - end = len(runs)\\n2. When jump / step size is negative - \\n    - start = len(runs) - 1\\n    - end = covers first element (SPECIAL CASE)\\n'"
      ]
     },
     "execution_count": 48,
     "metadata": {},
     "output_type": "execute_result"
    }
   ],
   "source": [
    "'''\n",
    "Default values - \n",
    "1. When jump / step size is positive - \n",
    "    - start = 0\n",
    "    - end = len(list)\n",
    "2. When jump / step size is negative - \n",
    "    - start = len(list) - 1\n",
    "    - end = covers first element (SPECIAL CASE)\n",
    "'''"
   ]
  },
  {
   "cell_type": "code",
   "execution_count": 49,
   "id": "089d57eb",
   "metadata": {},
   "outputs": [
    {
     "data": {
      "text/plain": [
       "[62, 85, 77, 10, 101, 122, 99, 81, 15, 36]"
      ]
     },
     "execution_count": 49,
     "metadata": {},
     "output_type": "execute_result"
    }
   ],
   "source": [
    "runs"
   ]
  },
  {
   "cell_type": "code",
   "execution_count": 50,
   "id": "713bd74f",
   "metadata": {},
   "outputs": [
    {
     "data": {
      "text/plain": [
       "[62, 85, 77, 10, 101, 122, 99]"
      ]
     },
     "execution_count": 50,
     "metadata": {},
     "output_type": "execute_result"
    }
   ],
   "source": [
    "runs[0:-3]"
   ]
  },
  {
   "cell_type": "code",
   "execution_count": 51,
   "id": "e21d9c78",
   "metadata": {},
   "outputs": [
    {
     "data": {
      "text/plain": [
       "'\\nQuestion 6 - \\na = [10,20,30,40,50,60,70,80,90,100]\\n\\n1. a[3:5]\\n2. a[:8]\\n3. a[:]\\n4. a[7:]\\n5. a[-2:-5:-1]\\n6. a[-2:-7]\\n7. a[:-5]\\n8. a[-2:]\\n9. a[-8:5]\\n10. a[-8:5:-1]\\n'"
      ]
     },
     "execution_count": 51,
     "metadata": {},
     "output_type": "execute_result"
    }
   ],
   "source": [
    "'''\n",
    "Question 6 - \n",
    "a = [10,20,30,40,50,60,70,80,90,100]\n",
    "\n",
    "1. a[3:5]\n",
    "2. a[:8]\n",
    "3. a[:]\n",
    "4. a[7:]\n",
    "5. a[-2:-5:-1]\n",
    "6. a[-2:-7]\n",
    "7. a[:-5]\n",
    "8. a[-2:]\n",
    "9. a[-8:5]\n",
    "10. a[-8:5:-1]\n",
    "'''"
   ]
  },
  {
   "cell_type": "code",
   "execution_count": 53,
   "id": "280ec3bf",
   "metadata": {},
   "outputs": [],
   "source": [
    "a = [10,20,30,40,50,60,70,80,90,100]"
   ]
  },
  {
   "cell_type": "code",
   "execution_count": 54,
   "id": "ae481fcf",
   "metadata": {},
   "outputs": [
    {
     "data": {
      "text/plain": [
       "[40, 50]"
      ]
     },
     "execution_count": 54,
     "metadata": {},
     "output_type": "execute_result"
    }
   ],
   "source": [
    "# a = [10,20,30,40,50,60,70,80,90,100]\n",
    "a[3:5]"
   ]
  },
  {
   "cell_type": "code",
   "execution_count": 55,
   "id": "3d9bb5f0",
   "metadata": {},
   "outputs": [
    {
     "data": {
      "text/plain": [
       "[10, 20, 30, 40, 50, 60, 70, 80]"
      ]
     },
     "execution_count": 55,
     "metadata": {},
     "output_type": "execute_result"
    }
   ],
   "source": [
    "# a = [10,20,30,40,50,60,70,80,90,100]\n",
    "a[:8]"
   ]
  },
  {
   "cell_type": "code",
   "execution_count": 57,
   "id": "31a98b46",
   "metadata": {},
   "outputs": [
    {
     "data": {
      "text/plain": [
       "[10, 20, 30, 40, 50, 60, 70, 80, 90, 100]"
      ]
     },
     "execution_count": 57,
     "metadata": {},
     "output_type": "execute_result"
    }
   ],
   "source": [
    "# a = [10,20,30,40,50,60,70,80,90,100]\n",
    "a[:]"
   ]
  },
  {
   "cell_type": "code",
   "execution_count": 58,
   "id": "ab445b9a",
   "metadata": {},
   "outputs": [
    {
     "data": {
      "text/plain": [
       "[80, 90, 100]"
      ]
     },
     "execution_count": 58,
     "metadata": {},
     "output_type": "execute_result"
    }
   ],
   "source": [
    "# a = [10,20,30,40,50,60,70,80,90,100]\n",
    "a[7:]"
   ]
  },
  {
   "cell_type": "code",
   "execution_count": 59,
   "id": "715bf71f",
   "metadata": {},
   "outputs": [
    {
     "data": {
      "text/plain": [
       "[90, 80, 70]"
      ]
     },
     "execution_count": 59,
     "metadata": {},
     "output_type": "execute_result"
    }
   ],
   "source": [
    "# a = [10,20,30,40,50,60,70,80,90,100]\n",
    "a[-2:-5:-1]"
   ]
  },
  {
   "cell_type": "code",
   "execution_count": 61,
   "id": "b5296172",
   "metadata": {},
   "outputs": [
    {
     "data": {
      "text/plain": [
       "[]"
      ]
     },
     "execution_count": 61,
     "metadata": {},
     "output_type": "execute_result"
    }
   ],
   "source": [
    "# a = [10,20,30,40,50,60,70,80,90,100]\n",
    "a[-2:-7] # JUMP BY DEFAULT IS +1"
   ]
  },
  {
   "cell_type": "code",
   "execution_count": 62,
   "id": "29e1177f",
   "metadata": {},
   "outputs": [
    {
     "data": {
      "text/plain": [
       "[10, 20, 30, 40, 50]"
      ]
     },
     "execution_count": 62,
     "metadata": {},
     "output_type": "execute_result"
    }
   ],
   "source": [
    "# a = [10,20,30,40,50,60,70,80,90,100]\n",
    "a[:-5]"
   ]
  },
  {
   "cell_type": "code",
   "execution_count": 63,
   "id": "32259834",
   "metadata": {},
   "outputs": [
    {
     "data": {
      "text/plain": [
       "[90, 100]"
      ]
     },
     "execution_count": 63,
     "metadata": {},
     "output_type": "execute_result"
    }
   ],
   "source": [
    "# a = [10,20,30,40,50,60,70,80,90,100]\n",
    "a[-2:]"
   ]
  },
  {
   "cell_type": "code",
   "execution_count": 64,
   "id": "3baee6d9",
   "metadata": {},
   "outputs": [
    {
     "data": {
      "text/plain": [
       "[30, 40, 50]"
      ]
     },
     "execution_count": 64,
     "metadata": {},
     "output_type": "execute_result"
    }
   ],
   "source": [
    "# a = [10,20,30,40,50,60,70,80,90,100]\n",
    "a[-8:5]"
   ]
  },
  {
   "cell_type": "code",
   "execution_count": 66,
   "id": "cfa7db2b",
   "metadata": {},
   "outputs": [
    {
     "data": {
      "text/plain": [
       "[]"
      ]
     },
     "execution_count": 66,
     "metadata": {},
     "output_type": "execute_result"
    }
   ],
   "source": [
    "# a = [10,20,30,40,50,60,70,80,90,100]\n",
    "a[-8:5:-1]"
   ]
  },
  {
   "cell_type": "code",
   "execution_count": null,
   "id": "60715363",
   "metadata": {},
   "outputs": [],
   "source": []
  }
 ],
 "metadata": {
  "kernelspec": {
   "display_name": "Python 3 (ipykernel)",
   "language": "python",
   "name": "python3"
  },
  "language_info": {
   "codemirror_mode": {
    "name": "ipython",
    "version": 3
   },
   "file_extension": ".py",
   "mimetype": "text/x-python",
   "name": "python",
   "nbconvert_exporter": "python",
   "pygments_lexer": "ipython3",
   "version": "3.9.5"
  }
 },
 "nbformat": 4,
 "nbformat_minor": 5
}
