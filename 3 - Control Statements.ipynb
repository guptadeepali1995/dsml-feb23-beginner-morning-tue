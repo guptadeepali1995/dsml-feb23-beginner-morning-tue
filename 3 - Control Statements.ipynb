{
 "cells": [
  {
   "cell_type": "code",
   "execution_count": 1,
   "id": "5c1d6b8b",
   "metadata": {},
   "outputs": [
    {
     "name": "stdout",
     "output_type": "stream",
     "text": [
      "0\n",
      "1\n",
      "2\n",
      "3\n",
      "4\n"
     ]
    }
   ],
   "source": [
    "print(\"0\")\n",
    "\n",
    "if 50 > 40:\n",
    "    print(\"1\")\n",
    "    print(\"2\")\n",
    "    print(\"3\")\n",
    "\n",
    "print(\"4\")"
   ]
  },
  {
   "cell_type": "code",
   "execution_count": 2,
   "id": "e961434b",
   "metadata": {},
   "outputs": [
    {
     "name": "stdout",
     "output_type": "stream",
     "text": [
      "0\n",
      "4\n"
     ]
    }
   ],
   "source": [
    "print(\"0\")\n",
    "\n",
    "if 30 > 40:\n",
    "    print(\"1\")\n",
    "    print(\"2\")\n",
    "    print(\"3\")\n",
    "\n",
    "print(\"4\")"
   ]
  },
  {
   "cell_type": "code",
   "execution_count": 3,
   "id": "7f00e481",
   "metadata": {},
   "outputs": [
    {
     "ename": "SyntaxError",
     "evalue": "invalid syntax (3744187802.py, line 3)",
     "output_type": "error",
     "traceback": [
      "\u001b[0;36m  File \u001b[0;32m\"/var/folders/nn/c52y0d3j0gq59dpsswchkt2r0000gn/T/ipykernel_33120/3744187802.py\"\u001b[0;36m, line \u001b[0;32m3\u001b[0m\n\u001b[0;31m    if <CONDITION>:\u001b[0m\n\u001b[0m       ^\u001b[0m\n\u001b[0;31mSyntaxError\u001b[0m\u001b[0;31m:\u001b[0m invalid syntax\n"
     ]
    }
   ],
   "source": [
    "# These lines will always execute\n",
    "\n",
    "if <CONDITION>:\n",
    "    # These lines will execute if CONDITION is True\n",
    "    # Statement 1\n",
    "    # Statement 2\n",
    "else:\n",
    "    # These lines will execute if the CONDITION is False\n",
    "    # Statement 3\n",
    "    # Statement 4\n",
    "    \n",
    "# These lines will always execute"
   ]
  },
  {
   "cell_type": "code",
   "execution_count": 4,
   "id": "822b5c0c",
   "metadata": {},
   "outputs": [
    {
     "data": {
      "text/plain": [
       "'\\nQuestion 1 - \\n1. Take an integer as input from the user.\\n2. Calculate cube of the input.\\n3. If result > 50 -> \"Massive Number\" else print \"Small Number\".\\n4. After this, print \"EXECUTION COMPLETE!\"\\n'"
      ]
     },
     "execution_count": 4,
     "metadata": {},
     "output_type": "execute_result"
    }
   ],
   "source": [
    "'''\n",
    "Question 1 - \n",
    "1. Take an integer as input from the user.\n",
    "2. Calculate cube of the input.\n",
    "3. If result > 50 -> \"Massive Number\" else print \"Small Number\".\n",
    "4. After this, print \"EXECUTION COMPLETE!\"\n",
    "'''"
   ]
  },
  {
   "cell_type": "code",
   "execution_count": 6,
   "id": "c1acd859",
   "metadata": {},
   "outputs": [
    {
     "name": "stdout",
     "output_type": "stream",
     "text": [
      "2\n",
      "Small Number\n",
      "Execution Complete!\n"
     ]
    }
   ],
   "source": [
    "n = int(input())\n",
    "\n",
    "result = n ** 3\n",
    "\n",
    "if result > 50:\n",
    "    print(\"Massive Number\")\n",
    "else:\n",
    "    print(\"Small Number\")\n",
    "    \n",
    "print(\"Execution Complete!\")"
   ]
  },
  {
   "cell_type": "code",
   "execution_count": 7,
   "id": "cd4c978a",
   "metadata": {},
   "outputs": [
    {
     "data": {
      "text/plain": [
       "'\\nQuestion 2 -\\n1. Take a password as input from User.\\n2. Take another input to verify password.\\n3. Print \"Successfully Verified!\" if both passwords are same.\\n4. Print \"Verification Failed!\" otherwise.\\n'"
      ]
     },
     "execution_count": 7,
     "metadata": {},
     "output_type": "execute_result"
    }
   ],
   "source": [
    "'''\n",
    "Question 2 -\n",
    "1. Take a password as input from User.\n",
    "2. Take another input to verify password.\n",
    "3. Print \"Successfully Verified!\" if both passwords are same.\n",
    "4. Print \"Verification Failed!\" otherwise.\n",
    "'''"
   ]
  },
  {
   "cell_type": "code",
   "execution_count": 9,
   "id": "d851a1ce",
   "metadata": {},
   "outputs": [
    {
     "name": "stdout",
     "output_type": "stream",
     "text": [
      "Enter your password - 12345\n",
      "Enter your password again - password\n",
      "Verification failed!\n"
     ]
    }
   ],
   "source": [
    "password_1 = input(\"Enter your password - \")\n",
    "password_2 = input(\"Enter your password again - \")\n",
    "\n",
    "if password_1 == password_2:\n",
    "    print(\"Successfully verified!\")\n",
    "else:\n",
    "    print(\"Verification failed!\")"
   ]
  },
  {
   "cell_type": "code",
   "execution_count": 11,
   "id": "72e8471d",
   "metadata": {},
   "outputs": [
    {
     "name": "stdout",
     "output_type": "stream",
     "text": [
      "Good Morning :)\n"
     ]
    }
   ],
   "source": [
    "time = 10\n",
    "\n",
    "if time >= 9 and time < 12:\n",
    "    print(\"Good Morning :)\")\n",
    "else:\n",
    "    if time >= 12 and time < 17:\n",
    "        print(\"Good Afternoon :|\")\n",
    "    else:\n",
    "        if time >= 17 and time < 24:\n",
    "            print(\"Good Night :(\")\n",
    "        else:\n",
    "            print(\"SOJAOOO!!\")"
   ]
  },
  {
   "cell_type": "code",
   "execution_count": 12,
   "id": "b4a3d179",
   "metadata": {},
   "outputs": [
    {
     "name": "stdout",
     "output_type": "stream",
     "text": [
      "Good Morning :)\n"
     ]
    }
   ],
   "source": [
    "if time >= 9 and time < 12:\n",
    "    print(\"Good Morning :)\")\n",
    "elif time >= 12 and time < 17:\n",
    "    print(\"Good Afternoon :|\")\n",
    "elif time >= 17 and time < 24:\n",
    "    print(\"Good Night :(\")\n",
    "else:\n",
    "    print(\"SOJAOOO!!\")"
   ]
  },
  {
   "cell_type": "code",
   "execution_count": 14,
   "id": "c1f246c0",
   "metadata": {
    "scrolled": true
   },
   "outputs": [
    {
     "name": "stdout",
     "output_type": "stream",
     "text": [
      "Atleast one statement needed in the if block.\n"
     ]
    }
   ],
   "source": [
    "if True:\n",
    "    print(\"Atleast one statement needed in the if block.\")"
   ]
  },
  {
   "cell_type": "markdown",
   "id": "6e67ae9f",
   "metadata": {},
   "source": [
    "## PRACTICE PRACTICE AND PRACTICE! :)"
   ]
  },
  {
   "cell_type": "code",
   "execution_count": 15,
   "id": "925a0bb7",
   "metadata": {},
   "outputs": [
    {
     "data": {
      "text/plain": [
       "'\\nQuestion 3 - \\n1. Take an integer as input from the user.\\n2. Print whether it is positive or not.\\n'"
      ]
     },
     "execution_count": 15,
     "metadata": {},
     "output_type": "execute_result"
    }
   ],
   "source": [
    "'''\n",
    "Question 3 - \n",
    "1. Take an integer as input from the user.\n",
    "2. Print whether it is positive or not.\n",
    "'''"
   ]
  },
  {
   "cell_type": "code",
   "execution_count": 17,
   "id": "749b3b6c",
   "metadata": {},
   "outputs": [
    {
     "name": "stdout",
     "output_type": "stream",
     "text": [
      "5\n",
      "Positive!\n"
     ]
    }
   ],
   "source": [
    "number = int(input())\n",
    "\n",
    "if number >= 0:\n",
    "    print(\"Positive!\")\n",
    "else:\n",
    "    print(\"Negative!\")"
   ]
  },
  {
   "cell_type": "code",
   "execution_count": 21,
   "id": "81349c06",
   "metadata": {},
   "outputs": [
    {
     "name": "stdout",
     "output_type": "stream",
     "text": [
      "-1\n",
      "Negative!\n"
     ]
    }
   ],
   "source": [
    "number = int(input())\n",
    "\n",
    "if number > 0:\n",
    "    print(\"Positive!\")\n",
    "elif number == 0:\n",
    "    print(\"ZERO!\")\n",
    "else:\n",
    "    print(\"Negative!\")"
   ]
  },
  {
   "cell_type": "code",
   "execution_count": 22,
   "id": "6cd5a574",
   "metadata": {},
   "outputs": [
    {
     "data": {
      "text/plain": [
       "'\\nQuestion 4 - \\nTake a non-negative single digit positive number as input.\\nIf num**5%50+20-6 is > 15\\nthen print(\"BLACK\") else print(\"BLUE\").\\n\\nNote - Reject any inputs which are not single digit or positive.\\n'"
      ]
     },
     "execution_count": 22,
     "metadata": {},
     "output_type": "execute_result"
    }
   ],
   "source": [
    "'''\n",
    "Question 4 - \n",
    "Take a non-negative single digit positive number as input.\n",
    "If num**5%50+20-6 is > 15\n",
    "then print(\"BLACK\") else print(\"BLUE\").\n",
    "\n",
    "Note - Reject any inputs which are not single digit or positive.\n",
    "'''"
   ]
  },
  {
   "cell_type": "code",
   "execution_count": 27,
   "id": "62902b2f",
   "metadata": {},
   "outputs": [
    {
     "name": "stdout",
     "output_type": "stream",
     "text": [
      "10\n",
      "Invalid input!\n"
     ]
    }
   ],
   "source": [
    "number = int(input())\n",
    "\n",
    "if number >=0 and number <= 9:\n",
    "    result = number ** 5 % 50 + 20 - 6\n",
    "    \n",
    "    if result > 15:\n",
    "        print(\"BLACK\")\n",
    "    else:\n",
    "        print(\"BLUE\")\n",
    "else:\n",
    "    print(\"Invalid input!\")"
   ]
  },
  {
   "cell_type": "code",
   "execution_count": 26,
   "id": "7860575f",
   "metadata": {},
   "outputs": [
    {
     "name": "stdout",
     "output_type": "stream",
     "text": [
      "10\n",
      "Invalid input!\n"
     ]
    }
   ],
   "source": [
    "number = int(input())\n",
    "\n",
    "if not (number >=0 and number <= 9):\n",
    "    print(\"Invalid input!\")\n",
    "elif number ** 5 % 50 + 20 - 6 > 15:\n",
    "    print(\"BLACK\")\n",
    "else:\n",
    "    print(\"BLUE\")"
   ]
  },
  {
   "cell_type": "code",
   "execution_count": 25,
   "id": "d053108c",
   "metadata": {},
   "outputs": [
    {
     "name": "stdout",
     "output_type": "stream",
     "text": [
      "10\n",
      "Invalid input!\n"
     ]
    }
   ],
   "source": [
    "number = int(input())\n",
    "\n",
    "if number < 0 or number > 9:\n",
    "    print(\"Invalid input!\")\n",
    "else:\n",
    "    if number ** 5 % 50 + 20 - 6 > 15:\n",
    "        print(\"BLACK\")\n",
    "    else:\n",
    "        print(\"BLUE\")"
   ]
  },
  {
   "cell_type": "code",
   "execution_count": 28,
   "id": "3c1b8348",
   "metadata": {},
   "outputs": [
    {
     "data": {
      "text/plain": [
       "'\\nQuestion 5 - \\nTake in a string as input and if the entered input is \"Python\",\\nprint(\"Great Choice\") else print(\"Think Again?\")\\n'"
      ]
     },
     "execution_count": 28,
     "metadata": {},
     "output_type": "execute_result"
    }
   ],
   "source": [
    "'''\n",
    "Question 5 - \n",
    "Take in a string as input and if the entered input is \"Python\",\n",
    "print(\"Great Choice\") else print(\"Think Again?\")\n",
    "'''"
   ]
  },
  {
   "cell_type": "code",
   "execution_count": 30,
   "id": "c3055f69",
   "metadata": {},
   "outputs": [
    {
     "name": "stdout",
     "output_type": "stream",
     "text": [
      "python\n",
      "Think Again!\n"
     ]
    }
   ],
   "source": [
    "language = input()\n",
    "\n",
    "if language == \"Python\":\n",
    "    print(\"Great Choice!\")\n",
    "else:\n",
    "    print(\"Think Again!\")"
   ]
  },
  {
   "cell_type": "code",
   "execution_count": 31,
   "id": "f1ef1566",
   "metadata": {},
   "outputs": [
    {
     "data": {
      "text/plain": [
       "'this is a random string'"
      ]
     },
     "execution_count": 31,
     "metadata": {},
     "output_type": "execute_result"
    }
   ],
   "source": [
    "\"This IS A Random STrinG\".lower()"
   ]
  },
  {
   "cell_type": "code",
   "execution_count": 32,
   "id": "04553e7d",
   "metadata": {},
   "outputs": [
    {
     "name": "stdout",
     "output_type": "stream",
     "text": [
      "PyTHon\n",
      "Great Choice!\n"
     ]
    }
   ],
   "source": [
    "language = input()\n",
    "\n",
    "if language.lower() == \"python\":\n",
    "    print(\"Great Choice!\")\n",
    "else:\n",
    "    print(\"Think Again!\")"
   ]
  },
  {
   "cell_type": "code",
   "execution_count": 33,
   "id": "00079412",
   "metadata": {},
   "outputs": [
    {
     "data": {
      "text/plain": [
       "'\\nQuestion 6 - \\nFIZZBUZZ - \\n1. Take an integer input n.\\n2. if n is a multiple of 3 -> print FIZZ\\n3. if n is a multiple of 5 -> print BUZZ\\n4. if n is a multiple of 3 and 5 both -> print FIZZBUZZ.\\n\\nOtherwise print nothing!\\n'"
      ]
     },
     "execution_count": 33,
     "metadata": {},
     "output_type": "execute_result"
    }
   ],
   "source": [
    "'''\n",
    "Question 6 - \n",
    "FIZZBUZZ - \n",
    "1. Take an integer input n.\n",
    "2. if n is a multiple of 3 -> print FIZZ\n",
    "3. if n is a multiple of 5 -> print BUZZ\n",
    "4. if n is a multiple of 3 and 5 both -> print FIZZBUZZ.\n",
    "\n",
    "Otherwise print nothing!\n",
    "'''"
   ]
  },
  {
   "cell_type": "code",
   "execution_count": 39,
   "id": "2d215476",
   "metadata": {},
   "outputs": [
    {
     "name": "stdout",
     "output_type": "stream",
     "text": [
      "90\n",
      "FIZZ\n"
     ]
    }
   ],
   "source": [
    "n = int(input())\n",
    "\n",
    "if n % 3 == 0:\n",
    "    print(\"FIZZ\")\n",
    "elif n % 5 == 0:\n",
    "    print(\"BUZZ\")\n",
    "elif n % 3 == 0 and n % 5 == 0:\n",
    "    print(\"FIZZBUZZ\")\n",
    "else:\n",
    "    print(\"\")"
   ]
  },
  {
   "cell_type": "code",
   "execution_count": 42,
   "id": "cfc3fcdc",
   "metadata": {},
   "outputs": [
    {
     "name": "stdout",
     "output_type": "stream",
     "text": [
      "15\n",
      "FIZZBUZZ\n"
     ]
    }
   ],
   "source": [
    "n = int(input())\n",
    "\n",
    "if n % 3 == 0 and n % 5 == 0:\n",
    "    print(\"FIZZBUZZ\")\n",
    "elif n % 5 == 0:\n",
    "    print(\"BUZZ\")\n",
    "elif n % 3 == 0:\n",
    "    print(\"FIZZ\")\n",
    "else:\n",
    "    print(\"\")"
   ]
  },
  {
   "cell_type": "code",
   "execution_count": 43,
   "id": "61123a01",
   "metadata": {},
   "outputs": [
    {
     "data": {
      "text/plain": [
       "'\\nQuestion 7 -\\nWhat will be the output of the following?\\n\\na = 50\\nif a > 40:\\n    print(\"A\")\\nif a > 30:\\n    print(\"B\")\\nif a > 20:\\n    print(\"C\")\\n'"
      ]
     },
     "execution_count": 43,
     "metadata": {},
     "output_type": "execute_result"
    }
   ],
   "source": [
    "'''\n",
    "Question 7 -\n",
    "What will be the output of the following?\n",
    "\n",
    "a = 50\n",
    "if a > 40:\n",
    "    print(\"A\")\n",
    "if a > 30:\n",
    "    print(\"B\")\n",
    "if a > 20:\n",
    "    print(\"C\")\n",
    "'''"
   ]
  },
  {
   "cell_type": "code",
   "execution_count": 44,
   "id": "f9abfca6",
   "metadata": {},
   "outputs": [
    {
     "name": "stdout",
     "output_type": "stream",
     "text": [
      "A\n",
      "B\n",
      "C\n"
     ]
    }
   ],
   "source": [
    "a = 50\n",
    "if a > 40:\n",
    "    print(\"A\")\n",
    "    \n",
    "if a > 30:\n",
    "    print(\"B\")\n",
    "    \n",
    "if a > 20:\n",
    "    print(\"C\")"
   ]
  },
  {
   "cell_type": "code",
   "execution_count": 45,
   "id": "9e624807",
   "metadata": {},
   "outputs": [
    {
     "data": {
      "text/plain": [
       "'\\nBONUS QUESTIONS - \\n1. Build a meter system for an auto. Take into two inputs. \\nKilometers Travelled and Stall Time (in minutes). Rate List -\\n- First 10 kms - Rs 10 per Km\\n- Next 40 kms - Rs 9 per Km\\n- Next 100 kms - Rs 8 per Km\\n- Any leftover km count - Rs. 6 per Km\\n\\n- Rs 5 extra for every minute of Stall Time.\\n\\n------------------------------------------\\n\\n2. Generate electricity bill using the following rate card.\\nTake units consumed as input -\\n- If < 100 units -> Free\\n- If >= 100 units and < 200 units -> Rs 2 per unit\\n- If >= 200 units -> Rs 5 per unit\\n\\n------------------------------------------\\n\\n3. Take in three inputs from a user which are marksin english, maths and science.\\nAssign streams according to the following criteria.\\n- if science > 90 or marks in all are greater than 75 -> Science\\n- if marks in all are greater than 60 and less than 75 -> Commerce\\n- if marks in any are less than 60 -> Humanities\\n\\n------------------------------------------\\n\\n4. Feedback System - Take string feedback from a user.\\nNow,\\n    if any the feedback is provided,\\n        print(\"Thank you for providing the feedback\").\\n    If feedback is \"Super\", \"Great\", \"Fantastic\", \"Awesome\",\\n        print(\"Thank you so much!\")\\n        \\n------------------------------------------\\n\\n5. Take an amount as input from the user\\n    You only have 200 and 500 Rs Notes in the ATM. For one transaction,\\n    you can only dispatch notes of a single type.\\n    Given the amount - \\n        - \"Dispatching Cash!\" if it can be dispatched.\\n        - \"Denomination not available!\" if it can not be \\n\\n'"
      ]
     },
     "execution_count": 45,
     "metadata": {},
     "output_type": "execute_result"
    }
   ],
   "source": [
    "'''\n",
    "BONUS QUESTIONS - \n",
    "1. Build a meter system for an auto. Take into two inputs. \n",
    "Kilometers Travelled and Stall Time (in minutes). Rate List -\n",
    "- First 10 kms - Rs 10 per Km\n",
    "- Next 40 kms - Rs 9 per Km\n",
    "- Next 100 kms - Rs 8 per Km\n",
    "- Any leftover km count - Rs. 6 per Km\n",
    "\n",
    "- Rs 5 extra for every minute of Stall Time.\n",
    "\n",
    "------------------------------------------\n",
    "\n",
    "2. Generate electricity bill using the following rate card.\n",
    "Take units consumed as input -\n",
    "- If < 100 units -> Free\n",
    "- If >= 100 units and < 200 units -> Rs 2 per unit\n",
    "- If >= 200 units -> Rs 5 per unit\n",
    "\n",
    "------------------------------------------\n",
    "\n",
    "3. Take in three inputs from a user which are marksin english, maths and science.\n",
    "Assign streams according to the following criteria.\n",
    "- if science > 90 or marks in all are greater than 75 -> Science\n",
    "- if marks in all are greater than 60 and less than 75 -> Commerce\n",
    "- if marks in any are less than 60 -> Humanities\n",
    "\n",
    "------------------------------------------\n",
    "\n",
    "4. Feedback System - Take string feedback from a user.\n",
    "Now,\n",
    "    if any the feedback is provided,\n",
    "        print(\"Thank you for providing the feedback\").\n",
    "    If feedback is \"Super\", \"Great\", \"Fantastic\", \"Awesome\",\n",
    "        print(\"Thank you so much!\")\n",
    "        \n",
    "------------------------------------------\n",
    "\n",
    "5. Take an amount as input from the user\n",
    "    You only have 200 and 500 Rs Notes in the ATM. For one transaction,\n",
    "    you can only dispatch notes of a single type.\n",
    "    Given the amount - \n",
    "        - \"Dispatching Cash!\" if it can be dispatched.\n",
    "        - \"Denomination not available!\" if it can not be \n",
    "\n",
    "'''"
   ]
  },
  {
   "cell_type": "code",
   "execution_count": 46,
   "id": "ddb2e305",
   "metadata": {},
   "outputs": [
    {
     "name": "stdout",
     "output_type": "stream",
     "text": [
      "10\n",
      "Invalid Input\n"
     ]
    }
   ],
   "source": [
    "num = int(input())\n",
    "\n",
    "if num >= 0 and num <= 9:\n",
    "    result=num**5%50+20-6\n",
    "    \n",
    "    if result > 15:\n",
    "        print(\"BLACK\")\n",
    "    else:\n",
    "        print(\"BLUE\")\n",
    "else:\n",
    "    print(\"Invalid Input\")"
   ]
  },
  {
   "cell_type": "code",
   "execution_count": null,
   "id": "8fb91d56",
   "metadata": {},
   "outputs": [],
   "source": []
  }
 ],
 "metadata": {
  "kernelspec": {
   "display_name": "Python 3 (ipykernel)",
   "language": "python",
   "name": "python3"
  },
  "language_info": {
   "codemirror_mode": {
    "name": "ipython",
    "version": 3
   },
   "file_extension": ".py",
   "mimetype": "text/x-python",
   "name": "python",
   "nbconvert_exporter": "python",
   "pygments_lexer": "ipython3",
   "version": "3.9.5"
  }
 },
 "nbformat": 4,
 "nbformat_minor": 5
}
