{
 "cells": [
  {
   "cell_type": "code",
   "execution_count": null,
   "id": "62aed189",
   "metadata": {},
   "outputs": [],
   "source": [
    "You have been given the following piece of code. Assume that x has already been declared. if x > 2:\n",
    "x = x*2\n",
    "if x > 4:\n",
    "x = 0\n",
    "print(x)\n",
    "Select the correct statement regarding this code."
   ]
  },
  {
   "cell_type": "code",
   "execution_count": null,
   "id": "c6d09b5f",
   "metadata": {},
   "outputs": [],
   "source": []
  },
  {
   "cell_type": "code",
   "execution_count": null,
   "id": "1a6f6804",
   "metadata": {},
   "outputs": [],
   "source": []
  },
  {
   "cell_type": "markdown",
   "id": "2bd4092f",
   "metadata": {},
   "source": [
    "# Q1\n",
    "1. Build a meter system for an auto. Take into two inputs.\n",
    "Kilometers Travelled and Stall Time (in minutes). Rate List -\n",
    "- First 10 kms - Rs 10 per Km\n",
    "- Next 40 kms - Rs 9 per Km\n",
    "- Next 100 kms - Rs 8 per Km\n",
    "- Any leftover km count - Rs. 6 per Km\n",
    "- Rs 5 extra for every minute of Stall Time."
   ]
  },
  {
   "cell_type": "code",
   "execution_count": 7,
   "id": "6ac64a5a",
   "metadata": {},
   "outputs": [
    {
     "name": "stdout",
     "output_type": "stream",
     "text": [
      "Enter your km 25\n",
      "enter waiting time 2\n",
      "245\n"
     ]
    }
   ],
   "source": [
    "km = int(input(\"Enter your km \"))\n",
    "st = int(input(\"enter waiting time \"))\n",
    "if km<=10:\n",
    "    rate = 5*st + 10*km\n",
    "    #rate = waiting time+ km \n",
    "elif km<=50:\n",
    "    rate = 5*st + 10*10 +(km-10)*9\n",
    "    #rate= waiting_time*min +10km*10rs+remaing_km*9 \n",
    "elif km<=150:\n",
    "    rate = 5*st + 10*10 + 40*9 + 8*(km-50)\n",
    "    #rate= waiting_time*min + 10km*10rs + 40km *9\n",
    "else:\n",
    "    rate = 5*st + 10*10 + 40*9 + 8*100+ (km-150)*6\n",
    "    \n",
    "print(rate)"
   ]
  },
  {
   "cell_type": "markdown",
   "id": "d714e93a",
   "metadata": {},
   "source": [
    "Could you kindly explain about differences in condition (elif KT>10 and KT<=40:) and (elif KT<=50:)"
   ]
  },
  {
   "cell_type": "code",
   "execution_count": 19,
   "id": "f3c101f6",
   "metadata": {},
   "outputs": [
    {
     "name": "stdout",
     "output_type": "stream",
     "text": [
      "Enter your km 10km\n"
     ]
    },
    {
     "ename": "ValueError",
     "evalue": "invalid literal for int() with base 10: '10km'",
     "output_type": "error",
     "traceback": [
      "\u001b[1;31m---------------------------------------------------------------------------\u001b[0m",
      "\u001b[1;31mValueError\u001b[0m                                Traceback (most recent call last)",
      "Cell \u001b[1;32mIn[19], line 1\u001b[0m\n\u001b[1;32m----> 1\u001b[0m km \u001b[38;5;241m=\u001b[39m \u001b[38;5;28;43mint\u001b[39;49m\u001b[43m(\u001b[49m\u001b[38;5;28;43minput\u001b[39;49m\u001b[43m(\u001b[49m\u001b[38;5;124;43m\"\u001b[39;49m\u001b[38;5;124;43mEnter your km \u001b[39;49m\u001b[38;5;124;43m\"\u001b[39;49m\u001b[43m)\u001b[49m\u001b[43m)\u001b[49m\n\u001b[0;32m      2\u001b[0m st \u001b[38;5;241m=\u001b[39m \u001b[38;5;28mint\u001b[39m(\u001b[38;5;28minput\u001b[39m(\u001b[38;5;124m\"\u001b[39m\u001b[38;5;124menter waiting time \u001b[39m\u001b[38;5;124m\"\u001b[39m))\n\u001b[0;32m      3\u001b[0m \u001b[38;5;28;01mif\u001b[39;00m km\u001b[38;5;241m<\u001b[39m\u001b[38;5;241m=\u001b[39m\u001b[38;5;241m10\u001b[39m:\n",
      "\u001b[1;31mValueError\u001b[0m: invalid literal for int() with base 10: '10km'"
     ]
    }
   ],
   "source": [
    "km = int(input(\"Enter your km \"))\n",
    "st = int(input(\"enter waiting time \"))\n",
    "if km<=10:\n",
    "    rate = 5*st + 10*km\n",
    "    #rate = waiting time+ km \n",
    "elif km<=50:\n",
    "    rate = 5*st + 10*10 +(km-10)*9\n",
    "    #rate= waiting_time*min +10km*10rs+remaing_km*9 \n",
    "elif km<=150:\n",
    "    rate = 5*st + 10*10 + 40*9 + 8*(km-50)\n",
    "    #rate= waiting_time*min + 10km*10rs + 40km *9\n",
    "else:\n",
    "    rate = 5*st + 10*10 + 40*9 + 8*100+ (km-150)*6\n",
    "    \n",
    "print(rate)"
   ]
  },
  {
   "cell_type": "code",
   "execution_count": null,
   "id": "de342d82",
   "metadata": {},
   "outputs": [],
   "source": []
  },
  {
   "cell_type": "code",
   "execution_count": null,
   "id": "544d0671",
   "metadata": {},
   "outputs": [],
   "source": [
    "# Equilateral = all three sides are equal\n",
    "# Scalene = no sides are equal\n",
    "# Isosceles = any sides are eqaul"
   ]
  },
  {
   "cell_type": "code",
   "execution_count": null,
   "id": "012a0278",
   "metadata": {},
   "outputs": [],
   "source": [
    "n1,n2,n3"
   ]
  },
  {
   "cell_type": "code",
   "execution_count": 17,
   "id": "f5c707c2",
   "metadata": {},
   "outputs": [
    {
     "name": "stdout",
     "output_type": "stream",
     "text": [
      "5\n",
      "5\n",
      "5\n",
      "Equilateral\n"
     ]
    }
   ],
   "source": [
    "s1=int(input())\n",
    "s2=int(input())\n",
    "s3=int(input())\n",
    "\n",
    "\n",
    "if s1==s2==s3:\n",
    "    print('Equilateral')\n",
    "elif s1==s2 or s2==s3 or s3==s1:\n",
    "    print(\"Isoceles\")\n",
    "else:\n",
    "    print(\"Scalene\")"
   ]
  },
  {
   "cell_type": "code",
   "execution_count": 18,
   "id": "764c89ab",
   "metadata": {},
   "outputs": [
    {
     "name": "stdout",
     "output_type": "stream",
     "text": [
      "5\n"
     ]
    },
    {
     "data": {
      "text/plain": [
       "'5'"
      ]
     },
     "execution_count": 18,
     "metadata": {},
     "output_type": "execute_result"
    }
   ],
   "source": [
    "input()"
   ]
  },
  {
   "cell_type": "code",
   "execution_count": 25,
   "id": "29b9af1c",
   "metadata": {},
   "outputs": [
    {
     "name": "stdout",
     "output_type": "stream",
     "text": [
      "54\n",
      "6\n",
      "54\n",
      "Isoceles\n"
     ]
    }
   ],
   "source": [
    "s1=int(input())\n",
    "s2=int(input())\n",
    "s3=int(input())\n",
    "\n",
    "\n",
    "if s1==s2==s3:\n",
    "    print('Equilateral')\n",
    "if (s1==s2 and s2!=s3) or (s2==s3 and s2!=s1) or (s3==s1 and s1!=s2):\n",
    "    print(\"Isoceles\")\n",
    "if s1!=s2 and s2!=s3 and s1!=s3:\n",
    "    print(\"Scalene\")"
   ]
  },
  {
   "cell_type": "code",
   "execution_count": null,
   "id": "21c84fa3",
   "metadata": {},
   "outputs": [],
   "source": [
    "s1=int(input())\n",
    "s2=int(input())\n",
    "s3=int(input())\n",
    "\n",
    "\n",
    "if s1==s2==s3:\n",
    "    print('Equilateral')\n",
    "if (s1==s2 and s2!=s3) or (s2==s3 and s1!=s3) or (s3==s1 and s1!=s2):\n",
    "    print(\"Isoceles\")\n",
    "if s1!=s2 and s2!=s3 and s1!=s3:\n",
    "    print(\"Scalene\")"
   ]
  },
  {
   "cell_type": "code",
   "execution_count": 32,
   "id": "9788e456",
   "metadata": {},
   "outputs": [
    {
     "name": "stdout",
     "output_type": "stream",
     "text": [
      "5\n",
      "6\n",
      "5\n",
      "Isoceles\n"
     ]
    }
   ],
   "source": [
    "s1=int(input())\n",
    "s2=int(input())\n",
    "s3=int(input())\n",
    "\n",
    "\n",
    "if s1==s2==s3:\n",
    "    print('Equilateral')\n",
    "if (s1==s2 and s2!=s3) or (s2==s3 and s2!=s1) or (s3==s1 and s1!=s2):\n",
    "    print(\"Isoceles\")\n",
    "if s1!=s2!=s3!=s1:\n",
    "    print(\"Scalene\")"
   ]
  },
  {
   "cell_type": "code",
   "execution_count": 34,
   "id": "a28268f3",
   "metadata": {},
   "outputs": [
    {
     "name": "stdout",
     "output_type": "stream",
     "text": [
      "5\n",
      "5\n",
      "5\n",
      "Equilateral\n",
      "Scalene\n"
     ]
    }
   ],
   "source": [
    "s1=int(input())\n",
    "s2=int(input())\n",
    "s3=int(input())\n",
    "\n",
    "\n",
    "if s1==s2==s3:\n",
    "    print('Equilateral')\n",
    "if (s1==s2 and s2!=s3) or (s2==s3 and s2!=s1) or (s3==s1 and s1!=s2):\n",
    "    print(\"Isoceles\")\n",
    "else:\n",
    "    print(\"Scalene\")"
   ]
  },
  {
   "cell_type": "markdown",
   "id": "224cbb4e",
   "metadata": {},
   "source": [
    "number = int(input(\"Enter a number: \"))\n",
    "Enter a number: 50\n",
    "print(number + 100)\n",
    "150"
   ]
  },
  {
   "cell_type": "code",
   "execution_count": null,
   "id": "380e2c62",
   "metadata": {},
   "outputs": [],
   "source": [
    "number = int(input(\"Enter a number: \"))\n",
    "Enter a number: 50\n",
    "print(number + 100)\n",
    "150"
   ]
  },
  {
   "cell_type": "code",
   "execution_count": null,
   "id": "f76ff448",
   "metadata": {},
   "outputs": [],
   "source": []
  },
  {
   "cell_type": "code",
   "execution_count": 36,
   "id": "42878e40",
   "metadata": {},
   "outputs": [
    {
     "name": "stdout",
     "output_type": "stream",
     "text": [
      "Enter a number: 6\n",
      "Hello\n"
     ]
    }
   ],
   "source": [
    "input(\"Enter a number: \")\n",
    "print(\"Hello\")"
   ]
  },
  {
   "cell_type": "code",
   "execution_count": null,
   "id": "a3e50a39",
   "metadata": {},
   "outputs": [],
   "source": []
  },
  {
   "cell_type": "code",
   "execution_count": null,
   "id": "8055dff4",
   "metadata": {},
   "outputs": [],
   "source": []
  },
  {
   "cell_type": "code",
   "execution_count": null,
   "id": "aaf7c1f0",
   "metadata": {},
   "outputs": [],
   "source": []
  },
  {
   "cell_type": "markdown",
   "id": "502d1373",
   "metadata": {},
   "source": [
    "You have been given the following piece of code. Assume that x has already been declared. \n",
    "if x > 2:\n",
    "x = x*2\n",
    "if x > 4:\n",
    "x = 0\n",
    "print(x)\n",
    "Select the correct statement regarding this code."
   ]
  },
  {
   "cell_type": "code",
   "execution_count": null,
   "id": "a284e204",
   "metadata": {},
   "outputs": [],
   "source": []
  },
  {
   "cell_type": "code",
   "execution_count": 38,
   "id": "829c3e6f",
   "metadata": {},
   "outputs": [
    {
     "name": "stdout",
     "output_type": "stream",
     "text": [
      "10 if 1\n",
      "0 if 2\n",
      "0\n"
     ]
    }
   ],
   "source": [
    "x=5\n",
    "if x > 2:\n",
    "    x = x*2\n",
    "    print(x,\"if 1\")\n",
    "if x > 4:\n",
    "    x = 0\n",
    "    print(x,\"if 2\")\n",
    "print(x)"
   ]
  },
  {
   "cell_type": "markdown",
   "id": "a3f9211a",
   "metadata": {},
   "source": []
  },
  {
   "cell_type": "code",
   "execution_count": null,
   "id": "dc249807",
   "metadata": {},
   "outputs": [],
   "source": []
  },
  {
   "cell_type": "code",
   "execution_count": null,
   "id": "bec6ada2",
   "metadata": {},
   "outputs": [],
   "source": [
    "• Feedback System - Take string feedback from a user.\n",
    "Now, if any the feedback is provided, print(\"Thank you for providing the feedback\").If feedback is \"Super\", \"Great\", \"Fantastic\", \"Awesome\", print(\"Thank you so much!\"."
   ]
  },
  {
   "cell_type": "code",
   "execution_count": null,
   "id": "5369c5e4",
   "metadata": {},
   "outputs": [],
   "source": []
  },
  {
   "cell_type": "code",
   "execution_count": null,
   "id": "9dc53ff3",
   "metadata": {},
   "outputs": [],
   "source": [
    "Q"
   ]
  },
  {
   "attachments": {
    "image.png": {
     "image/png": "[encoded data removed]"
    }
   },
   "cell_type": "markdown",
   "id": "1c1eae32",
   "metadata": {},
   "source": [
    "!![image.png](attachment:image.png)"
   ]
  },
  {
   "cell_type": "code",
   "execution_count": null,
   "id": "7ca36c5a",
   "metadata": {},
   "outputs": [],
   "source": [
    "print(\"The salary is:\" no.of days*850)"
   ]
  },
  {
   "cell_type": "code",
   "execution_count": 40,
   "id": "2a327ec0",
   "metadata": {},
   "outputs": [
    {
     "name": "stdout",
     "output_type": "stream",
     "text": [
      "The salary for {number of days} is {salary}\n"
     ]
    }
   ],
   "source": [
    "print(\"The salary for {number of days} is {salary}\")"
   ]
  },
  {
   "cell_type": "code",
   "execution_count": 41,
   "id": "cf4d1e2e",
   "metadata": {},
   "outputs": [
    {
     "name": "stdout",
     "output_type": "stream",
     "text": [
      "The salary for 5 is 2500\n"
     ]
    }
   ],
   "source": [
    "print(\"The salary for 5 is 2500\")"
   ]
  },
  {
   "cell_type": "code",
   "execution_count": 44,
   "id": "3c01dffe",
   "metadata": {},
   "outputs": [
    {
     "name": "stdout",
     "output_type": "stream",
     "text": [
      "The salary for {days} is {salary}\n",
      "The salary for 15 is 2500\n"
     ]
    }
   ],
   "source": [
    "days = 15\n",
    "salary =2500\n",
    "print(\"The salary for {days} is {salary}\")\n",
    "print(f\"The salary for {days} is {salary}\")\n"
   ]
  },
  {
   "cell_type": "code",
   "execution_count": 53,
   "id": "76e95a2a",
   "metadata": {},
   "outputs": [
    {
     "name": "stdout",
     "output_type": "stream",
     "text": [
      "The salary for 15 is 2500\n",
      "The salary for {days} is {salary}\n",
      "The salary for 15 is 2500\n"
     ]
    }
   ],
   "source": [
    "days = 15\n",
    "salary =2500\n",
    "print(\"The salary for \"+str(days)+\" is \"+str(salary))\n",
    "print(\"The salary for {days} is {salary}\")\n",
    "print(f\"The salary for {days} is {salary}\")\n"
   ]
  },
  {
   "cell_type": "code",
   "execution_count": null,
   "id": "2e9135ed",
   "metadata": {},
   "outputs": [],
   "source": []
  },
  {
   "cell_type": "code",
   "execution_count": null,
   "id": "59ea1d25",
   "metadata": {},
   "outputs": [],
   "source": []
  },
  {
   "cell_type": "code",
   "execution_count": null,
   "id": "3bf999a7",
   "metadata": {},
   "outputs": [],
   "source": []
  },
  {
   "cell_type": "code",
   "execution_count": 45,
   "id": "5f9e0674",
   "metadata": {},
   "outputs": [
    {
     "name": "stdout",
     "output_type": "stream",
     "text": [
      "Enter your age 4\n",
      "Enter your gender m\n",
      "Enter your number of working day 7\n",
      "Your inputs are invalid or you are not allowed to work\n"
     ]
    }
   ],
   "source": [
    "age  = int(input(\"Enter your age \"))\n",
    "gender  = input(\"Enter your gender \")\n",
    "days  = int(input(\"Enter your number of working day \"))\n",
    "\n",
    "if (age>=18 and age<30 ) and gender==\"m\":\n",
    "    amt = days*700\n",
    "    print(f\"The salary for {days} is {amt}\")\n",
    "elif (age>=18 and age<30 ) and gender==\"f\":\n",
    "    amt = days*750\n",
    "    print(f\"The salary for {days} is {amt}\")\n",
    "elif (age>=30 and age<=40 ) and gender==\"m\":\n",
    "    amt = days*800\n",
    "    print(f\"The salary for {days} is {amt}\")\n",
    "elif (age>=30 and age<=40 ) and gender==\"f\":\n",
    "    amt = days*850\n",
    "    print(f\"The salary for {days} is {amt}\")\n",
    "else:\n",
    "    print(\"Your inputs are invalid or you are not allowed to work\")"
   ]
  },
  {
   "cell_type": "code",
   "execution_count": 47,
   "id": "f60ea1e7",
   "metadata": {},
   "outputs": [
    {
     "name": "stdout",
     "output_type": "stream",
     "text": [
      "Enter your age 20\n",
      "Enter your gender m\n",
      "Enter your number of working day 2\n",
      "The salary for 2 is 1400\n"
     ]
    }
   ],
   "source": [
    "age  = int(input(\"Enter your age \"))\n",
    "gender  = input(\"Enter your gender \")\n",
    "days  = int(input(\"Enter your number of working day \"))\n",
    "\n",
    "if (age>=18 and age<30 ) and gender==\"m\":\n",
    "    \n",
    "    print(f\"The salary for {days} is {days*700}\")\n",
    "elif (age>=18 and age<30 ) and gender==\"f\":\n",
    "    amt = days*750\n",
    "    print(f\"The salary for {days} is {amt}\")\n",
    "elif (age>=30 and age<=40 ) and gender==\"m\":\n",
    "    amt = days*800\n",
    "    print(f\"The salary for {days} is {amt}\")\n",
    "elif (age>=30 and age<=40 ) and gender==\"f\":\n",
    "    amt = days*850\n",
    "    print(f\"The salary for {days} is {amt}\")\n",
    "else:\n",
    "    print(\"Your inputs are invalid or you are not allowed to work\")"
   ]
  },
  {
   "cell_type": "markdown",
   "id": "b8b2ec22",
   "metadata": {},
   "source": []
  },
  {
   "cell_type": "code",
   "execution_count": null,
   "id": "ac82823f",
   "metadata": {},
   "outputs": [],
   "source": []
  },
  {
   "cell_type": "code",
   "execution_count": null,
   "id": "5adf59fc",
   "metadata": {},
   "outputs": [],
   "source": []
  },
  {
   "cell_type": "code",
   "execution_count": null,
   "id": "fcf64abd",
   "metadata": {},
   "outputs": [],
   "source": []
  },
  {
   "cell_type": "code",
   "execution_count": null,
   "id": "118b29c8",
   "metadata": {},
   "outputs": [],
   "source": []
  },
  {
   "cell_type": "markdown",
   "id": "698c2785",
   "metadata": {},
   "source": [
    "• Feedback System - Take string feedback from a user.\n",
    "Now, if any the feedback is provided, print(\"Thank you for providing the feedback\").If feedback is \"Super\", \"Great\", \"Fantastic\", \"Awesome\", print(\"Thank you so much!\"."
   ]
  },
  {
   "cell_type": "code",
   "execution_count": 55,
   "id": "72c5724d",
   "metadata": {},
   "outputs": [
    {
     "name": "stdout",
     "output_type": "stream",
     "text": [
      "Enter your valuable Feedback Great\n",
      "Thank you so much!\n"
     ]
    }
   ],
   "source": [
    "Feedback = input(\"Enter your valuable Feedback \")\n",
    "if Feedback==\"Super\" or Feedback==\"Great\" or Feedback==\"Fantastic\" or Feedback==\"Awesome\" :\n",
    "    print(\"Thank you so much!\")\n",
    "else:\n",
    "    print(\"Thank you for providing the feedback\")"
   ]
  },
  {
   "cell_type": "code",
   "execution_count": 56,
   "id": "5650b499",
   "metadata": {},
   "outputs": [
    {
     "name": "stdout",
     "output_type": "stream",
     "text": [
      "Enter your valuable Feedback good\n",
      "Thank you for providing the feedback\n"
     ]
    }
   ],
   "source": [
    "Feedback = input(\"Enter your valuable Feedback \")\n",
    "if Feedback==\"Super\" or Feedback==\"Great\" or Feedback==\"Fantastic\" or Feedback==\"Awesome\" :\n",
    "    print(\"Thank you so much!\")\n",
    "else:\n",
    "    print(\"Thank you for providing the feedback\")"
   ]
  },
  {
   "cell_type": "code",
   "execution_count": null,
   "id": "3788c916",
   "metadata": {},
   "outputs": [],
   "source": []
  },
  {
   "cell_type": "code",
   "execution_count": null,
   "id": "f58d0058",
   "metadata": {},
   "outputs": [],
   "source": []
  },
  {
   "cell_type": "code",
   "execution_count": 57,
   "id": "b6239796",
   "metadata": {},
   "outputs": [
    {
     "name": "stdout",
     "output_type": "stream",
     "text": [
      "Enter your valuable Feedback fantastic\n",
      "Thank you for providing the feedback\n"
     ]
    }
   ],
   "source": [
    "Feedback = input(\"Enter your valuable Feedback \")\n",
    "if Feedback==\"Super\" or Feedback==\"Great\" or Feedback==\"Fantastic\" or Feedback==\"Awesome\" :\n",
    "    print(\"Thank you so much!\")\n",
    "else:\n",
    "    print(\"Thank you for providing the feedback\")"
   ]
  },
  {
   "cell_type": "code",
   "execution_count": 58,
   "id": "45a77b40",
   "metadata": {},
   "outputs": [
    {
     "name": "stdout",
     "output_type": "stream",
     "text": [
      "Enter your valuable Feedback e\n",
      "Thank you for providing the feedback\n"
     ]
    }
   ],
   "source": [
    "Feedback = input(\"Enter your valuable Feedback \")\n",
    "if 5>5 :\n",
    "    print(\"Thank you so much!\")\n",
    "else:\n",
    "    print(\"Thank you for providing the feedback\")"
   ]
  },
  {
   "cell_type": "code",
   "execution_count": null,
   "id": "b155eb40",
   "metadata": {},
   "outputs": [],
   "source": []
  },
  {
   "cell_type": "code",
   "execution_count": 62,
   "id": "aa9d7ac3",
   "metadata": {},
   "outputs": [
    {
     "name": "stdout",
     "output_type": "stream",
     "text": [
      "The age is:35\n",
      "The Gender is:F\n",
      "The no.of days56\n",
      "The salery is 47600\n"
     ]
    }
   ],
   "source": [
    "N= int(input(\"The age is:\"))\n",
    "G= input(\"The Gender is:\")\n",
    "Z= int(input(\"The no.of days\"))\n",
    "if (N>=18 and N<30 ) and G == \"M\":\n",
    "    print( Z*700)\n",
    "if (N>=18 and N<30 ) and G == \"F\":\n",
    "    print(Z*750)\n",
    "if (N>=30 and N<=40 ) and G == \"M\":\n",
    "    print(Z*800)\n",
    "if (N>=30 and N<=40 ) and G == \"F\":\n",
    "    amt= Z*850\n",
    "    print(f\"The salery is {amt}\") "
   ]
  },
  {
   "cell_type": "code",
   "execution_count": null,
   "id": "7320de74",
   "metadata": {},
   "outputs": [],
   "source": [
    "here in my code it is showing error at last print statement. Can I use the amt in only one if condition. if I remove that amt it is working fine"
   ]
  },
  {
   "cell_type": "code",
   "execution_count": null,
   "id": "353fd7c9",
   "metadata": {},
   "outputs": [],
   "source": []
  },
  {
   "cell_type": "markdown",
   "id": "9961f136",
   "metadata": {},
   "source": [
    "You'll write some code to help you cook a gorgeous lasagna from your favorite cookbook. Now, you also want to add a few layers to the lasagna. Assume each layer takes 2 minutes to prepare. Given the number of layers you want to add to the lasagna, find how many minutes you would spend making them."
   ]
  },
  {
   "cell_type": "code",
   "execution_count": null,
   "id": "69fc2101",
   "metadata": {},
   "outputs": [],
   "source": []
  },
  {
   "cell_type": "code",
   "execution_count": 1,
   "id": "739310c5",
   "metadata": {},
   "outputs": [],
   "source": [
    "import sumit"
   ]
  },
  {
   "cell_type": "code",
   "execution_count": 2,
   "id": "068c9ee2",
   "metadata": {},
   "outputs": [
    {
     "name": "stdout",
     "output_type": "stream",
     "text": [
      "Sumit done\n"
     ]
    }
   ],
   "source": [
    "sumit.f1()"
   ]
  },
  {
   "cell_type": "code",
   "execution_count": 3,
   "id": "f96e3682",
   "metadata": {},
   "outputs": [
    {
     "name": "stdout",
     "output_type": "stream",
     "text": [
      "enter the age 25\n",
      "enter the gender Female\n",
      "enter the working days 2\n",
      "1400\n"
     ]
    }
   ],
   "source": [
    "Age = int(input(\"enter the age \"))\n",
    "Gender = str(input(\"enter the gender \"))\n",
    "Days = int(input(\"enter the working days \"))\n",
    "if Age>=18 and Age<=30 and Gender==\"Male\":\n",
    "    Amt = Days * 700\n",
    "    print(Amt)\n",
    "elif Age>=18 and Age<=30 and Gender==\"Female\":\n",
    "    Amt = Days * 750\n",
    "    print(Amt)\n",
    "if Age>30 and Age<=40 and Gender == \"Male\":\n",
    "    Amt = Days * 800\n",
    "    print(Amt)\n",
    "elif Age>=30 and Age<=40 and Gender == \"Female\":\n",
    "    Amt = Days * 850\n",
    "    print(Amt)\n",
    "elif Age<=18:\n",
    "    print(\"No Child Labour\")"
   ]
  },
  {
   "cell_type": "code",
   "execution_count": null,
   "id": "921df20a",
   "metadata": {},
   "outputs": [],
   "source": [
    "n1 = int(input())\n",
    "n2 = int(input())\n",
    "n3 = int(input()) \n",
    "if n1 == n2 == n3:\n",
    "    print('Equilateral')\n",
    "elif (n1 == n2 and n1!=n3) or (n1 == n3 and n1 != n2) or (n2 == n3 and n2 != n1):\n",
    "    print('Isosceles')\n",
    "else:\n",
    "    print('Scalene'). this is not running in jupyter, i'm getting IN[*]"
   ]
  }
 ],
 "metadata": {
  "kernelspec": {
   "display_name": "Python 3 (ipykernel)",
   "language": "python",
   "name": "python3"
  },
  "language_info": {
   "codemirror_mode": {
    "name": "ipython",
    "version": 3
   },
   "file_extension": ".py",
   "mimetype": "text/x-python",
   "name": "python",
   "nbconvert_exporter": "python",
   "pygments_lexer": "ipython3",
   "version": "3.10.9"
  }
 },
 "nbformat": 4,
 "nbformat_minor": 5
}
