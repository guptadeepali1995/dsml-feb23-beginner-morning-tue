{
 "cells": [
  {
   "cell_type": "code",
   "execution_count": 1,
   "id": "beba56aa",
   "metadata": {},
   "outputs": [],
   "source": [
    "# Print all integers from 0 to 5 (both included)"
   ]
  },
  {
   "cell_type": "code",
   "execution_count": 2,
   "id": "f3f9ccb5",
   "metadata": {},
   "outputs": [],
   "source": [
    "number = 0"
   ]
  },
  {
   "cell_type": "code",
   "execution_count": 3,
   "id": "8f50b966",
   "metadata": {},
   "outputs": [
    {
     "name": "stdout",
     "output_type": "stream",
     "text": [
      "0 1 2 3 4 5 "
     ]
    }
   ],
   "source": [
    "while number <= 5:\n",
    "    print(number, end = \" \")\n",
    "    number += 1"
   ]
  },
  {
   "cell_type": "code",
   "execution_count": 4,
   "id": "e6d8d40e",
   "metadata": {},
   "outputs": [],
   "source": [
    "number = -5"
   ]
  },
  {
   "cell_type": "code",
   "execution_count": 5,
   "id": "c339036c",
   "metadata": {},
   "outputs": [
    {
     "name": "stdout",
     "output_type": "stream",
     "text": [
      "-5 -4 -3 -2 -1 0 1 2 3 4 5 "
     ]
    }
   ],
   "source": [
    "while number <= 5:\n",
    "    print(number, end = \" \")\n",
    "    number += 1"
   ]
  },
  {
   "cell_type": "code",
   "execution_count": 6,
   "id": "b323a04c",
   "metadata": {},
   "outputs": [
    {
     "data": {
      "text/plain": [
       "'\\nQuestion 1 - \\nTake an integer input from the user and print alternate numbers from from 1 to input.\\nInput will be a positive number > 1.\\n\\nINPUT - 7\\nOUTPUT - 1 3 5 7\\n'"
      ]
     },
     "execution_count": 6,
     "metadata": {},
     "output_type": "execute_result"
    }
   ],
   "source": [
    "'''\n",
    "Question 1 - \n",
    "Take an integer input from the user and print alternate numbers from from 1 to input.\n",
    "Input will be a positive number > 1.\n",
    "\n",
    "INPUT - 7\n",
    "OUTPUT - 1 3 5 7\n",
    "'''"
   ]
  },
  {
   "cell_type": "code",
   "execution_count": 7,
   "id": "64afc1f4",
   "metadata": {},
   "outputs": [
    {
     "name": "stdout",
     "output_type": "stream",
     "text": [
      "Please enter a number > 1 - 8\n",
      "1 3 5 7 "
     ]
    }
   ],
   "source": [
    "number = int(input(\"Please enter a number > 1 - \"))\n",
    "\n",
    "i = 1\n",
    "\n",
    "while i <= number:\n",
    "    print(i, end = \" \")\n",
    "    i += 2"
   ]
  },
  {
   "cell_type": "code",
   "execution_count": 8,
   "id": "17fb53b2",
   "metadata": {},
   "outputs": [
    {
     "data": {
      "text/plain": [
       "'\\nQuestion 1.1 - \\nTake an input from the user and print alternate numbers from from 1 to input.\\nIf number is > 1 -> Print as required.\\nElse print \"Number is smaller than 1!\"\\n\\nINPUT - 7\\nOUTPUT - 1 3 5 7\\n\\nINPUT - -5\\nOUTPUT - Number is smaller than 1!\\n'"
      ]
     },
     "execution_count": 8,
     "metadata": {},
     "output_type": "execute_result"
    }
   ],
   "source": [
    "'''\n",
    "Question 1.1 - \n",
    "Take an input from the user and print alternate numbers from from 1 to input.\n",
    "If number is > 1 -> Print as required.\n",
    "Else print \"Number is smaller than 1!\"\n",
    "\n",
    "INPUT - 7\n",
    "OUTPUT - 1 3 5 7\n",
    "\n",
    "INPUT - -5\n",
    "OUTPUT - Number is smaller than 1!\n",
    "'''"
   ]
  },
  {
   "cell_type": "code",
   "execution_count": 13,
   "id": "d8928e32",
   "metadata": {},
   "outputs": [
    {
     "name": "stdout",
     "output_type": "stream",
     "text": [
      "Please enter any integer - 8\n",
      "1\n",
      "3\n",
      "5\n",
      "7\n"
     ]
    }
   ],
   "source": [
    "number = int(input(\"Please enter any integer - \"))\n",
    "\n",
    "if number > 1:\n",
    "    i = 1\n",
    "    \n",
    "    while i <= number:\n",
    "        print(i)\n",
    "        \n",
    "        i += 2\n",
    "else:\n",
    "    print(\"Number is smaller than or equal to 1!\")"
   ]
  },
  {
   "cell_type": "code",
   "execution_count": 15,
   "id": "d922b8b9",
   "metadata": {},
   "outputs": [
    {
     "data": {
      "text/plain": [
       "'\\nQuestion 2 - \\nTake two integer inputs from user for start and end integer values.\\nPrint every third number starting at start till end. (BOTH START AND END TO BE INCLUDED.)\\n'"
      ]
     },
     "execution_count": 15,
     "metadata": {},
     "output_type": "execute_result"
    }
   ],
   "source": [
    "'''\n",
    "Question 2 - \n",
    "Take two integer inputs from user for start and end integer values.\n",
    "Print every third number starting at start till end. (BOTH START AND END TO BE INCLUDED.)\n",
    "'''"
   ]
  },
  {
   "cell_type": "code",
   "execution_count": 16,
   "id": "14770bcf",
   "metadata": {},
   "outputs": [
    {
     "name": "stdout",
     "output_type": "stream",
     "text": [
      "Starting Value - 2\n",
      "Ending Value - 30\n",
      "2 5 8 11 14 17 20 23 26 29 "
     ]
    }
   ],
   "source": [
    "start = int(input(\"Starting Value - \"))\n",
    "end = int(input(\"Ending Value - \"))\n",
    "\n",
    "while start <= end:\n",
    "    print(start, end = \" \")\n",
    "    start += 3"
   ]
  },
  {
   "cell_type": "code",
   "execution_count": 17,
   "id": "9256e27d",
   "metadata": {},
   "outputs": [
    {
     "data": {
      "text/plain": [
       "'\\nQuestion 3 - \\nTake an input from user for start and end values.\\nPrint all even numbers between them. (start and end included)\\n\\nINPUT - \\n3\\n7\\n\\nOUTPUT - 4 6\\n'"
      ]
     },
     "execution_count": 17,
     "metadata": {},
     "output_type": "execute_result"
    }
   ],
   "source": [
    "'''\n",
    "Question 3 - \n",
    "Take an input from user for start and end values.\n",
    "Print all even numbers between them. (start and end included)\n",
    "\n",
    "INPUT - \n",
    "3\n",
    "7\n",
    "\n",
    "OUTPUT - 4 6\n",
    "'''"
   ]
  },
  {
   "cell_type": "code",
   "execution_count": 20,
   "id": "4094b3d2",
   "metadata": {},
   "outputs": [
    {
     "name": "stdout",
     "output_type": "stream",
     "text": [
      "1\n",
      "7\n",
      "2 4 6 "
     ]
    }
   ],
   "source": [
    "start = int(input())\n",
    "end = int(input())\n",
    "\n",
    "while start <= end:\n",
    "    if start % 2 == 0:\n",
    "        print(start, end = \" \")\n",
    "    \n",
    "    start += 1"
   ]
  },
  {
   "cell_type": "code",
   "execution_count": 21,
   "id": "8c9cc07d",
   "metadata": {},
   "outputs": [
    {
     "name": "stdout",
     "output_type": "stream",
     "text": [
      "5\n",
      "20\n",
      "6 8 10 12 14 16 18 20 This loop was run 16 times!\n"
     ]
    }
   ],
   "source": [
    "start = int(input())\n",
    "end = int(input())\n",
    "\n",
    "loop_count = 0\n",
    "\n",
    "while start <= end:\n",
    "    loop_count += 1\n",
    "    \n",
    "    if start % 2 == 0:\n",
    "        print(start, end = \" \")\n",
    "    \n",
    "    start += 1\n",
    "    \n",
    "print(\"This loop was run\", loop_count, \"times!\")"
   ]
  },
  {
   "cell_type": "code",
   "execution_count": 23,
   "id": "61f6402f",
   "metadata": {},
   "outputs": [
    {
     "name": "stdout",
     "output_type": "stream",
     "text": [
      "5\n",
      "20\n",
      "6 8 10 12 14 16 18 20 "
     ]
    }
   ],
   "source": [
    "start = int(input())\n",
    "end = int(input())\n",
    "\n",
    "if start % 2 == 0:\n",
    "    i = start\n",
    "else:\n",
    "    i = start + 1\n",
    "    \n",
    "while i <= end:\n",
    "    print(i, end = \" \")\n",
    "    i += 2"
   ]
  },
  {
   "cell_type": "code",
   "execution_count": 25,
   "id": "88e8ee60",
   "metadata": {},
   "outputs": [
    {
     "name": "stdout",
     "output_type": "stream",
     "text": [
      "5\n",
      "20\n",
      "6 8 10 12 14 16 18 20 This loop was run 8 times!\n"
     ]
    }
   ],
   "source": [
    "start = int(input())\n",
    "end = int(input())\n",
    "\n",
    "if start % 2 == 0:\n",
    "    i = start\n",
    "else:\n",
    "    i = start + 1\n",
    "    \n",
    "loop_count = 0\n",
    "    \n",
    "while i <= end:\n",
    "    loop_count += 1\n",
    "    \n",
    "    print(i, end = \" \")\n",
    "    i += 2\n",
    "\n",
    "print(\"This loop was run\", loop_count, \"times!\")"
   ]
  },
  {
   "cell_type": "code",
   "execution_count": 26,
   "id": "285421c1",
   "metadata": {},
   "outputs": [
    {
     "data": {
      "text/plain": [
       "'\\nQuestion 4 - \\nYou are a bowler and you have to bowl 1 over. (6 balls)\\n\"Bowling ball number - ball_number\"\\n'"
      ]
     },
     "execution_count": 26,
     "metadata": {},
     "output_type": "execute_result"
    }
   ],
   "source": [
    "'''\n",
    "Question 4 - \n",
    "You are a bowler and you have to bowl 1 over. (6 balls)\n",
    "\"Bowling ball number - ball_number\"\n",
    "'''"
   ]
  },
  {
   "cell_type": "code",
   "execution_count": 28,
   "id": "60e52e6c",
   "metadata": {},
   "outputs": [
    {
     "name": "stdout",
     "output_type": "stream",
     "text": [
      "Bowling ball number - 1\n",
      "Bowling ball number - 2\n",
      "Bowling ball number - 3\n",
      "Bowling ball number - 4\n",
      "Bowling ball number - 5\n",
      "Bowling ball number - 6\n"
     ]
    }
   ],
   "source": [
    "ball_number = 1\n",
    "\n",
    "while ball_number < 7:\n",
    "    print(\"Bowling ball number -\", ball_number)\n",
    "    ball_number += 1"
   ]
  },
  {
   "cell_type": "code",
   "execution_count": 29,
   "id": "b8ea6c29",
   "metadata": {},
   "outputs": [
    {
     "data": {
      "text/plain": [
       "'\\nQuestion 5 -\\nTake a number input from user.\\nPrint its multiplication table till 10th multiple.\\n\\nINPUT - 7\\nOUTPUT - 7 14 21 28 35 42 49 56 63 70\\n'"
      ]
     },
     "execution_count": 29,
     "metadata": {},
     "output_type": "execute_result"
    }
   ],
   "source": [
    "'''\n",
    "Question 5 -\n",
    "Take a number input from user.\n",
    "Print its multiplication table till 10th multiple.\n",
    "\n",
    "INPUT - 7\n",
    "OUTPUT - 7 14 21 28 35 42 49 56 63 70\n",
    "'''"
   ]
  },
  {
   "cell_type": "code",
   "execution_count": 31,
   "id": "77f5b7de",
   "metadata": {},
   "outputs": [
    {
     "name": "stdout",
     "output_type": "stream",
     "text": [
      "9\n",
      "9 18 27 36 45 54 63 72 81 90 "
     ]
    }
   ],
   "source": [
    "number = int(input())\n",
    "\n",
    "i = 1\n",
    "\n",
    "while i <= 10:\n",
    "    print(number * i, end = \" \")\n",
    "    \n",
    "    i += 1"
   ]
  },
  {
   "cell_type": "code",
   "execution_count": 32,
   "id": "e7646dbf",
   "metadata": {},
   "outputs": [
    {
     "data": {
      "text/plain": [
       "'\\nQuestion 6 - \\nPassword is 567\\n\\nWrite a loop in python which runs from 0 to 999 and prints the password after finding it.\\nPrint - \"Trying <number>\" for every number\\nPrint - \"Password found - number\" when password is found\\n'"
      ]
     },
     "execution_count": 32,
     "metadata": {},
     "output_type": "execute_result"
    }
   ],
   "source": [
    "'''\n",
    "Question 6 - \n",
    "Password is 567\n",
    "\n",
    "Write a loop in python which runs from 0 to 999 and prints the password after finding it.\n",
    "Print - \"Trying <number>\" for every number\n",
    "Print - \"Password found - number\" when password is found\n",
    "'''"
   ]
  },
  {
   "cell_type": "code",
   "execution_count": 34,
   "id": "feb52d8d",
   "metadata": {},
   "outputs": [
    {
     "name": "stdout",
     "output_type": "stream",
     "text": [
      "Trying 0\n",
      "Trying 1\n",
      "Trying 2\n",
      "Trying 3\n",
      "Trying 4\n",
      "Trying 5\n",
      "Trying 6\n",
      "Trying 7\n",
      "Trying 8\n",
      "Trying 9\n",
      "Trying 10\n",
      "Trying 11\n",
      "Trying 12\n",
      "Trying 13\n",
      "Trying 14\n",
      "Trying 15\n",
      "Trying 16\n",
      "Password Found - 17\n"
     ]
    }
   ],
   "source": [
    "password = 17\n",
    "\n",
    "i = 0\n",
    "\n",
    "while i <= 999:\n",
    "    if i == password:\n",
    "        print(\"Password Found -\", i)\n",
    "        break\n",
    "    else:\n",
    "        print(\"Trying\", i)\n",
    "        \n",
    "    i += 1"
   ]
  },
  {
   "cell_type": "code",
   "execution_count": 35,
   "id": "4e0079a9",
   "metadata": {},
   "outputs": [
    {
     "name": "stdout",
     "output_type": "stream",
     "text": [
      "0\n",
      "1\n",
      "2\n",
      "3\n",
      "4\n",
      "5\n",
      "6\n",
      "7\n",
      "8\n"
     ]
    }
   ],
   "source": [
    "number = 0\n",
    "\n",
    "while True:\n",
    "    print(number)\n",
    "    \n",
    "    if number == 8:\n",
    "        break\n",
    "        \n",
    "    number += 1"
   ]
  },
  {
   "cell_type": "code",
   "execution_count": 36,
   "id": "8157f6ea",
   "metadata": {},
   "outputs": [
    {
     "data": {
      "text/plain": [
       "'\\nQuestion 7 - \\n1. Take an integer input from user. This is the number of test cases. (count)\\n2. Take int for each count from the user.\\n3. Print multiplication table of that integer.\\n\\n\\nINPUT - 3\\n\\nOUTPUT - \\nPlease input number 1 - 2\\nMultiplication table - 2 4 6 8 10 12 14 16 18 20\\n\\nPlese input number 2 - 1\\nMultiplication table - 1 2 3 4 5 6 7 8 9 10\\n\\nPlease input number 3 - 5\\nMultiplication table - 5 10 15 20 25 30 35 40 45 50\\n'"
      ]
     },
     "execution_count": 36,
     "metadata": {},
     "output_type": "execute_result"
    }
   ],
   "source": [
    "'''\n",
    "Question 7 - \n",
    "1. Take an integer input from user. This is the number of test cases. (count)\n",
    "2. Take int for each count from the user.\n",
    "3. Print multiplication table of that integer.\n",
    "\n",
    "\n",
    "INPUT - 3\n",
    "\n",
    "OUTPUT - \n",
    "Please input number 1 - 2\n",
    "Multiplication table - 2 4 6 8 10 12 14 16 18 20\n",
    "\n",
    "Plese input number 2 - 1\n",
    "Multiplication table - 1 2 3 4 5 6 7 8 9 10\n",
    "\n",
    "Please input number 3 - 5\n",
    "Multiplication table - 5 10 15 20 25 30 35 40 45 50\n",
    "'''"
   ]
  },
  {
   "cell_type": "code",
   "execution_count": 38,
   "id": "9de4ac63",
   "metadata": {},
   "outputs": [
    {
     "name": "stdout",
     "output_type": "stream",
     "text": [
      "Enter the number of test cases - 3\n",
      "Please input number - 2\n",
      "2 4 6 8 10 12 14 16 18 20 \n",
      "Please input number - 7\n",
      "7 14 21 28 35 42 49 56 63 70 \n",
      "Please input number - 8\n",
      "8 16 24 32 40 48 56 64 72 80 \n"
     ]
    }
   ],
   "source": [
    "test_cases = int(input(\"Enter the number of test cases - \"))\n",
    "\n",
    "t = 1\n",
    "\n",
    "while t <= test_cases:\n",
    "    # CODE FOR MULTIPLICATION TABLE\n",
    "    number = int(input(\"Please input number - \"))\n",
    "\n",
    "    i = 1\n",
    "\n",
    "    while i <= 10:\n",
    "        print(number * i, end = \" \")\n",
    "\n",
    "        i += 1\n",
    "    # ENDS HERE\n",
    "    \n",
    "    print()\n",
    "    t += 1"
   ]
  },
  {
   "cell_type": "code",
   "execution_count": 39,
   "id": "81f016c3",
   "metadata": {},
   "outputs": [
    {
     "name": "stdout",
     "output_type": "stream",
     "text": [
      "4\n",
      "4\n",
      "5\n",
      "5\n",
      "6\n",
      "6\n",
      "7\n",
      "7\n",
      "8\n",
      "8\n",
      "9\n",
      "9\n"
     ]
    },
    {
     "ename": "KeyboardInterrupt",
     "evalue": "Interrupted by user",
     "output_type": "error",
     "traceback": [
      "\u001b[0;31m---------------------------------------------------------------------------\u001b[0m",
      "\u001b[0;31mKeyboardInterrupt\u001b[0m                         Traceback (most recent call last)",
      "\u001b[0;32m/var/folders/nn/c52y0d3j0gq59dpsswchkt2r0000gn/T/ipykernel_41883/191300663.py\u001b[0m in \u001b[0;36m<module>\u001b[0;34m\u001b[0m\n\u001b[1;32m      2\u001b[0m \u001b[0;34m\u001b[0m\u001b[0m\n\u001b[1;32m      3\u001b[0m \u001b[0;32mwhile\u001b[0m \u001b[0mi\u001b[0m \u001b[0;34m<=\u001b[0m \u001b[0;36m5\u001b[0m\u001b[0;34m:\u001b[0m\u001b[0;34m\u001b[0m\u001b[0;34m\u001b[0m\u001b[0m\n\u001b[0;32m----> 4\u001b[0;31m     \u001b[0mrandom\u001b[0m \u001b[0;34m=\u001b[0m \u001b[0minput\u001b[0m\u001b[0;34m(\u001b[0m\u001b[0;34m)\u001b[0m\u001b[0;34m\u001b[0m\u001b[0;34m\u001b[0m\u001b[0m\n\u001b[0m\u001b[1;32m      5\u001b[0m     \u001b[0mprint\u001b[0m\u001b[0;34m(\u001b[0m\u001b[0mrandom\u001b[0m\u001b[0;34m)\u001b[0m\u001b[0;34m\u001b[0m\u001b[0;34m\u001b[0m\u001b[0m\n",
      "\u001b[0;32m/Library/Frameworks/Python.framework/Versions/3.9/lib/python3.9/site-packages/ipykernel/kernelbase.py\u001b[0m in \u001b[0;36mraw_input\u001b[0;34m(self, prompt)\u001b[0m\n\u001b[1;32m    979\u001b[0m                 \u001b[0;34m\"raw_input was called, but this frontend does not support input requests.\"\u001b[0m\u001b[0;34m\u001b[0m\u001b[0;34m\u001b[0m\u001b[0m\n\u001b[1;32m    980\u001b[0m             )\n\u001b[0;32m--> 981\u001b[0;31m         return self._input_request(\n\u001b[0m\u001b[1;32m    982\u001b[0m             \u001b[0mstr\u001b[0m\u001b[0;34m(\u001b[0m\u001b[0mprompt\u001b[0m\u001b[0;34m)\u001b[0m\u001b[0;34m,\u001b[0m\u001b[0;34m\u001b[0m\u001b[0;34m\u001b[0m\u001b[0m\n\u001b[1;32m    983\u001b[0m             \u001b[0mself\u001b[0m\u001b[0;34m.\u001b[0m\u001b[0m_parent_ident\u001b[0m\u001b[0;34m[\u001b[0m\u001b[0;34m\"shell\"\u001b[0m\u001b[0;34m]\u001b[0m\u001b[0;34m,\u001b[0m\u001b[0;34m\u001b[0m\u001b[0;34m\u001b[0m\u001b[0m\n",
      "\u001b[0;32m/Library/Frameworks/Python.framework/Versions/3.9/lib/python3.9/site-packages/ipykernel/kernelbase.py\u001b[0m in \u001b[0;36m_input_request\u001b[0;34m(self, prompt, ident, parent, password)\u001b[0m\n\u001b[1;32m   1024\u001b[0m             \u001b[0;32mexcept\u001b[0m \u001b[0mKeyboardInterrupt\u001b[0m\u001b[0;34m:\u001b[0m\u001b[0;34m\u001b[0m\u001b[0;34m\u001b[0m\u001b[0m\n\u001b[1;32m   1025\u001b[0m                 \u001b[0;31m# re-raise KeyboardInterrupt, to truncate traceback\u001b[0m\u001b[0;34m\u001b[0m\u001b[0;34m\u001b[0m\u001b[0;34m\u001b[0m\u001b[0m\n\u001b[0;32m-> 1026\u001b[0;31m                 \u001b[0;32mraise\u001b[0m \u001b[0mKeyboardInterrupt\u001b[0m\u001b[0;34m(\u001b[0m\u001b[0;34m\"Interrupted by user\"\u001b[0m\u001b[0;34m)\u001b[0m \u001b[0;32mfrom\u001b[0m \u001b[0;32mNone\u001b[0m\u001b[0;34m\u001b[0m\u001b[0;34m\u001b[0m\u001b[0m\n\u001b[0m\u001b[1;32m   1027\u001b[0m             \u001b[0;32mexcept\u001b[0m \u001b[0mException\u001b[0m \u001b[0;32mas\u001b[0m \u001b[0me\u001b[0m\u001b[0;34m:\u001b[0m\u001b[0;34m\u001b[0m\u001b[0;34m\u001b[0m\u001b[0m\n\u001b[1;32m   1028\u001b[0m                 \u001b[0mself\u001b[0m\u001b[0;34m.\u001b[0m\u001b[0mlog\u001b[0m\u001b[0;34m.\u001b[0m\u001b[0mwarning\u001b[0m\u001b[0;34m(\u001b[0m\u001b[0;34m\"Invalid Message:\"\u001b[0m\u001b[0;34m,\u001b[0m \u001b[0mexc_info\u001b[0m\u001b[0;34m=\u001b[0m\u001b[0;32mTrue\u001b[0m\u001b[0;34m)\u001b[0m\u001b[0;34m\u001b[0m\u001b[0;34m\u001b[0m\u001b[0m\n",
      "\u001b[0;31mKeyboardInterrupt\u001b[0m: Interrupted by user"
     ]
    }
   ],
   "source": [
    "i = 0\n",
    "\n",
    "while i <= 5:\n",
    "    random = input()\n",
    "    print(random)"
   ]
  },
  {
   "cell_type": "code",
   "execution_count": 41,
   "id": "a665bfe1",
   "metadata": {},
   "outputs": [
    {
     "name": "stdout",
     "output_type": "stream",
     "text": [
      "Please enter a starting number: 3\n",
      "Please enter an ending number: 7\n",
      "4 6 "
     ]
    }
   ],
   "source": [
    "A = int(input('Please enter a starting number: '))\n",
    "B = int(input('Please enter an ending number: ')) \n",
    "\n",
    "if A % 2 == 0:\n",
    "    while A <= B:\n",
    "        print(A,end = ' ')\n",
    "        A += 2\n",
    "else:\n",
    "    while A <= B-1:\n",
    "        print(A+1, end = ' ')\n",
    "        A += 2"
   ]
  },
  {
   "cell_type": "code",
   "execution_count": null,
   "id": "db97db4a",
   "metadata": {},
   "outputs": [],
   "source": []
  }
 ],
 "metadata": {
  "kernelspec": {
   "display_name": "Python 3 (ipykernel)",
   "language": "python",
   "name": "python3"
  },
  "language_info": {
   "codemirror_mode": {
    "name": "ipython",
    "version": 3
   },
   "file_extension": ".py",
   "mimetype": "text/x-python",
   "name": "python",
   "nbconvert_exporter": "python",
   "pygments_lexer": "ipython3",
   "version": "3.9.5"
  }
 },
 "nbformat": 4,
 "nbformat_minor": 5
}
