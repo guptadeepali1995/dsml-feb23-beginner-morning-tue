{
 "cells": [
  {
   "cell_type": "code",
   "execution_count": 1,
   "id": "989b1834",
   "metadata": {},
   "outputs": [],
   "source": [
    "# creating a list -> []\n",
    "runs_virat = [67, 54, 12, 34, 77, 89, 101]\n",
    "\n",
    "# there is no limit to how many values you can store inside a list"
   ]
  },
  {
   "cell_type": "code",
   "execution_count": 2,
   "id": "3d4f818d",
   "metadata": {},
   "outputs": [
    {
     "data": {
      "text/plain": [
       "[67, 54, 12, 34, 77, 89, 101]"
      ]
     },
     "execution_count": 2,
     "metadata": {},
     "output_type": "execute_result"
    }
   ],
   "source": [
    "runs_virat"
   ]
  },
  {
   "cell_type": "code",
   "execution_count": 3,
   "id": "13862897",
   "metadata": {},
   "outputs": [
    {
     "data": {
      "text/plain": [
       "list"
      ]
     },
     "execution_count": 3,
     "metadata": {},
     "output_type": "execute_result"
    }
   ],
   "source": [
    "type(runs_virat)"
   ]
  },
  {
   "cell_type": "code",
   "execution_count": 4,
   "id": "a631cbd1",
   "metadata": {},
   "outputs": [],
   "source": [
    "# HOW DO I ACCESS A VALUE"
   ]
  },
  {
   "cell_type": "code",
   "execution_count": 5,
   "id": "2cf64bae",
   "metadata": {},
   "outputs": [],
   "source": [
    "# Values in lists are accessible using indexes\n",
    "# Indexes start at 0"
   ]
  },
  {
   "cell_type": "code",
   "execution_count": 6,
   "id": "c1417ef6",
   "metadata": {},
   "outputs": [
    {
     "data": {
      "text/plain": [
       "67"
      ]
     },
     "execution_count": 6,
     "metadata": {},
     "output_type": "execute_result"
    }
   ],
   "source": [
    "runs_virat[0] # Indexing starts at 0 and thus 0 index corresponds to 1st position"
   ]
  },
  {
   "cell_type": "code",
   "execution_count": 8,
   "id": "4d065f9f",
   "metadata": {},
   "outputs": [
    {
     "data": {
      "text/plain": [
       "77"
      ]
     },
     "execution_count": 8,
     "metadata": {},
     "output_type": "execute_result"
    }
   ],
   "source": [
    "runs_virat[4] # Runs in the 5th match"
   ]
  },
  {
   "cell_type": "code",
   "execution_count": 9,
   "id": "c5671920",
   "metadata": {},
   "outputs": [],
   "source": [
    "# If you want info at \"nth\" position -> \"n-1\""
   ]
  },
  {
   "cell_type": "code",
   "execution_count": 10,
   "id": "358ebb2d",
   "metadata": {},
   "outputs": [
    {
     "data": {
      "text/plain": [
       "7"
      ]
     },
     "execution_count": 10,
     "metadata": {},
     "output_type": "execute_result"
    }
   ],
   "source": [
    "len(runs_virat)"
   ]
  },
  {
   "cell_type": "code",
   "execution_count": 11,
   "id": "a660e0bf",
   "metadata": {},
   "outputs": [],
   "source": [
    "# HOW WOULD YOU GET THE RUNS SCORED IN THE LAST MATCH?"
   ]
  },
  {
   "cell_type": "code",
   "execution_count": 12,
   "id": "c411eca1",
   "metadata": {},
   "outputs": [
    {
     "data": {
      "text/plain": [
       "[67, 54, 12, 34, 77, 89, 101]"
      ]
     },
     "execution_count": 12,
     "metadata": {},
     "output_type": "execute_result"
    }
   ],
   "source": [
    "runs_virat"
   ]
  },
  {
   "cell_type": "code",
   "execution_count": 13,
   "id": "e554ab8d",
   "metadata": {},
   "outputs": [],
   "source": [
    "n = len(runs_virat)"
   ]
  },
  {
   "cell_type": "code",
   "execution_count": 14,
   "id": "be2f436a",
   "metadata": {},
   "outputs": [
    {
     "data": {
      "text/plain": [
       "101"
      ]
     },
     "execution_count": 14,
     "metadata": {},
     "output_type": "execute_result"
    }
   ],
   "source": [
    "runs_virat[n - 1]"
   ]
  },
  {
   "cell_type": "code",
   "execution_count": 15,
   "id": "6528b1aa",
   "metadata": {},
   "outputs": [
    {
     "data": {
      "text/plain": [
       "101"
      ]
     },
     "execution_count": 15,
     "metadata": {},
     "output_type": "execute_result"
    }
   ],
   "source": [
    "runs_virat[len(runs_virat) - 1]"
   ]
  },
  {
   "cell_type": "code",
   "execution_count": 16,
   "id": "3b11cb3d",
   "metadata": {},
   "outputs": [
    {
     "data": {
      "text/plain": [
       "89"
      ]
     },
     "execution_count": 16,
     "metadata": {},
     "output_type": "execute_result"
    }
   ],
   "source": [
    "runs_virat[n - 2]"
   ]
  },
  {
   "cell_type": "code",
   "execution_count": 17,
   "id": "65315fa0",
   "metadata": {},
   "outputs": [],
   "source": [
    "# NEGATIVE INDEXING"
   ]
  },
  {
   "cell_type": "code",
   "execution_count": 18,
   "id": "d9c05079",
   "metadata": {},
   "outputs": [
    {
     "data": {
      "text/plain": [
       "101"
      ]
     },
     "execution_count": 18,
     "metadata": {},
     "output_type": "execute_result"
    }
   ],
   "source": [
    "runs_virat[-1]"
   ]
  },
  {
   "cell_type": "code",
   "execution_count": 19,
   "id": "c58b2023",
   "metadata": {},
   "outputs": [
    {
     "data": {
      "text/plain": [
       "89"
      ]
     },
     "execution_count": 19,
     "metadata": {},
     "output_type": "execute_result"
    }
   ],
   "source": [
    "runs_virat[-2]"
   ]
  },
  {
   "cell_type": "code",
   "execution_count": 20,
   "id": "20d5fdeb",
   "metadata": {},
   "outputs": [
    {
     "data": {
      "text/plain": [
       "77"
      ]
     },
     "execution_count": 20,
     "metadata": {},
     "output_type": "execute_result"
    }
   ],
   "source": [
    "runs_virat[-3]"
   ]
  },
  {
   "cell_type": "code",
   "execution_count": 22,
   "id": "e6e2c548",
   "metadata": {},
   "outputs": [
    {
     "data": {
      "text/plain": [
       "67"
      ]
     },
     "execution_count": 22,
     "metadata": {},
     "output_type": "execute_result"
    }
   ],
   "source": [
    "runs_virat[-n]"
   ]
  },
  {
   "cell_type": "code",
   "execution_count": 23,
   "id": "6fa84110",
   "metadata": {},
   "outputs": [
    {
     "ename": "IndexError",
     "evalue": "list index out of range",
     "output_type": "error",
     "traceback": [
      "\u001b[0;31m---------------------------------------------------------------------------\u001b[0m",
      "\u001b[0;31mIndexError\u001b[0m                                Traceback (most recent call last)",
      "Cell \u001b[0;32mIn[23], line 1\u001b[0m\n\u001b[0;32m----> 1\u001b[0m \u001b[43mruns_virat\u001b[49m\u001b[43m[\u001b[49m\u001b[38;5;241;43m1000000\u001b[39;49m\u001b[43m]\u001b[49m\n",
      "\u001b[0;31mIndexError\u001b[0m: list index out of range"
     ]
    }
   ],
   "source": [
    "runs_virat[1000000]"
   ]
  },
  {
   "cell_type": "code",
   "execution_count": 24,
   "id": "b8cadfad",
   "metadata": {},
   "outputs": [
    {
     "data": {
      "text/plain": [
       "[67, 54, 12, 34, 77, 89, 101]"
      ]
     },
     "execution_count": 24,
     "metadata": {},
     "output_type": "execute_result"
    }
   ],
   "source": [
    "runs_virat"
   ]
  },
  {
   "cell_type": "code",
   "execution_count": 25,
   "id": "80aa9fc4",
   "metadata": {},
   "outputs": [
    {
     "data": {
      "text/plain": [
       "'\\nQuestion 1 - \\nPrint total of the runs scored on odd numbered matches i.e. odd positions.\\n'"
      ]
     },
     "execution_count": 25,
     "metadata": {},
     "output_type": "execute_result"
    }
   ],
   "source": [
    "'''\n",
    "Question 1 - \n",
    "Print total of the runs scored on odd numbered matches i.e. odd positions.\n",
    "'''"
   ]
  },
  {
   "cell_type": "code",
   "execution_count": 27,
   "id": "0c52fc56",
   "metadata": {},
   "outputs": [
    {
     "data": {
      "text/plain": [
       "257"
      ]
     },
     "execution_count": 27,
     "metadata": {},
     "output_type": "execute_result"
    }
   ],
   "source": [
    "runs_virat[0] + runs_virat[2] + runs_virat[4] + runs_virat[6]"
   ]
  },
  {
   "cell_type": "code",
   "execution_count": 28,
   "id": "53c89d19",
   "metadata": {},
   "outputs": [],
   "source": [
    "# METHODS -> Special functions attached to python objects"
   ]
  },
  {
   "cell_type": "code",
   "execution_count": 29,
   "id": "484661b5",
   "metadata": {},
   "outputs": [],
   "source": [
    "runs = [67, 54, 12, 34, 77, 89, 101]"
   ]
  },
  {
   "cell_type": "code",
   "execution_count": 30,
   "id": "51343635",
   "metadata": {},
   "outputs": [],
   "source": [
    "# 1. Append"
   ]
  },
  {
   "cell_type": "code",
   "execution_count": 31,
   "id": "b780694f",
   "metadata": {},
   "outputs": [],
   "source": [
    "runs.append(123)"
   ]
  },
  {
   "cell_type": "code",
   "execution_count": 32,
   "id": "7fdffbe4",
   "metadata": {},
   "outputs": [
    {
     "data": {
      "text/plain": [
       "[67, 54, 12, 34, 77, 89, 101, 123]"
      ]
     },
     "execution_count": 32,
     "metadata": {},
     "output_type": "execute_result"
    }
   ],
   "source": [
    "runs"
   ]
  },
  {
   "cell_type": "code",
   "execution_count": 33,
   "id": "9d381738",
   "metadata": {},
   "outputs": [],
   "source": [
    "runs = runs + [45]"
   ]
  },
  {
   "cell_type": "code",
   "execution_count": 34,
   "id": "af989df6",
   "metadata": {},
   "outputs": [
    {
     "data": {
      "text/plain": [
       "[67, 54, 12, 34, 77, 89, 101, 123, 45]"
      ]
     },
     "execution_count": 34,
     "metadata": {},
     "output_type": "execute_result"
    }
   ],
   "source": [
    "runs"
   ]
  },
  {
   "cell_type": "code",
   "execution_count": 35,
   "id": "31342cc6",
   "metadata": {},
   "outputs": [],
   "source": [
    "# 2. Insert"
   ]
  },
  {
   "cell_type": "code",
   "execution_count": 36,
   "id": "688cc9ac",
   "metadata": {},
   "outputs": [],
   "source": [
    "# list.insert(index, value)"
   ]
  },
  {
   "cell_type": "code",
   "execution_count": 37,
   "id": "ae062fbb",
   "metadata": {},
   "outputs": [],
   "source": [
    "runs.insert(2, 55)"
   ]
  },
  {
   "cell_type": "code",
   "execution_count": 38,
   "id": "09896a91",
   "metadata": {},
   "outputs": [
    {
     "data": {
      "text/plain": [
       "[67, 54, 55, 12, 34, 77, 89, 101, 123, 45]"
      ]
     },
     "execution_count": 38,
     "metadata": {},
     "output_type": "execute_result"
    }
   ],
   "source": [
    "runs"
   ]
  },
  {
   "cell_type": "code",
   "execution_count": 39,
   "id": "3e6cb8bc",
   "metadata": {},
   "outputs": [],
   "source": [
    "# 3. Extend"
   ]
  },
  {
   "cell_type": "code",
   "execution_count": 40,
   "id": "2336954e",
   "metadata": {},
   "outputs": [
    {
     "data": {
      "text/plain": [
       "[67, 54, 55, 12, 34, 77, 89, 101, 123, 45]"
      ]
     },
     "execution_count": 40,
     "metadata": {},
     "output_type": "execute_result"
    }
   ],
   "source": [
    "runs"
   ]
  },
  {
   "cell_type": "code",
   "execution_count": 41,
   "id": "4f3ee7eb",
   "metadata": {},
   "outputs": [],
   "source": [
    "runs.extend([100, 67, 89])"
   ]
  },
  {
   "cell_type": "code",
   "execution_count": 42,
   "id": "2f7d14d4",
   "metadata": {},
   "outputs": [
    {
     "data": {
      "text/plain": [
       "[67, 54, 55, 12, 34, 77, 89, 101, 123, 45, 100, 67, 89]"
      ]
     },
     "execution_count": 42,
     "metadata": {},
     "output_type": "execute_result"
    }
   ],
   "source": [
    "runs"
   ]
  },
  {
   "cell_type": "code",
   "execution_count": 43,
   "id": "30894494",
   "metadata": {},
   "outputs": [],
   "source": [
    "runs.append([1, 2, 3])"
   ]
  },
  {
   "cell_type": "code",
   "execution_count": 45,
   "id": "fcf968c1",
   "metadata": {},
   "outputs": [
    {
     "data": {
      "text/plain": [
       "[67, 54, 55, 12, 34, 77, 89, 101, 123, 45, 100, 67, 89, [1, 2, 3]]"
      ]
     },
     "execution_count": 45,
     "metadata": {},
     "output_type": "execute_result"
    }
   ],
   "source": [
    "runs # nested list"
   ]
  },
  {
   "cell_type": "code",
   "execution_count": 46,
   "id": "d32eaa75",
   "metadata": {},
   "outputs": [],
   "source": [
    "a = [1, 2, 3]"
   ]
  },
  {
   "cell_type": "code",
   "execution_count": 48,
   "id": "1cdca2e4",
   "metadata": {},
   "outputs": [],
   "source": [
    "# Add multiple values to the list\n",
    "a = a + [4, 5, 6] # extend"
   ]
  },
  {
   "cell_type": "code",
   "execution_count": 49,
   "id": "60637527",
   "metadata": {},
   "outputs": [
    {
     "data": {
      "text/plain": [
       "[1, 2, 3, 4, 5, 6]"
      ]
     },
     "execution_count": 49,
     "metadata": {},
     "output_type": "execute_result"
    }
   ],
   "source": [
    "a"
   ]
  },
  {
   "cell_type": "code",
   "execution_count": 50,
   "id": "fda62f89",
   "metadata": {},
   "outputs": [],
   "source": [
    "a = [1, 2, 3]"
   ]
  },
  {
   "cell_type": "code",
   "execution_count": 54,
   "id": "d7934bab",
   "metadata": {},
   "outputs": [],
   "source": [
    "# Add a single value to the list\n",
    "a = a + [5] # append"
   ]
  },
  {
   "cell_type": "code",
   "execution_count": 53,
   "id": "9c3acdad",
   "metadata": {},
   "outputs": [
    {
     "data": {
      "text/plain": [
       "[1, 2, 3, 5]"
      ]
     },
     "execution_count": 53,
     "metadata": {},
     "output_type": "execute_result"
    }
   ],
   "source": [
    "a"
   ]
  },
  {
   "cell_type": "code",
   "execution_count": 55,
   "id": "338639d4",
   "metadata": {},
   "outputs": [
    {
     "data": {
      "text/plain": [
       "'\\nAppend -> Add a single value at the end.\\nInsert -> Add a single value at any index of your choice.\\nExtend -> Add multiple values at the end.\\n'"
      ]
     },
     "execution_count": 55,
     "metadata": {},
     "output_type": "execute_result"
    }
   ],
   "source": [
    "'''\n",
    "Append -> Add a single value at the end.\n",
    "Insert -> Add a single value at any index of your choice.\n",
    "Extend -> Add multiple values at the end.\n",
    "'''"
   ]
  },
  {
   "cell_type": "code",
   "execution_count": 58,
   "id": "31feb5f4",
   "metadata": {},
   "outputs": [
    {
     "data": {
      "text/plain": [
       "[1, 2, 3, 4, 5, 6]"
      ]
     },
     "execution_count": 58,
     "metadata": {},
     "output_type": "execute_result"
    }
   ],
   "source": [
    "[1,2,3] + [4, 5, 6]"
   ]
  },
  {
   "cell_type": "code",
   "execution_count": 59,
   "id": "26d84c22",
   "metadata": {},
   "outputs": [],
   "source": [
    "a = \"python\""
   ]
  },
  {
   "cell_type": "code",
   "execution_count": 60,
   "id": "265e8f9e",
   "metadata": {},
   "outputs": [
    {
     "name": "stdout",
     "output_type": "stream",
     "text": [
      "p\n",
      "y\n",
      "t\n",
      "h\n",
      "o\n",
      "n\n"
     ]
    }
   ],
   "source": [
    "for i in a:\n",
    "    print(i)"
   ]
  },
  {
   "cell_type": "code",
   "execution_count": 61,
   "id": "5a5616b4",
   "metadata": {},
   "outputs": [],
   "source": [
    "a = [10, 20, 30, 40, 50, 60]"
   ]
  },
  {
   "cell_type": "code",
   "execution_count": 65,
   "id": "a6689e32",
   "metadata": {},
   "outputs": [
    {
     "name": "stdout",
     "output_type": "stream",
     "text": [
      "10\n",
      "20\n",
      "30\n",
      "40\n",
      "50\n",
      "60\n"
     ]
    }
   ],
   "source": [
    "# TRAVERSAL METHOD 1 -> Iterates directly over the elements\n",
    "for i in a:\n",
    "    print(i)"
   ]
  },
  {
   "cell_type": "code",
   "execution_count": 69,
   "id": "1d8fac27",
   "metadata": {},
   "outputs": [
    {
     "name": "stdout",
     "output_type": "stream",
     "text": [
      "10\n",
      "20\n",
      "30\n",
      "40\n",
      "50\n",
      "60\n"
     ]
    }
   ],
   "source": [
    "# TRAVERSAL METHOD 2 -> Iterates over indexes and we use them to get elements\n",
    "for i in range(len(a)):\n",
    "    print(a[i])"
   ]
  },
  {
   "cell_type": "code",
   "execution_count": 68,
   "id": "8a155d66",
   "metadata": {},
   "outputs": [
    {
     "name": "stdout",
     "output_type": "stream",
     "text": [
      "10\n",
      "20\n",
      "30\n",
      "40\n",
      "50\n",
      "60\n"
     ]
    }
   ],
   "source": [
    "# TRAVERSAL METHOD 3\n",
    "i = 0\n",
    "\n",
    "while i < len(a):\n",
    "    print(a[i])\n",
    "    i += 1"
   ]
  },
  {
   "cell_type": "code",
   "execution_count": 70,
   "id": "ee4391bd",
   "metadata": {},
   "outputs": [
    {
     "data": {
      "text/plain": [
       "'\\nQustion 2 - \\nruns_virat = [67, 54, 12, 34, 77, 89, 101]\\n\\nIn runs_virat -> Calculate, sum, avg, max and min runs.\\nWithout using any internal functions. You can use the length function.\\n'"
      ]
     },
     "execution_count": 70,
     "metadata": {},
     "output_type": "execute_result"
    }
   ],
   "source": [
    "'''\n",
    "Qustion 2 - \n",
    "runs_virat = [67, 54, 12, 34, 77, 89, 101]\n",
    "\n",
    "In runs_virat -> Calculate, sum, avg, max and min runs.\n",
    "Without using any internal functions. You can use the length function.\n",
    "'''"
   ]
  },
  {
   "cell_type": "code",
   "execution_count": 71,
   "id": "432d398a",
   "metadata": {},
   "outputs": [],
   "source": [
    "runs_virat = [67, 54, 12, 34, 77, 89, 101]"
   ]
  },
  {
   "cell_type": "code",
   "execution_count": 72,
   "id": "735c57d0",
   "metadata": {},
   "outputs": [
    {
     "data": {
      "text/plain": [
       "434"
      ]
     },
     "execution_count": 72,
     "metadata": {},
     "output_type": "execute_result"
    }
   ],
   "source": [
    "sum(runs_virat)"
   ]
  },
  {
   "cell_type": "code",
   "execution_count": 73,
   "id": "f7d870d5",
   "metadata": {},
   "outputs": [
    {
     "data": {
      "text/plain": [
       "101"
      ]
     },
     "execution_count": 73,
     "metadata": {},
     "output_type": "execute_result"
    }
   ],
   "source": [
    "max(runs_virat)"
   ]
  },
  {
   "cell_type": "code",
   "execution_count": 74,
   "id": "f3321c06",
   "metadata": {},
   "outputs": [
    {
     "data": {
      "text/plain": [
       "12"
      ]
     },
     "execution_count": 74,
     "metadata": {},
     "output_type": "execute_result"
    }
   ],
   "source": [
    "min(runs_virat)"
   ]
  },
  {
   "cell_type": "code",
   "execution_count": 75,
   "id": "db28cb9e",
   "metadata": {},
   "outputs": [
    {
     "data": {
      "text/plain": [
       "62.0"
      ]
     },
     "execution_count": 75,
     "metadata": {},
     "output_type": "execute_result"
    }
   ],
   "source": [
    "sum(runs_virat) / len(runs_virat)"
   ]
  },
  {
   "cell_type": "code",
   "execution_count": 76,
   "id": "48cb583b",
   "metadata": {},
   "outputs": [],
   "source": [
    "def custom_length(a):\n",
    "    n = 0\n",
    "    \n",
    "    for i in a:\n",
    "        n += 1\n",
    "        \n",
    "    return n"
   ]
  },
  {
   "cell_type": "code",
   "execution_count": 77,
   "id": "8ce9beb4",
   "metadata": {},
   "outputs": [],
   "source": [
    "len_runs_virat = custom_length(runs_virat)"
   ]
  },
  {
   "cell_type": "code",
   "execution_count": 78,
   "id": "430eea23",
   "metadata": {},
   "outputs": [],
   "source": [
    "def custom_sum(a):\n",
    "    SUM = 0\n",
    "    \n",
    "    for i in a:\n",
    "        SUM += i\n",
    "        \n",
    "    return SUM"
   ]
  },
  {
   "cell_type": "code",
   "execution_count": 79,
   "id": "ad71a493",
   "metadata": {},
   "outputs": [],
   "source": [
    "sum_runs_virat = custom_sum(runs_virat)"
   ]
  },
  {
   "cell_type": "code",
   "execution_count": 80,
   "id": "e6f0009a",
   "metadata": {},
   "outputs": [
    {
     "data": {
      "text/plain": [
       "434"
      ]
     },
     "execution_count": 80,
     "metadata": {},
     "output_type": "execute_result"
    }
   ],
   "source": [
    "sum_runs_virat"
   ]
  },
  {
   "cell_type": "code",
   "execution_count": 81,
   "id": "79588d0f",
   "metadata": {},
   "outputs": [],
   "source": [
    "average_runs_virat = sum_runs_virat / len_runs_virat"
   ]
  },
  {
   "cell_type": "code",
   "execution_count": 82,
   "id": "96fe9f47",
   "metadata": {},
   "outputs": [
    {
     "data": {
      "text/plain": [
       "62.0"
      ]
     },
     "execution_count": 82,
     "metadata": {},
     "output_type": "execute_result"
    }
   ],
   "source": [
    "average_runs_virat"
   ]
  },
  {
   "cell_type": "code",
   "execution_count": 92,
   "id": "cfae7f22",
   "metadata": {},
   "outputs": [
    {
     "data": {
      "text/plain": [
       "'\\nDRY RUN ->\\n\\nruns_virat = [67, 54, 12, 34, 77, 89, 101]\\n\\ncustom_max(runs_virat) ->\\n    MAX = a[0] -> 67\\n    \\n    for i in range(1, len(a)) ->\\n        i = 1 ->\\n            a[i] > MAX -> 54 > 67 -> False\\n        \\n        i = 2 ->\\n            12 > 67 -> False\\n            \\n        i = 3 ->\\n            34 > 67 -> False\\n            \\n        i = 4 ->\\n            77 > 67 -> True\\n            MAX = 77\\n            \\n        i = 5 ->\\n            89 > 77 -> True\\n            MAX = 89\\n            \\n        i = 6 ->\\n            101 > 89 -> True\\n            MAX = 101\\n            \\n    return MAX -> 101\\n'"
      ]
     },
     "execution_count": 92,
     "metadata": {},
     "output_type": "execute_result"
    }
   ],
   "source": [
    "def custom_max(a):\n",
    "    if len(a) == 0:\n",
    "        return \"EMPTY LIST!\"\n",
    "    \n",
    "    MAX = a[0]\n",
    "    \n",
    "    for i in range(1, len(a)):\n",
    "        if a[i] > MAX:\n",
    "            MAX = a[i]\n",
    "            \n",
    "    return MAX\n",
    "\n",
    "\n",
    "'''\n",
    "DRY RUN ->\n",
    "\n",
    "runs_virat = [67, 54, 12, 34, 77, 89, 101]\n",
    "\n",
    "custom_max(runs_virat) ->\n",
    "    MAX = a[0] -> 67\n",
    "    \n",
    "    for i in range(1, len(a)) ->\n",
    "        i = 1 ->\n",
    "            a[i] > MAX -> 54 > 67 -> False\n",
    "        \n",
    "        i = 2 ->\n",
    "            12 > 67 -> False\n",
    "            \n",
    "        i = 3 ->\n",
    "            34 > 67 -> False\n",
    "            \n",
    "        i = 4 ->\n",
    "            77 > 67 -> True\n",
    "            MAX = 77\n",
    "            \n",
    "        i = 5 ->\n",
    "            89 > 77 -> True\n",
    "            MAX = 89\n",
    "            \n",
    "        i = 6 ->\n",
    "            101 > 89 -> True\n",
    "            MAX = 101\n",
    "            \n",
    "    return MAX -> 101\n",
    "'''"
   ]
  },
  {
   "cell_type": "code",
   "execution_count": 84,
   "id": "a9c203f3",
   "metadata": {},
   "outputs": [],
   "source": [
    "max_runs_virat = custom_max(runs_virat)"
   ]
  },
  {
   "cell_type": "code",
   "execution_count": 85,
   "id": "07146a81",
   "metadata": {},
   "outputs": [
    {
     "data": {
      "text/plain": [
       "101"
      ]
     },
     "execution_count": 85,
     "metadata": {},
     "output_type": "execute_result"
    }
   ],
   "source": [
    "max_runs_virat"
   ]
  },
  {
   "cell_type": "code",
   "execution_count": 93,
   "id": "ff9b250c",
   "metadata": {},
   "outputs": [],
   "source": [
    "def custom_min(a):\n",
    "    if len(a) == 0:\n",
    "        return \"EMPTY LIST!\"\n",
    "    \n",
    "    MIN = a[0]\n",
    "    \n",
    "    for i in range(1, len(a)):\n",
    "        if a[i] < MIN:\n",
    "            MIN = a[i]\n",
    "            \n",
    "    return MIN"
   ]
  },
  {
   "cell_type": "code",
   "execution_count": 94,
   "id": "6ff923b6",
   "metadata": {},
   "outputs": [],
   "source": [
    "min_runs_virat = custom_min(runs_virat)"
   ]
  },
  {
   "cell_type": "code",
   "execution_count": 95,
   "id": "f072b65d",
   "metadata": {},
   "outputs": [
    {
     "data": {
      "text/plain": [
       "12"
      ]
     },
     "execution_count": 95,
     "metadata": {},
     "output_type": "execute_result"
    }
   ],
   "source": [
    "min_runs_virat"
   ]
  },
  {
   "cell_type": "code",
   "execution_count": 96,
   "id": "2b111703",
   "metadata": {},
   "outputs": [
    {
     "data": {
      "text/plain": [
       "'EMPTY LIST!'"
      ]
     },
     "execution_count": 96,
     "metadata": {},
     "output_type": "execute_result"
    }
   ],
   "source": [
    "custom_min([])"
   ]
  },
  {
   "cell_type": "code",
   "execution_count": 97,
   "id": "95a17462",
   "metadata": {},
   "outputs": [
    {
     "data": {
      "text/plain": [
       "'\\nQuestion 3 -\\nCalculate average of runs scored by virat\\nin all matches with an even index.\\n'"
      ]
     },
     "execution_count": 97,
     "metadata": {},
     "output_type": "execute_result"
    }
   ],
   "source": [
    "'''\n",
    "Question 3 -\n",
    "Calculate average of runs scored by virat\n",
    "in all matches with an even index.\n",
    "'''"
   ]
  },
  {
   "cell_type": "code",
   "execution_count": 98,
   "id": "eae6856c",
   "metadata": {},
   "outputs": [],
   "source": [
    "sum_runs = 0\n",
    "count = 0\n",
    "\n",
    "for i in range(len(runs_virat)):\n",
    "    if i % 2 == 0:\n",
    "        sum_runs += runs_virat[i]\n",
    "        count += 1"
   ]
  },
  {
   "cell_type": "code",
   "execution_count": 99,
   "id": "7415299c",
   "metadata": {},
   "outputs": [
    {
     "data": {
      "text/plain": [
       "64.25"
      ]
     },
     "execution_count": 99,
     "metadata": {},
     "output_type": "execute_result"
    }
   ],
   "source": [
    "sum_runs / count"
   ]
  },
  {
   "cell_type": "code",
   "execution_count": 100,
   "id": "4e057067",
   "metadata": {},
   "outputs": [],
   "source": [
    "a = [1,2,3,4,5]"
   ]
  },
  {
   "cell_type": "code",
   "execution_count": 101,
   "id": "ec9da09e",
   "metadata": {},
   "outputs": [],
   "source": [
    "a[0] = 10"
   ]
  },
  {
   "cell_type": "code",
   "execution_count": 103,
   "id": "774db129",
   "metadata": {},
   "outputs": [
    {
     "data": {
      "text/plain": [
       "[10, 2, 3, 4, 5]"
      ]
     },
     "execution_count": 103,
     "metadata": {},
     "output_type": "execute_result"
    }
   ],
   "source": [
    "a # List are mutable -> They can be modified"
   ]
  },
  {
   "cell_type": "code",
   "execution_count": 104,
   "id": "69d17086",
   "metadata": {},
   "outputs": [],
   "source": [
    "a = [10, 20, 30, 40, 50, 60]"
   ]
  },
  {
   "cell_type": "code",
   "execution_count": 105,
   "id": "01534f30",
   "metadata": {},
   "outputs": [],
   "source": [
    "# There are two ways to delete elements from a list"
   ]
  },
  {
   "cell_type": "code",
   "execution_count": 106,
   "id": "0f511966",
   "metadata": {},
   "outputs": [],
   "source": [
    "# DELETE BY INDEX"
   ]
  },
  {
   "cell_type": "code",
   "execution_count": 107,
   "id": "4f2dab25",
   "metadata": {},
   "outputs": [
    {
     "data": {
      "text/plain": [
       "30"
      ]
     },
     "execution_count": 107,
     "metadata": {},
     "output_type": "execute_result"
    }
   ],
   "source": [
    "a.pop(2)"
   ]
  },
  {
   "cell_type": "code",
   "execution_count": 108,
   "id": "9b6b18c3",
   "metadata": {},
   "outputs": [
    {
     "data": {
      "text/plain": [
       "[10, 20, 40, 50, 60]"
      ]
     },
     "execution_count": 108,
     "metadata": {},
     "output_type": "execute_result"
    }
   ],
   "source": [
    "a"
   ]
  },
  {
   "cell_type": "code",
   "execution_count": 109,
   "id": "39c5449c",
   "metadata": {},
   "outputs": [
    {
     "data": {
      "text/plain": [
       "60"
      ]
     },
     "execution_count": 109,
     "metadata": {},
     "output_type": "execute_result"
    }
   ],
   "source": [
    "a.pop()"
   ]
  },
  {
   "cell_type": "code",
   "execution_count": 112,
   "id": "3234cabf",
   "metadata": {},
   "outputs": [
    {
     "data": {
      "text/plain": [
       "[10, 20, 40, 50]"
      ]
     },
     "execution_count": 112,
     "metadata": {},
     "output_type": "execute_result"
    }
   ],
   "source": [
    "a # Last element is popped by defeault if no argument is provided"
   ]
  },
  {
   "cell_type": "code",
   "execution_count": 113,
   "id": "d1670e94",
   "metadata": {},
   "outputs": [],
   "source": [
    "# DELETE BY VALUE"
   ]
  },
  {
   "cell_type": "code",
   "execution_count": 114,
   "id": "99b498dd",
   "metadata": {},
   "outputs": [],
   "source": [
    "a = [10, 20, 30, 40, 50, 60]"
   ]
  },
  {
   "cell_type": "code",
   "execution_count": 115,
   "id": "3390cff5",
   "metadata": {},
   "outputs": [],
   "source": [
    "a.remove(40)"
   ]
  },
  {
   "cell_type": "code",
   "execution_count": 116,
   "id": "d79766e8",
   "metadata": {},
   "outputs": [
    {
     "data": {
      "text/plain": [
       "[10, 20, 30, 50, 60]"
      ]
     },
     "execution_count": 116,
     "metadata": {},
     "output_type": "execute_result"
    }
   ],
   "source": [
    "a"
   ]
  },
  {
   "cell_type": "code",
   "execution_count": 117,
   "id": "240486fa",
   "metadata": {},
   "outputs": [],
   "source": [
    "a = [10, 20, 30, 40, 50, 40, 40, 60]"
   ]
  },
  {
   "cell_type": "code",
   "execution_count": 118,
   "id": "7d86b12d",
   "metadata": {},
   "outputs": [],
   "source": [
    "a.remove(40)"
   ]
  },
  {
   "cell_type": "code",
   "execution_count": 119,
   "id": "fae5dc70",
   "metadata": {},
   "outputs": [
    {
     "data": {
      "text/plain": [
       "[10, 20, 30, 50, 40, 40, 60]"
      ]
     },
     "execution_count": 119,
     "metadata": {},
     "output_type": "execute_result"
    }
   ],
   "source": [
    "a"
   ]
  },
  {
   "cell_type": "code",
   "execution_count": 120,
   "id": "673f3aec",
   "metadata": {},
   "outputs": [],
   "source": [
    "a = [10,20,30,40,50,60]"
   ]
  },
  {
   "cell_type": "code",
   "execution_count": 122,
   "id": "d7e2ddc3",
   "metadata": {},
   "outputs": [
    {
     "data": {
      "text/plain": [
       "True"
      ]
     },
     "execution_count": 122,
     "metadata": {},
     "output_type": "execute_result"
    }
   ],
   "source": [
    "50 in a # MEMBERSHIP OPERATOR"
   ]
  },
  {
   "cell_type": "code",
   "execution_count": 123,
   "id": "c9b8dc74",
   "metadata": {},
   "outputs": [
    {
     "data": {
      "text/plain": [
       "False"
      ]
     },
     "execution_count": 123,
     "metadata": {},
     "output_type": "execute_result"
    }
   ],
   "source": [
    "70 in a"
   ]
  },
  {
   "cell_type": "code",
   "execution_count": 124,
   "id": "cf5fdd4c",
   "metadata": {},
   "outputs": [],
   "source": [
    "def remove_all(a, target):\n",
    "    while True:\n",
    "        if target in a:\n",
    "            a.remove(target)\n",
    "            continue\n",
    "        \n",
    "        break\n",
    "        \n",
    "    return a"
   ]
  },
  {
   "cell_type": "code",
   "execution_count": 125,
   "id": "13e065b5",
   "metadata": {},
   "outputs": [],
   "source": [
    "a = [10, 20, 30, 40, 50, 40, 40, 60]"
   ]
  },
  {
   "cell_type": "code",
   "execution_count": 127,
   "id": "d2768069",
   "metadata": {},
   "outputs": [],
   "source": [
    "a = remove_all(a, 40)"
   ]
  },
  {
   "cell_type": "code",
   "execution_count": 128,
   "id": "df16cfcc",
   "metadata": {},
   "outputs": [
    {
     "data": {
      "text/plain": [
       "[10, 20, 30, 50, 60]"
      ]
     },
     "execution_count": 128,
     "metadata": {},
     "output_type": "execute_result"
    }
   ],
   "source": [
    "a"
   ]
  },
  {
   "cell_type": "code",
   "execution_count": 129,
   "id": "f0b43a24",
   "metadata": {},
   "outputs": [],
   "source": [
    "def remove_all(a, target):\n",
    "    while True:\n",
    "        if target not in a:\n",
    "            break\n",
    "        \n",
    "        a.remove(target)\n",
    "        \n",
    "    return a"
   ]
  },
  {
   "cell_type": "code",
   "execution_count": 130,
   "id": "f7ab8ca5",
   "metadata": {},
   "outputs": [],
   "source": [
    "def remove_all(a, target):\n",
    "    while target in a:\n",
    "        a.remove(target)\n",
    "        \n",
    "    return a"
   ]
  },
  {
   "cell_type": "code",
   "execution_count": 131,
   "id": "0bcc70f3",
   "metadata": {},
   "outputs": [],
   "source": [
    "# LISTS ARE HETEROGENEOUS"
   ]
  },
  {
   "cell_type": "code",
   "execution_count": 132,
   "id": "00f73072",
   "metadata": {},
   "outputs": [],
   "source": [
    "a = [\"bipin\", 56, 89.8, True, [1,2,3,4]]"
   ]
  },
  {
   "cell_type": "code",
   "execution_count": 133,
   "id": "f5421881",
   "metadata": {},
   "outputs": [
    {
     "data": {
      "text/plain": [
       "'bipin'"
      ]
     },
     "execution_count": 133,
     "metadata": {},
     "output_type": "execute_result"
    }
   ],
   "source": [
    "a[0]"
   ]
  },
  {
   "cell_type": "code",
   "execution_count": 134,
   "id": "c21aed91",
   "metadata": {},
   "outputs": [
    {
     "data": {
      "text/plain": [
       "[1, 2, 3, 4]"
      ]
     },
     "execution_count": 134,
     "metadata": {},
     "output_type": "execute_result"
    }
   ],
   "source": [
    "a[-1]"
   ]
  },
  {
   "cell_type": "code",
   "execution_count": null,
   "id": "bb734800",
   "metadata": {},
   "outputs": [],
   "source": []
  }
 ],
 "metadata": {
  "kernelspec": {
   "display_name": "Python 3 (ipykernel)",
   "language": "python",
   "name": "python3"
  },
  "language_info": {
   "codemirror_mode": {
    "name": "ipython",
    "version": 3
   },
   "file_extension": ".py",
   "mimetype": "text/x-python",
   "name": "python",
   "nbconvert_exporter": "python",
   "pygments_lexer": "ipython3",
   "version": "3.9.5"
  }
 },
 "nbformat": 4,
 "nbformat_minor": 5
}
