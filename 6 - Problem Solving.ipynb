{
 "cells": [
  {
   "cell_type": "code",
   "execution_count": 1,
   "id": "a5ab71ca",
   "metadata": {},
   "outputs": [],
   "source": [
    "# 123 -> 1*3 + 2*3 + 3*3 = 123 -> Armstrong Number"
   ]
  },
  {
   "cell_type": "code",
   "execution_count": 3,
   "id": "c269a7f4",
   "metadata": {},
   "outputs": [
    {
     "name": "stdout",
     "output_type": "stream",
     "text": [
      "153\n",
      "Armstrong Number!\n"
     ]
    }
   ],
   "source": [
    "number = int(input())\n",
    "\n",
    "number_copy = number\n",
    "armstrong_sum = 0\n",
    "\n",
    "while number > 0:\n",
    "    last_digit = number % 10\n",
    "    \n",
    "    armstrong_sum += last_digit**3\n",
    "    \n",
    "    number = number // 10\n",
    "    \n",
    "if armstrong_sum == number_copy:\n",
    "    print(\"Armstrong Number!\")\n",
    "else:\n",
    "    print(\"NO!\")"
   ]
  },
  {
   "cell_type": "code",
   "execution_count": 5,
   "id": "2bd0e722",
   "metadata": {},
   "outputs": [],
   "source": [
    "# n = int(input())\n",
    "\n",
    "# for i in range(1, n + 1):\n",
    "#     number = i\n",
    "    \n",
    "    # ARMSTRONG NUMBER CODE"
   ]
  },
  {
   "cell_type": "code",
   "execution_count": 6,
   "id": "245a20f3",
   "metadata": {},
   "outputs": [
    {
     "data": {
      "text/plain": [
       "2.8284271247461903"
      ]
     },
     "execution_count": 6,
     "metadata": {},
     "output_type": "execute_result"
    }
   ],
   "source": [
    "8**0.5"
   ]
  },
  {
   "cell_type": "code",
   "execution_count": 7,
   "id": "92319a8c",
   "metadata": {},
   "outputs": [
    {
     "data": {
      "text/plain": [
       "3.0"
      ]
     },
     "execution_count": 7,
     "metadata": {},
     "output_type": "execute_result"
    }
   ],
   "source": [
    "9**0.5"
   ]
  },
  {
   "cell_type": "code",
   "execution_count": 9,
   "id": "c49fb144",
   "metadata": {},
   "outputs": [
    {
     "name": "stdout",
     "output_type": "stream",
     "text": [
      "9\n",
      "Perfect Square!\n"
     ]
    }
   ],
   "source": [
    "number = int(input())\n",
    "\n",
    "sqrt = number ** 0.5\n",
    "\n",
    "int_part = sqrt // 1\n",
    "decimal_part = sqrt - int_part\n",
    "\n",
    "if decimal_part == 0:\n",
    "    print(\"Perfect Square!\")\n",
    "else:\n",
    "    print(\"No!\")"
   ]
  },
  {
   "cell_type": "code",
   "execution_count": 11,
   "id": "89d9eb74",
   "metadata": {},
   "outputs": [
    {
     "name": "stdout",
     "output_type": "stream",
     "text": [
      "9\n",
      "Perfect Square!\n"
     ]
    }
   ],
   "source": [
    "number = int(input())\n",
    "\n",
    "sqrt = number ** 0.5\n",
    "\n",
    "int_part = sqrt // 1\n",
    "# decimal_part = sqrt - int_part\n",
    "\n",
    "if sqrt == int_part:\n",
    "    print(\"Perfect Square!\")\n",
    "else:\n",
    "    print(\"No!\")"
   ]
  },
  {
   "cell_type": "code",
   "execution_count": 15,
   "id": "0ccb7ac9",
   "metadata": {},
   "outputs": [
    {
     "name": "stdout",
     "output_type": "stream",
     "text": [
      "16\n",
      "1 2 4 8 16\n",
      "This number has 5 factors!\n"
     ]
    }
   ],
   "source": [
    "number = int(input())\n",
    "\n",
    "count = 2\n",
    "\n",
    "print(\"1\", end = \" \")\n",
    "\n",
    "for i in range(2, (number // 2) + 1):\n",
    "    if number % i == 0:\n",
    "        count += 1\n",
    "        print(i, end = \" \")\n",
    "        \n",
    "print(number)\n",
    "print(\"This number has\", count, \"factors!\")"
   ]
  },
  {
   "cell_type": "code",
   "execution_count": 16,
   "id": "cc7f7f77",
   "metadata": {},
   "outputs": [
    {
     "data": {
      "text/plain": [
       "True"
      ]
     },
     "execution_count": 16,
     "metadata": {},
     "output_type": "execute_result"
    }
   ],
   "source": [
    "1 == True"
   ]
  },
  {
   "cell_type": "code",
   "execution_count": 17,
   "id": "1c1ce7f0",
   "metadata": {},
   "outputs": [
    {
     "data": {
      "text/plain": [
       "True"
      ]
     },
     "execution_count": 17,
     "metadata": {},
     "output_type": "execute_result"
    }
   ],
   "source": [
    "0 == False"
   ]
  },
  {
   "cell_type": "code",
   "execution_count": 18,
   "id": "55074543",
   "metadata": {},
   "outputs": [
    {
     "data": {
      "text/plain": [
       "True"
      ]
     },
     "execution_count": 18,
     "metadata": {},
     "output_type": "execute_result"
    }
   ],
   "source": [
    "bool(1)"
   ]
  },
  {
   "cell_type": "code",
   "execution_count": 19,
   "id": "f7e0d55d",
   "metadata": {},
   "outputs": [
    {
     "data": {
      "text/plain": [
       "False"
      ]
     },
     "execution_count": 19,
     "metadata": {},
     "output_type": "execute_result"
    }
   ],
   "source": [
    "bool(0)"
   ]
  },
  {
   "cell_type": "code",
   "execution_count": 24,
   "id": "12e1230d",
   "metadata": {},
   "outputs": [
    {
     "name": "stdout",
     "output_type": "stream",
     "text": [
      "0\n"
     ]
    }
   ],
   "source": [
    "random = bool(int(input()))"
   ]
  },
  {
   "cell_type": "code",
   "execution_count": 25,
   "id": "f274b74c",
   "metadata": {},
   "outputs": [
    {
     "data": {
      "text/plain": [
       "False"
      ]
     },
     "execution_count": 25,
     "metadata": {},
     "output_type": "execute_result"
    }
   ],
   "source": [
    "random"
   ]
  },
  {
   "cell_type": "code",
   "execution_count": 26,
   "id": "8a3737a7",
   "metadata": {},
   "outputs": [
    {
     "data": {
      "text/plain": [
       "True"
      ]
     },
     "execution_count": 26,
     "metadata": {},
     "output_type": "execute_result"
    }
   ],
   "source": [
    "bool(\"0\")"
   ]
  },
  {
   "cell_type": "code",
   "execution_count": 27,
   "id": "6b73e361",
   "metadata": {},
   "outputs": [
    {
     "data": {
      "text/plain": [
       "\"\\nHow to approach solving this problem? \\nHere're some base-10 logarithms: \\nlog10(1000) = 3 -> number of digits = 4 -> Log = 3.something\\nlog10(49323) ≈ 4.69 -> number of digits = 5 -> Log = 4.something\\nlog10(100000) = 5 -> number of digits = 6 -> Log = 5.something\\nlog10(333333) ≈ 5.52 -> number of digits = 6 -> Log = 5.something\\n\\nWhich statement is true?\\n\""
      ]
     },
     "execution_count": 27,
     "metadata": {},
     "output_type": "execute_result"
    }
   ],
   "source": [
    "'''\n",
    "How to approach solving this problem? \n",
    "Here're some base-10 logarithms: \n",
    "log10(1000) = 3 -> number of digits = 4 -> Log = 3.something\n",
    "log10(49323) ≈ 4.69 -> number of digits = 5 -> Log = 4.something\n",
    "log10(100000) = 5 -> number of digits = 6 -> Log = 5.something\n",
    "log10(333333) ≈ 5.52 -> number of digits = 6 -> Log = 5.something\n",
    "\n",
    "Which statement is true?\n",
    "'''"
   ]
  },
  {
   "cell_type": "code",
   "execution_count": 28,
   "id": "d6c11230",
   "metadata": {},
   "outputs": [],
   "source": [
    "a = 0\n",
    "\n",
    "while True:\n",
    "    # FILL IN THE BLANK\n",
    "    a = a + 1 # a = 1, a = 3, a = 5, 2, 4\n",
    "    a %= 5 # a = 1, a = 3, a = 0, 2, 4\n",
    "    a += 1 # a = 2, a = 4, a = 1, 3, 5\n",
    "    \n",
    "    if a == 5:\n",
    "        break"
   ]
  },
  {
   "cell_type": "code",
   "execution_count": 29,
   "id": "aa8b0d8e",
   "metadata": {},
   "outputs": [
    {
     "data": {
      "text/plain": [
       "'\\nDRY RUN ->\\nx = 2\\n\\ni = 0\\n    x % 2 -> 0 -> if statment does not execute\\n    x = x + 1 -> 3\\n    \\ni = 1\\n    x % 2 -> 1 -> if statement is executed\\n    x = x * 2 -> 6\\n\\ni = 2\\n    x % 2 -> 0\\n    x = x + 1 -> 7\\n    \\ni = 3\\n    x % 2 -> 1\\n    x = x * 2 -> 14\\n'"
      ]
     },
     "execution_count": 29,
     "metadata": {},
     "output_type": "execute_result"
    }
   ],
   "source": [
    "x = 2\n",
    "for i in range(0, 4):\n",
    "    if x % 2:\n",
    "        x = x * 2\n",
    "    else:\n",
    "        x = x + 1\n",
    "        \n",
    "'''\n",
    "DRY RUN ->\n",
    "x = 2\n",
    "\n",
    "i = 0\n",
    "    x % 2 -> 0 -> if statment does not execute\n",
    "    x = x + 1 -> 3\n",
    "    \n",
    "i = 1\n",
    "    x % 2 -> 1 -> if statement is executed\n",
    "    x = x * 2 -> 6\n",
    "\n",
    "i = 2\n",
    "    x % 2 -> 0\n",
    "    x = x + 1 -> 7\n",
    "    \n",
    "i = 3\n",
    "    x % 2 -> 1\n",
    "    x = x * 2 -> 14\n",
    "'''"
   ]
  },
  {
   "cell_type": "code",
   "execution_count": null,
   "id": "bf57449f",
   "metadata": {},
   "outputs": [],
   "source": []
  }
 ],
 "metadata": {
  "kernelspec": {
   "display_name": "Python 3 (ipykernel)",
   "language": "python",
   "name": "python3"
  },
  "language_info": {
   "codemirror_mode": {
    "name": "ipython",
    "version": 3
   },
   "file_extension": ".py",
   "mimetype": "text/x-python",
   "name": "python",
   "nbconvert_exporter": "python",
   "pygments_lexer": "ipython3",
   "version": "3.9.5"
  }
 },
 "nbformat": 4,
 "nbformat_minor": 5
}
