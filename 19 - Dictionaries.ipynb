{
 "cells": [
  {
   "cell_type": "code",
   "execution_count": 1,
   "id": "9236bf46",
   "metadata": {},
   "outputs": [],
   "source": [
    "a = [10,20,30,40,50]"
   ]
  },
  {
   "cell_type": "code",
   "execution_count": 2,
   "id": "1bacb2b5",
   "metadata": {},
   "outputs": [],
   "source": [
    "a[0] = 100"
   ]
  },
  {
   "cell_type": "code",
   "execution_count": 3,
   "id": "e96e6971",
   "metadata": {},
   "outputs": [
    {
     "data": {
      "text/plain": [
       "[100, 20, 30, 40, 50]"
      ]
     },
     "execution_count": 3,
     "metadata": {},
     "output_type": "execute_result"
    }
   ],
   "source": [
    "a"
   ]
  },
  {
   "cell_type": "code",
   "execution_count": 4,
   "id": "3dd61ef2",
   "metadata": {},
   "outputs": [],
   "source": [
    "a = (10,20,30,40,50)"
   ]
  },
  {
   "cell_type": "code",
   "execution_count": 5,
   "id": "10df4cd3",
   "metadata": {},
   "outputs": [
    {
     "ename": "TypeError",
     "evalue": "'tuple' object does not support item assignment",
     "output_type": "error",
     "traceback": [
      "\u001b[0;31m---------------------------------------------------------------------------\u001b[0m",
      "\u001b[0;31mTypeError\u001b[0m                                 Traceback (most recent call last)",
      "Cell \u001b[0;32mIn[5], line 1\u001b[0m\n\u001b[0;32m----> 1\u001b[0m \u001b[43ma\u001b[49m\u001b[43m[\u001b[49m\u001b[38;5;241;43m0\u001b[39;49m\u001b[43m]\u001b[49m \u001b[38;5;241m=\u001b[39m \u001b[38;5;241m100\u001b[39m\n",
      "\u001b[0;31mTypeError\u001b[0m: 'tuple' object does not support item assignment"
     ]
    }
   ],
   "source": [
    "a[0] = 100"
   ]
  },
  {
   "cell_type": "code",
   "execution_count": 6,
   "id": "5e89dd12",
   "metadata": {},
   "outputs": [],
   "source": [
    "a = {\n",
    "    \"key1\" : \"value1\",\n",
    "    \"key2\" : \"value2\"\n",
    "}\n",
    "\n",
    "# HETEROGENEITY WILL ALSO BE COVERED!"
   ]
  },
  {
   "cell_type": "code",
   "execution_count": 7,
   "id": "94e499e7",
   "metadata": {},
   "outputs": [],
   "source": [
    "# state -> number of people living in that state (in million)"
   ]
  },
  {
   "cell_type": "code",
   "execution_count": 8,
   "id": "50f0274e",
   "metadata": {},
   "outputs": [],
   "source": [
    "# Approach 1 -> List of tuples\n",
    "state_wise_data = [(\"Delhi\", 20), (\"Haryana\", 35), (\"UP\", 100)]"
   ]
  },
  {
   "cell_type": "code",
   "execution_count": 10,
   "id": "45dd84cb",
   "metadata": {},
   "outputs": [
    {
     "data": {
      "text/plain": [
       "[('Delhi', 20), ('Haryana', 35), ('UP', 100)]"
      ]
     },
     "execution_count": 10,
     "metadata": {},
     "output_type": "execute_result"
    }
   ],
   "source": [
    "state_wise_data"
   ]
  },
  {
   "cell_type": "code",
   "execution_count": 12,
   "id": "910e9315",
   "metadata": {},
   "outputs": [
    {
     "data": {
      "text/plain": [
       "35"
      ]
     },
     "execution_count": 12,
     "metadata": {},
     "output_type": "execute_result"
    }
   ],
   "source": [
    "state_wise_data[1][1]"
   ]
  },
  {
   "cell_type": "code",
   "execution_count": 14,
   "id": "a3c432f4",
   "metadata": {},
   "outputs": [],
   "source": [
    "# Approach 2 -> Dictionary\n",
    "state_wise_data = {\n",
    "    \"Delhi\": 20,\n",
    "    \"Haryana\": 35,\n",
    "    \"UP\": 100\n",
    "}"
   ]
  },
  {
   "cell_type": "code",
   "execution_count": 15,
   "id": "a2f20dc2",
   "metadata": {},
   "outputs": [
    {
     "data": {
      "text/plain": [
       "20"
      ]
     },
     "execution_count": 15,
     "metadata": {},
     "output_type": "execute_result"
    }
   ],
   "source": [
    "state_wise_data[\"Delhi\"]"
   ]
  },
  {
   "cell_type": "code",
   "execution_count": 16,
   "id": "30249bda",
   "metadata": {},
   "outputs": [
    {
     "data": {
      "text/plain": [
       "100"
      ]
     },
     "execution_count": 16,
     "metadata": {},
     "output_type": "execute_result"
    }
   ],
   "source": [
    "state_wise_data[\"UP\"]"
   ]
  },
  {
   "cell_type": "code",
   "execution_count": 17,
   "id": "eef3020e",
   "metadata": {},
   "outputs": [],
   "source": [
    "# KEYS ARE ALWAYS UNIQUE"
   ]
  },
  {
   "cell_type": "code",
   "execution_count": 19,
   "id": "c4423219",
   "metadata": {},
   "outputs": [
    {
     "ename": "KeyError",
     "evalue": "0",
     "output_type": "error",
     "traceback": [
      "\u001b[0;31m---------------------------------------------------------------------------\u001b[0m",
      "\u001b[0;31mKeyError\u001b[0m                                  Traceback (most recent call last)",
      "Cell \u001b[0;32mIn[19], line 1\u001b[0m\n\u001b[0;32m----> 1\u001b[0m \u001b[43mstate_wise_data\u001b[49m\u001b[43m[\u001b[49m\u001b[38;5;241;43m0\u001b[39;49m\u001b[43m]\u001b[49m \u001b[38;5;66;03m# numerical indexes do not exist just like a set\u001b[39;00m\n",
      "\u001b[0;31mKeyError\u001b[0m: 0"
     ]
    }
   ],
   "source": [
    "state_wise_data[0] # numerical indexes do not exist just like a set"
   ]
  },
  {
   "cell_type": "code",
   "execution_count": 20,
   "id": "ca39239f",
   "metadata": {},
   "outputs": [
    {
     "ename": "AttributeError",
     "evalue": "'dict' object has no attribute 'Delhi'",
     "output_type": "error",
     "traceback": [
      "\u001b[0;31m---------------------------------------------------------------------------\u001b[0m",
      "\u001b[0;31mAttributeError\u001b[0m                            Traceback (most recent call last)",
      "Cell \u001b[0;32mIn[20], line 1\u001b[0m\n\u001b[0;32m----> 1\u001b[0m \u001b[43mstate_wise_data\u001b[49m\u001b[38;5;241;43m.\u001b[39;49m\u001b[43mDelhi\u001b[49m \u001b[38;5;66;03m# This is not allowed in Python\u001b[39;00m\n",
      "\u001b[0;31mAttributeError\u001b[0m: 'dict' object has no attribute 'Delhi'"
     ]
    }
   ],
   "source": [
    "state_wise_data.Delhi # This is not allowed in Python"
   ]
  },
  {
   "cell_type": "code",
   "execution_count": 21,
   "id": "8e1b11bf",
   "metadata": {},
   "outputs": [
    {
     "ename": "NameError",
     "evalue": "name 'state_wise_dictionary' is not defined",
     "output_type": "error",
     "traceback": [
      "\u001b[0;31m---------------------------------------------------------------------------\u001b[0m",
      "\u001b[0;31mNameError\u001b[0m                                 Traceback (most recent call last)",
      "Cell \u001b[0;32mIn[21], line 1\u001b[0m\n\u001b[0;32m----> 1\u001b[0m \u001b[43mstate_wise_dictionary\u001b[49m\n",
      "\u001b[0;31mNameError\u001b[0m: name 'state_wise_dictionary' is not defined"
     ]
    }
   ],
   "source": [
    "state_wise_dictionary"
   ]
  },
  {
   "cell_type": "code",
   "execution_count": 22,
   "id": "c54f6a8c",
   "metadata": {},
   "outputs": [],
   "source": [
    "a = {}"
   ]
  },
  {
   "cell_type": "code",
   "execution_count": 23,
   "id": "5987def1",
   "metadata": {},
   "outputs": [
    {
     "data": {
      "text/plain": [
       "dict"
      ]
     },
     "execution_count": 23,
     "metadata": {},
     "output_type": "execute_result"
    }
   ],
   "source": [
    "type(a)"
   ]
  },
  {
   "cell_type": "code",
   "execution_count": 24,
   "id": "a43076ed",
   "metadata": {},
   "outputs": [],
   "source": [
    "a = {\n",
    "    \"Delhi\": 20,\n",
    "    \"Haryana\": 35,\n",
    "    \"UP\": 100\n",
    "}"
   ]
  },
  {
   "cell_type": "code",
   "execution_count": 25,
   "id": "7ad35ee7",
   "metadata": {},
   "outputs": [],
   "source": [
    "a[\"Delhi\"] = 25"
   ]
  },
  {
   "cell_type": "code",
   "execution_count": 26,
   "id": "11d32b59",
   "metadata": {},
   "outputs": [
    {
     "data": {
      "text/plain": [
       "{'Delhi': 25, 'Haryana': 35, 'UP': 100}"
      ]
     },
     "execution_count": 26,
     "metadata": {},
     "output_type": "execute_result"
    }
   ],
   "source": [
    "a"
   ]
  },
  {
   "cell_type": "code",
   "execution_count": 38,
   "id": "70487bd9",
   "metadata": {},
   "outputs": [],
   "source": [
    "a = {\n",
    "    \"Delhi\": 20,\n",
    "    \"Haryana\": 35,\n",
    "    \"UP\": 100,\n",
    "    \"Delhi\": 30\n",
    "}"
   ]
  },
  {
   "cell_type": "code",
   "execution_count": 39,
   "id": "c2bc1961",
   "metadata": {},
   "outputs": [
    {
     "data": {
      "text/plain": [
       "{'Delhi': 30, 'Haryana': 35, 'UP': 100}"
      ]
     },
     "execution_count": 39,
     "metadata": {},
     "output_type": "execute_result"
    }
   ],
   "source": [
    "a # Keys are always unique"
   ]
  },
  {
   "cell_type": "code",
   "execution_count": 40,
   "id": "7885fc81",
   "metadata": {},
   "outputs": [
    {
     "data": {
      "text/plain": [
       "{'Delhi': 30, 'Haryana': 35, 'UP': 100}"
      ]
     },
     "execution_count": 40,
     "metadata": {},
     "output_type": "execute_result"
    }
   ],
   "source": [
    "a"
   ]
  },
  {
   "cell_type": "code",
   "execution_count": 41,
   "id": "0288e433",
   "metadata": {},
   "outputs": [],
   "source": [
    "a[\"Maharashtra\"] = 75\n",
    "# New key value pairs can be added"
   ]
  },
  {
   "cell_type": "code",
   "execution_count": 42,
   "id": "dbcfc05e",
   "metadata": {},
   "outputs": [
    {
     "data": {
      "text/plain": [
       "{'Delhi': 30, 'Haryana': 35, 'UP': 100, 'Maharashtra': 75}"
      ]
     },
     "execution_count": 42,
     "metadata": {},
     "output_type": "execute_result"
    }
   ],
   "source": [
    "a"
   ]
  },
  {
   "cell_type": "code",
   "execution_count": 43,
   "id": "26b5b85d",
   "metadata": {},
   "outputs": [],
   "source": [
    "a[\"delhi\"] = \"Random\""
   ]
  },
  {
   "cell_type": "code",
   "execution_count": 34,
   "id": "dbc5ce94",
   "metadata": {},
   "outputs": [
    {
     "data": {
      "text/plain": [
       "{'Delhi': 30, 'Haryana': 35, 'UP': 100, 'Maharashtra': 75, 'delhi': 'Random'}"
      ]
     },
     "execution_count": 34,
     "metadata": {},
     "output_type": "execute_result"
    }
   ],
   "source": [
    "a"
   ]
  },
  {
   "cell_type": "code",
   "execution_count": 44,
   "id": "32dd9ac2",
   "metadata": {},
   "outputs": [
    {
     "data": {
      "text/plain": [
       "{'Delhi': 30, 'Haryana': 35, 'UP': 100, 'Maharashtra': 75, 'delhi': 'Random'}"
      ]
     },
     "execution_count": 44,
     "metadata": {},
     "output_type": "execute_result"
    }
   ],
   "source": [
    "a"
   ]
  },
  {
   "cell_type": "code",
   "execution_count": 45,
   "id": "996b1db3",
   "metadata": {},
   "outputs": [
    {
     "data": {
      "text/plain": [
       "'\\nHETEROGENEITY -\\n    - Keys -> Strings\\n    - Values -> Any python object\\n'"
      ]
     },
     "execution_count": 45,
     "metadata": {},
     "output_type": "execute_result"
    }
   ],
   "source": [
    "'''\n",
    "HETEROGENEITY -\n",
    "    - Keys -> Strings\n",
    "    - Values -> Any python object\n",
    "'''"
   ]
  },
  {
   "cell_type": "code",
   "execution_count": 46,
   "id": "8bdbd085",
   "metadata": {},
   "outputs": [],
   "source": [
    "Avenger = {\n",
    "    \"name\" : \"Thor\",\n",
    "    \"age\" : 1500,\n",
    "    \"weapon\" : [\"stormbreaker\", \"mjolnir\"]\n",
    "}"
   ]
  },
  {
   "cell_type": "code",
   "execution_count": 47,
   "id": "45ddf46a",
   "metadata": {},
   "outputs": [],
   "source": [
    "# Add and update values together"
   ]
  },
  {
   "cell_type": "code",
   "execution_count": 48,
   "id": "b190d91b",
   "metadata": {},
   "outputs": [],
   "source": [
    "Avenger.update({\n",
    "    \"name\": \"Thor Odinson\",\n",
    "    \"weapon\": [\"stormbreaker\"],\n",
    "    \"strongest?\": True,\n",
    "    \"eyes\": 1\n",
    "})"
   ]
  },
  {
   "cell_type": "code",
   "execution_count": 49,
   "id": "3dec5eb9",
   "metadata": {},
   "outputs": [
    {
     "data": {
      "text/plain": [
       "{'name': 'Thor Odinson',\n",
       " 'age': 1500,\n",
       " 'weapon': ['stormbreaker'],\n",
       " 'strongest?': True,\n",
       " 'eyes': 1}"
      ]
     },
     "execution_count": 49,
     "metadata": {},
     "output_type": "execute_result"
    }
   ],
   "source": [
    "Avenger"
   ]
  },
  {
   "cell_type": "code",
   "execution_count": 50,
   "id": "16e449ad",
   "metadata": {},
   "outputs": [],
   "source": [
    "random = {\n",
    "    \"a\": 1,\n",
    "    \"b\": 2,\n",
    "    \"c\": 3,\n",
    "    \"d\": None\n",
    "}"
   ]
  },
  {
   "cell_type": "code",
   "execution_count": 51,
   "id": "d9712448",
   "metadata": {},
   "outputs": [
    {
     "data": {
      "text/plain": [
       "2"
      ]
     },
     "execution_count": 51,
     "metadata": {},
     "output_type": "execute_result"
    }
   ],
   "source": [
    "random[\"b\"]"
   ]
  },
  {
   "cell_type": "code",
   "execution_count": 52,
   "id": "e7bd01e6",
   "metadata": {},
   "outputs": [
    {
     "ename": "KeyError",
     "evalue": "'e'",
     "output_type": "error",
     "traceback": [
      "\u001b[0;31m---------------------------------------------------------------------------\u001b[0m",
      "\u001b[0;31mKeyError\u001b[0m                                  Traceback (most recent call last)",
      "Cell \u001b[0;32mIn[52], line 1\u001b[0m\n\u001b[0;32m----> 1\u001b[0m \u001b[43mrandom\u001b[49m\u001b[43m[\u001b[49m\u001b[38;5;124;43m\"\u001b[39;49m\u001b[38;5;124;43me\u001b[39;49m\u001b[38;5;124;43m\"\u001b[39;49m\u001b[43m]\u001b[49m\n",
      "\u001b[0;31mKeyError\u001b[0m: 'e'"
     ]
    }
   ],
   "source": [
    "random[\"e\"]"
   ]
  },
  {
   "cell_type": "code",
   "execution_count": 53,
   "id": "4cd54a02",
   "metadata": {},
   "outputs": [],
   "source": [
    "# GET FUNCTION"
   ]
  },
  {
   "cell_type": "code",
   "execution_count": 54,
   "id": "8da940dc",
   "metadata": {},
   "outputs": [],
   "source": [
    "random.get(\"e\")"
   ]
  },
  {
   "cell_type": "code",
   "execution_count": 55,
   "id": "793ebd29",
   "metadata": {},
   "outputs": [],
   "source": [
    "result = random.get(\"e\")"
   ]
  },
  {
   "cell_type": "code",
   "execution_count": 57,
   "id": "13a0e135",
   "metadata": {},
   "outputs": [
    {
     "name": "stdout",
     "output_type": "stream",
     "text": [
      "None\n"
     ]
    }
   ],
   "source": [
    "print(result) # simply returns None if a key is not present"
   ]
  },
  {
   "cell_type": "code",
   "execution_count": 60,
   "id": "070dcaaf",
   "metadata": {},
   "outputs": [],
   "source": [
    "result = random.get(\"e\", \"Not Found!\")\n",
    "# A default value can also be specified!"
   ]
  },
  {
   "cell_type": "code",
   "execution_count": 61,
   "id": "a3f456c5",
   "metadata": {},
   "outputs": [
    {
     "data": {
      "text/plain": [
       "'Not Found!'"
      ]
     },
     "execution_count": 61,
     "metadata": {},
     "output_type": "execute_result"
    }
   ],
   "source": [
    "result"
   ]
  },
  {
   "cell_type": "code",
   "execution_count": 62,
   "id": "f39b0a4e",
   "metadata": {},
   "outputs": [
    {
     "data": {
      "text/plain": [
       "{'name': 'Thor Odinson',\n",
       " 'age': 1500,\n",
       " 'weapon': ['stormbreaker'],\n",
       " 'strongest?': True,\n",
       " 'eyes': 1}"
      ]
     },
     "execution_count": 62,
     "metadata": {},
     "output_type": "execute_result"
    }
   ],
   "source": [
    "Avenger"
   ]
  },
  {
   "cell_type": "code",
   "execution_count": 64,
   "id": "1c162798",
   "metadata": {},
   "outputs": [],
   "source": [
    "Avenger[\"weapon\"].append(\"mjolnir\")"
   ]
  },
  {
   "cell_type": "code",
   "execution_count": 65,
   "id": "33dc82c6",
   "metadata": {},
   "outputs": [
    {
     "data": {
      "text/plain": [
       "{'name': 'Thor Odinson',\n",
       " 'age': 1500,\n",
       " 'weapon': ['stormbreaker', 'mjolnir'],\n",
       " 'strongest?': True,\n",
       " 'eyes': 1}"
      ]
     },
     "execution_count": 65,
     "metadata": {},
     "output_type": "execute_result"
    }
   ],
   "source": [
    "Avenger"
   ]
  },
  {
   "cell_type": "code",
   "execution_count": 66,
   "id": "85cfa077",
   "metadata": {},
   "outputs": [],
   "source": [
    "Avenger.update({\n",
    "    \"weapon\" : ['stormbreaker', 'mjolnir']\n",
    "})"
   ]
  },
  {
   "cell_type": "code",
   "execution_count": 67,
   "id": "500487a8",
   "metadata": {},
   "outputs": [],
   "source": [
    "# CRUD -> Create, Read, Update, Delete"
   ]
  },
  {
   "cell_type": "code",
   "execution_count": 68,
   "id": "c3155106",
   "metadata": {},
   "outputs": [
    {
     "data": {
      "text/plain": [
       "{'a': 1, 'b': 2, 'c': 3, 'd': None}"
      ]
     },
     "execution_count": 68,
     "metadata": {},
     "output_type": "execute_result"
    }
   ],
   "source": [
    "random"
   ]
  },
  {
   "cell_type": "code",
   "execution_count": 69,
   "id": "86f4800c",
   "metadata": {},
   "outputs": [],
   "source": [
    "random.pop(\"d\")"
   ]
  },
  {
   "cell_type": "code",
   "execution_count": 70,
   "id": "a4612fad",
   "metadata": {},
   "outputs": [
    {
     "data": {
      "text/plain": [
       "{'a': 1, 'b': 2, 'c': 3}"
      ]
     },
     "execution_count": 70,
     "metadata": {},
     "output_type": "execute_result"
    }
   ],
   "source": [
    "random"
   ]
  },
  {
   "cell_type": "code",
   "execution_count": 71,
   "id": "18707aa3",
   "metadata": {},
   "outputs": [
    {
     "data": {
      "text/plain": [
       "2"
      ]
     },
     "execution_count": 71,
     "metadata": {},
     "output_type": "execute_result"
    }
   ],
   "source": [
    "random.pop(\"b\")"
   ]
  },
  {
   "cell_type": "code",
   "execution_count": 72,
   "id": "1796de4f",
   "metadata": {},
   "outputs": [
    {
     "data": {
      "text/plain": [
       "{'a': 1, 'c': 3}"
      ]
     },
     "execution_count": 72,
     "metadata": {},
     "output_type": "execute_result"
    }
   ],
   "source": [
    "random"
   ]
  },
  {
   "cell_type": "code",
   "execution_count": 73,
   "id": "81815cfa",
   "metadata": {},
   "outputs": [
    {
     "ename": "TypeError",
     "evalue": "pop expected at least 1 argument, got 0",
     "output_type": "error",
     "traceback": [
      "\u001b[0;31m---------------------------------------------------------------------------\u001b[0m",
      "\u001b[0;31mTypeError\u001b[0m                                 Traceback (most recent call last)",
      "Cell \u001b[0;32mIn[73], line 1\u001b[0m\n\u001b[0;32m----> 1\u001b[0m \u001b[43mrandom\u001b[49m\u001b[38;5;241;43m.\u001b[39;49m\u001b[43mpop\u001b[49m\u001b[43m(\u001b[49m\u001b[43m)\u001b[49m\n",
      "\u001b[0;31mTypeError\u001b[0m: pop expected at least 1 argument, got 0"
     ]
    }
   ],
   "source": [
    "random.pop()"
   ]
  },
  {
   "cell_type": "code",
   "execution_count": 74,
   "id": "009ee2c7",
   "metadata": {},
   "outputs": [
    {
     "data": {
      "text/plain": [
       "'\\nQuestion 1 - \\nGiven two dictionaries A and B, \\nWrite a python program to merge these dictionaries.\\n\\nExample -\\nA = {\\n    \"a\" : 4,\\n    \"b\" : 5,\\n    \"c\" : 6\\n}\\n\\nB = {\\n    \"b\" : 1,\\n    \"d\" : 20\\n}\\n\\nResult = {\\n    \"a\" : 4,\\n    \"b\" : 1,\\n    \"c\" : 6,\\n    \"d\" : 20\\n}\\n'"
      ]
     },
     "execution_count": 74,
     "metadata": {},
     "output_type": "execute_result"
    }
   ],
   "source": [
    "'''\n",
    "Question 1 - \n",
    "Given two dictionaries A and B, \n",
    "Write a python program to merge these dictionaries.\n",
    "\n",
    "Example -\n",
    "A = {\n",
    "    \"a\" : 4,\n",
    "    \"b\" : 5,\n",
    "    \"c\" : 6\n",
    "}\n",
    "\n",
    "B = {\n",
    "    \"b\" : 1,\n",
    "    \"d\" : 20\n",
    "}\n",
    "\n",
    "Result = {\n",
    "    \"a\" : 4,\n",
    "    \"b\" : 1,\n",
    "    \"c\" : 6,\n",
    "    \"d\" : 20\n",
    "}\n",
    "'''"
   ]
  },
  {
   "cell_type": "code",
   "execution_count": 75,
   "id": "da3a4427",
   "metadata": {},
   "outputs": [],
   "source": [
    "A = {\n",
    "    \"a\" : 4,\n",
    "    \"b\" : 5,\n",
    "    \"c\" : 6\n",
    "}\n",
    "\n",
    "B = {\n",
    "    \"b\" : 1,\n",
    "    \"d\" : 20\n",
    "}"
   ]
  },
  {
   "cell_type": "code",
   "execution_count": 76,
   "id": "3aa64845",
   "metadata": {},
   "outputs": [],
   "source": [
    "A.update(B)"
   ]
  },
  {
   "cell_type": "code",
   "execution_count": 77,
   "id": "24c13efa",
   "metadata": {},
   "outputs": [
    {
     "data": {
      "text/plain": [
       "{'a': 4, 'b': 1, 'c': 6, 'd': 20}"
      ]
     },
     "execution_count": 77,
     "metadata": {},
     "output_type": "execute_result"
    }
   ],
   "source": [
    "A"
   ]
  },
  {
   "cell_type": "code",
   "execution_count": 78,
   "id": "68d0b083",
   "metadata": {},
   "outputs": [],
   "source": [
    "result = {1,2,3} | {4,5,6}"
   ]
  },
  {
   "cell_type": "code",
   "execution_count": 79,
   "id": "e8ac6626",
   "metadata": {},
   "outputs": [
    {
     "data": {
      "text/plain": [
       "{1, 2, 3, 4, 5, 6}"
      ]
     },
     "execution_count": 79,
     "metadata": {},
     "output_type": "execute_result"
    }
   ],
   "source": [
    "result"
   ]
  },
  {
   "cell_type": "code",
   "execution_count": 80,
   "id": "a49d82c9",
   "metadata": {},
   "outputs": [],
   "source": [
    "A = {\n",
    "    \"a\" : 4,\n",
    "    \"b\" : 5,\n",
    "    \"c\" : 6\n",
    "}\n",
    "\n",
    "B = {\n",
    "    \"b\" : 1,\n",
    "    \"d\" : 20\n",
    "}"
   ]
  },
  {
   "cell_type": "code",
   "execution_count": 81,
   "id": "8fa942ff",
   "metadata": {},
   "outputs": [],
   "source": [
    "result = A | B"
   ]
  },
  {
   "cell_type": "code",
   "execution_count": 82,
   "id": "38c0f217",
   "metadata": {},
   "outputs": [
    {
     "data": {
      "text/plain": [
       "{'a': 4, 'b': 1, 'c': 6, 'd': 20}"
      ]
     },
     "execution_count": 82,
     "metadata": {},
     "output_type": "execute_result"
    }
   ],
   "source": [
    "result"
   ]
  },
  {
   "cell_type": "code",
   "execution_count": 1,
   "id": "ecd1ad61",
   "metadata": {},
   "outputs": [],
   "source": [
    "# ITERATION IN A DICTIONARY"
   ]
  },
  {
   "cell_type": "code",
   "execution_count": 3,
   "id": "e29f877b",
   "metadata": {},
   "outputs": [],
   "source": [
    "a = {\n",
    "    'name': 'Thor Odinson',\n",
    "    'age': 1500,\n",
    "    'weapon': ['stormbreaker', 'mjolnir'],\n",
    "    'strongest?': True,\n",
    "    'eyes': 1\n",
    "}"
   ]
  },
  {
   "cell_type": "code",
   "execution_count": 4,
   "id": "f9fa4a81",
   "metadata": {},
   "outputs": [
    {
     "data": {
      "text/plain": [
       "{'name': 'Thor Odinson',\n",
       " 'age': 1500,\n",
       " 'weapon': ['stormbreaker', 'mjolnir'],\n",
       " 'strongest?': True,\n",
       " 'eyes': 1}"
      ]
     },
     "execution_count": 4,
     "metadata": {},
     "output_type": "execute_result"
    }
   ],
   "source": [
    "a"
   ]
  },
  {
   "cell_type": "code",
   "execution_count": 6,
   "id": "a98df943",
   "metadata": {},
   "outputs": [
    {
     "name": "stdout",
     "output_type": "stream",
     "text": [
      "name\n",
      "age\n",
      "weapon\n",
      "strongest?\n",
      "eyes\n"
     ]
    }
   ],
   "source": [
    "for i in a: # traveral on keys by default\n",
    "    print(i)"
   ]
  },
  {
   "cell_type": "code",
   "execution_count": 7,
   "id": "fe22f97d",
   "metadata": {},
   "outputs": [
    {
     "name": "stdout",
     "output_type": "stream",
     "text": [
      "Thor Odinson\n",
      "1500\n",
      "['stormbreaker', 'mjolnir']\n",
      "True\n",
      "1\n"
     ]
    }
   ],
   "source": [
    "for i in a: # traversal on values using keys\n",
    "    print(a[i])"
   ]
  },
  {
   "cell_type": "code",
   "execution_count": 8,
   "id": "8555aef7",
   "metadata": {},
   "outputs": [
    {
     "name": "stdout",
     "output_type": "stream",
     "text": [
      "name -> Thor Odinson\n",
      "age -> 1500\n",
      "weapon -> ['stormbreaker', 'mjolnir']\n",
      "strongest? -> True\n",
      "eyes -> 1\n"
     ]
    }
   ],
   "source": [
    "for i in a:\n",
    "    print(f\"{i} -> {a[i]}\")"
   ]
  },
  {
   "cell_type": "code",
   "execution_count": 11,
   "id": "96d62479",
   "metadata": {},
   "outputs": [
    {
     "name": "stdout",
     "output_type": "stream",
     "text": [
      "name\n",
      "age\n",
      "weapon\n",
      "strongest?\n",
      "eyes\n"
     ]
    }
   ],
   "source": [
    "for i in a.keys():\n",
    "    print(i)"
   ]
  },
  {
   "cell_type": "code",
   "execution_count": 12,
   "id": "166f3b25",
   "metadata": {},
   "outputs": [
    {
     "data": {
      "text/plain": [
       "['name', 'age', 'weapon', 'strongest?', 'eyes']"
      ]
     },
     "execution_count": 12,
     "metadata": {},
     "output_type": "execute_result"
    }
   ],
   "source": [
    "list(a.keys())"
   ]
  },
  {
   "cell_type": "code",
   "execution_count": 13,
   "id": "1e6a4d34",
   "metadata": {},
   "outputs": [
    {
     "name": "stdout",
     "output_type": "stream",
     "text": [
      "Thor Odinson\n",
      "1500\n",
      "['stormbreaker', 'mjolnir']\n",
      "True\n",
      "1\n"
     ]
    }
   ],
   "source": [
    "for i in a.values():\n",
    "    print(i)"
   ]
  },
  {
   "cell_type": "code",
   "execution_count": 14,
   "id": "33eb3f49",
   "metadata": {},
   "outputs": [
    {
     "data": {
      "text/plain": [
       "[('name', 'Thor Odinson'),\n",
       " ('age', 1500),\n",
       " ('weapon', ['stormbreaker', 'mjolnir']),\n",
       " ('strongest?', True),\n",
       " ('eyes', 1)]"
      ]
     },
     "execution_count": 14,
     "metadata": {},
     "output_type": "execute_result"
    }
   ],
   "source": [
    "list(a.items())"
   ]
  },
  {
   "cell_type": "code",
   "execution_count": 15,
   "id": "15c49c20",
   "metadata": {},
   "outputs": [
    {
     "name": "stdout",
     "output_type": "stream",
     "text": [
      "('name', 'Thor Odinson')\n",
      "('age', 1500)\n",
      "('weapon', ['stormbreaker', 'mjolnir'])\n",
      "('strongest?', True)\n",
      "('eyes', 1)\n"
     ]
    }
   ],
   "source": [
    "for i in a.items():\n",
    "    print(i)"
   ]
  },
  {
   "cell_type": "code",
   "execution_count": 16,
   "id": "f37980c0",
   "metadata": {},
   "outputs": [],
   "source": [
    "x, y = (45, 67)"
   ]
  },
  {
   "cell_type": "code",
   "execution_count": 17,
   "id": "6548ab41",
   "metadata": {},
   "outputs": [
    {
     "data": {
      "text/plain": [
       "45"
      ]
     },
     "execution_count": 17,
     "metadata": {},
     "output_type": "execute_result"
    }
   ],
   "source": [
    "x"
   ]
  },
  {
   "cell_type": "code",
   "execution_count": 18,
   "id": "e979feff",
   "metadata": {},
   "outputs": [
    {
     "data": {
      "text/plain": [
       "67"
      ]
     },
     "execution_count": 18,
     "metadata": {},
     "output_type": "execute_result"
    }
   ],
   "source": [
    "y"
   ]
  },
  {
   "cell_type": "code",
   "execution_count": 21,
   "id": "ca00b513",
   "metadata": {},
   "outputs": [
    {
     "name": "stdout",
     "output_type": "stream",
     "text": [
      "name -> Thor Odinson\n",
      "age -> 1500\n",
      "weapon -> ['stormbreaker', 'mjolnir']\n",
      "strongest? -> True\n",
      "eyes -> 1\n"
     ]
    }
   ],
   "source": [
    "for i in a.items():\n",
    "    print(f\"{i[0]} -> {i[1]}\")"
   ]
  },
  {
   "cell_type": "code",
   "execution_count": 20,
   "id": "2620f3fb",
   "metadata": {
    "scrolled": true
   },
   "outputs": [
    {
     "name": "stdout",
     "output_type": "stream",
     "text": [
      "name -> Thor Odinson\n",
      "age -> 1500\n",
      "weapon -> ['stormbreaker', 'mjolnir']\n",
      "strongest? -> True\n",
      "eyes -> 1\n"
     ]
    }
   ],
   "source": [
    "for key, value in a.items(): # UNPACKING\n",
    "    print(f\"{key} -> {value}\")"
   ]
  },
  {
   "cell_type": "code",
   "execution_count": 22,
   "id": "bac36ec8",
   "metadata": {},
   "outputs": [
    {
     "data": {
      "text/plain": [
       "{'name': 'Thor Odinson',\n",
       " 'age': 1500,\n",
       " 'weapon': ['stormbreaker', 'mjolnir'],\n",
       " 'strongest?': True,\n",
       " 'eyes': 1}"
      ]
     },
     "execution_count": 22,
     "metadata": {},
     "output_type": "execute_result"
    }
   ],
   "source": [
    "a"
   ]
  },
  {
   "cell_type": "code",
   "execution_count": 26,
   "id": "6c646286",
   "metadata": {},
   "outputs": [
    {
     "data": {
      "text/plain": [
       "True"
      ]
     },
     "execution_count": 26,
     "metadata": {},
     "output_type": "execute_result"
    }
   ],
   "source": [
    "\"name\" in a.keys()"
   ]
  },
  {
   "cell_type": "code",
   "execution_count": 29,
   "id": "11226da7",
   "metadata": {},
   "outputs": [
    {
     "data": {
      "text/plain": [
       "True"
      ]
     },
     "execution_count": 29,
     "metadata": {},
     "output_type": "execute_result"
    }
   ],
   "source": [
    "\"eyes\" in a"
   ]
  },
  {
   "cell_type": "code",
   "execution_count": 28,
   "id": "063bc456",
   "metadata": {},
   "outputs": [
    {
     "data": {
      "text/plain": [
       "False"
      ]
     },
     "execution_count": 28,
     "metadata": {},
     "output_type": "execute_result"
    }
   ],
   "source": [
    "\"battle\" in a.keys()"
   ]
  },
  {
   "cell_type": "code",
   "execution_count": 31,
   "id": "cc2e3a63",
   "metadata": {},
   "outputs": [
    {
     "data": {
      "text/plain": [
       "'\\nQuestion 2 - \\n1. Take a string as input.\\n2. Create a dictionary acc to the following criteria - \\n- There will be one key value pair for each unique character - \\n- Key will be character and value will be the count of character inside the string\\n\\nINPUT - \"rrsssstttt\"\\nOUTPUT -\\n{\\n    \"r\": 2,\\n    \"s\": 4,\\n    \"t\": 4\\n}\\n'"
      ]
     },
     "execution_count": 31,
     "metadata": {},
     "output_type": "execute_result"
    }
   ],
   "source": [
    "'''\n",
    "Question 2 - \n",
    "1. Take a string as input.\n",
    "2. Create a dictionary acc to the following criteria - \n",
    "- There will be one key value pair for each unique character - \n",
    "- Key will be character and value will be the count of character inside the string\n",
    "\n",
    "INPUT - \"rrsssstttt\"\n",
    "OUTPUT -\n",
    "{\n",
    "    \"r\": 2,\n",
    "    \"s\": 4,\n",
    "    \"t\": 4\n",
    "}\n",
    "'''"
   ]
  },
  {
   "cell_type": "code",
   "execution_count": 32,
   "id": "baca252d",
   "metadata": {},
   "outputs": [],
   "source": [
    "a = \"rrsssstttt\""
   ]
  },
  {
   "cell_type": "code",
   "execution_count": 33,
   "id": "5885465f",
   "metadata": {},
   "outputs": [
    {
     "data": {
      "text/plain": [
       "4"
      ]
     },
     "execution_count": 33,
     "metadata": {},
     "output_type": "execute_result"
    }
   ],
   "source": [
    "a.count(\"t\")"
   ]
  },
  {
   "cell_type": "code",
   "execution_count": 34,
   "id": "f7ab60ed",
   "metadata": {},
   "outputs": [
    {
     "data": {
      "text/plain": [
       "{'r', 's', 't'}"
      ]
     },
     "execution_count": 34,
     "metadata": {},
     "output_type": "execute_result"
    }
   ],
   "source": [
    "set(a)"
   ]
  },
  {
   "cell_type": "code",
   "execution_count": 35,
   "id": "3e785e60",
   "metadata": {},
   "outputs": [],
   "source": [
    "def character_counter(s):\n",
    "    result = {}\n",
    "    \n",
    "    for i in set(s):\n",
    "        result[i] = s.count(i)\n",
    "    \n",
    "    return result"
   ]
  },
  {
   "cell_type": "code",
   "execution_count": 36,
   "id": "cf92a75a",
   "metadata": {},
   "outputs": [
    {
     "data": {
      "text/plain": [
       "{'E': 1,\n",
       " 'S': 3,\n",
       " 'T': 2,\n",
       " 'H': 1,\n",
       " 'L': 2,\n",
       " 'N': 1,\n",
       " 'O': 1,\n",
       " 'Y': 1,\n",
       " 'G': 1,\n",
       " 'I': 2,\n",
       " ' ': 3,\n",
       " 'A': 4,\n",
       " 'Z': 1,\n",
       " 'W': 1,\n",
       " '!': 5,\n",
       " 'U': 1,\n",
       " 'M': 1,\n",
       " 'B': 1}"
      ]
     },
     "execution_count": 36,
     "metadata": {},
     "output_type": "execute_result"
    }
   ],
   "source": [
    "character_counter(\"THIS WAS ABSOLUTELY AMAZING!!!!!\")"
   ]
  },
  {
   "cell_type": "code",
   "execution_count": 37,
   "id": "1690ae85",
   "metadata": {},
   "outputs": [
    {
     "data": {
      "text/plain": [
       "'\\nHETEROGENEITY -\\n    - Keys -> Any immutable data structure (strings, tuples, int, float, bool...)\\n    - Values -> Any data structure \\n'"
      ]
     },
     "execution_count": 37,
     "metadata": {},
     "output_type": "execute_result"
    }
   ],
   "source": [
    "'''\n",
    "HETEROGENEITY -\n",
    "    - Keys -> Any immutable data structure (strings, tuples, int, float, bool...)\n",
    "    - Values -> Any data structure \n",
    "'''"
   ]
  },
  {
   "cell_type": "code",
   "execution_count": 38,
   "id": "405db91a",
   "metadata": {},
   "outputs": [],
   "source": [
    "random = {\n",
    "    \"key1\": [1,2,3],\n",
    "    \"key2\": {\n",
    "        (1,2,3): 45\n",
    "    },\n",
    "    45: \"value1\",\n",
    "    45.67: \"Value2\",\n",
    "    True: \"value3\"\n",
    "}"
   ]
  },
  {
   "cell_type": "code",
   "execution_count": 39,
   "id": "fa655118",
   "metadata": {},
   "outputs": [
    {
     "data": {
      "text/plain": [
       "{'key1': [1, 2, 3],\n",
       " 'key2': {(1, 2, 3): 45},\n",
       " 45: 'value1',\n",
       " 45.67: 'Value2',\n",
       " True: 'value3'}"
      ]
     },
     "execution_count": 39,
     "metadata": {},
     "output_type": "execute_result"
    }
   ],
   "source": [
    "random"
   ]
  },
  {
   "cell_type": "code",
   "execution_count": 41,
   "id": "e42cb27c",
   "metadata": {},
   "outputs": [
    {
     "ename": "TypeError",
     "evalue": "unhashable type: 'list'",
     "output_type": "error",
     "traceback": [
      "\u001b[0;31m---------------------------------------------------------------------------\u001b[0m",
      "\u001b[0;31mTypeError\u001b[0m                                 Traceback (most recent call last)",
      "Cell \u001b[0;32mIn[41], line 1\u001b[0m\n\u001b[0;32m----> 1\u001b[0m random \u001b[38;5;241m=\u001b[39m {\n\u001b[1;32m      2\u001b[0m     \u001b[38;5;124m\"\u001b[39m\u001b[38;5;124mkey1\u001b[39m\u001b[38;5;124m\"\u001b[39m: [\u001b[38;5;241m1\u001b[39m,\u001b[38;5;241m2\u001b[39m,\u001b[38;5;241m3\u001b[39m],\n\u001b[1;32m      3\u001b[0m     \u001b[38;5;124m\"\u001b[39m\u001b[38;5;124mkey2\u001b[39m\u001b[38;5;124m\"\u001b[39m: {\n\u001b[1;32m      4\u001b[0m         (\u001b[38;5;241m1\u001b[39m,\u001b[38;5;241m2\u001b[39m,\u001b[38;5;241m3\u001b[39m): \u001b[38;5;241m45\u001b[39m\n\u001b[1;32m      5\u001b[0m     },\n\u001b[1;32m      6\u001b[0m     \u001b[38;5;241m45\u001b[39m: \u001b[38;5;124m\"\u001b[39m\u001b[38;5;124mvalue1\u001b[39m\u001b[38;5;124m\"\u001b[39m,\n\u001b[1;32m      7\u001b[0m     \u001b[38;5;241m45.67\u001b[39m: \u001b[38;5;124m\"\u001b[39m\u001b[38;5;124mValue2\u001b[39m\u001b[38;5;124m\"\u001b[39m,\n\u001b[1;32m      8\u001b[0m     \u001b[38;5;28;01mTrue\u001b[39;00m: \u001b[38;5;124m\"\u001b[39m\u001b[38;5;124mvalue3\u001b[39m\u001b[38;5;124m\"\u001b[39m,\n\u001b[1;32m      9\u001b[0m     [\u001b[38;5;241m1\u001b[39m,\u001b[38;5;241m2\u001b[39m,\u001b[38;5;241m3\u001b[39m]: \u001b[38;5;124m\"\u001b[39m\u001b[38;5;124mrandom\u001b[39m\u001b[38;5;124m\"\u001b[39m\n\u001b[1;32m     10\u001b[0m }\n",
      "\u001b[0;31mTypeError\u001b[0m: unhashable type: 'list'"
     ]
    }
   ],
   "source": [
    "random = {\n",
    "    \"key1\": [1,2,3],\n",
    "    \"key2\": {\n",
    "        (1,2,3): 45\n",
    "    },\n",
    "    45: \"value1\",\n",
    "    45.67: \"Value2\",\n",
    "    True: \"value3\",\n",
    "    [1,2,3]: \"random\"\n",
    "}"
   ]
  },
  {
   "cell_type": "code",
   "execution_count": 44,
   "id": "8206b970",
   "metadata": {},
   "outputs": [],
   "source": [
    "vowels = \"aeiou\""
   ]
  },
  {
   "cell_type": "code",
   "execution_count": 46,
   "id": "e56b737c",
   "metadata": {},
   "outputs": [],
   "source": [
    "consonants = \"\"\n",
    "\n",
    "for i in range(ord(\"a\"), ord(\"z\")):\n",
    "    if chr(i) not in vowels:\n",
    "        consonants += chr(i)"
   ]
  },
  {
   "cell_type": "code",
   "execution_count": 47,
   "id": "8c59cfd6",
   "metadata": {},
   "outputs": [
    {
     "data": {
      "text/plain": [
       "'bcdfghjklmnpqrstvwxy'"
      ]
     },
     "execution_count": 47,
     "metadata": {},
     "output_type": "execute_result"
    }
   ],
   "source": [
    "consonants"
   ]
  },
  {
   "cell_type": "code",
   "execution_count": null,
   "id": "4aedf93b",
   "metadata": {},
   "outputs": [],
   "source": []
  }
 ],
 "metadata": {
  "kernelspec": {
   "display_name": "Python 3 (ipykernel)",
   "language": "python",
   "name": "python3"
  },
  "language_info": {
   "codemirror_mode": {
    "name": "ipython",
    "version": 3
   },
   "file_extension": ".py",
   "mimetype": "text/x-python",
   "name": "python",
   "nbconvert_exporter": "python",
   "pygments_lexer": "ipython3",
   "version": "3.9.5"
  }
 },
 "nbformat": 4,
 "nbformat_minor": 5
}
