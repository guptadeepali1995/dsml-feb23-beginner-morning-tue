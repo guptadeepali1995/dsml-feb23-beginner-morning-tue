{
 "cells": [
  {
   "cell_type": "code",
   "execution_count": 1,
   "id": "efe59ece",
   "metadata": {},
   "outputs": [
    {
     "data": {
      "text/plain": [
       "'\\nQuestion 1 - \\nRotate a given list by 1 element.\\n\\nINPUT - [1,2,3,4,5]\\nOUTUT - [5,1,2,3,4]\\n'"
      ]
     },
     "execution_count": 1,
     "metadata": {},
     "output_type": "execute_result"
    }
   ],
   "source": [
    "'''\n",
    "Question 1 - \n",
    "Rotate a given list by 1 element.\n",
    "\n",
    "INPUT - [1,2,3,4,5]\n",
    "OUTUT - [5,1,2,3,4]\n",
    "'''"
   ]
  },
  {
   "cell_type": "code",
   "execution_count": 2,
   "id": "c77eda02",
   "metadata": {},
   "outputs": [],
   "source": [
    "a = [1,2,3,4,5]"
   ]
  },
  {
   "cell_type": "code",
   "execution_count": 3,
   "id": "27510f51",
   "metadata": {},
   "outputs": [
    {
     "data": {
      "text/plain": [
       "5"
      ]
     },
     "execution_count": 3,
     "metadata": {},
     "output_type": "execute_result"
    }
   ],
   "source": [
    "a[-1]"
   ]
  },
  {
   "cell_type": "code",
   "execution_count": 4,
   "id": "21ad2cd5",
   "metadata": {},
   "outputs": [
    {
     "data": {
      "text/plain": [
       "[1, 2, 3, 4]"
      ]
     },
     "execution_count": 4,
     "metadata": {},
     "output_type": "execute_result"
    }
   ],
   "source": [
    "a[0:-1]"
   ]
  },
  {
   "cell_type": "code",
   "execution_count": 5,
   "id": "47304423",
   "metadata": {},
   "outputs": [],
   "source": [
    "def rotate_list_1(a):\n",
    "    last_element = a[-1]\n",
    "    initial_elements = a[:-1]\n",
    "    \n",
    "    result = [last_element] + initial_elements\n",
    "    \n",
    "    return result"
   ]
  },
  {
   "cell_type": "code",
   "execution_count": 6,
   "id": "8350b933",
   "metadata": {},
   "outputs": [
    {
     "data": {
      "text/plain": [
       "[5, 1, 2, 3, 4]"
      ]
     },
     "execution_count": 6,
     "metadata": {},
     "output_type": "execute_result"
    }
   ],
   "source": [
    "rotate_list_1(a)"
   ]
  },
  {
   "cell_type": "code",
   "execution_count": 7,
   "id": "ffb137a0",
   "metadata": {},
   "outputs": [
    {
     "data": {
      "text/plain": [
       "[1, 2, 3, 4, 5]"
      ]
     },
     "execution_count": 7,
     "metadata": {},
     "output_type": "execute_result"
    }
   ],
   "source": [
    "a"
   ]
  },
  {
   "cell_type": "code",
   "execution_count": 8,
   "id": "5abcdb8b",
   "metadata": {},
   "outputs": [],
   "source": [
    "def rotate_list_1(a):\n",
    "    return [a[-1]] + a[:-1]"
   ]
  },
  {
   "cell_type": "code",
   "execution_count": 9,
   "id": "80c2e903",
   "metadata": {},
   "outputs": [],
   "source": [
    "def rotate_list_2(a):\n",
    "    last_element = a.pop()\n",
    "    a.insert(0, last_element)\n",
    "    \n",
    "    return a"
   ]
  },
  {
   "cell_type": "code",
   "execution_count": 10,
   "id": "d08afc5d",
   "metadata": {},
   "outputs": [
    {
     "data": {
      "text/plain": [
       "[5, 1, 2, 3, 4]"
      ]
     },
     "execution_count": 10,
     "metadata": {},
     "output_type": "execute_result"
    }
   ],
   "source": [
    "rotate_list_2(a)"
   ]
  },
  {
   "cell_type": "code",
   "execution_count": 11,
   "id": "c8b18cda",
   "metadata": {},
   "outputs": [],
   "source": [
    "a = list(range(1,11))"
   ]
  },
  {
   "cell_type": "code",
   "execution_count": 12,
   "id": "2a712d55",
   "metadata": {},
   "outputs": [
    {
     "data": {
      "text/plain": [
       "[1, 2, 3, 4, 5, 6, 7, 8, 9, 10]"
      ]
     },
     "execution_count": 12,
     "metadata": {},
     "output_type": "execute_result"
    }
   ],
   "source": [
    "a"
   ]
  },
  {
   "cell_type": "code",
   "execution_count": 13,
   "id": "2d12db83",
   "metadata": {},
   "outputs": [
    {
     "data": {
      "text/plain": [
       "4"
      ]
     },
     "execution_count": 13,
     "metadata": {},
     "output_type": "execute_result"
    }
   ],
   "source": [
    "a.index(5)"
   ]
  },
  {
   "cell_type": "code",
   "execution_count": 14,
   "id": "a8d24e64",
   "metadata": {},
   "outputs": [],
   "source": [
    "a = [1, 2, 3, 4, 5, 6, 7, 8, 9, 10, 10, 10]"
   ]
  },
  {
   "cell_type": "code",
   "execution_count": 15,
   "id": "c65405dd",
   "metadata": {},
   "outputs": [
    {
     "data": {
      "text/plain": [
       "9"
      ]
     },
     "execution_count": 15,
     "metadata": {},
     "output_type": "execute_result"
    }
   ],
   "source": [
    "a.index(10)"
   ]
  },
  {
   "cell_type": "code",
   "execution_count": 16,
   "id": "c260476d",
   "metadata": {},
   "outputs": [
    {
     "data": {
      "text/plain": [
       "'\\nQuestion 2 -\\nWrite a python function which prints a list of indexes \\nof all the occurences of a certain element within the parent list.\\n\\nINPUT = [10,20,30,30,40], target = 30\\nOUTPUT = [2,3]\\n'"
      ]
     },
     "execution_count": 16,
     "metadata": {},
     "output_type": "execute_result"
    }
   ],
   "source": [
    "'''\n",
    "Question 2 -\n",
    "Write a python function which prints a list of indexes \n",
    "of all the occurences of a certain element within the parent list.\n",
    "\n",
    "INPUT = [10,20,30,30,40], target = 30\n",
    "OUTPUT = [2,3]\n",
    "'''"
   ]
  },
  {
   "cell_type": "code",
   "execution_count": 20,
   "id": "30421f59",
   "metadata": {},
   "outputs": [],
   "source": [
    "def all_occurences_1(a, target):\n",
    "    occurence_list = []\n",
    "    \n",
    "    for i in range(len(a)):\n",
    "        if a[i] == target:\n",
    "            occurence_list.append(i)\n",
    "            \n",
    "    return occurence_list"
   ]
  },
  {
   "cell_type": "code",
   "execution_count": 22,
   "id": "18a5d5e6",
   "metadata": {},
   "outputs": [
    {
     "data": {
      "text/plain": [
       "[2, 3, 4, 6]"
      ]
     },
     "execution_count": 22,
     "metadata": {},
     "output_type": "execute_result"
    }
   ],
   "source": [
    "all_occurences_1([10,20,30,30,30,40,30], 30)"
   ]
  },
  {
   "cell_type": "code",
   "execution_count": 23,
   "id": "48e5066f",
   "metadata": {},
   "outputs": [
    {
     "ename": "ValueError",
     "evalue": "10 is not in list",
     "output_type": "error",
     "traceback": [
      "\u001b[0;31m---------------------------------------------------------------------------\u001b[0m",
      "\u001b[0;31mValueError\u001b[0m                                Traceback (most recent call last)",
      "Cell \u001b[0;32mIn[23], line 2\u001b[0m\n\u001b[1;32m      1\u001b[0m random \u001b[38;5;241m=\u001b[39m [\u001b[38;5;241m1\u001b[39m,\u001b[38;5;241m2\u001b[39m,\u001b[38;5;241m3\u001b[39m,\u001b[38;5;241m4\u001b[39m,\u001b[38;5;241m5\u001b[39m]\n\u001b[0;32m----> 2\u001b[0m \u001b[43mrandom\u001b[49m\u001b[38;5;241;43m.\u001b[39;49m\u001b[43mindex\u001b[49m\u001b[43m(\u001b[49m\u001b[38;5;241;43m10\u001b[39;49m\u001b[43m)\u001b[49m\n",
      "\u001b[0;31mValueError\u001b[0m: 10 is not in list"
     ]
    }
   ],
   "source": [
    "random = [1,2,3,4,5]\n",
    "random.index(10)"
   ]
  },
  {
   "cell_type": "code",
   "execution_count": 24,
   "id": "644f89a0",
   "metadata": {},
   "outputs": [],
   "source": [
    "# def all_occurences_2(a, target):\n",
    "#     occurence_list = []\n",
    "    \n",
    "#     a.index(target)"
   ]
  },
  {
   "cell_type": "code",
   "execution_count": 36,
   "id": "af31bef6",
   "metadata": {},
   "outputs": [],
   "source": [
    "a = [[1,2,3,4], [5,6,7,8], [9,10,11,12]]"
   ]
  },
  {
   "cell_type": "code",
   "execution_count": 37,
   "id": "b3a9a8e6",
   "metadata": {},
   "outputs": [],
   "source": [
    "rows = len(a)\n",
    "columns = len(a[0])"
   ]
  },
  {
   "cell_type": "code",
   "execution_count": 38,
   "id": "a66bfc04",
   "metadata": {},
   "outputs": [
    {
     "data": {
      "text/plain": [
       "3"
      ]
     },
     "execution_count": 38,
     "metadata": {},
     "output_type": "execute_result"
    }
   ],
   "source": [
    "rows"
   ]
  },
  {
   "cell_type": "code",
   "execution_count": 39,
   "id": "9be25d5d",
   "metadata": {},
   "outputs": [
    {
     "data": {
      "text/plain": [
       "4"
      ]
     },
     "execution_count": 39,
     "metadata": {},
     "output_type": "execute_result"
    }
   ],
   "source": [
    "columns"
   ]
  },
  {
   "cell_type": "code",
   "execution_count": 40,
   "id": "aa6783b2",
   "metadata": {},
   "outputs": [
    {
     "data": {
      "text/plain": [
       "4"
      ]
     },
     "execution_count": 40,
     "metadata": {},
     "output_type": "execute_result"
    }
   ],
   "source": [
    "a[0][3]"
   ]
  },
  {
   "cell_type": "code",
   "execution_count": 41,
   "id": "932c7026",
   "metadata": {},
   "outputs": [],
   "source": [
    "# ITERATING OVER 2D LISTS"
   ]
  },
  {
   "cell_type": "code",
   "execution_count": 43,
   "id": "7a6199a9",
   "metadata": {},
   "outputs": [
    {
     "name": "stdout",
     "output_type": "stream",
     "text": [
      "1 2 3 4 \n",
      "5 6 7 8 \n",
      "9 10 11 12 \n"
     ]
    }
   ],
   "source": [
    "# MATRIX\n",
    "for i in range(rows):\n",
    "    for j in range(columns):\n",
    "        print(a[i][j], end = \" \")\n",
    "        \n",
    "    print()"
   ]
  },
  {
   "cell_type": "code",
   "execution_count": 45,
   "id": "b1147d16",
   "metadata": {},
   "outputs": [
    {
     "name": "stdout",
     "output_type": "stream",
     "text": [
      "1 2 \n",
      "3 4 5 \n",
      "6 \n"
     ]
    }
   ],
   "source": [
    "# GENERAL 2D LIST\n",
    "a = [[1,2], [3,4,5], [6]]\n",
    "\n",
    "for i in a:\n",
    "    for j in i:\n",
    "        print(j, end = \" \")\n",
    "    \n",
    "    print()"
   ]
  },
  {
   "cell_type": "code",
   "execution_count": 46,
   "id": "f07eb470",
   "metadata": {},
   "outputs": [
    {
     "data": {
      "text/plain": [
       "'\\nQuestion 3 - \\nTake a 3X3 matrix as an input from the user.\\nGiven this matrix.\\n1. Calculate the sum of all the elements in the matrix\\n2. Calculate the sum of each row\\n3. Calculate the sum of each column\\n'"
      ]
     },
     "execution_count": 46,
     "metadata": {},
     "output_type": "execute_result"
    }
   ],
   "source": [
    "'''\n",
    "Question 3 - \n",
    "Take a 3X3 matrix as an input from the user.\n",
    "Given this matrix.\n",
    "1. Calculate the sum of all the elements in the matrix\n",
    "2. Calculate the sum of each row\n",
    "3. Calculate the sum of each column\n",
    "'''"
   ]
  },
  {
   "cell_type": "code",
   "execution_count": 47,
   "id": "beeee1ea",
   "metadata": {},
   "outputs": [
    {
     "name": "stdout",
     "output_type": "stream",
     "text": [
      "1\n",
      "2\n",
      "3\n",
      "4\n",
      "5\n",
      "6\n",
      "7\n",
      "8\n",
      "9\n"
     ]
    }
   ],
   "source": [
    "matrix = []\n",
    "\n",
    "for i in range(3):\n",
    "    row = []\n",
    "\n",
    "    for j in range(3):\n",
    "        row.append(int(input()))\n",
    "        \n",
    "    matrix.append(row)"
   ]
  },
  {
   "cell_type": "code",
   "execution_count": 48,
   "id": "30dc3a64",
   "metadata": {},
   "outputs": [
    {
     "data": {
      "text/plain": [
       "[[1, 2, 3], [4, 5, 6], [7, 8, 9]]"
      ]
     },
     "execution_count": 48,
     "metadata": {},
     "output_type": "execute_result"
    }
   ],
   "source": [
    "matrix"
   ]
  },
  {
   "cell_type": "code",
   "execution_count": 49,
   "id": "33a04762",
   "metadata": {},
   "outputs": [],
   "source": [
    "def generate_matrix(rows, columns):\n",
    "    matrix = []\n",
    "    \n",
    "    for i in range(rows):\n",
    "        row = []\n",
    "        \n",
    "        for j in range(columns):\n",
    "            row.append(int(input()))\n",
    "            \n",
    "        matrix.append(row)\n",
    "    \n",
    "    return matrix"
   ]
  },
  {
   "cell_type": "code",
   "execution_count": 51,
   "id": "2a5b2a26",
   "metadata": {},
   "outputs": [
    {
     "name": "stdout",
     "output_type": "stream",
     "text": [
      "1\n",
      "2\n",
      "3\n",
      "4\n",
      "5\n",
      "6\n"
     ]
    },
    {
     "data": {
      "text/plain": [
       "[[1, 2, 3], [4, 5, 6]]"
      ]
     },
     "execution_count": 51,
     "metadata": {},
     "output_type": "execute_result"
    }
   ],
   "source": [
    "generate_matrix(2,3)"
   ]
  },
  {
   "cell_type": "code",
   "execution_count": 52,
   "id": "507966c5",
   "metadata": {},
   "outputs": [
    {
     "data": {
      "text/plain": [
       "[[1, 2, 3], [4, 5, 6], [7, 8, 9]]"
      ]
     },
     "execution_count": 52,
     "metadata": {},
     "output_type": "execute_result"
    }
   ],
   "source": [
    "matrix"
   ]
  },
  {
   "cell_type": "code",
   "execution_count": 53,
   "id": "649f46d1",
   "metadata": {},
   "outputs": [],
   "source": [
    "def sum_all(matrix):\n",
    "    sum_all = 0\n",
    "    \n",
    "    for i in matrix:\n",
    "        for j in i:\n",
    "            sum_all += j\n",
    "            \n",
    "    return sum_all"
   ]
  },
  {
   "cell_type": "code",
   "execution_count": 54,
   "id": "742f945c",
   "metadata": {},
   "outputs": [
    {
     "data": {
      "text/plain": [
       "45"
      ]
     },
     "execution_count": 54,
     "metadata": {},
     "output_type": "execute_result"
    }
   ],
   "source": [
    "sum_all(matrix)"
   ]
  },
  {
   "cell_type": "code",
   "execution_count": 55,
   "id": "eb69356f",
   "metadata": {},
   "outputs": [],
   "source": [
    "def sum_each_row(matrix):\n",
    "    rows = len(matrix)\n",
    "    columns = len(matrix[0])\n",
    "    \n",
    "    for i in range(rows):\n",
    "        sum_row = 0\n",
    "        \n",
    "        for j in range(columns):\n",
    "            sum_row += matrix[i][j]\n",
    "            \n",
    "        print(\"Sum of row\", i, \"=\", sum_row)"
   ]
  },
  {
   "cell_type": "code",
   "execution_count": 56,
   "id": "9196d4b3",
   "metadata": {},
   "outputs": [
    {
     "name": "stdout",
     "output_type": "stream",
     "text": [
      "Sum of row 0 = 6\n",
      "Sum of row 1 = 15\n",
      "Sum of row 2 = 24\n"
     ]
    }
   ],
   "source": [
    "sum_each_row(matrix)"
   ]
  },
  {
   "cell_type": "code",
   "execution_count": 63,
   "id": "4f33c191",
   "metadata": {},
   "outputs": [],
   "source": [
    "def sum_each_column(matrix):\n",
    "    rows = len(matrix)\n",
    "    columns = len(matrix[0])\n",
    "    \n",
    "    for j in range(columns):\n",
    "        sum_column = 0 \n",
    "        \n",
    "        for i in range(rows):\n",
    "            sum_column += matrix[i][j]\n",
    "            \n",
    "        print(\"Sum of column\", j, \"=\", sum_column)"
   ]
  },
  {
   "cell_type": "code",
   "execution_count": 64,
   "id": "7d75dfd1",
   "metadata": {},
   "outputs": [
    {
     "name": "stdout",
     "output_type": "stream",
     "text": [
      "Sum of column 0 = 12\n",
      "Sum of column 1 = 15\n",
      "Sum of column 2 = 18\n"
     ]
    }
   ],
   "source": [
    "sum_each_column(matrix)"
   ]
  },
  {
   "cell_type": "code",
   "execution_count": 65,
   "id": "ae1c6364",
   "metadata": {},
   "outputs": [],
   "source": [
    "# HOMEWORK\n",
    "# 1. Take two matrices as input and calculate the sum of those two matrices\n",
    "# 2. Take a matrix as input and calculate its transpose"
   ]
  },
  {
   "cell_type": "code",
   "execution_count": null,
   "id": "9a11c398",
   "metadata": {},
   "outputs": [],
   "source": []
  }
 ],
 "metadata": {
  "kernelspec": {
   "display_name": "Python 3 (ipykernel)",
   "language": "python",
   "name": "python3"
  },
  "language_info": {
   "codemirror_mode": {
    "name": "ipython",
    "version": 3
   },
   "file_extension": ".py",
   "mimetype": "text/x-python",
   "name": "python",
   "nbconvert_exporter": "python",
   "pygments_lexer": "ipython3",
   "version": "3.9.5"
  }
 },
 "nbformat": 4,
 "nbformat_minor": 5
}
