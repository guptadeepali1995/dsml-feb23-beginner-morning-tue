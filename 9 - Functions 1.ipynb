{
 "cells": [
  {
   "cell_type": "code",
   "execution_count": 1,
   "id": "c07bd210",
   "metadata": {},
   "outputs": [
    {
     "name": "stdout",
     "output_type": "stream",
     "text": [
      "Dust all the rooms\n",
      "Arrange the living area\n",
      "Go and get cold drink and mixtures!\n",
      "Don't misbehae in front of the guests!\n",
      "Touch feet when you greet them!\n"
     ]
    }
   ],
   "source": [
    "print(\"Dust all the rooms\")\n",
    "print(\"Arrange the living area\")\n",
    "print(\"Go and get cold drink and mixtures!\")\n",
    "print(\"Don't misbehae in front of the guests!\")\n",
    "print(\"Touch feet when you greet them!\")"
   ]
  },
  {
   "cell_type": "code",
   "execution_count": 2,
   "id": "489278da",
   "metadata": {},
   "outputs": [],
   "source": [
    "# Resuse the Instructions -  Repeat X"
   ]
  },
  {
   "cell_type": "code",
   "execution_count": 3,
   "id": "9f6df8f1",
   "metadata": {},
   "outputs": [
    {
     "name": "stdout",
     "output_type": "stream",
     "text": [
      "Dust all the rooms\n",
      "Arrange the living area\n",
      "Go and get cold drink and mixtures!\n",
      "Don't misbehae in front of the guests!\n",
      "Touch feet when you greet them!\n"
     ]
    }
   ],
   "source": [
    "print(\"Dust all the rooms\")\n",
    "print(\"Arrange the living area\")\n",
    "print(\"Go and get cold drink and mixtures!\")\n",
    "print(\"Don't misbehae in front of the guests!\")\n",
    "print(\"Touch feet when you greet them!\")"
   ]
  },
  {
   "cell_type": "code",
   "execution_count": 4,
   "id": "f354a863",
   "metadata": {},
   "outputs": [
    {
     "name": "stdout",
     "output_type": "stream",
     "text": [
      "Dust all the rooms\n",
      "Arrange the living area\n",
      "Go and get cold drink and mixtures!\n",
      "Don't misbehae in front of the guests!\n",
      "Touch feet when you greet them!\n"
     ]
    }
   ],
   "source": [
    "print(\"Dust all the rooms\")\n",
    "print(\"Arrange the living area\")\n",
    "print(\"Go and get cold drink and mixtures!\")\n",
    "print(\"Don't misbehae in front of the guests!\")\n",
    "print(\"Touch feet when you greet them!\")"
   ]
  },
  {
   "cell_type": "code",
   "execution_count": 5,
   "id": "1a8dea21",
   "metadata": {},
   "outputs": [],
   "source": [
    "# Robot"
   ]
  },
  {
   "cell_type": "code",
   "execution_count": 6,
   "id": "fb294b04",
   "metadata": {},
   "outputs": [],
   "source": [
    "def prepare_for_guests(): #Functions - set of instruction whenever you want to reuse the code\n",
    "    print(\"Dust all the rooms\")\n",
    "    print(\"Arrange the living area\")\n",
    "    print(\"Go and get cold drink and mixtures!\")\n",
    "    print(\"Don't misbehae in front of the guests!\")\n",
    "    print(\"Touch feet when you greet them!\")"
   ]
  },
  {
   "cell_type": "code",
   "execution_count": 7,
   "id": "408232d9",
   "metadata": {},
   "outputs": [
    {
     "name": "stdout",
     "output_type": "stream",
     "text": [
      "Dust all the rooms\n",
      "Arrange the living area\n",
      "Go and get cold drink and mixtures!\n",
      "Don't misbehae in front of the guests!\n",
      "Touch feet when you greet them!\n"
     ]
    }
   ],
   "source": [
    "prepare_for_guests()"
   ]
  },
  {
   "cell_type": "code",
   "execution_count": 8,
   "id": "e3c268aa",
   "metadata": {},
   "outputs": [
    {
     "name": "stdout",
     "output_type": "stream",
     "text": [
      "Dust all the rooms\n",
      "Arrange the living area\n",
      "Go and get cold drink and mixtures!\n",
      "Don't misbehae in front of the guests!\n",
      "Touch feet when you greet them!\n"
     ]
    }
   ],
   "source": [
    "prepare_for_guests()"
   ]
  },
  {
   "cell_type": "code",
   "execution_count": 9,
   "id": "f6ee8349",
   "metadata": {},
   "outputs": [
    {
     "data": {
      "text/plain": [
       "5"
      ]
     },
     "execution_count": 9,
     "metadata": {},
     "output_type": "execute_result"
    }
   ],
   "source": [
    "len(\"AKASH\") # count the number of char"
   ]
  },
  {
   "cell_type": "code",
   "execution_count": 10,
   "id": "3b7afab8",
   "metadata": {},
   "outputs": [
    {
     "data": {
      "text/plain": [
       "4"
      ]
     },
     "execution_count": 10,
     "metadata": {},
     "output_type": "execute_result"
    }
   ],
   "source": [
    "len(\"ritu\") # count the number of char"
   ]
  },
  {
   "cell_type": "code",
   "execution_count": null,
   "id": "8ca34cee",
   "metadata": {},
   "outputs": [],
   "source": [
    "len # Python - inbuiltFunction\n",
    "print()"
   ]
  },
  {
   "cell_type": "code",
   "execution_count": null,
   "id": "1548ef9b",
   "metadata": {},
   "outputs": [],
   "source": [
    "for i in range(10):\n",
    "    print(\"AKASH\")\n",
    "print(\"Hello\")# not in  Scope of for loop"
   ]
  },
  {
   "cell_type": "code",
   "execution_count": 11,
   "id": "9bb06c9b",
   "metadata": {},
   "outputs": [
    {
     "name": "stdout",
     "output_type": "stream",
     "text": [
      "Hello\n"
     ]
    }
   ],
   "source": [
    "# 1 function- idealy 1 task\n",
    "# defination -def <Name>\n",
    "# Indetation - Scope of block\n",
    "def make_tea():\n",
    "    print(\"I am making a tea\")\n",
    "print(\"Hello\")"
   ]
  },
  {
   "cell_type": "code",
   "execution_count": null,
   "id": "6b038b48",
   "metadata": {},
   "outputs": [],
   "source": [
    "# Created my robot\n",
    "# just made my washing machine\n",
    "----------------\n",
    "# Call it"
   ]
  },
  {
   "cell_type": "code",
   "execution_count": 12,
   "id": "3a216bf3",
   "metadata": {},
   "outputs": [
    {
     "name": "stdout",
     "output_type": "stream",
     "text": [
      "I am making a tea\n"
     ]
    }
   ],
   "source": [
    "make_tea()"
   ]
  },
  {
   "cell_type": "code",
   "execution_count": 13,
   "id": "2d09d41d",
   "metadata": {},
   "outputs": [
    {
     "name": "stdout",
     "output_type": "stream",
     "text": [
      "I am making a tea\n"
     ]
    }
   ],
   "source": [
    "make_tea()"
   ]
  },
  {
   "cell_type": "code",
   "execution_count": null,
   "id": "da96b1d6",
   "metadata": {},
   "outputs": [],
   "source": []
  },
  {
   "cell_type": "markdown",
   "id": "fd5134a4",
   "metadata": {},
   "source": [
    "### Explaining functions that can take parameters\n"
   ]
  },
  {
   "cell_type": "code",
   "execution_count": 14,
   "id": "1ab4956a",
   "metadata": {},
   "outputs": [],
   "source": [
    "def Welcome():\n",
    "    print(\"Weclome Alok to the Session\")\n",
    "    print(\"This is Saturday morning with AKASH\")"
   ]
  },
  {
   "cell_type": "code",
   "execution_count": 15,
   "id": "a0492fd3",
   "metadata": {},
   "outputs": [
    {
     "name": "stdout",
     "output_type": "stream",
     "text": [
      "Weclome Alok to the Session\n",
      "This is Saturday morning with AKASH\n"
     ]
    }
   ],
   "source": [
    "Welcome()"
   ]
  },
  {
   "cell_type": "code",
   "execution_count": 16,
   "id": "60b3fa44",
   "metadata": {},
   "outputs": [
    {
     "name": "stdout",
     "output_type": "stream",
     "text": [
      "Weclome Alok to the Session\n",
      "This is Saturday morning with AKASH\n"
     ]
    }
   ],
   "source": [
    "Welcome() #call"
   ]
  },
  {
   "cell_type": "code",
   "execution_count": 17,
   "id": "fb6c5065",
   "metadata": {},
   "outputs": [
    {
     "name": "stdout",
     "output_type": "stream",
     "text": [
      "Weclome Alok to the Session\n",
      "This is Saturday morning with AKASH\n"
     ]
    }
   ],
   "source": [
    "Welcome()"
   ]
  },
  {
   "cell_type": "code",
   "execution_count": 18,
   "id": "4c5978ef",
   "metadata": {},
   "outputs": [],
   "source": [
    "# paramters/arguments - input to your function\n",
    "# paramters/arguments - name\n",
    "\n",
    "def Welcome(name):\n",
    "    print(\"Weclome\", name,\"to the Session\")\n",
    "    print(\"This is Saturday morning with AKASH\")"
   ]
  },
  {
   "cell_type": "code",
   "execution_count": 19,
   "id": "d2d48564",
   "metadata": {},
   "outputs": [
    {
     "name": "stdout",
     "output_type": "stream",
     "text": [
      "Weclome Azad to the Session\n",
      "This is Saturday morning with AKASH\n"
     ]
    }
   ],
   "source": [
    "Welcome(\"Azad\")"
   ]
  },
  {
   "cell_type": "code",
   "execution_count": 20,
   "id": "3e5570b4",
   "metadata": {},
   "outputs": [
    {
     "name": "stdout",
     "output_type": "stream",
     "text": [
      "Weclome Swetha to the Session\n",
      "This is Saturday morning with AKASH\n"
     ]
    }
   ],
   "source": [
    "Welcome(\"Swetha\")# Functions can accpet arguments or parameters"
   ]
  },
  {
   "cell_type": "code",
   "execution_count": 29,
   "id": "de7cd1fc",
   "metadata": {},
   "outputs": [],
   "source": [
    "def Welcome(name):\n",
    "    print(\"Weclome\", name,\"to the Session\") # print function\n",
    "    print(\"Weclome\"+name+\"to the Session\") # str concat -> +\n",
    "    print(f\"Weclome {name} to the Session\") # str format\n",
    "\n",
    "    print(\"This is Saturday morning with AKASH\")"
   ]
  },
  {
   "cell_type": "code",
   "execution_count": null,
   "id": "2a19e141",
   "metadata": {},
   "outputs": [],
   "source": []
  },
  {
   "cell_type": "code",
   "execution_count": 33,
   "id": "6e44240b",
   "metadata": {},
   "outputs": [
    {
     "name": "stdout",
     "output_type": "stream",
     "text": [
      "Weclome Azad to the Session\n",
      "WeclomeAzadto the Session\n",
      "Weclome Azad to the Session\n",
      "This is Saturday morning with AKASH\n"
     ]
    }
   ],
   "source": [
    "Welcome(\"Azad\")"
   ]
  },
  {
   "cell_type": "code",
   "execution_count": 32,
   "id": "c7d45335",
   "metadata": {},
   "outputs": [
    {
     "name": "stdout",
     "output_type": "stream",
     "text": [
      "I am making a tea\n",
      "I am making a tea\n",
      "I am making a tea\n",
      "I am making a tea\n",
      "I am making a tea\n",
      "I am making a tea\n",
      "I am making a tea\n",
      "I am making a tea\n",
      "I am making a tea\n",
      "I am making a tea\n"
     ]
    }
   ],
   "source": [
    "for i in range(10):\n",
    "    make_tea()"
   ]
  },
  {
   "cell_type": "code",
   "execution_count": null,
   "id": "71a3d9b1",
   "metadata": {},
   "outputs": [],
   "source": []
  },
  {
   "cell_type": "markdown",
   "id": "2dc1436f",
   "metadata": {},
   "source": [
    "#Question¶\n",
    "Take a name as input. Write a greeter function which prints \"Hello {name}!\" after accepting a name as an argument"
   ]
  },
  {
   "cell_type": "code",
   "execution_count": null,
   "id": "46f25830",
   "metadata": {},
   "outputs": [],
   "source": [
    "def pooja(): #excuting means to run- saving to computer\n",
    "    print(\"Hello\")"
   ]
  },
  {
   "cell_type": "code",
   "execution_count": 34,
   "id": "f7b0a327",
   "metadata": {},
   "outputs": [
    {
     "ename": "NameError",
     "evalue": "name 'pooja' is not defined",
     "output_type": "error",
     "traceback": [
      "\u001b[1;31m---------------------------------------------------------------------------\u001b[0m",
      "\u001b[1;31mNameError\u001b[0m                                 Traceback (most recent call last)",
      "Cell \u001b[1;32mIn[34], line 1\u001b[0m\n\u001b[1;32m----> 1\u001b[0m \u001b[43mpooja\u001b[49m()\n",
      "\u001b[1;31mNameError\u001b[0m: name 'pooja' is not defined"
     ]
    }
   ],
   "source": [
    "pooja() #call"
   ]
  },
  {
   "cell_type": "code",
   "execution_count": null,
   "id": "317396fb",
   "metadata": {},
   "outputs": [],
   "source": [
    "# executing\n",
    "# calling"
   ]
  },
  {
   "cell_type": "code",
   "execution_count": null,
   "id": "4069ee9b",
   "metadata": {},
   "outputs": [],
   "source": []
  },
  {
   "cell_type": "markdown",
   "id": "79bf19d2",
   "metadata": {},
   "source": [
    "#Question¶\n",
    "Take a name as input. Write a greeter function which prints \"Hello {name}!\" after accepting a name as an argument"
   ]
  },
  {
   "cell_type": "code",
   "execution_count": 37,
   "id": "748b5ad6",
   "metadata": {},
   "outputs": [
    {
     "name": "stdout",
     "output_type": "stream",
     "text": [
      "Enter your nameAli\n",
      "Hello Ali\n"
     ]
    }
   ],
   "source": [
    "name = input(\"Enter your name\")\n",
    "def greet(name):\n",
    "    print(\"Hello\",name)\n",
    "greet(name)"
   ]
  },
  {
   "cell_type": "code",
   "execution_count": 38,
   "id": "89ff073c",
   "metadata": {},
   "outputs": [
    {
     "name": "stdout",
     "output_type": "stream",
     "text": [
      "Enter your namechetan\n",
      "Hello manan\n"
     ]
    }
   ],
   "source": [
    "name = input(\"Enter your name\")\n",
    "def greet(name):\n",
    "    print(\"Hello\",name)\n",
    "greet(\"manan\")"
   ]
  },
  {
   "cell_type": "code",
   "execution_count": 39,
   "id": "41aa24ff",
   "metadata": {},
   "outputs": [
    {
     "name": "stdout",
     "output_type": "stream",
     "text": [
      "enter name hh\n"
     ]
    }
   ],
   "source": [
    "n=input(\"enter name \")\n",
    "def greeting(n):\n",
    "    print(\"hello\",n) #i used in colab its not"
   ]
  },
  {
   "cell_type": "code",
   "execution_count": null,
   "id": "bc0784e6",
   "metadata": {},
   "outputs": [],
   "source": [
    "# Error - idndentaion\n",
    "# calling\n",
    "greeting()"
   ]
  },
  {
   "cell_type": "code",
   "execution_count": null,
   "id": "1ada0134",
   "metadata": {},
   "outputs": [],
   "source": []
  },
  {
   "cell_type": "markdown",
   "id": "ff46486e",
   "metadata": {},
   "source": [
    "####**Functions that can take multiple inputs**\n",
    "**Explaining:**\n",
    "1. Positional mapping of arguments\n",
    "2. Errors that can occour if some argument is missing."
   ]
  },
  {
   "cell_type": "code",
   "execution_count": 40,
   "id": "615c37b3",
   "metadata": {},
   "outputs": [],
   "source": [
    "def intro(name,age,gender,hobby):\n",
    "    print(\"My Intro ...!\")\n",
    "    print('My name is', name)\n",
    "    print('Age', age)\n",
    "    print(\"My gender is\", gender)\n",
    "    print('My hobbies are', hobby)\n",
    "# excuted the cell"
   ]
  },
  {
   "cell_type": "code",
   "execution_count": 41,
   "id": "6b1a2579",
   "metadata": {},
   "outputs": [
    {
     "name": "stdout",
     "output_type": "stream",
     "text": [
      "My Intro ...!\n",
      "My name is Deepak\n",
      "Age 891\n",
      "My gender is Male\n",
      "My hobbies are Nothing\n"
     ]
    }
   ],
   "source": [
    "#call the function\n",
    "intro(\"Deepak\",891,\"Male\",\"Nothing\")"
   ]
  },
  {
   "cell_type": "code",
   "execution_count": null,
   "id": "5ae8000f",
   "metadata": {},
   "outputs": [],
   "source": [
    "# Types of Error"
   ]
  },
  {
   "cell_type": "code",
   "execution_count": 42,
   "id": "9b72357d",
   "metadata": {},
   "outputs": [
    {
     "name": "stdout",
     "output_type": "stream",
     "text": [
      "My Intro ...!\n",
      "My name is 19\n",
      "Age Deepak\n",
      "My gender is Male\n",
      "My hobbies are Nothing\n"
     ]
    }
   ],
   "source": [
    "intro(19,\"Deepak\",\"Male\",\"Nothing\") # postion matters"
   ]
  },
  {
   "cell_type": "code",
   "execution_count": 43,
   "id": "6ae36da1",
   "metadata": {},
   "outputs": [
    {
     "ename": "TypeError",
     "evalue": "intro() missing 1 required positional argument: 'hobby'",
     "output_type": "error",
     "traceback": [
      "\u001b[1;31m---------------------------------------------------------------------------\u001b[0m",
      "\u001b[1;31mTypeError\u001b[0m                                 Traceback (most recent call last)",
      "Cell \u001b[1;32mIn[43], line 1\u001b[0m\n\u001b[1;32m----> 1\u001b[0m \u001b[43mintro\u001b[49m\u001b[43m(\u001b[49m\u001b[38;5;124;43m\"\u001b[39;49m\u001b[38;5;124;43mDeepak\u001b[39;49m\u001b[38;5;124;43m\"\u001b[39;49m\u001b[43m,\u001b[49m\u001b[38;5;241;43m19\u001b[39;49m\u001b[43m,\u001b[49m\u001b[38;5;124;43m\"\u001b[39;49m\u001b[38;5;124;43mMale\u001b[39;49m\u001b[38;5;124;43m\"\u001b[39;49m\u001b[43m)\u001b[49m \u001b[38;5;66;03m# postion matters\u001b[39;00m\n",
      "\u001b[1;31mTypeError\u001b[0m: intro() missing 1 required positional argument: 'hobby'"
     ]
    }
   ],
   "source": [
    "intro(\"Deepak\",19,\"Male\") # postion matters"
   ]
  },
  {
   "cell_type": "code",
   "execution_count": 44,
   "id": "ec4f380f",
   "metadata": {},
   "outputs": [
    {
     "ename": "TypeError",
     "evalue": "intro() takes 4 positional arguments but 5 were given",
     "output_type": "error",
     "traceback": [
      "\u001b[1;31m---------------------------------------------------------------------------\u001b[0m",
      "\u001b[1;31mTypeError\u001b[0m                                 Traceback (most recent call last)",
      "Cell \u001b[1;32mIn[44], line 1\u001b[0m\n\u001b[1;32m----> 1\u001b[0m \u001b[43mintro\u001b[49m\u001b[43m(\u001b[49m\u001b[38;5;124;43m\"\u001b[39;49m\u001b[38;5;124;43mDeepak\u001b[39;49m\u001b[38;5;124;43m\"\u001b[39;49m\u001b[43m,\u001b[49m\u001b[38;5;241;43m19\u001b[39;49m\u001b[43m,\u001b[49m\u001b[38;5;124;43m\"\u001b[39;49m\u001b[38;5;124;43mMale\u001b[39;49m\u001b[38;5;124;43m\"\u001b[39;49m\u001b[43m,\u001b[49m\u001b[38;5;124;43m\"\u001b[39;49m\u001b[38;5;124;43mNothing\u001b[39;49m\u001b[38;5;124;43m\"\u001b[39;49m\u001b[43m,\u001b[49m\u001b[38;5;124;43m\"\u001b[39;49m\u001b[38;5;124;43m677\u001b[39;49m\u001b[38;5;124;43m\"\u001b[39;49m\u001b[43m)\u001b[49m \u001b[38;5;66;03m# postion matters\u001b[39;00m\n",
      "\u001b[1;31mTypeError\u001b[0m: intro() takes 4 positional arguments but 5 were given"
     ]
    }
   ],
   "source": [
    "intro(\"Deepak\",19,\"Male\",\"Nothing\",\"677\") # postion matters"
   ]
  },
  {
   "cell_type": "code",
   "execution_count": null,
   "id": "39333ac7",
   "metadata": {},
   "outputs": [],
   "source": [
    "# krishna -  keyword argument\n",
    "8:10"
   ]
  },
  {
   "cell_type": "code",
   "execution_count": null,
   "id": "706de4a6",
   "metadata": {},
   "outputs": [],
   "source": []
  },
  {
   "cell_type": "code",
   "execution_count": 45,
   "id": "fa584ce6",
   "metadata": {},
   "outputs": [
    {
     "name": "stdout",
     "output_type": "stream",
     "text": [
      "Help on built-in function len in module builtins:\n",
      "\n",
      "len(obj, /)\n",
      "    Return the number of items in a container.\n",
      "\n"
     ]
    }
   ],
   "source": [
    "help(len)"
   ]
  },
  {
   "cell_type": "code",
   "execution_count": 46,
   "id": "b642ba8d",
   "metadata": {},
   "outputs": [
    {
     "name": "stdout",
     "output_type": "stream",
     "text": [
      "Help on method_descriptor:\n",
      "\n",
      "strip(self, chars=None, /)\n",
      "    Return a copy of the string with leading and trailing whitespace removed.\n",
      "    \n",
      "    If chars is given and not None, remove characters in chars instead.\n",
      "\n"
     ]
    }
   ],
   "source": [
    "help(str.strip)"
   ]
  },
  {
   "cell_type": "code",
   "execution_count": 47,
   "id": "a80861d3",
   "metadata": {},
   "outputs": [
    {
     "data": {
      "text/plain": [
       "'Hello'"
      ]
     },
     "execution_count": 47,
     "metadata": {},
     "output_type": "execute_result"
    }
   ],
   "source": [
    "\"    Hello  \".strip()"
   ]
  },
  {
   "cell_type": "code",
   "execution_count": 48,
   "id": "ccbd3c4c",
   "metadata": {},
   "outputs": [
    {
     "name": "stdout",
     "output_type": "stream",
     "text": [
      "Help on function make_tea in module __main__:\n",
      "\n",
      "make_tea()\n",
      "    # 1 function- idealy 1 task\n",
      "    # defination -def <Name>\n",
      "    # Indetation - Scope of block\n",
      "\n"
     ]
    }
   ],
   "source": [
    "help(make_tea)"
   ]
  },
  {
   "cell_type": "code",
   "execution_count": 49,
   "id": "de2ff7db",
   "metadata": {},
   "outputs": [
    {
     "name": "stdout",
     "output_type": "stream",
     "text": [
      "Help on function intro in module __main__:\n",
      "\n",
      "intro(name, age, gender, hobby)\n",
      "\n"
     ]
    }
   ],
   "source": [
    "help(intro)"
   ]
  },
  {
   "cell_type": "markdown",
   "id": "a431fca6",
   "metadata": {},
   "source": [
    "# Defining multilined strings(' ' ') and docstrings inside functions"
   ]
  },
  {
   "cell_type": "code",
   "execution_count": 56,
   "id": "d23c6a22",
   "metadata": {},
   "outputs": [],
   "source": [
    "def random(a,b):\n",
    "    \"\"\"\n",
    "    This function takes 2 arguments\n",
    "    a and b are of any type\n",
    "    and then this function prints the add of them\n",
    "    \n",
    "    Note : Only use same data type for both the arguments\n",
    "    \"\"\"\n",
    "    print(a+b)# doc string"
   ]
  },
  {
   "cell_type": "code",
   "execution_count": null,
   "id": "8a3f9455",
   "metadata": {},
   "outputs": [],
   "source": [
    "def random(a,b):\n",
    "    '''\n",
    "    This function takes 2 arguments\n",
    "    a and b are of any type\n",
    "    and then this function prints the add of them\n",
    "    \n",
    "    Note : Only use same data type for both the arguments\n",
    "    '''\n",
    "    print(a+b)# doc string"
   ]
  },
  {
   "cell_type": "code",
   "execution_count": 57,
   "id": "feca986f",
   "metadata": {},
   "outputs": [
    {
     "name": "stdout",
     "output_type": "stream",
     "text": [
      "7\n"
     ]
    }
   ],
   "source": [
    "random(3,4)"
   ]
  },
  {
   "cell_type": "code",
   "execution_count": 58,
   "id": "96a41898",
   "metadata": {},
   "outputs": [
    {
     "name": "stdout",
     "output_type": "stream",
     "text": [
      "Hello_World\n"
     ]
    }
   ],
   "source": [
    "random(\"Hello\",\"_World\")"
   ]
  },
  {
   "cell_type": "code",
   "execution_count": 59,
   "id": "d3060006",
   "metadata": {},
   "outputs": [
    {
     "name": "stdout",
     "output_type": "stream",
     "text": [
      "Help on function random in module __main__:\n",
      "\n",
      "random(a, b)\n",
      "    This function takes 2 arguments\n",
      "    a and b are of any type\n",
      "    and then this function prints the add of them\n",
      "    \n",
      "    Note : Only use same data type for both the arguments\n",
      "\n"
     ]
    }
   ],
   "source": [
    "help(random)"
   ]
  },
  {
   "cell_type": "code",
   "execution_count": 54,
   "id": "e3f8b972",
   "metadata": {},
   "outputs": [
    {
     "ename": "TypeError",
     "evalue": "unsupported operand type(s) for +: 'int' and 'str'",
     "output_type": "error",
     "traceback": [
      "\u001b[1;31m---------------------------------------------------------------------------\u001b[0m",
      "\u001b[1;31mTypeError\u001b[0m                                 Traceback (most recent call last)",
      "Cell \u001b[1;32mIn[54], line 1\u001b[0m\n\u001b[1;32m----> 1\u001b[0m \u001b[43mrandom\u001b[49m\u001b[43m(\u001b[49m\u001b[38;5;241;43m9\u001b[39;49m\u001b[43m,\u001b[49m\u001b[38;5;124;43m\"\u001b[39;49m\u001b[38;5;124;43mHello\u001b[39;49m\u001b[38;5;124;43m\"\u001b[39;49m\u001b[43m)\u001b[49m\n",
      "Cell \u001b[1;32mIn[50], line 7\u001b[0m, in \u001b[0;36mrandom\u001b[1;34m(a, b)\u001b[0m\n\u001b[0;32m      1\u001b[0m \u001b[38;5;28;01mdef\u001b[39;00m \u001b[38;5;21mrandom\u001b[39m(a,b):\n\u001b[0;32m      2\u001b[0m \u001b[38;5;250m    \u001b[39m\u001b[38;5;124;03m\"\"\"\u001b[39;00m\n\u001b[0;32m      3\u001b[0m \u001b[38;5;124;03m    This function takes 2 arguments\u001b[39;00m\n\u001b[0;32m      4\u001b[0m \u001b[38;5;124;03m    a and b are of any type\u001b[39;00m\n\u001b[0;32m      5\u001b[0m \u001b[38;5;124;03m    and then this function prints the add of them\u001b[39;00m\n\u001b[0;32m      6\u001b[0m \u001b[38;5;124;03m    \"\"\"\u001b[39;00m\n\u001b[1;32m----> 7\u001b[0m     \u001b[38;5;28mprint\u001b[39m(\u001b[43ma\u001b[49m\u001b[38;5;241;43m+\u001b[39;49m\u001b[43mb\u001b[49m)\n",
      "\u001b[1;31mTypeError\u001b[0m: unsupported operand type(s) for +: 'int' and 'str'"
     ]
    }
   ],
   "source": [
    "random(9,\"Hello\")"
   ]
  },
  {
   "cell_type": "code",
   "execution_count": 55,
   "id": "1cf44e90",
   "metadata": {},
   "outputs": [
    {
     "ename": "TypeError",
     "evalue": "can only concatenate str (not \"int\") to str",
     "output_type": "error",
     "traceback": [
      "\u001b[1;31m---------------------------------------------------------------------------\u001b[0m",
      "\u001b[1;31mTypeError\u001b[0m                                 Traceback (most recent call last)",
      "Cell \u001b[1;32mIn[55], line 1\u001b[0m\n\u001b[1;32m----> 1\u001b[0m \u001b[38;5;124;43m\"\u001b[39;49m\u001b[38;5;124;43mHello\u001b[39;49m\u001b[38;5;124;43m\"\u001b[39;49m\u001b[38;5;241;43m+\u001b[39;49m\u001b[38;5;241;43m4\u001b[39;49m\n",
      "\u001b[1;31mTypeError\u001b[0m: can only concatenate str (not \"int\") to str"
     ]
    }
   ],
   "source": [
    "\"Hello\"+4"
   ]
  },
  {
   "cell_type": "code",
   "execution_count": null,
   "id": "a338b022",
   "metadata": {},
   "outputs": [],
   "source": []
  },
  {
   "cell_type": "markdown",
   "id": "2599982f",
   "metadata": {},
   "source": [
    "# RETURN "
   ]
  },
  {
   "cell_type": "markdown",
   "id": "fa38016e",
   "metadata": {},
   "source": [
    "esc +m\n",
    "# "
   ]
  },
  {
   "cell_type": "code",
   "execution_count": 61,
   "id": "b5bee86e",
   "metadata": {},
   "outputs": [
    {
     "data": {
      "text/plain": [
       "4"
      ]
     },
     "execution_count": 61,
     "metadata": {},
     "output_type": "execute_result"
    }
   ],
   "source": [
    "2**2"
   ]
  },
  {
   "cell_type": "code",
   "execution_count": null,
   "id": "2107df20",
   "metadata": {},
   "outputs": [],
   "source": [
    "# Create a fun that takes a num and gives you the square"
   ]
  },
  {
   "cell_type": "code",
   "execution_count": 62,
   "id": "b5db2e0a",
   "metadata": {},
   "outputs": [],
   "source": [
    "def square(n):\n",
    "    '''This function is to provide the sqare vaalue of any number:\n",
    "    e.g. if input is x then the square value is xx \n",
    "    ''' \n",
    "    print(n*n)\n",
    "    #print(n**2)\n",
    "    "
   ]
  },
  {
   "cell_type": "code",
   "execution_count": 63,
   "id": "37adbce4",
   "metadata": {},
   "outputs": [
    {
     "name": "stdout",
     "output_type": "stream",
     "text": [
      "81\n"
     ]
    }
   ],
   "source": [
    "square(9)"
   ]
  },
  {
   "cell_type": "code",
   "execution_count": 65,
   "id": "bbcab5a8",
   "metadata": {},
   "outputs": [
    {
     "name": "stdout",
     "output_type": "stream",
     "text": [
      "Help on function square in module __main__:\n",
      "\n",
      "square(n)\n",
      "    This function is to provide the sqare vaalue of any number:\n",
      "    e.g. if input is x then the square value is xx\n",
      "\n"
     ]
    }
   ],
   "source": [
    "help(square)"
   ]
  },
  {
   "cell_type": "code",
   "execution_count": null,
   "id": "24b62600",
   "metadata": {},
   "outputs": [],
   "source": []
  },
  {
   "cell_type": "markdown",
   "id": "e307df62",
   "metadata": {},
   "source": [
    "#  Store the resutl of square fucntion"
   ]
  },
  {
   "cell_type": "code",
   "execution_count": 66,
   "id": "cec23761",
   "metadata": {},
   "outputs": [
    {
     "name": "stdout",
     "output_type": "stream",
     "text": [
      "81\n"
     ]
    }
   ],
   "source": [
    "square(9)"
   ]
  },
  {
   "cell_type": "code",
   "execution_count": 67,
   "id": "88b9936b",
   "metadata": {},
   "outputs": [
    {
     "name": "stdout",
     "output_type": "stream",
     "text": [
      "81\n"
     ]
    }
   ],
   "source": [
    "a = square(9)"
   ]
  },
  {
   "cell_type": "code",
   "execution_count": 68,
   "id": "1f1f4fa5",
   "metadata": {},
   "outputs": [],
   "source": [
    "a"
   ]
  },
  {
   "cell_type": "code",
   "execution_count": 69,
   "id": "43c74ac2",
   "metadata": {},
   "outputs": [
    {
     "name": "stdout",
     "output_type": "stream",
     "text": [
      "None\n"
     ]
    }
   ],
   "source": [
    "print(a)"
   ]
  },
  {
   "cell_type": "code",
   "execution_count": 70,
   "id": "f90d35e8",
   "metadata": {},
   "outputs": [],
   "source": [
    "def square_hero(n):\n",
    "    '''This function is to provide the sqare vaalue of any number:\n",
    "    e.g. if input is x then the square value is xx \n",
    "    ''' \n",
    "    return(n*n)\n",
    "    #print(n**2)\n",
    "    "
   ]
  },
  {
   "cell_type": "code",
   "execution_count": 71,
   "id": "57929d17",
   "metadata": {},
   "outputs": [
    {
     "name": "stdout",
     "output_type": "stream",
     "text": [
      "81\n",
      "print-  None\n",
      "Return-  81\n"
     ]
    }
   ],
   "source": [
    "a = square(9) #normal square - print\n",
    "b = square_hero(9)# hero sqaure- RETURN\n",
    "print(\"print- \",a)\n",
    "print(\"Return- \",b)"
   ]
  },
  {
   "cell_type": "code",
   "execution_count": 79,
   "id": "f3a339d8",
   "metadata": {},
   "outputs": [],
   "source": [
    "def username(empname):\n",
    "    return(empname+\"@amazon.com\")\n",
    "    "
   ]
  },
  {
   "cell_type": "code",
   "execution_count": 80,
   "id": "63260514",
   "metadata": {},
   "outputs": [
    {
     "data": {
      "text/plain": [
       "'gaju@amazon.com'"
      ]
     },
     "execution_count": 80,
     "metadata": {},
     "output_type": "execute_result"
    }
   ],
   "source": [
    "username(\"gaju\")"
   ]
  },
  {
   "cell_type": "code",
   "execution_count": 81,
   "id": "81bcba57",
   "metadata": {},
   "outputs": [],
   "source": [
    "def username(empname):\n",
    "    print(empname+\"@amazon.com\")"
   ]
  },
  {
   "cell_type": "code",
   "execution_count": 82,
   "id": "ba388d8f",
   "metadata": {},
   "outputs": [
    {
     "name": "stdout",
     "output_type": "stream",
     "text": [
      "gaju@amazon.com\n"
     ]
    }
   ],
   "source": [
    "username(\"gaju\")"
   ]
  },
  {
   "cell_type": "markdown",
   "id": "6c6ae53a",
   "metadata": {},
   "source": [
    "**A function execution gets over the second we return from it.**\n"
   ]
  },
  {
   "cell_type": "code",
   "execution_count": 83,
   "id": "1b889256",
   "metadata": {},
   "outputs": [],
   "source": [
    "def username(empname):\n",
    "    return(empname+\"@amazon.com\")#nd\n",
    "    print(\"Weclome \",empname,\"to the company\")"
   ]
  },
  {
   "cell_type": "code",
   "execution_count": 84,
   "id": "8cc1f017",
   "metadata": {},
   "outputs": [
    {
     "data": {
      "text/plain": [
       "'manan@amazon.com'"
      ]
     },
     "execution_count": 84,
     "metadata": {},
     "output_type": "execute_result"
    }
   ],
   "source": [
    "username(\"manan\")"
   ]
  },
  {
   "cell_type": "code",
   "execution_count": 85,
   "id": "d25a5094",
   "metadata": {},
   "outputs": [],
   "source": [
    "syed = username(\"manan\")"
   ]
  },
  {
   "cell_type": "code",
   "execution_count": 86,
   "id": "3ceee454",
   "metadata": {},
   "outputs": [
    {
     "data": {
      "text/plain": [
       "'manan@amazon.com'"
      ]
     },
     "execution_count": 86,
     "metadata": {},
     "output_type": "execute_result"
    }
   ],
   "source": [
    "syed"
   ]
  },
  {
   "cell_type": "code",
   "execution_count": null,
   "id": "3bf23828",
   "metadata": {},
   "outputs": [],
   "source": []
  },
  {
   "cell_type": "code",
   "execution_count": null,
   "id": "efbcd10c",
   "metadata": {},
   "outputs": [],
   "source": [
    "What will be the output of the following code?\n",
    "\n",
    "def do_something(n):\n",
    "    total = 0\n",
    "    i = 1\n",
    "    while i <= n:\n",
    "        total += i\n",
    "        i += 1\n",
    "    return total\n",
    "\n",
    "print(do_something(5))\n",
    "a) 5\n",
    "\n",
    "b) 10\n",
    "\n",
    "c) 15\n",
    "\n",
    "d) 25\n",
    "Ans=15"
   ]
  },
  {
   "cell_type": "code",
   "execution_count": 87,
   "id": "d51f92ae",
   "metadata": {},
   "outputs": [],
   "source": [
    "def do_something(n):\n",
    "    total = 0\n",
    "    i = 1\n",
    "    while i <= n:\n",
    "        total += i\n",
    "        i += 1\n",
    "    return total"
   ]
  },
  {
   "cell_type": "code",
   "execution_count": 88,
   "id": "cc6c2e8f",
   "metadata": {},
   "outputs": [
    {
     "name": "stdout",
     "output_type": "stream",
     "text": [
      "15\n"
     ]
    }
   ],
   "source": [
    "print(do_something(5))\n"
   ]
  },
  {
   "cell_type": "markdown",
   "id": "974f29fe",
   "metadata": {},
   "source": []
  },
  {
   "cell_type": "code",
   "execution_count": null,
   "id": "8ff74441",
   "metadata": {},
   "outputs": [],
   "source": [
    "What will be the output of the following code?\n",
    "\n",
    "def factorial(n):\n",
    "    result = 1\n",
    "    while n > 0:\n",
    "        result *= n\n",
    "        n -= 1\n",
    "\n",
    "print(factorial(5))\n",
    "a) 5\n",
    "\n",
    "b) 10\n",
    "\n",
    "c) 15\n",
    "\n",
    "d) None"
   ]
  },
  {
   "cell_type": "code",
   "execution_count": 89,
   "id": "071022cb",
   "metadata": {},
   "outputs": [
    {
     "name": "stdout",
     "output_type": "stream",
     "text": [
      "None\n"
     ]
    }
   ],
   "source": [
    "def factorial(n):\n",
    "    result = 1\n",
    "    while n > 0:\n",
    "        result *= n\n",
    "        n -= 1\n",
    "\n",
    "print(factorial(5))"
   ]
  },
  {
   "cell_type": "code",
   "execution_count": 90,
   "id": "1bd17678",
   "metadata": {},
   "outputs": [
    {
     "name": "stdout",
     "output_type": "stream",
     "text": [
      "120\n"
     ]
    }
   ],
   "source": [
    "def factorial(n):\n",
    "    result = 1\n",
    "    while n > 0:\n",
    "        result *= n\n",
    "        n -= 1\n",
    "    return result\n",
    "\n",
    "print(factorial(5))"
   ]
  },
  {
   "cell_type": "code",
   "execution_count": null,
   "id": "f30be398",
   "metadata": {},
   "outputs": [],
   "source": []
  },
  {
   "cell_type": "code",
   "execution_count": 91,
   "id": "fec94bc4",
   "metadata": {},
   "outputs": [
    {
     "name": "stdout",
     "output_type": "stream",
     "text": [
      "Chalo hello\n"
     ]
    }
   ],
   "source": [
    "a = \"hello\"\n",
    "b = \"Chalo\"\n",
    "def name(a,b):\n",
    "    print(a,b)\n",
    "name(b,a)"
   ]
  },
  {
   "cell_type": "markdown",
   "id": "6bafd06e",
   "metadata": {},
   "source": [
    "# can we give the same argument name (variable) inside our function code block also or can we change the argument names (variables) ? which is the best practice?"
   ]
  },
  {
   "cell_type": "code",
   "execution_count": null,
   "id": "bd270f5f",
   "metadata": {},
   "outputs": [],
   "source": [
    "var1 = \"vale\"\n",
    "var2 = \"value\"\n",
    "def name(var1,var2):\n",
    "    var1\n",
    "\n",
    "name(var1,var2)\n",
    "    "
   ]
  },
  {
   "cell_type": "code",
   "execution_count": null,
   "id": "b0a7df6a",
   "metadata": {},
   "outputs": [],
   "source": []
  },
  {
   "cell_type": "code",
   "execution_count": 93,
   "id": "38f7bee2",
   "metadata": {},
   "outputs": [
    {
     "name": "stdout",
     "output_type": "stream",
     "text": [
      "hello chalo\n"
     ]
    }
   ],
   "source": [
    "a = \"hello\"\n",
    "b = \"chalo\"\n",
    "def name(a,b):\n",
    "    print(b,a)\n",
    "name(b,a)\n"
   ]
  },
  {
   "cell_type": "code",
   "execution_count": 95,
   "id": "d63a7155",
   "metadata": {},
   "outputs": [
    {
     "name": "stdout",
     "output_type": "stream",
     "text": [
      "Hello Naveen\n"
     ]
    }
   ],
   "source": [
    "def name_fun(name):\n",
    "    print(f\"Hello {name}\")\n",
    "name_fun(\"Naveen\")"
   ]
  },
  {
   "cell_type": "code",
   "execution_count": 96,
   "id": "b82e56d8",
   "metadata": {},
   "outputs": [
    {
     "name": "stdout",
     "output_type": "stream",
     "text": [
      "Hello \"Naveen\"\n"
     ]
    }
   ],
   "source": [
    "def name_fun(name):\n",
    "    print(f\"Hello \\\"{name}\\\"\")\n",
    "name_fun(\"Naveen\")"
   ]
  },
  {
   "cell_type": "code",
   "execution_count": 97,
   "id": "e4c96767",
   "metadata": {},
   "outputs": [
    {
     "ename": "SyntaxError",
     "evalue": "invalid syntax. Perhaps you forgot a comma? (1136779658.py, line 1)",
     "output_type": "error",
     "traceback": [
      "\u001b[1;36m  Cell \u001b[1;32mIn[97], line 1\u001b[1;36m\u001b[0m\n\u001b[1;33m    print(\"Hello \"Ujwaj\"\")\u001b[0m\n\u001b[1;37m          ^\u001b[0m\n\u001b[1;31mSyntaxError\u001b[0m\u001b[1;31m:\u001b[0m invalid syntax. Perhaps you forgot a comma?\n"
     ]
    }
   ],
   "source": [
    "print(\"Hello \"Ujwaj\"\")"
   ]
  },
  {
   "cell_type": "code",
   "execution_count": 98,
   "id": "d17a2a29",
   "metadata": {},
   "outputs": [
    {
     "name": "stdout",
     "output_type": "stream",
     "text": [
      "Hello \"Ujwaj\"\n"
     ]
    }
   ],
   "source": [
    "print(\"Hello \\\"Ujwaj\\\"\")#\\escape char"
   ]
  },
  {
   "cell_type": "code",
   "execution_count": null,
   "id": "df488cc5",
   "metadata": {},
   "outputs": [],
   "source": []
  }
 ],
 "metadata": {
  "kernelspec": {
   "display_name": "Python 3 (ipykernel)",
   "language": "python",
   "name": "python3"
  },
  "language_info": {
   "codemirror_mode": {
    "name": "ipython",
    "version": 3
   },
   "file_extension": ".py",
   "mimetype": "text/x-python",
   "name": "python",
   "nbconvert_exporter": "python",
   "pygments_lexer": "ipython3",
   "version": "3.10.9"
  }
 },
 "nbformat": 4,
 "nbformat_minor": 5
}
