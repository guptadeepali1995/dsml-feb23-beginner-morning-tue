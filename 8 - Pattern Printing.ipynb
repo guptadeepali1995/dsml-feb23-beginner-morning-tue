{
 "cells": [
  {
   "cell_type": "markdown",
   "id": "edc5a4c9",
   "metadata": {},
   "source": []
  },
  {
   "cell_type": "code",
   "execution_count": null,
   "id": "11005657",
   "metadata": {},
   "outputs": [],
   "source": [
    "# 1 n= 4\n",
    "\" * * * *\n",
    "  * * * *\n",
    "  * * * * \n",
    "  * * * *\""
   ]
  },
  {
   "cell_type": "code",
   "execution_count": 5,
   "id": "c1eaa8ad",
   "metadata": {},
   "outputs": [
    {
     "name": "stdout",
     "output_type": "stream",
     "text": [
      "5\n",
      "* * * * * \n",
      "* * * * * \n",
      "* * * * * \n",
      "* * * * * \n",
      "* * * * * \n"
     ]
    }
   ],
   "source": [
    "n = int(input())\n",
    "for i in range(n):#0,1,2,3,4\n",
    "    print(\"* \"*n)"
   ]
  },
  {
   "cell_type": "code",
   "execution_count": 2,
   "id": "7afa1217",
   "metadata": {},
   "outputs": [
    {
     "data": {
      "text/plain": [
       "'Shutp!!!!Shutp!!!!Shutp!!!!Shutp!!!!Shutp!!!!'"
      ]
     },
     "execution_count": 2,
     "metadata": {},
     "output_type": "execute_result"
    }
   ],
   "source": [
    "\"Shutp!!!!\"*5\n"
   ]
  },
  {
   "cell_type": "code",
   "execution_count": 6,
   "id": "7ae8ef09",
   "metadata": {},
   "outputs": [
    {
     "name": "stdout",
     "output_type": "stream",
     "text": [
      "5\n",
      "*\n",
      "*\n",
      "*\n",
      "*\n",
      "*\n",
      "*\n",
      "*\n",
      "*\n",
      "*\n",
      "*\n",
      "*\n",
      "*\n",
      "*\n",
      "*\n",
      "*\n",
      "*\n",
      "*\n",
      "*\n",
      "*\n",
      "*\n",
      "*\n",
      "*\n",
      "*\n",
      "*\n",
      "*\n"
     ]
    }
   ],
   "source": [
    "n = int(input())\n",
    "for i in range(n):#0,1,2,3,4 #rows\n",
    "    for j in range(n):#columns\n",
    "        print(\"*\")"
   ]
  },
  {
   "cell_type": "code",
   "execution_count": 9,
   "id": "3d4d2ff9",
   "metadata": {},
   "outputs": [
    {
     "name": "stdout",
     "output_type": "stream",
     "text": [
      "5\n",
      "* * * * * * * * * * * * * * * * * * * * * * * * * "
     ]
    }
   ],
   "source": [
    "n = int(input())\n",
    "for i in range(n):#0,1,2,3,4 #rows\n",
    "    for j in range(n):#columns\n",
    "        print(\"*\",end=\" \")"
   ]
  },
  {
   "cell_type": "code",
   "execution_count": 10,
   "id": "3d1a5784",
   "metadata": {},
   "outputs": [
    {
     "name": "stdout",
     "output_type": "stream",
     "text": [
      "5\n",
      "* * * * * \n",
      "* * * * * \n",
      "* * * * * \n",
      "* * * * * \n",
      "* * * * * \n"
     ]
    }
   ],
   "source": [
    "n = int(input())\n",
    "for i in range(n):#0,1,2,3,4 #rows\n",
    "    for j in range(n):#columns\n",
    "        print(\"*\",end=\" \")\n",
    "    print() # after very row I want a new line"
   ]
  },
  {
   "cell_type": "code",
   "execution_count": null,
   "id": "0df9829f",
   "metadata": {},
   "outputs": [],
   "source": []
  },
  {
   "cell_type": "code",
   "execution_count": null,
   "id": "137276a1",
   "metadata": {},
   "outputs": [],
   "source": []
  },
  {
   "cell_type": "code",
   "execution_count": 7,
   "id": "f74c4635",
   "metadata": {},
   "outputs": [
    {
     "name": "stdout",
     "output_type": "stream",
     "text": [
      "Hello\n",
      "World\n"
     ]
    }
   ],
   "source": [
    "print(\"Hello\")\n",
    "print(\"World\")"
   ]
  },
  {
   "cell_type": "code",
   "execution_count": 8,
   "id": "5f4d89f9",
   "metadata": {},
   "outputs": [
    {
     "name": "stdout",
     "output_type": "stream",
     "text": [
      "Hello World\n"
     ]
    }
   ],
   "source": [
    "print(\"Hello\",end=\" \")\n",
    "print(\"World\")"
   ]
  },
  {
   "cell_type": "code",
   "execution_count": null,
   "id": "a2a6fbda",
   "metadata": {},
   "outputs": [],
   "source": []
  },
  {
   "cell_type": "code",
   "execution_count": null,
   "id": "3a584ae7",
   "metadata": {},
   "outputs": [],
   "source": []
  },
  {
   "cell_type": "code",
   "execution_count": null,
   "id": "66357cf7",
   "metadata": {},
   "outputs": [],
   "source": [
    "# 1 n= 4\n",
    "\" A A A A\n",
    "  B B B B\n",
    "  C C C C \n",
    "  D D D D\""
   ]
  },
  {
   "cell_type": "code",
   "execution_count": 18,
   "id": "d4ec781a",
   "metadata": {},
   "outputs": [
    {
     "name": "stdout",
     "output_type": "stream",
     "text": [
      "5\n",
      "A A A A A \n",
      "B B B B B \n",
      "C C C C C \n",
      "D D D D D \n",
      "E E E E E \n"
     ]
    }
   ],
   "source": [
    "n = int(input())\n",
    "for i in range(n):#0,1,2,3,4 #rows\n",
    "    for j in range(n):#columns\n",
    "        print(chr(65+i),end=\" \")\n",
    "    print() # after very row I want a new line"
   ]
  },
  {
   "cell_type": "code",
   "execution_count": 13,
   "id": "ddfa3896",
   "metadata": {},
   "outputs": [
    {
     "data": {
      "text/plain": [
       "'A'"
      ]
     },
     "execution_count": 13,
     "metadata": {},
     "output_type": "execute_result"
    }
   ],
   "source": [
    "chr(65)# Ascii"
   ]
  },
  {
   "cell_type": "code",
   "execution_count": 14,
   "id": "65c6dde2",
   "metadata": {},
   "outputs": [
    {
     "data": {
      "text/plain": [
       "'B'"
      ]
     },
     "execution_count": 14,
     "metadata": {},
     "output_type": "execute_result"
    }
   ],
   "source": [
    "chr(66)"
   ]
  },
  {
   "cell_type": "code",
   "execution_count": 15,
   "id": "f551bfcf",
   "metadata": {},
   "outputs": [
    {
     "data": {
      "text/plain": [
       "'C'"
      ]
     },
     "execution_count": 15,
     "metadata": {},
     "output_type": "execute_result"
    }
   ],
   "source": [
    "chr(67)"
   ]
  },
  {
   "cell_type": "code",
   "execution_count": 16,
   "id": "b8eee07c",
   "metadata": {},
   "outputs": [
    {
     "data": {
      "text/plain": [
       "65"
      ]
     },
     "execution_count": 16,
     "metadata": {},
     "output_type": "execute_result"
    }
   ],
   "source": [
    "ord(\"A\") #find the ascii"
   ]
  },
  {
   "cell_type": "code",
   "execution_count": 20,
   "id": "a24fc2f7",
   "metadata": {},
   "outputs": [
    {
     "data": {
      "text/plain": [
       "(123, '\\x17')"
      ]
     },
     "execution_count": 20,
     "metadata": {},
     "output_type": "execute_result"
    }
   ],
   "source": [
    "ord(\"{\"),chr(23)"
   ]
  },
  {
   "cell_type": "code",
   "execution_count": 21,
   "id": "080fdcee",
   "metadata": {},
   "outputs": [
    {
     "data": {
      "text/plain": [
       "82"
      ]
     },
     "execution_count": 21,
     "metadata": {},
     "output_type": "execute_result"
    }
   ],
   "source": [
    "ord(\"R\")"
   ]
  },
  {
   "cell_type": "code",
   "execution_count": 17,
   "id": "ad527ecc",
   "metadata": {},
   "outputs": [
    {
     "data": {
      "text/plain": [
       "66"
      ]
     },
     "execution_count": 17,
     "metadata": {},
     "output_type": "execute_result"
    }
   ],
   "source": [
    "ord(\"B\")"
   ]
  },
  {
   "cell_type": "code",
   "execution_count": null,
   "id": "45ba848e",
   "metadata": {},
   "outputs": [],
   "source": [
    "# 1 n= 4\n",
    "\" 1 1 1 1\n",
    "  2 2 2 2\n",
    "  3 3 3 3 \n",
    "  4 4 4 4\""
   ]
  },
  {
   "cell_type": "code",
   "execution_count": 22,
   "id": "3534bc75",
   "metadata": {},
   "outputs": [
    {
     "name": "stdout",
     "output_type": "stream",
     "text": [
      "5\n",
      "1 1 1 1 1 \n",
      "2 2 2 2 2 \n",
      "3 3 3 3 3 \n",
      "4 4 4 4 4 \n",
      "5 5 5 5 5 \n"
     ]
    }
   ],
   "source": [
    "n = int(input())\n",
    "for i in range(n):#0,1,2,3,4 #rows\n",
    "    for j in range(n):#columns\n",
    "        print(i+1,end=\" \")\n",
    "    print() # after very row I want a new line"
   ]
  },
  {
   "cell_type": "code",
   "execution_count": null,
   "id": "d0af0b0c",
   "metadata": {},
   "outputs": [],
   "source": [
    "# 1 n= 4\n",
    "\" *\n",
    "  * *\n",
    "  * * * \n",
    "  * * * *\""
   ]
  },
  {
   "cell_type": "code",
   "execution_count": 26,
   "id": "3cdb60b3",
   "metadata": {},
   "outputs": [
    {
     "name": "stdout",
     "output_type": "stream",
     "text": [
      "5\n",
      "* \n",
      "* * \n",
      "* * * \n",
      "* * * * \n",
      "* * * * * \n"
     ]
    }
   ],
   "source": [
    "n = int(input())\n",
    "for i in range(n):#0,1,2,3,4 #rows\n",
    "    for j in range(i+1): # how many elements are there in j\n",
    "        print(\"*\",end=\" \")\n",
    "    print()"
   ]
  },
  {
   "cell_type": "code",
   "execution_count": 27,
   "id": "86187cc8",
   "metadata": {},
   "outputs": [
    {
     "name": "stdout",
     "output_type": "stream",
     "text": [
      "0\n",
      "1\n",
      "2\n",
      "3\n",
      "4\n",
      "5\n",
      "6\n",
      "7\n",
      "8\n",
      "9\n"
     ]
    }
   ],
   "source": [
    "for i in range(10):\n",
    "    print(i)"
   ]
  },
  {
   "cell_type": "code",
   "execution_count": 28,
   "id": "13bd7500",
   "metadata": {},
   "outputs": [
    {
     "name": "stdout",
     "output_type": "stream",
     "text": [
      "0 0\n",
      "0 1\n",
      "0 2\n",
      "1 0\n",
      "1 1\n",
      "1 2\n",
      "2 0\n",
      "2 1\n",
      "2 2\n",
      "3 0\n",
      "3 1\n",
      "3 2\n",
      "4 0\n",
      "4 1\n",
      "4 2\n",
      "5 0\n",
      "5 1\n",
      "5 2\n",
      "6 0\n",
      "6 1\n",
      "6 2\n",
      "7 0\n",
      "7 1\n",
      "7 2\n",
      "8 0\n",
      "8 1\n",
      "8 2\n",
      "9 0\n",
      "9 1\n",
      "9 2\n"
     ]
    }
   ],
   "source": [
    "for i in range(10):\n",
    "    for j in range(3):\n",
    "        print(i,j)"
   ]
  },
  {
   "cell_type": "markdown",
   "id": "5064b853",
   "metadata": {},
   "source": []
  },
  {
   "cell_type": "code",
   "execution_count": null,
   "id": "b85d4805",
   "metadata": {},
   "outputs": [],
   "source": [
    "*\n",
    "*2\n",
    "*2*\n",
    "*2*4\n",
    "*2*4*\n",
    "*2*4*6\n",
    "*2*4*6*\n",
    "*2*4*6*8\n",
    "*2*4*6*8*\n",
    "*2*4*6*8*10"
   ]
  },
  {
   "cell_type": "code",
   "execution_count": null,
   "id": "3cb766eb",
   "metadata": {},
   "outputs": [],
   "source": [
    "# odd= stars"
   ]
  },
  {
   "cell_type": "code",
   "execution_count": 30,
   "id": "446c85b8",
   "metadata": {},
   "outputs": [
    {
     "name": "stdout",
     "output_type": "stream",
     "text": [
      "10\n"
     ]
    }
   ],
   "source": [
    "n = int(input())\n"
   ]
  },
  {
   "cell_type": "code",
   "execution_count": 31,
   "id": "8f9ffd13",
   "metadata": {},
   "outputs": [
    {
     "name": "stdout",
     "output_type": "stream",
     "text": [
      "*\n",
      "*2\n",
      "*2*\n",
      "*2*4\n",
      "*2*4*\n",
      "*2*4*6\n",
      "*2*4*6*\n",
      "*2*4*6*8\n",
      "*2*4*6*8*\n",
      "*2*4*6*8*10\n"
     ]
    }
   ],
   "source": [
    "for i in range(1,n+1):#0,1,2,3,4 #rows\n",
    "    for j in range(1,i+1): # how many elements are there in j\n",
    "        if j%2==1:#odd:\n",
    "            print(\"*\",end =\"\")\n",
    "        else:\n",
    "            print(j,end=\"\")\n",
    "    print()"
   ]
  },
  {
   "cell_type": "code",
   "execution_count": null,
   "id": "2693fd43",
   "metadata": {},
   "outputs": [],
   "source": []
  },
  {
   "cell_type": "markdown",
   "id": "d65ad48e",
   "metadata": {},
   "source": [
    "\" 55555\n",
    "  54445\n",
    "  54345\n",
    "  54445\n",
    "  55555"
   ]
  },
  {
   "cell_type": "code",
   "execution_count": 33,
   "id": "4c9815b4",
   "metadata": {},
   "outputs": [
    {
     "name": "stdout",
     "output_type": "stream",
     "text": [
      "7\n",
      "7777777\n",
      "7666667\n",
      "7655567\n",
      "7654567\n",
      "7655567\n",
      "7666667\n",
      "7777777\n"
     ]
    }
   ],
   "source": [
    "n = int(input())\n",
    "for i in range(n):#0,1,2,3,4 #rows\n",
    "    for j in range(n):#columns\n",
    "        print(max(i,j,n-i-1,n-j-1)+1,end=\"\")\n",
    "    print()"
   ]
  },
  {
   "cell_type": "code",
   "execution_count": 36,
   "id": "853fe2f1",
   "metadata": {},
   "outputs": [
    {
     "name": "stdout",
     "output_type": "stream",
     "text": [
      "Hello\n",
      "Ritu\n",
      "Hello\n",
      "Ritu\n",
      "Hello\n",
      "Ritu\n",
      "Hello\n",
      "Ritu\n",
      "Hello\n",
      "Ritu\n",
      "Hello\n",
      "Ritu\n",
      "Hello\n",
      "Ritu\n",
      "Hello\n",
      "Ritu\n",
      "Hello\n",
      "Ritu\n",
      "Hello\n",
      "Ritu\n",
      "Bye\n"
     ]
    }
   ],
   "source": [
    "for i in range(10):#control structure \n",
    "    # What I needd to print multiple\n",
    "    print(\"Hello\")\n",
    "    print(\"Ritu\")\n",
    "print(\"Bye\")"
   ]
  },
  {
   "cell_type": "code",
   "execution_count": null,
   "id": "38a1f2a4",
   "metadata": {},
   "outputs": [],
   "source": []
  }
 ],
 "metadata": {
  "kernelspec": {
   "display_name": "Python 3 (ipykernel)",
   "language": "python",
   "name": "python3"
  },
  "language_info": {
   "codemirror_mode": {
    "name": "ipython",
    "version": 3
   },
   "file_extension": ".py",
   "mimetype": "text/x-python",
   "name": "python",
   "nbconvert_exporter": "python",
   "pygments_lexer": "ipython3",
   "version": "3.10.9"
  }
 },
 "nbformat": 4,
 "nbformat_minor": 5
}
