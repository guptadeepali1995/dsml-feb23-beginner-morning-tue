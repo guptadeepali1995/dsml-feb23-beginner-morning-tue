{
 "cells": [
  {
   "cell_type": "code",
   "execution_count": 1,
   "id": "9fbfd9da",
   "metadata": {},
   "outputs": [],
   "source": [
    "# 1. SPLIT"
   ]
  },
  {
   "cell_type": "code",
   "execution_count": 2,
   "id": "980895b7",
   "metadata": {},
   "outputs": [],
   "source": [
    "a = \"a string with a lot of words!\""
   ]
  },
  {
   "cell_type": "code",
   "execution_count": 3,
   "id": "ab71fca8",
   "metadata": {},
   "outputs": [
    {
     "data": {
      "text/plain": [
       "['a', 'string', 'with', 'a', 'lot', 'of', 'words!']"
      ]
     },
     "execution_count": 3,
     "metadata": {},
     "output_type": "execute_result"
    }
   ],
   "source": [
    "a.split(\" \") # We provide a delimiter to split on"
   ]
  },
  {
   "cell_type": "code",
   "execution_count": 4,
   "id": "6b633163",
   "metadata": {},
   "outputs": [],
   "source": [
    "a = \"this+is+random\""
   ]
  },
  {
   "cell_type": "code",
   "execution_count": 5,
   "id": "efad22ab",
   "metadata": {},
   "outputs": [
    {
     "data": {
      "text/plain": [
       "['this+is+random']"
      ]
     },
     "execution_count": 5,
     "metadata": {},
     "output_type": "execute_result"
    }
   ],
   "source": [
    "a.split(\" \")"
   ]
  },
  {
   "cell_type": "code",
   "execution_count": 6,
   "id": "f1129119",
   "metadata": {},
   "outputs": [
    {
     "data": {
      "text/plain": [
       "['this', 'is', 'random']"
      ]
     },
     "execution_count": 6,
     "metadata": {},
     "output_type": "execute_result"
    }
   ],
   "source": [
    "a.split(\"+\")"
   ]
  },
  {
   "cell_type": "code",
   "execution_count": 7,
   "id": "577ff065",
   "metadata": {},
   "outputs": [],
   "source": [
    "a = \"this is a random string with a lot of s variables\""
   ]
  },
  {
   "cell_type": "code",
   "execution_count": 9,
   "id": "00347437",
   "metadata": {},
   "outputs": [
    {
     "data": {
      "text/plain": [
       "['thi', ' i', ' a random ', 'tring with a lot of ', ' variable', '']"
      ]
     },
     "execution_count": 9,
     "metadata": {},
     "output_type": "execute_result"
    }
   ],
   "source": [
    "a.split(\"s\")"
   ]
  },
  {
   "cell_type": "code",
   "execution_count": 10,
   "id": "f09d9018",
   "metadata": {},
   "outputs": [],
   "source": [
    "a = \"ThisRANDOMisRANDOMsomethingRANDOMweird!\""
   ]
  },
  {
   "cell_type": "code",
   "execution_count": 11,
   "id": "36b3cf1b",
   "metadata": {},
   "outputs": [
    {
     "data": {
      "text/plain": [
       "['This', 'is', 'something', 'weird!']"
      ]
     },
     "execution_count": 11,
     "metadata": {},
     "output_type": "execute_result"
    }
   ],
   "source": [
    "a.split(\"RANDOM\")"
   ]
  },
  {
   "cell_type": "code",
   "execution_count": 14,
   "id": "77b5576b",
   "metadata": {},
   "outputs": [],
   "source": [
    "csv = \"1,2,3,4,5,6,7,8,9,10\""
   ]
  },
  {
   "cell_type": "code",
   "execution_count": 15,
   "id": "89f4817c",
   "metadata": {},
   "outputs": [
    {
     "data": {
      "text/plain": [
       "['1', '2', '3', '4', '5', '6', '7', '8', '9', '10']"
      ]
     },
     "execution_count": 15,
     "metadata": {},
     "output_type": "execute_result"
    }
   ],
   "source": [
    "csv.split(\",\")"
   ]
  },
  {
   "cell_type": "code",
   "execution_count": 16,
   "id": "66908a65",
   "metadata": {},
   "outputs": [
    {
     "name": "stdout",
     "output_type": "stream",
     "text": [
      "56 78 90 89 87\n"
     ]
    }
   ],
   "source": [
    "multiple_input = input()"
   ]
  },
  {
   "cell_type": "code",
   "execution_count": 17,
   "id": "1a0766ea",
   "metadata": {},
   "outputs": [],
   "source": [
    "multiple_input = multiple_input.split(\" \")"
   ]
  },
  {
   "cell_type": "code",
   "execution_count": 18,
   "id": "76d20199",
   "metadata": {},
   "outputs": [
    {
     "data": {
      "text/plain": [
       "['56', '78', '90', '89', '87']"
      ]
     },
     "execution_count": 18,
     "metadata": {},
     "output_type": "execute_result"
    }
   ],
   "source": [
    "multiple_input"
   ]
  },
  {
   "cell_type": "code",
   "execution_count": 19,
   "id": "6ba3d0c5",
   "metadata": {},
   "outputs": [],
   "source": [
    "# 2. JOIN"
   ]
  },
  {
   "cell_type": "code",
   "execution_count": 20,
   "id": "8b64f659",
   "metadata": {},
   "outputs": [],
   "source": [
    "a = ['a', 'string', 'with', 'a', 'lot', 'of', 'words!']"
   ]
  },
  {
   "cell_type": "code",
   "execution_count": 21,
   "id": "9d4b85bd",
   "metadata": {},
   "outputs": [
    {
     "data": {
      "text/plain": [
       "'a string with a lot of words!'"
      ]
     },
     "execution_count": 21,
     "metadata": {},
     "output_type": "execute_result"
    }
   ],
   "source": [
    "\" \".join(a) # \"delimiter\".join(list_of_strings)"
   ]
  },
  {
   "cell_type": "code",
   "execution_count": 22,
   "id": "604a7293",
   "metadata": {},
   "outputs": [
    {
     "data": {
      "text/plain": [
       "'a__+__string__+__with__+__a__+__lot__+__of__+__words!'"
      ]
     },
     "execution_count": 22,
     "metadata": {},
     "output_type": "execute_result"
    }
   ],
   "source": [
    "\"__+__\".join(a)"
   ]
  },
  {
   "cell_type": "code",
   "execution_count": 23,
   "id": "10c19492",
   "metadata": {},
   "outputs": [],
   "source": [
    "a = [\"random\", 23, True, 5.6]"
   ]
  },
  {
   "cell_type": "code",
   "execution_count": 25,
   "id": "e8d27147",
   "metadata": {},
   "outputs": [
    {
     "ename": "TypeError",
     "evalue": "sequence item 1: expected str instance, int found",
     "output_type": "error",
     "traceback": [
      "\u001b[0;31m---------------------------------------------------------------------------\u001b[0m",
      "\u001b[0;31mTypeError\u001b[0m                                 Traceback (most recent call last)",
      "Cell \u001b[0;32mIn[25], line 1\u001b[0m\n\u001b[0;32m----> 1\u001b[0m \u001b[38;5;124;43m\"\u001b[39;49m\u001b[38;5;124;43m \u001b[39;49m\u001b[38;5;124;43m\"\u001b[39;49m\u001b[38;5;241;43m.\u001b[39;49m\u001b[43mjoin\u001b[49m\u001b[43m(\u001b[49m\u001b[43ma\u001b[49m\u001b[43m)\u001b[49m \u001b[38;5;66;03m# can only work with a list of strings\u001b[39;00m\n",
      "\u001b[0;31mTypeError\u001b[0m: sequence item 1: expected str instance, int found"
     ]
    }
   ],
   "source": [
    "\" \".join(a) # can only work with a list of strings"
   ]
  },
  {
   "cell_type": "code",
   "execution_count": 37,
   "id": "afdbfe27",
   "metadata": {},
   "outputs": [],
   "source": [
    "def custom_join(list_of_strings, delimiter):\n",
    "    result = \"\"\n",
    "    \n",
    "    for string in list_of_strings:\n",
    "        if string == list_of_strings[-1]:\n",
    "            result += string\n",
    "        else:\n",
    "            result += string + delimiter\n",
    "        \n",
    "    return result\n",
    "\n",
    "# THIS WOULD NOT WORK IF THE STRING IS REPEATED!"
   ]
  },
  {
   "cell_type": "code",
   "execution_count": 38,
   "id": "537cd88c",
   "metadata": {},
   "outputs": [],
   "source": [
    "a = ['a', 'string', 'words!', 'a', 'lot', 'of', 'words!']"
   ]
  },
  {
   "cell_type": "code",
   "execution_count": 39,
   "id": "5dc87f84",
   "metadata": {},
   "outputs": [
    {
     "data": {
      "text/plain": [
       "'a string words!a lot of words!'"
      ]
     },
     "execution_count": 39,
     "metadata": {},
     "output_type": "execute_result"
    }
   ],
   "source": [
    "custom_join(a, \" \")"
   ]
  },
  {
   "cell_type": "code",
   "execution_count": 40,
   "id": "fa964ebb",
   "metadata": {},
   "outputs": [],
   "source": [
    "def custom_join(list_of_strings, delimiter):\n",
    "    result = \"\"\n",
    "    iteration_number = 0\n",
    "    \n",
    "    for string in list_of_strings:\n",
    "        iteration_number += 1\n",
    "        \n",
    "        if iteration_number == len(list_of_strings):\n",
    "            result += string\n",
    "        else:\n",
    "            result += string + delimiter\n",
    "        \n",
    "    return result"
   ]
  },
  {
   "cell_type": "code",
   "execution_count": 41,
   "id": "de40db4b",
   "metadata": {},
   "outputs": [
    {
     "data": {
      "text/plain": [
       "'a string words! a lot of words!'"
      ]
     },
     "execution_count": 41,
     "metadata": {},
     "output_type": "execute_result"
    }
   ],
   "source": [
    "custom_join(a, \" \")"
   ]
  },
  {
   "cell_type": "code",
   "execution_count": 42,
   "id": "c3d27076",
   "metadata": {},
   "outputs": [
    {
     "data": {
      "text/plain": [
       "'32'"
      ]
     },
     "execution_count": 42,
     "metadata": {},
     "output_type": "execute_result"
    }
   ],
   "source": [
    "\"3\" + \"2\""
   ]
  },
  {
   "cell_type": "code",
   "execution_count": 43,
   "id": "30ad3731",
   "metadata": {},
   "outputs": [],
   "source": [
    "# 3. FIND"
   ]
  },
  {
   "cell_type": "code",
   "execution_count": 44,
   "id": "8fb8b446",
   "metadata": {},
   "outputs": [],
   "source": [
    "a = \"this is a random string!\""
   ]
  },
  {
   "cell_type": "code",
   "execution_count": 50,
   "id": "940d68fa",
   "metadata": {},
   "outputs": [
    {
     "data": {
      "text/plain": [
       "2"
      ]
     },
     "execution_count": 50,
     "metadata": {},
     "output_type": "execute_result"
    }
   ],
   "source": [
    "a.find(\"is\")\n",
    "# returns the index of the first instance of the substring"
   ]
  },
  {
   "cell_type": "code",
   "execution_count": 46,
   "id": "1c7fce52",
   "metadata": {},
   "outputs": [
    {
     "data": {
      "text/plain": [
       "8"
      ]
     },
     "execution_count": 46,
     "metadata": {},
     "output_type": "execute_result"
    }
   ],
   "source": [
    "a.find(\"a\")"
   ]
  },
  {
   "cell_type": "code",
   "execution_count": 47,
   "id": "820e5b29",
   "metadata": {},
   "outputs": [
    {
     "data": {
      "text/plain": [
       "10"
      ]
     },
     "execution_count": 47,
     "metadata": {},
     "output_type": "execute_result"
    }
   ],
   "source": [
    "a.find(\"random\")"
   ]
  },
  {
   "cell_type": "code",
   "execution_count": 48,
   "id": "ae5dfdc8",
   "metadata": {},
   "outputs": [
    {
     "data": {
      "text/plain": [
       "7"
      ]
     },
     "execution_count": 48,
     "metadata": {},
     "output_type": "execute_result"
    }
   ],
   "source": [
    "a.find(\" a random\")"
   ]
  },
  {
   "cell_type": "code",
   "execution_count": 51,
   "id": "8caf10a7",
   "metadata": {},
   "outputs": [
    {
     "data": {
      "text/plain": [
       "-1"
      ]
     },
     "execution_count": 51,
     "metadata": {},
     "output_type": "execute_result"
    }
   ],
   "source": [
    "a.find(\"not present!\")\n",
    "# returns -1 if the substring is not present inside the string"
   ]
  },
  {
   "cell_type": "code",
   "execution_count": 52,
   "id": "550f5ada",
   "metadata": {},
   "outputs": [],
   "source": [
    "# 4. REPLACE"
   ]
  },
  {
   "cell_type": "code",
   "execution_count": 60,
   "id": "39a3b936",
   "metadata": {},
   "outputs": [],
   "source": [
    "a = \"this is a string random with very random usage of the word random random!\""
   ]
  },
  {
   "cell_type": "code",
   "execution_count": 61,
   "id": "424ecd26",
   "metadata": {},
   "outputs": [],
   "source": [
    "a_replaced = a.replace(\"random\", \"SUPERB\")"
   ]
  },
  {
   "cell_type": "code",
   "execution_count": 62,
   "id": "759c10f2",
   "metadata": {},
   "outputs": [
    {
     "data": {
      "text/plain": [
       "'this is a string SUPERB with very SUPERB usage of the word SUPERB SUPERB!'"
      ]
     },
     "execution_count": 62,
     "metadata": {},
     "output_type": "execute_result"
    }
   ],
   "source": [
    "a_replaced"
   ]
  },
  {
   "cell_type": "code",
   "execution_count": 63,
   "id": "0b4325f9",
   "metadata": {},
   "outputs": [
    {
     "data": {
      "text/plain": [
       "'this is a string random with very random usage of the word random random!'"
      ]
     },
     "execution_count": 63,
     "metadata": {},
     "output_type": "execute_result"
    }
   ],
   "source": [
    "a"
   ]
  },
  {
   "cell_type": "code",
   "execution_count": 64,
   "id": "fc1d7bd8",
   "metadata": {},
   "outputs": [],
   "source": [
    "# 5. MEMBERSHIP OPERATOR"
   ]
  },
  {
   "cell_type": "code",
   "execution_count": 65,
   "id": "506e1fa6",
   "metadata": {},
   "outputs": [
    {
     "data": {
      "text/plain": [
       "True"
      ]
     },
     "execution_count": 65,
     "metadata": {},
     "output_type": "execute_result"
    }
   ],
   "source": [
    "\"amazing\" in \"the amazing SPIDERMAN\""
   ]
  },
  {
   "cell_type": "code",
   "execution_count": 66,
   "id": "2e09f518",
   "metadata": {},
   "outputs": [],
   "source": [
    "a = \"Something random and something cool.\""
   ]
  },
  {
   "cell_type": "code",
   "execution_count": 67,
   "id": "6583fa22",
   "metadata": {},
   "outputs": [
    {
     "data": {
      "text/plain": [
       "True"
      ]
     },
     "execution_count": 67,
     "metadata": {},
     "output_type": "execute_result"
    }
   ],
   "source": [
    "\"something\" in a"
   ]
  },
  {
   "cell_type": "code",
   "execution_count": 68,
   "id": "efd1253e",
   "metadata": {},
   "outputs": [
    {
     "data": {
      "text/plain": [
       "False"
      ]
     },
     "execution_count": 68,
     "metadata": {},
     "output_type": "execute_result"
    }
   ],
   "source": [
    "\"RANDOM\" in a"
   ]
  },
  {
   "cell_type": "code",
   "execution_count": 69,
   "id": "66462b0e",
   "metadata": {},
   "outputs": [],
   "source": [
    "# 6. SOME MORE INTERESTING FUNCTIONS"
   ]
  },
  {
   "cell_type": "code",
   "execution_count": 71,
   "id": "d124286d",
   "metadata": {},
   "outputs": [
    {
     "data": {
      "text/plain": [
       "True"
      ]
     },
     "execution_count": 71,
     "metadata": {},
     "output_type": "execute_result"
    }
   ],
   "source": [
    "\"6\".isdigit() # TRUE if the string contains only numbers"
   ]
  },
  {
   "cell_type": "code",
   "execution_count": 72,
   "id": "fecdbc0a",
   "metadata": {},
   "outputs": [
    {
     "data": {
      "text/plain": [
       "True"
      ]
     },
     "execution_count": 72,
     "metadata": {},
     "output_type": "execute_result"
    }
   ],
   "source": [
    "\"234567898765432345678\".isdigit()"
   ]
  },
  {
   "cell_type": "code",
   "execution_count": 73,
   "id": "6a2185a3",
   "metadata": {},
   "outputs": [
    {
     "data": {
      "text/plain": [
       "False"
      ]
     },
     "execution_count": 73,
     "metadata": {},
     "output_type": "execute_result"
    }
   ],
   "source": [
    "\"345678abc\".isdigit()"
   ]
  },
  {
   "cell_type": "code",
   "execution_count": 75,
   "id": "27701530",
   "metadata": {},
   "outputs": [
    {
     "data": {
      "text/plain": [
       "True"
      ]
     },
     "execution_count": 75,
     "metadata": {},
     "output_type": "execute_result"
    }
   ],
   "source": [
    "\"dgfsdjfbshjfdguysg\".isalpha() # TRUE if string contains only alphabets"
   ]
  },
  {
   "cell_type": "code",
   "execution_count": 76,
   "id": "e3345263",
   "metadata": {},
   "outputs": [
    {
     "data": {
      "text/plain": [
       "False"
      ]
     },
     "execution_count": 76,
     "metadata": {},
     "output_type": "execute_result"
    }
   ],
   "source": [
    "\"357dsbfjshgd\".isalpha()"
   ]
  },
  {
   "cell_type": "code",
   "execution_count": 79,
   "id": "5f5f88ef",
   "metadata": {},
   "outputs": [
    {
     "data": {
      "text/plain": [
       "True"
      ]
     },
     "execution_count": 79,
     "metadata": {},
     "output_type": "execute_result"
    }
   ],
   "source": [
    "\"hsdfsdkjhfsbfd3456789\".isalnum() # TRUE if string contains only alphabets and numbers"
   ]
  },
  {
   "cell_type": "code",
   "execution_count": 78,
   "id": "feedff74",
   "metadata": {},
   "outputs": [
    {
     "data": {
      "text/plain": [
       "False"
      ]
     },
     "execution_count": 78,
     "metadata": {},
     "output_type": "execute_result"
    }
   ],
   "source": [
    "\"zdvfhs3456%^&*()\".isalnum()"
   ]
  },
  {
   "cell_type": "code",
   "execution_count": 80,
   "id": "77c8bfc1",
   "metadata": {},
   "outputs": [
    {
     "data": {
      "text/plain": [
       "False"
      ]
     },
     "execution_count": 80,
     "metadata": {},
     "output_type": "execute_result"
    }
   ],
   "source": [
    "\"A\".islower()"
   ]
  },
  {
   "cell_type": "code",
   "execution_count": 82,
   "id": "a046fea0",
   "metadata": {},
   "outputs": [
    {
     "data": {
      "text/plain": [
       "True"
      ]
     },
     "execution_count": 82,
     "metadata": {},
     "output_type": "execute_result"
    }
   ],
   "source": [
    "\"a\".islower() # TRUE if the string is lower case"
   ]
  },
  {
   "cell_type": "code",
   "execution_count": 83,
   "id": "830e67ba",
   "metadata": {},
   "outputs": [
    {
     "data": {
      "text/plain": [
       "False"
      ]
     },
     "execution_count": 83,
     "metadata": {},
     "output_type": "execute_result"
    }
   ],
   "source": [
    "\"a\".isupper()"
   ]
  },
  {
   "cell_type": "code",
   "execution_count": 84,
   "id": "fabe084c",
   "metadata": {},
   "outputs": [
    {
     "data": {
      "text/plain": [
       "True"
      ]
     },
     "execution_count": 84,
     "metadata": {},
     "output_type": "execute_result"
    }
   ],
   "source": [
    "\"A\".isupper()"
   ]
  },
  {
   "cell_type": "code",
   "execution_count": 85,
   "id": "ad392f74",
   "metadata": {},
   "outputs": [
    {
     "data": {
      "text/plain": [
       "False"
      ]
     },
     "execution_count": 85,
     "metadata": {},
     "output_type": "execute_result"
    }
   ],
   "source": [
    "\"67\".isupper()"
   ]
  },
  {
   "cell_type": "code",
   "execution_count": 86,
   "id": "c7282183",
   "metadata": {},
   "outputs": [
    {
     "data": {
      "text/plain": [
       "False"
      ]
     },
     "execution_count": 86,
     "metadata": {},
     "output_type": "execute_result"
    }
   ],
   "source": [
    "\"67\".islower()"
   ]
  },
  {
   "cell_type": "code",
   "execution_count": 87,
   "id": "b6ff370b",
   "metadata": {},
   "outputs": [
    {
     "data": {
      "text/plain": [
       "False"
      ]
     },
     "execution_count": 87,
     "metadata": {},
     "output_type": "execute_result"
    }
   ],
   "source": [
    "\"%\".isupper()"
   ]
  },
  {
   "cell_type": "code",
   "execution_count": 88,
   "id": "710e070d",
   "metadata": {},
   "outputs": [],
   "source": [
    "# THERE ARE NO CASES IN CASE OF NUMBERS OR SPECIAL CHARACTERS"
   ]
  },
  {
   "cell_type": "code",
   "execution_count": 92,
   "id": "e1be2fe5",
   "metadata": {},
   "outputs": [
    {
     "data": {
      "text/plain": [
       "'\\nQuestion 1 (HOMEWORK) - \\n1. Create a custom isalphanumeric function.\\n2. True if all characters are alphanumeric else false.\\n'"
      ]
     },
     "execution_count": 92,
     "metadata": {},
     "output_type": "execute_result"
    }
   ],
   "source": [
    "'''\n",
    "Question 1 (HOMEWORK) - \n",
    "1. Create a custom isalphanumeric function.\n",
    "2. True if all characters are alphanumeric else false.\n",
    "'''"
   ]
  },
  {
   "cell_type": "code",
   "execution_count": 90,
   "id": "16a4de79",
   "metadata": {},
   "outputs": [
    {
     "data": {
      "text/plain": [
       "True"
      ]
     },
     "execution_count": 90,
     "metadata": {},
     "output_type": "execute_result"
    }
   ],
   "source": [
    "45 in range(40, 50)"
   ]
  },
  {
   "cell_type": "code",
   "execution_count": 91,
   "id": "959c13af",
   "metadata": {},
   "outputs": [
    {
     "data": {
      "text/plain": [
       "False"
      ]
     },
     "execution_count": 91,
     "metadata": {},
     "output_type": "execute_result"
    }
   ],
   "source": [
    "55 in range(40, 50)"
   ]
  },
  {
   "cell_type": "code",
   "execution_count": 93,
   "id": "c9628c7d",
   "metadata": {},
   "outputs": [
    {
     "data": {
      "text/plain": [
       "'random string in a bizzare case!'"
      ]
     },
     "execution_count": 93,
     "metadata": {},
     "output_type": "execute_result"
    }
   ],
   "source": [
    "\"RANDOM string In A BiZZare CASE!\".lower()"
   ]
  },
  {
   "cell_type": "code",
   "execution_count": 94,
   "id": "767be233",
   "metadata": {},
   "outputs": [
    {
     "data": {
      "text/plain": [
       "'RANDOM STRING IN A BIZZARE CASE!'"
      ]
     },
     "execution_count": 94,
     "metadata": {},
     "output_type": "execute_result"
    }
   ],
   "source": [
    "\"RANDOM string In A BiZZare CASE!\".upper()"
   ]
  },
  {
   "cell_type": "code",
   "execution_count": 96,
   "id": "cdd21835",
   "metadata": {},
   "outputs": [
    {
     "data": {
      "text/plain": [
       "True"
      ]
     },
     "execution_count": 96,
     "metadata": {},
     "output_type": "execute_result"
    }
   ],
   "source": [
    "\" \".isspace()"
   ]
  },
  {
   "cell_type": "code",
   "execution_count": 95,
   "id": "13d320b1",
   "metadata": {},
   "outputs": [
    {
     "data": {
      "text/plain": [
       "'\\nQuestion 2 - \\n1. Take a string as input.\\n2. Replace all spaces with underscore. You can use isspace.\\n'"
      ]
     },
     "execution_count": 95,
     "metadata": {},
     "output_type": "execute_result"
    }
   ],
   "source": [
    "'''\n",
    "Question 2 - \n",
    "1. Take a string as input.\n",
    "2. Replace all spaces with underscore. You can use isspace.\n",
    "'''"
   ]
  },
  {
   "cell_type": "code",
   "execution_count": 104,
   "id": "4e67f8ad",
   "metadata": {},
   "outputs": [],
   "source": [
    "def change_delimiter(a, delimiter_old, delimiter_new):\n",
    "    result = \"\"\n",
    "    \n",
    "    for i in a:\n",
    "        if i == delimiter_old:\n",
    "            result += delimiter_new\n",
    "        else:\n",
    "            result += i\n",
    "            \n",
    "    return result"
   ]
  },
  {
   "cell_type": "code",
   "execution_count": 106,
   "id": "1158628d",
   "metadata": {},
   "outputs": [
    {
     "data": {
      "text/plain": [
       "'this is a sandom stsing!'"
      ]
     },
     "execution_count": 106,
     "metadata": {},
     "output_type": "execute_result"
    }
   ],
   "source": [
    "change_delimiter(\"this is a random string!\", \"r\", \"s\")"
   ]
  },
  {
   "cell_type": "markdown",
   "id": "272b16cf",
   "metadata": {},
   "source": [
    "# Glossary of string methods\n",
    "\n",
    "1. __split__ -> `\"this is a string\".split(\" \")` -> string to a list\n",
    "\n",
    "2. __join__ -> `\" \".join([\"list\", \"of\", \"strings\"])` -> list of strings to a string\n",
    "\n",
    "3. __replace__ -> `\"this is a string\".replace(\" \", \"_\")` -> replaces all occurences of the first character by the second character. __IMP__ - _CREATES A NEW STRING_\n",
    "\n",
    "4. __find__ -> `\"this is a string\".find(\" a \")` -> Finds the exact sequence or substring in the original string and returns the starting index of that substring.\n",
    "\n",
    "5. __count__ -> `\"this is a string\".count(\"a\")` -> Counts the number of times a character or substring is present within a string\n",
    "\n",
    "6. __isdigit__ -> True if content inside the string is only digits.\n",
    "7. __isalpha__ -> True if content inside the string is only alphabets.\n",
    "8. __islower__ / __isupper__ -> True if content inside the string is all lower case / all upper case\n",
    "9. __isspace__ -> True if the character is a space\n",
    "10. __lower__ / __upper__ -> Converts a string to lowercase / uppercase\n",
    "\n",
    "__Special Mention__\n",
    "- `\"random\" in \"this is random!\"` -> MEMBERSHIP OPERATOR - True if operand1 is present inside operand2."
   ]
  },
  {
   "cell_type": "code",
   "execution_count": 107,
   "id": "b226d2b3",
   "metadata": {},
   "outputs": [
    {
     "data": {
      "text/plain": [
       "15"
      ]
     },
     "execution_count": 107,
     "metadata": {},
     "output_type": "execute_result"
    }
   ],
   "source": [
    "result = \"this is a charaCter\"\n",
    "\n",
    "result.find(\"C\")"
   ]
  },
  {
   "cell_type": "code",
   "execution_count": 109,
   "id": "b21496a9",
   "metadata": {},
   "outputs": [
    {
     "data": {
      "text/plain": [
       "'this is a charater'"
      ]
     },
     "execution_count": 109,
     "metadata": {},
     "output_type": "execute_result"
    }
   ],
   "source": [
    "result.replace(result[15], \"\")"
   ]
  },
  {
   "cell_type": "code",
   "execution_count": 114,
   "id": "7460b958",
   "metadata": {},
   "outputs": [],
   "source": [
    "result = \"thIS is a Random STRing\"\n",
    "\n",
    "for i in result:\n",
    "    if i.isupper():\n",
    "        result = result.replace(i, \"\")"
   ]
  },
  {
   "cell_type": "code",
   "execution_count": 115,
   "id": "f560bc09",
   "metadata": {},
   "outputs": [
    {
     "data": {
      "text/plain": [
       "'th is a andom ing'"
      ]
     },
     "execution_count": 115,
     "metadata": {},
     "output_type": "execute_result"
    }
   ],
   "source": [
    "result"
   ]
  },
  {
   "cell_type": "code",
   "execution_count": 119,
   "id": "6179be56",
   "metadata": {},
   "outputs": [],
   "source": [
    "players = ['Jadeja','Rahul','Rohit']"
   ]
  },
  {
   "cell_type": "code",
   "execution_count": 120,
   "id": "8d7e9fd8",
   "metadata": {},
   "outputs": [],
   "source": [
    "players[-1:] = ['Dhoni', 'Virat'] "
   ]
  },
  {
   "cell_type": "code",
   "execution_count": 121,
   "id": "8e5de71e",
   "metadata": {},
   "outputs": [
    {
     "data": {
      "text/plain": [
       "['Jadeja', 'Rahul', 'Dhoni', 'Virat']"
      ]
     },
     "execution_count": 121,
     "metadata": {},
     "output_type": "execute_result"
    }
   ],
   "source": [
    "players"
   ]
  },
  {
   "cell_type": "code",
   "execution_count": 123,
   "id": "162d9ff2",
   "metadata": {},
   "outputs": [],
   "source": [
    "players = ['Jadeja','Rahul','Rohit']"
   ]
  },
  {
   "cell_type": "code",
   "execution_count": 124,
   "id": "7e4a1430",
   "metadata": {},
   "outputs": [],
   "source": [
    "players[len(players):] = ['Dhoni', 'Virat']"
   ]
  },
  {
   "cell_type": "code",
   "execution_count": 125,
   "id": "7374d6c6",
   "metadata": {},
   "outputs": [
    {
     "data": {
      "text/plain": [
       "['Jadeja', 'Rahul', 'Rohit', 'Dhoni', 'Virat']"
      ]
     },
     "execution_count": 125,
     "metadata": {},
     "output_type": "execute_result"
    }
   ],
   "source": [
    "players"
   ]
  },
  {
   "cell_type": "code",
   "execution_count": null,
   "id": "3ab812af",
   "metadata": {},
   "outputs": [],
   "source": []
  }
 ],
 "metadata": {
  "kernelspec": {
   "display_name": "Python 3 (ipykernel)",
   "language": "python",
   "name": "python3"
  },
  "language_info": {
   "codemirror_mode": {
    "name": "ipython",
    "version": 3
   },
   "file_extension": ".py",
   "mimetype": "text/x-python",
   "name": "python",
   "nbconvert_exporter": "python",
   "pygments_lexer": "ipython3",
   "version": "3.9.5"
  }
 },
 "nbformat": 4,
 "nbformat_minor": 5
}
