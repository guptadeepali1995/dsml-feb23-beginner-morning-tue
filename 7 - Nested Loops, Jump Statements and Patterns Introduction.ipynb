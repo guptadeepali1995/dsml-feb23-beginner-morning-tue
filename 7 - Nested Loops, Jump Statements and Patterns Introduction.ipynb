{
 "cells": [
  {
   "cell_type": "code",
   "execution_count": 1,
   "id": "6f470db7",
   "metadata": {},
   "outputs": [
    {
     "ename": "IndentationError",
     "evalue": "expected an indented block (900429284.py, line 2)",
     "output_type": "error",
     "traceback": [
      "\u001b[0;36m  File \u001b[0;32m\"/var/folders/nn/c52y0d3j0gq59dpsswchkt2r0000gn/T/ipykernel_15697/900429284.py\"\u001b[0;36m, line \u001b[0;32m2\u001b[0m\n\u001b[0;31m    \u001b[0m\n\u001b[0m    ^\u001b[0m\n\u001b[0;31mIndentationError\u001b[0m\u001b[0;31m:\u001b[0m expected an indented block\n"
     ]
    }
   ],
   "source": [
    "if i == 3:\n",
    "    "
   ]
  },
  {
   "cell_type": "code",
   "execution_count": 3,
   "id": "d6bdf9e4",
   "metadata": {},
   "outputs": [
    {
     "name": "stdout",
     "output_type": "stream",
     "text": [
      "0\n",
      "1\n",
      "2\n",
      "3\n",
      "4\n"
     ]
    }
   ],
   "source": [
    "for i in range(5):\n",
    "    if i == 3:\n",
    "        pass # pass -> empty block in python\n",
    "    \n",
    "    print(i)"
   ]
  },
  {
   "cell_type": "code",
   "execution_count": 4,
   "id": "e794452a",
   "metadata": {},
   "outputs": [
    {
     "name": "stdout",
     "output_type": "stream",
     "text": [
      "0\n",
      "1\n",
      "2\n",
      "4\n"
     ]
    }
   ],
   "source": [
    "for i in range(5):\n",
    "    if i == 3:\n",
    "        continue # continue -> continue to the next iteration\n",
    "    \n",
    "    print(i)"
   ]
  },
  {
   "cell_type": "code",
   "execution_count": 6,
   "id": "74a46e9b",
   "metadata": {},
   "outputs": [
    {
     "name": "stdout",
     "output_type": "stream",
     "text": [
      "0\n",
      "1\n",
      "2\n"
     ]
    }
   ],
   "source": [
    "for i in range(5):\n",
    "    if i == 3:\n",
    "        break # break -> breaks the loop\n",
    "        \n",
    "    print(i)"
   ]
  },
  {
   "cell_type": "code",
   "execution_count": 7,
   "id": "aafc0b6d",
   "metadata": {},
   "outputs": [
    {
     "data": {
      "text/plain": [
       "'\\nQuestion 1 - \\nWrite a loop to print the following numbers -> 1,4,7,10,13,16\\n'"
      ]
     },
     "execution_count": 7,
     "metadata": {},
     "output_type": "execute_result"
    }
   ],
   "source": [
    "'''\n",
    "Question 1 - \n",
    "Write a loop to print the following numbers -> 1,4,7,10,13,16\n",
    "'''"
   ]
  },
  {
   "cell_type": "code",
   "execution_count": 8,
   "id": "bafb40f9",
   "metadata": {},
   "outputs": [
    {
     "name": "stdout",
     "output_type": "stream",
     "text": [
      "1,4,7,10,13,16,"
     ]
    }
   ],
   "source": [
    "for i in range(1, 17, 3):\n",
    "    print(i, end = \",\")"
   ]
  },
  {
   "cell_type": "code",
   "execution_count": 10,
   "id": "13722828",
   "metadata": {},
   "outputs": [
    {
     "name": "stdout",
     "output_type": "stream",
     "text": [
      "1,4,7,10,13,16"
     ]
    }
   ],
   "source": [
    "for i in range(1, 17, 3):\n",
    "    if i == 16:\n",
    "        print(i, end = \"\")\n",
    "    else:\n",
    "        print(i, end = \",\")"
   ]
  },
  {
   "cell_type": "code",
   "execution_count": 11,
   "id": "28f77ed2",
   "metadata": {},
   "outputs": [
    {
     "data": {
      "text/plain": [
       "'\\nQuestion 2 - \\nWrite a loop to print the following numbers - \\n1,1,3,7,13,21,31,43\\n'"
      ]
     },
     "execution_count": 11,
     "metadata": {},
     "output_type": "execute_result"
    }
   ],
   "source": [
    "'''\n",
    "Question 2 - \n",
    "Write a loop to print the following numbers - \n",
    "1,1,3,7,13,21,31,43\n",
    "'''"
   ]
  },
  {
   "cell_type": "code",
   "execution_count": 12,
   "id": "291ad2b9",
   "metadata": {},
   "outputs": [],
   "source": [
    "# Differences -> 0,2,4,6,8,10,12..."
   ]
  },
  {
   "cell_type": "code",
   "execution_count": 13,
   "id": "e1ffa255",
   "metadata": {},
   "outputs": [
    {
     "name": "stdout",
     "output_type": "stream",
     "text": [
      "1\n",
      "1\n",
      "3\n",
      "7\n",
      "13\n",
      "21\n",
      "31\n",
      "43\n"
     ]
    }
   ],
   "source": [
    "number = 1\n",
    "i = 0\n",
    "\n",
    "while number <= 43:\n",
    "    print(number)\n",
    "    \n",
    "    number = number + 2 * i\n",
    "    i += 1"
   ]
  },
  {
   "cell_type": "code",
   "execution_count": 14,
   "id": "25b8f84f",
   "metadata": {},
   "outputs": [
    {
     "data": {
      "text/plain": [
       "'\\nQuestion 3 -\\nWrite a program that continuously asks the user to provide an input number.\\nThe program should stop only when the user provides 5.\\nOnce the user provides 5. \\nThe program should print the number of times an input was provided.\\nAssume that user always provides a number!\\n'"
      ]
     },
     "execution_count": 14,
     "metadata": {},
     "output_type": "execute_result"
    }
   ],
   "source": [
    "'''\n",
    "Question 3 -\n",
    "Write a program that continuously asks the user to provide an input number.\n",
    "The program should stop only when the user provides 5.\n",
    "Once the user provides 5. \n",
    "The program should print the number of times an input was provided.\n",
    "Assume that user always provides a number!\n",
    "'''"
   ]
  },
  {
   "cell_type": "code",
   "execution_count": 16,
   "id": "c3798c2d",
   "metadata": {},
   "outputs": [
    {
     "name": "stdout",
     "output_type": "stream",
     "text": [
      "7\n",
      "8\n",
      "9\n",
      "5\n",
      "You provided 4 inputs!\n"
     ]
    }
   ],
   "source": [
    "# Solution 1\n",
    "count = 0\n",
    "\n",
    "while True:\n",
    "    number = int(input())\n",
    "    count += 1\n",
    "    \n",
    "    if number == 5:\n",
    "        break\n",
    "        \n",
    "print(\"You provided\", count, \"inputs!\")"
   ]
  },
  {
   "cell_type": "code",
   "execution_count": 17,
   "id": "b4430330",
   "metadata": {},
   "outputs": [
    {
     "name": "stdout",
     "output_type": "stream",
     "text": [
      "6\n",
      "7\n",
      "8\n",
      "9\n",
      "5\n",
      "You provided 5 inputs!\n"
     ]
    }
   ],
   "source": [
    "# Solution 2\n",
    "count = 0\n",
    "number = 0\n",
    "\n",
    "while number != 5:\n",
    "    number = int(input())\n",
    "    count += 1\n",
    "    \n",
    "print(\"You provided\", count, \"inputs!\")"
   ]
  },
  {
   "cell_type": "code",
   "execution_count": 18,
   "id": "3730514d",
   "metadata": {},
   "outputs": [
    {
     "name": "stdout",
     "output_type": "stream",
     "text": [
      "i -> 0 j -> 0\n",
      "i -> 0 j -> 1\n",
      "i -> 0 j -> 2\n",
      "i -> 0 j -> 3\n",
      "i -> 1 j -> 0\n",
      "i -> 1 j -> 1\n",
      "i -> 1 j -> 2\n",
      "i -> 1 j -> 3\n",
      "i -> 2 j -> 0\n",
      "i -> 2 j -> 1\n",
      "i -> 2 j -> 2\n",
      "i -> 2 j -> 3\n"
     ]
    }
   ],
   "source": [
    "for i in range(3):\n",
    "    for j in range(4):\n",
    "        print(\"i ->\", i, \"j ->\", j)"
   ]
  },
  {
   "cell_type": "code",
   "execution_count": 20,
   "id": "4fa06c16",
   "metadata": {},
   "outputs": [
    {
     "data": {
      "text/plain": [
       "'\\nQuestion 4 - \\nWrite a program to print NxN matrix of \"*\"\\n\\nInput - 4\\nOutput - \\n****\\n****\\n****\\n****\\n'"
      ]
     },
     "execution_count": 20,
     "metadata": {},
     "output_type": "execute_result"
    }
   ],
   "source": [
    "'''\n",
    "Question 4 - \n",
    "Write a program to print NxN matrix of \"*\"\n",
    "\n",
    "Input - 4\n",
    "Output - \n",
    "****\n",
    "****\n",
    "****\n",
    "****\n",
    "'''"
   ]
  },
  {
   "cell_type": "code",
   "execution_count": 25,
   "id": "a215ad6c",
   "metadata": {},
   "outputs": [
    {
     "name": "stdout",
     "output_type": "stream",
     "text": [
      "5\n",
      "* * * * * \n",
      "* * * * * \n",
      "* * * * * \n",
      "* * * * * \n",
      "* * * * * \n"
     ]
    }
   ],
   "source": [
    "n = int(input())\n",
    "\n",
    "for i in range(n):\n",
    "    for j in range(n):\n",
    "        print(\"*\", end = \" \")\n",
    "        \n",
    "    print()"
   ]
  },
  {
   "cell_type": "code",
   "execution_count": 26,
   "id": "7196ffe9",
   "metadata": {},
   "outputs": [
    {
     "data": {
      "text/plain": [
       "'\\nQuestion 5 - \\nWrite a program to print a multiplication table till an input N.\\n\\nInput - 3\\n\\nOutput - \\n1 2 3 4 5 6 7 8 9 10\\n2 4 6 8 10 12 14 16 18 20\\n3 6 9 12 15 18 21 24 27 30\\n'"
      ]
     },
     "execution_count": 26,
     "metadata": {},
     "output_type": "execute_result"
    }
   ],
   "source": [
    "'''\n",
    "Question 5 - \n",
    "Write a program to print a multiplication table till an input N.\n",
    "\n",
    "Input - 3\n",
    "\n",
    "Output - \n",
    "1 2 3 4 5 6 7 8 9 10\n",
    "2 4 6 8 10 12 14 16 18 20\n",
    "3 6 9 12 15 18 21 24 27 30\n",
    "'''"
   ]
  },
  {
   "cell_type": "code",
   "execution_count": 27,
   "id": "d36e5e0f",
   "metadata": {},
   "outputs": [
    {
     "name": "stdout",
     "output_type": "stream",
     "text": [
      "6\n",
      "1 2 3 4 5 6 7 8 9 10 \n",
      "2 4 6 8 10 12 14 16 18 20 \n",
      "3 6 9 12 15 18 21 24 27 30 \n",
      "4 8 12 16 20 24 28 32 36 40 \n",
      "5 10 15 20 25 30 35 40 45 50 \n",
      "6 12 18 24 30 36 42 48 54 60 \n"
     ]
    }
   ],
   "source": [
    "number = int(input())\n",
    "\n",
    "for i in range(1, number + 1):\n",
    "    for j in range(1, 11):\n",
    "        print(i * j, end = \" \")\n",
    "        \n",
    "    print()"
   ]
  },
  {
   "cell_type": "code",
   "execution_count": 29,
   "id": "0b9985ab",
   "metadata": {},
   "outputs": [
    {
     "data": {
      "text/plain": [
       "'\\nQuestion 6 -\\nGCD ->\\nGiven two integer inputs, write a program to calculate GCD.\\n\\nInput - 16 24\\nOutput - 8\\n'"
      ]
     },
     "execution_count": 29,
     "metadata": {},
     "output_type": "execute_result"
    }
   ],
   "source": [
    "'''\n",
    "Question 6 -\n",
    "GCD ->\n",
    "Given two integer inputs, write a program to calculate GCD.\n",
    "\n",
    "Input - 16 24\n",
    "Output - 8\n",
    "'''"
   ]
  },
  {
   "cell_type": "code",
   "execution_count": 31,
   "id": "6ca20516",
   "metadata": {},
   "outputs": [
    {
     "name": "stdout",
     "output_type": "stream",
     "text": [
      "60\n",
      "30\n",
      "GCD = 30\n"
     ]
    }
   ],
   "source": [
    "A = int(input())\n",
    "B = int(input())\n",
    "\n",
    "MIN = min(A, B)\n",
    "\n",
    "for i in range(MIN, 0, -1):\n",
    "    if A % i == 0 and B % i == 0:\n",
    "        print(\"GCD =\", i)\n",
    "        break"
   ]
  },
  {
   "cell_type": "code",
   "execution_count": 32,
   "id": "70ef3486",
   "metadata": {},
   "outputs": [
    {
     "data": {
      "text/plain": [
       "'\\nQuestion 7 (HOMEWORK) - \\nLCM ->\\nGiven two integer inputs, write a program to calculate the LCM.\\n\\nInput - 6 8\\nOutput - 24\\n'"
      ]
     },
     "execution_count": 32,
     "metadata": {},
     "output_type": "execute_result"
    }
   ],
   "source": [
    "'''\n",
    "Question 7 (HOMEWORK) - \n",
    "LCM ->\n",
    "Given two integer inputs, write a program to calculate the LCM.\n",
    "\n",
    "Input - 6 8\n",
    "Output - 24\n",
    "'''"
   ]
  },
  {
   "cell_type": "code",
   "execution_count": 33,
   "id": "9624f48e",
   "metadata": {},
   "outputs": [
    {
     "ename": "KeyboardInterrupt",
     "evalue": "",
     "output_type": "error",
     "traceback": [
      "\u001b[0;31m---------------------------------------------------------------------------\u001b[0m",
      "\u001b[0;31mKeyboardInterrupt\u001b[0m                         Traceback (most recent call last)",
      "\u001b[0;32m/var/folders/nn/c52y0d3j0gq59dpsswchkt2r0000gn/T/ipykernel_15697/1219431986.py\u001b[0m in \u001b[0;36m<module>\u001b[0;34m\u001b[0m\n\u001b[1;32m      1\u001b[0m \u001b[0mi\u001b[0m \u001b[0;34m=\u001b[0m \u001b[0;36m0\u001b[0m\u001b[0;34m\u001b[0m\u001b[0;34m\u001b[0m\u001b[0m\n\u001b[1;32m      2\u001b[0m \u001b[0;34m\u001b[0m\u001b[0m\n\u001b[0;32m----> 3\u001b[0;31m \u001b[0;32mwhile\u001b[0m \u001b[0mi\u001b[0m \u001b[0;34m<=\u001b[0m \u001b[0;36m5\u001b[0m\u001b[0;34m:\u001b[0m\u001b[0;34m\u001b[0m\u001b[0;34m\u001b[0m\u001b[0m\n\u001b[0m\u001b[1;32m      4\u001b[0m     \u001b[0;32mif\u001b[0m \u001b[0mi\u001b[0m \u001b[0;34m==\u001b[0m \u001b[0;36m4\u001b[0m\u001b[0;34m:\u001b[0m\u001b[0;34m\u001b[0m\u001b[0;34m\u001b[0m\u001b[0m\n\u001b[1;32m      5\u001b[0m         \u001b[0;32mcontinue\u001b[0m\u001b[0;34m\u001b[0m\u001b[0;34m\u001b[0m\u001b[0m\n",
      "\u001b[0;31mKeyboardInterrupt\u001b[0m: "
     ]
    }
   ],
   "source": [
    "i = 0\n",
    "\n",
    "while i <= 5:\n",
    "    if i == 4:\n",
    "        continue\n",
    "        \n",
    "    i += 1"
   ]
  },
  {
   "cell_type": "code",
   "execution_count": null,
   "id": "5b744932",
   "metadata": {},
   "outputs": [],
   "source": []
  }
 ],
 "metadata": {
  "kernelspec": {
   "display_name": "Python 3 (ipykernel)",
   "language": "python",
   "name": "python3"
  },
  "language_info": {
   "codemirror_mode": {
    "name": "ipython",
    "version": 3
   },
   "file_extension": ".py",
   "mimetype": "text/x-python",
   "name": "python",
   "nbconvert_exporter": "python",
   "pygments_lexer": "ipython3",
   "version": "3.9.5"
  }
 },
 "nbformat": 4,
 "nbformat_minor": 5
}
